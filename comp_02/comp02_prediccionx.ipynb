{
 "cells": [
  {
   "cell_type": "markdown",
   "metadata": {},
   "source": [
    "# Predicción para Kaggle\n",
    "\n",
    "Incluye:\n",
    "\n",
    "- Modelo optimizado, semilla única\n",
    "- Semillerío\n",
    "- Semillerío con modelo Denicolay"
   ]
  },
  {
   "cell_type": "markdown",
   "metadata": {},
   "source": [
    "# Predicción para Kaggle\n",
    "\n",
    "Incluye:\n",
    "\n",
    "- Modelo optimizado, semilla única\n",
    "- Semillerío\n",
    "- Semillerío con modelo Denicolay"
   ]
  },
  {
   "cell_type": "code",
   "execution_count": null,
   "metadata": {},
   "outputs": [],
   "source": [
    "# Librerias\n",
    "import os\n",
    "import pandas as pd\n",
    "import numpy as np\n",
    "import datetime\n",
    "import joblib\n",
    "\n",
    "####################\n",
    "# funciones y clases\n",
    "from utils import psi, drift_deflacion\n",
    "\n",
    "#######\n",
    "# rutas\n",
    "# datasets\n",
    "from config import dataset_file_fe6_6pqt, dataset_file_fe6_6xpqt\n",
    "# optimizacion\n",
    "from config import db_path\n",
    "# modelos\n",
    "from config import modelos_path\n",
    "# predicciones\n",
    "from config import pred_path\n",
    "\n",
    "##########\n",
    "# pipeline\n",
    "from processing import ModelPipeline\n",
    "from sklearn.impute import SimpleImputer\n",
    "from sklearn.preprocessing import LabelEncoder\n",
    "\n",
    "##############\n",
    "# optimización\n",
    "import optuna\n",
    "\n",
    "#########\n",
    "# modelos\n",
    "from xgboost import XGBClassifier\n",
    "from lightgbm import LGBMClassifier\n",
    "\n",
    "import warnings\n",
    "\n",
    "# Ignorar advertencias de tipo UserWarning\n",
    "warnings.filterwarnings('ignore', category=UserWarning, module='pandas')\n",
    "warnings.filterwarnings('ignore', category=UserWarning, module='lightgbm')\n",
    "warnings.filterwarnings('ignore', category=UserWarning, module='xgboost')\n"
   ]
  },
  {
   "cell_type": "markdown",
   "metadata": {},
   "source": [
    "Variables de train y test"
   ]
  },
  {
   "cell_type": "code",
   "execution_count": 2,
   "metadata": {},
   "outputs": [],
   "source": [
    "ganancia_acierto = 273000\n",
    "costo_estimulo = 7000\n",
    "\n",
    "mes_train_all = [201901, 201902, 201903, 201904, 201905, 201906, 201907, 201908,\n",
    "                 201909, 201910, 201911, 201912, 202001, 202002, 202003, 202004,\n",
    "                 202005, 202006, 202007, 202008, 202009, 202010, 202011, 202012,\n",
    "                 202101, 202102, 202103, 202104, 202105, 202106]\n",
    "\n",
    "mes_train_ult_3_meses = [202104, 202105, 202106]\n",
    "\n",
    "mes_train_ult_6_meses = [202101, 202102, 202103, 202104, 202105, 202106]\n",
    "\n",
    "mes_train_ult_9_meses = [202009, 202010, 202011, 202012, 202101, 202102, 202103, 202104, 202105, 202106]\n",
    "\n",
    "mes_train_ult_anio = [202006, 202007, 202008, 202009, 202010, 202011, 202012,\n",
    "                 202101, 202102, 202103, 202104, 202105, 202106]\n",
    "\n",
    "mes_train = [202106]\n",
    "mes_test = 202108\n",
    "\n",
    "threshold = 0.025\n",
    "\n",
    "semillas = [437809, 327347, 392879, 455783, 217163]"
   ]
  },
  {
   "cell_type": "markdown",
   "metadata": {},
   "source": [
    "## Loading data"
   ]
  },
  {
   "cell_type": "code",
   "execution_count": null,
   "metadata": {},
   "outputs": [],
   "source": [
    "data = pd.read_parquet(dataset_file_fe6_6xpqt)\n",
    "\n",
    "label_mapping = {'CONTINUA': 0, 'BAJA+1': 1, 'BAJA+2': 2}\n",
    "\n",
    "data['clase_ternaria'] = data['clase_ternaria'].map(label_mapping)\n",
    "\n",
    "# train data con 9 meses\n",
    "meses_train = 9\n",
    "X_train = data[data['foto_mes'].isin(mes_train_ult_9_meses)]\n",
    "y_train = X_train['clase_ternaria']\n",
    "X_train = X_train.drop(columns=['clase_ternaria'])\n",
    "\n",
    "X_kaggle = data[data['foto_mes'] == mes_test]\n",
    "X_kaggle = X_kaggle.drop(columns=['clase_ternaria']) # nulls\n",
    "\n",
    "del data"
   ]
  },
  {
   "cell_type": "markdown",
   "metadata": {},
   "source": [
    "Preprocesando data"
   ]
  },
  {
   "cell_type": "code",
   "execution_count": null,
   "metadata": {},
   "outputs": [],
   "source": [
    "# Imputacion de Xs\n",
    "cols_with_all_nan = X_train.columns[X_train.isna().all()].tolist()\n",
    "print(\"Columns with all NaN values:\", cols_with_all_nan)\n",
    "X_train = X_train.drop(columns=cols_with_all_nan)\n",
    "X_kaggle = X_kaggle.drop(columns=cols_with_all_nan)\n",
    "\n",
    "# Imputación de nulls\n",
    "imp_median = SimpleImputer(missing_values=np.nan, strategy='median')\n",
    "X_train_imp = pd.DataFrame(imp_median.fit_transform(X_train), columns=X_train.columns)\n",
    "X_kaggle_imp = pd.DataFrame(imp_median.transform(X_kaggle), columns=X_train.columns)\n",
    "\n",
    "del X_train\n",
    "del X_kaggle\n",
    "\n",
    "# Codificar variables categóricas\n",
    "categorical_features = [col for col in X_train_imp.columns if X_train_imp[col].dtype == 'object']\n",
    "\n",
    "# Convertir variables categóricas a 'category' dtype para LightGBM\n",
    "for col in categorical_features:\n",
    "    X_train_imp[col] = X_train_imp[col].astype('category')\n",
    "    X_kaggle_imp[col] = X_kaggle_imp[col].astype('category')"
   ]
  },
  {
   "cell_type": "markdown",
   "metadata": {},
   "source": [
    "## Modelo"
   ]
  },
  {
   "cell_type": "markdown",
   "metadata": {},
   "source": [
    "**Prepro in 6 months and Conceptual FE 6 months**\n",
    "\n",
    "> comp02_prepro_6.ipynb\n",
    "\n",
    "> comp02_fe6_6.ipynb\n",
    "\n",
    "**Usando los últimos 3 meses para optimizar de forma local**\n",
    "\n",
    "Seleccionado según:\n",
    "\n",
    "> comp02_pipeline_comp.ipynb"
   ]
  },
  {
   "cell_type": "code",
   "execution_count": null,
   "metadata": {},
   "outputs": [],
   "source": [
    "# Condiciones de la optimización\n",
    "s = 1\n",
    "prepro = 6 # data quality + data drifting\n",
    "fe = 6 # feature engineering conceptual 6 meses\n",
    "opt = 3 # 3 meses de optimización\n",
    "\n",
    "# Definir el almacenamiento de Optuna\n",
    "storage_name = \"sqlite:///\" + db_path + \"optimization_tree.db\"\n",
    "\n",
    "# carga local\n",
    "# storage_name = \"sqlite:///optimizacion/optimization_tree.db\"\n",
    "study_name = f\"exp_xgb_pr{prepro}_fe{fe}_tr{opt}_x\"\n",
    "\n",
    "study = optuna.load_study(study_name = study_name,\n",
    "                                 storage = storage_name)\n",
    "\n",
    "# Mejores parámetros\n",
    "opt_params = study.best_trial.params\n",
    "opt_params.update({'n_jobs': -1})\n",
    "\n",
    "# Entrenamiento\n",
    "model = XGBClassifier(**opt_params)\n",
    "print(\"Entrenando modelo con:\")\n",
    "print(opt_params)\n",
    "model.fit(X_train_imp, y_train)"
   ]
  },
  {
   "cell_type": "markdown",
   "metadata": {},
   "source": [
    "Guardando modelo"
   ]
  },
  {
   "cell_type": "code",
   "execution_count": null,
   "metadata": {},
   "outputs": [],
   "source": [
    "ft = \"%dT-%m-%Y%H-%M-%S\"\n",
    "t_now = datetime.datetime.now().strftime(ft)\n",
    "\n",
    "model_name = f\"xgb_pr{prepro}_fe{fe}x_op{opt}_tr{meses_train}_\"+t_now\n",
    "\n",
    "model_path = modelos_path + model_name +\".pkl\"\n",
    "\n",
    "# Save the model\n",
    "joblib.dump(model, model_path)"
   ]
  },
  {
   "cell_type": "markdown",
   "metadata": {},
   "source": [
    "## Predicción simple"
   ]
  },
  {
   "cell_type": "code",
   "execution_count": null,
   "metadata": {},
   "outputs": [],
   "source": [
    "# model = joblib.load(model_path)\n",
    "\n",
    "# carga local\n",
    "# model = joblib.load('modelos/modelos_xgb_pr6_fe6_op3_tr9_22T-11-202409-31-43.pkl')\n",
    "\n",
    "numero_de_cliente = X_kaggle_imp['numero_de_cliente'].astype(int)\n",
    "\n",
    "# Prediccion\n",
    "y_pred_proba = model.predict_proba(X_kaggle_imp)\n",
    "proba_baja2 = y_pred_proba[:,2] # Según encoding mapping\n",
    "\n",
    "df_proba = pd.DataFrame({\n",
    "    'numero_de_cliente': numero_de_cliente.values,\n",
    "    'proba_baja2': proba_baja2\n",
    "})\n",
    "\n",
    "# Umbral\n",
    "thr_opt_mean = 0.0156\n",
    "thr_opt_median = 0.0148\n",
    "prediccion = (proba_baja2 >= thr_opt_median).astype(int).tolist()"
   ]
  },
  {
   "cell_type": "markdown",
   "metadata": {},
   "source": [
    "Preparando entrega"
   ]
  },
  {
   "cell_type": "code",
   "execution_count": null,
   "metadata": {},
   "outputs": [],
   "source": [
    "submission = pd.DataFrame({\n",
    "    'numero_de_cliente': numero_de_cliente.values,\n",
    "    'Predicted': prediccion\n",
    "})"
   ]
  },
  {
   "cell_type": "code",
   "execution_count": null,
   "metadata": {},
   "outputs": [],
   "source": [
    "# Imprimir value counts de las predicciones\n",
    "value_counts = submission['Predicted'].value_counts()\n",
    "total_count = len(submission)\n",
    "print(\"\\nValue Counts:\")\n",
    "print(value_counts)\n",
    "print(\"\\nFrecuencia Relativa:\")\n",
    "print((value_counts / total_count) * 100)\n",
    "\n",
    "submission.info()"
   ]
  },
  {
   "cell_type": "markdown",
   "metadata": {},
   "source": [
    "Guardando entrega simple y probas"
   ]
  },
  {
   "cell_type": "code",
   "execution_count": null,
   "metadata": {},
   "outputs": [],
   "source": [
    "ft = \"%dT-%m-%Y%H-%M-%S\"\n",
    "t_now = datetime.datetime.now().strftime(ft)\n",
    "\n",
    "pred_name = model_name+\".csv\"\n",
    "\n",
    "pred_file = pred_path + pred_name\n",
    "proba_file = pred_path + \"probas/\" + pred_name\n",
    "\n",
    "# Guardar el DataFrame en un archivo CSV\n",
    "submission.to_csv(pred_file, index=False)\n",
    "print(f\"Predicciones guardadas en {pred_file}\")\n",
    "# Guardar el DataFrame en un archivo CSV\n",
    "submission.to_csv('predicciones/'+pred_name, index=False)\n",
    "print(f\"Y en {'predicciones/'+pred_name}\")\n",
    "\n",
    "# Guardamos las probas\n",
    "df_proba.to_csv(proba_file, index=False)\n",
    "print(f\"Probas guardadas en {proba_file}\")\n",
    "df_proba.to_csv('predicciones/probas/'+pred_name, index=False)\n",
    "print(f\"Y en {'predicciones/probas/'+pred_name}\")"
   ]
  },
  {
   "cell_type": "markdown",
   "metadata": {},
   "source": [
    "## Semillerío con modelo Denicolay\n",
    "\n",
    "Datos X, modificado para compenzar la falta de variables"
   ]
  },
  {
   "cell_type": "code",
   "execution_count": null,
   "metadata": {},
   "outputs": [],
   "source": [
    "semillero_params = {'n_estimators': 23,\n",
    "                  'num_leaves': 32,\n",
    "                  'learning_rate': 0.34,\n",
    "                  'min_data_in_leaf': 711,\n",
    "                  'feature_fraction': 2*0.2, # x2 para tratar de compenzar la falta de variables\n",
    "                  'extra_trees': False,\n",
    "}\n",
    "semillero_params.update({'n_jobs': -1})\n",
    "\n",
    "print(\"Running semillerío for Semillerio Denicolay\")\n",
    "print(semillero_params)\n",
    "\n",
    "# para registrar las probabilidades\n",
    "df_sem_proba = pd.DataFrame({\n",
    "                            'client': numero_de_cliente.values,\n",
    "                        })\n",
    "\n",
    "j = 0\n",
    "s_total = 100\n",
    "for s in range(217163, 455783, 7*7*7*7): # con 100 semillas\n",
    "    # nueva instancia del modelos con semilla\n",
    "    seed = s+(7+j)\n",
    "    model = LGBMClassifier(**semillero_params, random_state=seed)\n",
    "    # entreno\n",
    "    print(f\"Entrenando modelo con semilla: {seed}, {j+1} de {s_total}\")\n",
    "    model.fit(X_train_imp, y_train)\n",
    "    # predigo proba\n",
    "    y_pred_proba = model.predict_proba(X_kaggle_imp)\n",
    "    # proba baja+2\n",
    "    proba_baja2 = y_pred_proba[:,2]\n",
    "    df_sem_proba[f'proba_s{seed}'] = proba_baja2\n",
    "    j += 1\n",
    "\n",
    "# Promediando proba de cada semilla\n",
    "proba_s_columns = df_sem_proba.filter(regex='^proba_s')\n",
    "proba_s_mean = proba_s_columns.mean(axis=1)\n",
    "\n",
    "df_sem_proba['proba_sem_mean'] = proba_s_mean\n",
    "\n",
    "# Umbral\n",
    "thr_opt_sem = 0.016 # # segun comp02_back-testing con semx\n",
    "\n",
    "# Prediccion\n",
    "df_sem_proba['pred'] = np.where(df_sem_proba.proba_sem_mean >= thr_opt_sem, 1, 0)\n",
    "\n",
    "df_sem_proba.head()"
   ]
  },
  {
   "cell_type": "markdown",
   "metadata": {},
   "source": [
    "Preparando entrega"
   ]
  },
  {
   "cell_type": "code",
   "execution_count": null,
   "metadata": {},
   "outputs": [],
   "source": [
    "submission = pd.DataFrame({\n",
    "    'numero_de_cliente': numero_de_cliente.values,\n",
    "    'Predicted': df_sem_proba['pred'].values\n",
    "})\n",
    "\n",
    "# Imprimir value counts de las predicciones\n",
    "value_counts = submission['Predicted'].value_counts()\n",
    "total_count = len(submission)\n",
    "print(\"\\nValue Counts:\")\n",
    "print(value_counts)\n",
    "print(\"\\nFrecuencia Relativa:\")\n",
    "print((value_counts / total_count) * 100)\n",
    "\n",
    "submission.info()"
   ]
  },
  {
   "cell_type": "markdown",
   "metadata": {},
   "source": [
    "Guardando pred semillerio denicolay"
   ]
  },
  {
   "cell_type": "code",
   "execution_count": null,
   "metadata": {},
   "outputs": [],
   "source": [
    "ft = \"%dT-%m-%Y%H-%M-%S\"\n",
    "t_now = datetime.datetime.now().strftime(ft)\n",
    "\n",
    "pred_name = f\"lgbm_mod_pr{prepro}_fe{fe}x_tr{meses_train}_sem{s_total}_\"+t_now+\".csv\"\n",
    "\n",
    "pred_file = pred_path + pred_name\n",
    "proba_file = pred_path + \"probas/\" + pred_name\n",
    "\n",
    "# Guardar el DataFrame en un archivo CSV\n",
    "submission.to_csv(pred_file, index=False)\n",
    "print(f\"Predicciones guardadas en {pred_file}\")\n",
    "# Guardar el DataFrame en un archivo CSV\n",
    "submission.to_csv('predicciones/'+pred_name, index=False)\n",
    "print(f\"Y en {'predicciones/'+pred_name}\")\n",
    "\n",
    "# Guardamos las probas\n",
    "df_sem_proba.to_csv(proba_file, index=False)\n",
    "print(f\"Probas guardadas en {proba_file}\")\n",
    "df_sem_proba.to_csv('predicciones/probas/'+pred_name, index=False)\n",
    "print(f\"Y en {'predicciones/probas/'+pred_name}\")"
   ]
  },
  {
   "cell_type": "markdown",
   "metadata": {},
   "source": [
    "## Semillerío con modelo Denicolay\n",
    "\n",
    "Datos X"
   ]
  },
  {
   "cell_type": "code",
   "execution_count": null,
   "metadata": {},
   "outputs": [],
   "source": [
    "semillero_params = {'n_estimators': 23,\n",
    "                  'num_leaves': 32,\n",
    "                  'learning_rate': 0.34,\n",
    "                  'min_data_in_leaf': 711,\n",
    "                  'feature_fraction': 2*0.2, # x2 para tratar de compenzar la falta de variables\n",
    "                  'extra_trees': False,\n",
    "}\n",
    "semillero_params.update({'n_jobs': -1})\n",
    "\n",
    "print(\"Running semillerío for Semillerio Denicolay\")\n",
    "print(semillero_params)\n",
    "\n",
    "# para registrar las probabilidades\n",
    "df_sem_proba = pd.DataFrame({\n",
    "                            'client': numero_de_cliente.values,\n",
    "                        })\n",
    "\n",
    "j = 0\n",
    "s_total = 100\n",
    "for s in range(217163, 455783, 7*7*7*7): # con 100 semillas\n",
    "    # nueva instancia del modelos con semilla\n",
    "    seed = s+(7+j)\n",
    "    model = LGBMClassifier(**semillero_params, random_state=seed)\n",
    "    # entreno\n",
    "    print(f\"Entrenando modelo con semilla: {seed}, {j+1} de {s_total}\")\n",
    "    model.fit(X_train_imp, y_train)\n",
    "    # predigo proba\n",
    "    y_pred_proba = model.predict_proba(X_kaggle_imp)\n",
    "    # proba baja+2\n",
    "    proba_baja2 = y_pred_proba[:,2]\n",
    "    df_sem_proba[f'proba_s{seed}'] = proba_baja2\n",
    "    j += 1\n",
    "\n",
    "# Promediando proba de cada semilla\n",
    "proba_s_columns = df_sem_proba.filter(regex='^proba_s')\n",
    "proba_s_mean = proba_s_columns.mean(axis=1)\n",
    "\n",
    "df_sem_proba['proba_sem_mean'] = proba_s_mean\n",
    "\n",
    "# Umbral\n",
    "thr_opt_sem = 0.013 # # segun comp02_back-testing con semx\n",
    "\n",
    "# Prediccion\n",
    "df_sem_proba['pred'] = np.where(df_sem_proba.proba_sem_mean >= thr_opt_sem, 1, 0)\n",
    "\n",
    "df_sem_proba.head()"
   ]
  },
  {
   "cell_type": "markdown",
   "metadata": {},
   "source": [
    "Preparando entrega"
   ]
  },
  {
   "cell_type": "code",
   "execution_count": null,
   "metadata": {},
   "outputs": [],
   "source": [
    "submission = pd.DataFrame({\n",
    "    'numero_de_cliente': numero_de_cliente.values,\n",
    "    'Predicted': df_sem_proba['pred'].values\n",
    "})\n",
    "\n",
    "# Imprimir value counts de las predicciones\n",
    "value_counts = submission['Predicted'].value_counts()\n",
    "total_count = len(submission)\n",
    "print(\"\\nValue Counts:\")\n",
    "print(value_counts)\n",
    "print(\"\\nFrecuencia Relativa:\")\n",
    "print((value_counts / total_count) * 100)\n",
    "\n",
    "submission.info()"
   ]
  },
  {
   "cell_type": "markdown",
   "metadata": {},
   "source": [
    "Guardando pred semillerio denicolay"
   ]
  },
  {
   "cell_type": "code",
   "execution_count": null,
   "metadata": {},
   "outputs": [],
   "source": [
    "ft = \"%dT-%m-%Y%H-%M-%S\"\n",
    "t_now = datetime.datetime.now().strftime(ft)\n",
    "\n",
    "pred_name = f\"lgbm_pr{prepro}_fe{fe}x_tr{meses_train}_sem{s_total}_\"+t_now+\".csv\"\n",
    "\n",
    "pred_file = pred_path + pred_name\n",
    "proba_file = pred_path + \"probas/\" + pred_name\n",
    "\n",
    "# Guardar el DataFrame en un archivo CSV\n",
    "submission.to_csv(pred_file, index=False)\n",
    "print(f\"Predicciones guardadas en {pred_file}\")\n",
    "# Guardar el DataFrame en un archivo CSV\n",
    "submission.to_csv('predicciones/'+pred_name, index=False)\n",
    "print(f\"Y en {'predicciones/'+pred_name}\")\n",
    "\n",
    "# Guardamos las probas\n",
    "df_sem_proba.to_csv(proba_file, index=False)\n",
    "print(f\"Probas guardadas en {proba_file}\")\n",
    "df_sem_proba.to_csv('predicciones/probas/'+pred_name, index=False)\n",
    "print(f\"Y en {'predicciones/probas/'+pred_name}\")"
   ]
  }
 ],
 "metadata": {
  "kernelspec": {
   "display_name": "dm_eyf",
   "language": "python",
   "name": "python3"
  },
  "language_info": {
   "codemirror_mode": {
    "name": "ipython",
    "version": 3
   },
   "file_extension": ".py",
   "mimetype": "text/x-python",
   "name": "python",
   "nbconvert_exporter": "python",
   "pygments_lexer": "ipython3",
   "version": "3.11.10"
  }
 },
 "nbformat": 4,
 "nbformat_minor": 2
}
