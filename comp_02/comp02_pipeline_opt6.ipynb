{
 "cells": [
  {
   "cell_type": "markdown",
   "metadata": {
    "id": "HNoCqM1I5-le"
   },
   "source": [
    "# Training Pipeline\n",
    "\n",
    "Training the best M models\n",
    "\n",
    "Incluye:\n",
    "\n",
    "- Tuning de hyperparámetros (con meses históricos)"
   ]
  },
  {
   "cell_type": "code",
   "execution_count": 1,
   "metadata": {},
   "outputs": [
    {
     "name": "stdout",
     "output_type": "stream",
     "text": [
      "Collecting dask[dataframe]\n",
      "  Downloading dask-2024.11.2-py3-none-any.whl.metadata (3.7 kB)\n",
      "Requirement already satisfied: click>=8.1 in c:\\users\\santt\\.conda\\envs\\dm_eyf\\lib\\site-packages (from dask[dataframe]) (8.1.7)\n",
      "Requirement already satisfied: cloudpickle>=3.0.0 in c:\\users\\santt\\.conda\\envs\\dm_eyf\\lib\\site-packages (from dask[dataframe]) (3.1.0)\n",
      "Requirement already satisfied: fsspec>=2021.09.0 in c:\\users\\santt\\.conda\\envs\\dm_eyf\\lib\\site-packages (from dask[dataframe]) (2024.9.0)\n",
      "Requirement already satisfied: packaging>=20.0 in c:\\users\\santt\\.conda\\envs\\dm_eyf\\lib\\site-packages (from dask[dataframe]) (24.1)\n",
      "Collecting partd>=1.4.0 (from dask[dataframe])\n",
      "  Downloading partd-1.4.2-py3-none-any.whl.metadata (4.6 kB)\n",
      "Requirement already satisfied: pyyaml>=5.3.1 in c:\\users\\santt\\.conda\\envs\\dm_eyf\\lib\\site-packages (from dask[dataframe]) (6.0.1)\n",
      "Collecting toolz>=0.10.0 (from dask[dataframe])\n",
      "  Downloading toolz-1.0.0-py3-none-any.whl.metadata (5.1 kB)\n",
      "Collecting importlib-metadata>=4.13.0 (from dask[dataframe])\n",
      "  Downloading importlib_metadata-8.5.0-py3-none-any.whl.metadata (4.8 kB)\n",
      "Requirement already satisfied: pandas>=2.0 in c:\\users\\santt\\.conda\\envs\\dm_eyf\\lib\\site-packages (from dask[dataframe]) (2.0.3)\n",
      "Collecting dask-expr<1.2,>=1.1 (from dask[dataframe])\n",
      "  Downloading dask_expr-1.1.19-py3-none-any.whl.metadata (2.6 kB)\n",
      "Requirement already satisfied: colorama in c:\\users\\santt\\.conda\\envs\\dm_eyf\\lib\\site-packages (from click>=8.1->dask[dataframe]) (0.4.6)\n",
      "Collecting pyarrow>=14.0.1 (from dask-expr<1.2,>=1.1->dask[dataframe])\n",
      "  Downloading pyarrow-18.0.0-cp311-cp311-win_amd64.whl.metadata (3.4 kB)\n",
      "Collecting zipp>=3.20 (from importlib-metadata>=4.13.0->dask[dataframe])\n",
      "  Downloading zipp-3.21.0-py3-none-any.whl.metadata (3.7 kB)\n",
      "Requirement already satisfied: python-dateutil>=2.8.2 in c:\\users\\santt\\.conda\\envs\\dm_eyf\\lib\\site-packages (from pandas>=2.0->dask[dataframe]) (2.9.0.post0)\n",
      "Requirement already satisfied: pytz>=2020.1 in c:\\users\\santt\\.conda\\envs\\dm_eyf\\lib\\site-packages (from pandas>=2.0->dask[dataframe]) (2024.1)\n",
      "Requirement already satisfied: tzdata>=2022.1 in c:\\users\\santt\\.conda\\envs\\dm_eyf\\lib\\site-packages (from pandas>=2.0->dask[dataframe]) (2023.3)\n",
      "Requirement already satisfied: numpy>=1.21.0 in c:\\users\\santt\\.conda\\envs\\dm_eyf\\lib\\site-packages (from pandas>=2.0->dask[dataframe]) (1.25.2)\n",
      "Collecting locket (from partd>=1.4.0->dask[dataframe])\n",
      "  Downloading locket-1.0.0-py2.py3-none-any.whl.metadata (2.8 kB)\n",
      "Requirement already satisfied: six>=1.5 in c:\\users\\santt\\.conda\\envs\\dm_eyf\\lib\\site-packages (from python-dateutil>=2.8.2->pandas>=2.0->dask[dataframe]) (1.16.0)\n",
      "Downloading dask_expr-1.1.19-py3-none-any.whl (244 kB)\n",
      "Downloading dask-2024.11.2-py3-none-any.whl (1.3 MB)\n",
      "   ---------------------------------------- 0.0/1.3 MB ? eta -:--:--\n",
      "   ---------------------------------------- 1.3/1.3 MB 21.3 MB/s eta 0:00:00\n",
      "Downloading importlib_metadata-8.5.0-py3-none-any.whl (26 kB)\n",
      "Downloading partd-1.4.2-py3-none-any.whl (18 kB)\n",
      "Downloading toolz-1.0.0-py3-none-any.whl (56 kB)\n",
      "Downloading pyarrow-18.0.0-cp311-cp311-win_amd64.whl (25.1 MB)\n",
      "   ---------------------------------------- 0.0/25.1 MB ? eta -:--:--\n",
      "   ------- -------------------------------- 5.0/25.1 MB 25.2 MB/s eta 0:00:01\n",
      "   -------------------- ------------------- 12.8/25.1 MB 31.0 MB/s eta 0:00:01\n",
      "   -------------------------------- ------- 20.4/25.1 MB 33.1 MB/s eta 0:00:01\n",
      "   ---------------------------------------- 25.1/25.1 MB 31.8 MB/s eta 0:00:00\n",
      "Downloading zipp-3.21.0-py3-none-any.whl (9.6 kB)\n",
      "Downloading locket-1.0.0-py2.py3-none-any.whl (4.4 kB)\n",
      "Installing collected packages: zipp, toolz, pyarrow, locket, partd, importlib-metadata, dask, dask-expr\n",
      "Successfully installed dask-2024.11.2 dask-expr-1.1.19 importlib-metadata-8.5.0 locket-1.0.0 partd-1.4.2 pyarrow-18.0.0 toolz-1.0.0 zipp-3.21.0\n"
     ]
    }
   ],
   "source": [
    "!pip install dask[dataframe]"
   ]
  },
  {
   "cell_type": "code",
   "execution_count": 2,
   "metadata": {},
   "outputs": [],
   "source": [
    "# Librerias\n",
    "import os\n",
    "import pandas as pd\n",
    "import numpy as np\n",
    "\n",
    "#######\n",
    "# rutas\n",
    "# datasets\n",
    "from config import dataset_file_fe6_6pqt\n",
    "# optimizacion\n",
    "from config import db_path\n",
    "# modelos\n",
    "from config import modelos_path\n",
    "# predicciones\n",
    "from config import pred_path\n",
    "\n",
    "##########\n",
    "# pipeline\n",
    "from processing import ModelPipeline\n",
    "from sklearn.impute import SimpleImputer\n"
   ]
  },
  {
   "cell_type": "markdown",
   "metadata": {},
   "source": [
    "Variables de train y test"
   ]
  },
  {
   "cell_type": "code",
   "execution_count": 3,
   "metadata": {},
   "outputs": [],
   "source": [
    "ganancia_acierto = 273000\n",
    "costo_estimulo = 7000\n",
    "\n",
    "mes_train_all = [201901, 201902, 201903, 201904, 201905, 201906, 201907, 201908,\n",
    "                 201909, 201910, 201911, 201912, 202001, 202002, 202003, 202004,\n",
    "                 202005, 202006, 202007, 202008, 202009, 202010, 202011, 202012,\n",
    "                 202101, 202102, 202103, 202104, 202105, 202106]\n",
    "\n",
    "mes_train_ult_3_meses = [202104, 202105, 202106]\n",
    "\n",
    "mes_train_ult_6_meses = [202101, 202102, 202103, 202104, 202105, 202106]\n",
    "\n",
    "mes_train_ult_9_meses = [202009, 202010, 202011, 202012, 202101, 202102, 202103, 202104, 202105, 202106]\n",
    "\n",
    "mes_train_ult_anio = [202006, 202007, 202008, 202009, 202010, 202011, 202012,\n",
    "                 202101, 202102, 202103, 202104, 202105, 202106]\n",
    "\n",
    "mes_train = [202106]\n",
    "mes_test = 202108\n",
    "\n",
    "threshold = 0.025\n",
    "\n",
    "semillas = [437809, 327347, 392879, 455783, 217163]"
   ]
  },
  {
   "cell_type": "markdown",
   "metadata": {},
   "source": [
    "## Loading data"
   ]
  },
  {
   "cell_type": "code",
   "execution_count": 10,
   "metadata": {},
   "outputs": [],
   "source": [
    "# data = pd.read_parquet(dataset_file_fe6_6pqt)\n",
    "\n",
    "# running local\n",
    "data = pd.read_parquet(\"datos/datasets_competencia_02_fe6_6_6m_train.parquet\")\n"
   ]
  },
  {
   "cell_type": "markdown",
   "metadata": {},
   "source": [
    "## LightGBM \n",
    "\n",
    "**Prepro in 6 months and Conceptual FE 6 months**\n",
    "\n",
    "> comp02_prepro_6.ipynb\n",
    "\n",
    "> comp02_fe6_6.ipynb\n",
    "\n",
    "**Usando los últimos 6 meses para optimizar**"
   ]
  },
  {
   "cell_type": "code",
   "execution_count": null,
   "metadata": {},
   "outputs": [
    {
     "name": "stdout",
     "output_type": "stream",
     "text": [
      "### Corriendo pipeline con LightGBM ###\n",
      "Columns with all NaN values: ['payroll_slope_1_foto_mes', 'cuenta_corriente_slope_1_foto_mes', 'visa_consumo_slope_1_foto_mes', 'comisiones_mantenimiento_slope_1_foto_mes', 'comisiones_otras_slope_1_foto_mes']\n",
      "\n",
      "# Entrenando el modelo base LightGBM\n",
      "[LightGBM] [Info] Auto-choosing col-wise multi-threading, the overhead of testing was 0.165531 seconds.\n",
      "You can set `force_col_wise=true` to remove the overhead.\n",
      "[LightGBM] [Info] Total Bins 49336\n",
      "[LightGBM] [Info] Number of data points in the train set: 164876, number of used features: 402\n",
      "[LightGBM] [Info] Start training from score -5.201705\n",
      "[LightGBM] [Info] Start training from score -5.033804\n",
      "[LightGBM] [Info] Start training from score -0.012094\n",
      "\n",
      "# Optimizando el modelo\n"
     ]
    },
    {
     "name": "stderr",
     "output_type": "stream",
     "text": [
      "[I 2024-11-19 15:43:47,489] A new study created in RDB with name: exp_lgbm_pr6_fe6_tr6\n"
     ]
    },
    {
     "name": "stdout",
     "output_type": "stream",
     "text": [
      "Optimizando lightgbm con 100 pruebas\n"
     ]
    },
    {
     "name": "stderr",
     "output_type": "stream",
     "text": [
      "[I 2024-11-19 15:45:27,462] Trial 0 finished with value: 92045333.33333334 and parameters: {'n_estimators': 89, 'num_leaves': 143, 'learning_rate': 0.004749786099207218, 'min_data_in_leaf': 71, 'min_gain_to_split': 0.7323179472983463, 'feature_fraction': 0.5418692410684371, 'bagging_fraction': 0.5455362627643998, 'bagging_freq': 1, 'max_bin': 209}. Best is trial 0 with value: 92045333.33333334.\n",
      "[I 2024-11-19 15:47:16,583] Trial 1 finished with value: 47310666.66666667 and parameters: {'n_estimators': 61, 'num_leaves': 191, 'learning_rate': 0.029298329292614073, 'min_data_in_leaf': 93, 'min_gain_to_split': 0.1435341926694329, 'feature_fraction': 0.8063704723076408, 'bagging_fraction': 0.7830765435330829, 'bagging_freq': 7, 'max_bin': 224}. Best is trial 0 with value: 92045333.33333334.\n",
      "[I 2024-11-19 15:48:16,118] Trial 2 finished with value: 42886666.66666667 and parameters: {'n_estimators': 402, 'num_leaves': 96, 'learning_rate': 0.11635288914285075, 'min_data_in_leaf': 30, 'min_gain_to_split': 0.35448847004730843, 'feature_fraction': 0.6106066024460766, 'bagging_fraction': 0.7900682038550719, 'bagging_freq': 3, 'max_bin': 229}. Best is trial 0 with value: 92045333.33333334.\n",
      "[I 2024-11-19 15:49:20,522] Trial 3 finished with value: 64848000.0 and parameters: {'n_estimators': 122, 'num_leaves': 179, 'learning_rate': 0.04337131050121035, 'min_data_in_leaf': 85, 'min_gain_to_split': 0.34981059073660314, 'feature_fraction': 0.7870423231156608, 'bagging_fraction': 0.8268604836576514, 'bagging_freq': 6, 'max_bin': 189}. Best is trial 0 with value: 92045333.33333334.\n",
      "[I 2024-11-19 15:50:32,107] Trial 4 finished with value: 99722000.00000001 and parameters: {'n_estimators': 102, 'num_leaves': 34, 'learning_rate': 0.0223676547594734, 'min_data_in_leaf': 32, 'min_gain_to_split': 0.5147195295724949, 'feature_fraction': 0.6841437612378389, 'bagging_fraction': 0.7415269834646225, 'bagging_freq': 3, 'max_bin': 166}. Best is trial 4 with value: 99722000.00000001.\n",
      "[I 2024-11-19 15:52:13,007] Trial 5 finished with value: 29885333.333333336 and parameters: {'n_estimators': 253, 'num_leaves': 128, 'learning_rate': 0.2030188914086233, 'min_data_in_leaf': 56, 'min_gain_to_split': 0.6567054609975321, 'feature_fraction': 0.8605888324121376, 'bagging_fraction': 0.7608609895064179, 'bagging_freq': 7, 'max_bin': 240}. Best is trial 4 with value: 99722000.00000001.\n",
      "[I 2024-11-19 15:53:58,614] Trial 6 finished with value: 86380000.0 and parameters: {'n_estimators': 191, 'num_leaves': 45, 'learning_rate': 0.056938863302858675, 'min_data_in_leaf': 83, 'min_gain_to_split': 0.9537878863135129, 'feature_fraction': 0.7359588321257163, 'bagging_fraction': 0.8821126408487965, 'bagging_freq': 1, 'max_bin': 189}. Best is trial 4 with value: 99722000.00000001.\n",
      "[I 2024-11-19 15:54:39,644] Trial 7 finished with value: 49466666.66666667 and parameters: {'n_estimators': 255, 'num_leaves': 151, 'learning_rate': 0.20015184434009078, 'min_data_in_leaf': 86, 'min_gain_to_split': 0.5634738075612346, 'feature_fraction': 0.7319443524024306, 'bagging_fraction': 0.8406482241972562, 'bagging_freq': 3, 'max_bin': 119}. Best is trial 4 with value: 99722000.00000001.\n",
      "[I 2024-11-19 15:56:32,750] Trial 8 finished with value: 66672666.66666667 and parameters: {'n_estimators': 259, 'num_leaves': 159, 'learning_rate': 0.0016195613224050636, 'min_data_in_leaf': 91, 'min_gain_to_split': 0.44898157302458175, 'feature_fraction': 0.8211181502366838, 'bagging_fraction': 0.865921429609136, 'bagging_freq': 1, 'max_bin': 190}. Best is trial 4 with value: 99722000.00000001.\n",
      "[I 2024-11-19 15:57:41,876] Trial 9 finished with value: 83654666.66666667 and parameters: {'n_estimators': 463, 'num_leaves': 74, 'learning_rate': 0.002871109941023864, 'min_data_in_leaf': 48, 'min_gain_to_split': 0.5625588238534928, 'feature_fraction': 0.5991871650673104, 'bagging_fraction': 0.7911380927203695, 'bagging_freq': 5, 'max_bin': 98}. Best is trial 4 with value: 99722000.00000001.\n",
      "[I 2024-11-19 15:58:36,741] Trial 10 finished with value: 101215333.33333334 and parameters: {'n_estimators': 348, 'num_leaves': 32, 'learning_rate': 0.010654164660428258, 'min_data_in_leaf': 25, 'min_gain_to_split': 0.05167072135683304, 'feature_fraction': 0.653933582902198, 'bagging_fraction': 0.654746780193324, 'bagging_freq': 3, 'max_bin': 141}. Best is trial 10 with value: 101215333.33333334.\n",
      "[I 2024-11-19 15:59:25,058] Trial 11 finished with value: 100202666.66666667 and parameters: {'n_estimators': 378, 'num_leaves': 36, 'learning_rate': 0.00931755147925831, 'min_data_in_leaf': 21, 'min_gain_to_split': 0.0990595494491986, 'feature_fraction': 0.6366479118786935, 'bagging_fraction': 0.6532984811870921, 'bagging_freq': 3, 'max_bin': 139}. Best is trial 10 with value: 101215333.33333334.\n",
      "[I 2024-11-19 16:01:21,142] Trial 12 finished with value: 54516000.0 and parameters: {'n_estimators': 369, 'num_leaves': 251, 'learning_rate': 0.008272133837537799, 'min_data_in_leaf': 20, 'min_gain_to_split': 0.043900968708118236, 'feature_fraction': 0.6532916620427253, 'bagging_fraction': 0.6316277388648553, 'bagging_freq': 4, 'max_bin': 131}. Best is trial 10 with value: 101215333.33333334.\n",
      "[I 2024-11-19 16:02:40,463] Trial 13 finished with value: 95363333.33333334 and parameters: {'n_estimators': 350, 'num_leaves': 73, 'learning_rate': 0.008068691628533863, 'min_data_in_leaf': 39, 'min_gain_to_split': 0.1765434404450351, 'feature_fraction': 0.5432878302821079, 'bagging_fraction': 0.6516703127686996, 'bagging_freq': 2, 'max_bin': 71}. Best is trial 10 with value: 101215333.33333334.\n",
      "[I 2024-11-19 16:04:01,012] Trial 14 finished with value: 84625333.33333334 and parameters: {'n_estimators': 500, 'num_leaves': 101, 'learning_rate': 0.01227007555574261, 'min_data_in_leaf': 21, 'min_gain_to_split': 0.06473186542604399, 'feature_fraction': 0.6317479405622309, 'bagging_fraction': 0.5774051800037736, 'bagging_freq': 4, 'max_bin': 148}. Best is trial 10 with value: 101215333.33333334.\n",
      "[I 2024-11-19 16:04:58,432] Trial 15 finished with value: 95018000.0 and parameters: {'n_estimators': 325, 'num_leaves': 59, 'learning_rate': 0.004330733692884639, 'min_data_in_leaf': 42, 'min_gain_to_split': 0.24692134691480427, 'feature_fraction': 0.5789656247905148, 'bagging_fraction': 0.6784953297955806, 'bagging_freq': 5, 'max_bin': 95}. Best is trial 10 with value: 101215333.33333334.\n",
      "[I 2024-11-19 16:05:49,736] Trial 16 finished with value: 42443333.333333336 and parameters: {'n_estimators': 415, 'num_leaves': 31, 'learning_rate': 0.0010352286201334223, 'min_data_in_leaf': 65, 'min_gain_to_split': 0.2795134926087422, 'feature_fraction': 0.6850910061891844, 'bagging_fraction': 0.6070570765594328, 'bagging_freq': 2, 'max_bin': 154}. Best is trial 10 with value: 101215333.33333334.\n",
      "[I 2024-11-19 16:07:05,824] Trial 17 finished with value: 79123333.33333334 and parameters: {'n_estimators': 297, 'num_leaves': 103, 'learning_rate': 0.014065382760525191, 'min_data_in_leaf': 30, 'min_gain_to_split': 0.03702319407076594, 'feature_fraction': 0.5146595430866121, 'bagging_fraction': 0.5089708790196374, 'bagging_freq': 2, 'max_bin': 124}. Best is trial 10 with value: 101215333.33333334.\n",
      "[I 2024-11-19 16:08:11,832] Trial 18 finished with value: 35639333.33333333 and parameters: {'n_estimators': 193, 'num_leaves': 231, 'learning_rate': 0.07907161641882941, 'min_data_in_leaf': 52, 'min_gain_to_split': 0.15987432512473976, 'feature_fraction': 0.7384291215781521, 'bagging_fraction': 0.720193856536889, 'bagging_freq': 5, 'max_bin': 166}. Best is trial 10 with value: 101215333.33333334.\n",
      "[I 2024-11-19 16:09:14,000] Trial 19 finished with value: 85600666.66666667 and parameters: {'n_estimators': 427, 'num_leaves': 64, 'learning_rate': 0.0027952884017638565, 'min_data_in_leaf': 39, 'min_gain_to_split': 0.002266513424256239, 'feature_fraction': 0.6587997220204165, 'bagging_fraction': 0.6850439326051967, 'bagging_freq': 3, 'max_bin': 100}. Best is trial 10 with value: 101215333.33333334.\n",
      "[I 2024-11-19 16:10:42,460] Trial 20 finished with value: 88461333.33333334 and parameters: {'n_estimators': 367, 'num_leaves': 118, 'learning_rate': 0.006161494313400867, 'min_data_in_leaf': 25, 'min_gain_to_split': 0.9108394074373303, 'feature_fraction': 0.5721018537934633, 'bagging_fraction': 0.5901771975060079, 'bagging_freq': 4, 'max_bin': 133}. Best is trial 10 with value: 101215333.33333334.\n",
      "[I 2024-11-19 16:11:57,774] Trial 21 finished with value: 97374666.66666667 and parameters: {'n_estimators': 179, 'num_leaves': 40, 'learning_rate': 0.022253682781553503, 'min_data_in_leaf': 32, 'min_gain_to_split': 0.4366019525794331, 'feature_fraction': 0.6951299971396917, 'bagging_fraction': 0.7328860743234413, 'bagging_freq': 3, 'max_bin': 169}. Best is trial 10 with value: 101215333.33333334.\n",
      "[I 2024-11-19 16:12:52,878] Trial 22 finished with value: 95741333.33333334 and parameters: {'n_estimators': 308, 'num_leaves': 51, 'learning_rate': 0.018385500463658614, 'min_data_in_leaf': 34, 'min_gain_to_split': 0.795428762089444, 'feature_fraction': 0.664228944395267, 'bagging_fraction': 0.6511988828460119, 'bagging_freq': 2, 'max_bin': 151}. Best is trial 10 with value: 101215333.33333334.\n",
      "[I 2024-11-19 16:13:48,290] Trial 23 finished with value: 94588666.66666667 and parameters: {'n_estimators': 159, 'num_leaves': 32, 'learning_rate': 0.03287732916996813, 'min_data_in_leaf': 25, 'min_gain_to_split': 0.25973437076604955, 'feature_fraction': 0.7158869433758823, 'bagging_fraction': 0.7117333657262546, 'bagging_freq': 3, 'max_bin': 175}. Best is trial 10 with value: 101215333.33333334.\n",
      "[I 2024-11-19 16:14:58,174] Trial 24 finished with value: 93487333.33333334 and parameters: {'n_estimators': 219, 'num_leaves': 83, 'learning_rate': 0.011146661844668414, 'min_data_in_leaf': 45, 'min_gain_to_split': 0.5387073324353816, 'feature_fraction': 0.622899076134571, 'bagging_fraction': 0.7509061300967134, 'bagging_freq': 4, 'max_bin': 141}. Best is trial 10 with value: 101215333.33333334.\n",
      "[I 2024-11-19 16:15:57,897] Trial 25 finished with value: 89856666.66666667 and parameters: {'n_estimators': 331, 'num_leaves': 56, 'learning_rate': 0.021686283100545736, 'min_data_in_leaf': 36, 'min_gain_to_split': 0.6435828840439375, 'feature_fraction': 0.7717896304373737, 'bagging_fraction': 0.6697883849729132, 'bagging_freq': 2, 'max_bin': 111}. Best is trial 10 with value: 101215333.33333334.\n",
      "[I 2024-11-19 16:17:10,344] Trial 26 finished with value: 94206000.0 and parameters: {'n_estimators': 379, 'num_leaves': 85, 'learning_rate': 0.009129693541239789, 'min_data_in_leaf': 27, 'min_gain_to_split': 0.38169799054811593, 'feature_fraction': 0.6964158027042616, 'bagging_fraction': 0.6212913681653264, 'bagging_freq': 3, 'max_bin': 67}. Best is trial 10 with value: 101215333.33333334.\n",
      "[I 2024-11-19 16:18:05,542] Trial 27 finished with value: 88643333.33333334 and parameters: {'n_estimators': 454, 'num_leaves': 52, 'learning_rate': 0.003577622189268448, 'min_data_in_leaf': 20, 'min_gain_to_split': 0.09467556310958147, 'feature_fraction': 0.6349292829731825, 'bagging_fraction': 0.7005169958651516, 'bagging_freq': 4, 'max_bin': 178}. Best is trial 10 with value: 101215333.33333334.\n",
      "[I 2024-11-19 16:18:55,979] Trial 28 finished with value: 96777333.33333334 and parameters: {'n_estimators': 290, 'num_leaves': 31, 'learning_rate': 0.006610800655794887, 'min_data_in_leaf': 64, 'min_gain_to_split': 0.22611175025267122, 'feature_fraction': 0.763997927680522, 'bagging_fraction': 0.554045096929117, 'bagging_freq': 3, 'max_bin': 138}. Best is trial 10 with value: 101215333.33333334.\n",
      "[I 2024-11-19 16:20:16,285] Trial 29 finished with value: 89068000.0 and parameters: {'n_estimators': 133, 'num_leaves': 116, 'learning_rate': 0.016313087774412698, 'min_data_in_leaf': 76, 'min_gain_to_split': 0.7931481974276936, 'feature_fraction': 0.5885067158427639, 'bagging_fraction': 0.6552893353194457, 'bagging_freq': 1, 'max_bin': 207}. Best is trial 10 with value: 101215333.33333334.\n",
      "[I 2024-11-19 16:21:26,056] Trial 30 finished with value: 67965333.33333334 and parameters: {'n_estimators': 226, 'num_leaves': 73, 'learning_rate': 0.03286631221648247, 'min_data_in_leaf': 49, 'min_gain_to_split': 0.4755708919913881, 'feature_fraction': 0.8988247020897614, 'bagging_fraction': 0.5301771853069771, 'bagging_freq': 5, 'max_bin': 158}. Best is trial 10 with value: 101215333.33333334.\n",
      "[I 2024-11-19 16:22:22,703] Trial 31 finished with value: 97276666.66666667 and parameters: {'n_estimators': 81, 'num_leaves': 43, 'learning_rate': 0.022030373918020048, 'min_data_in_leaf': 32, 'min_gain_to_split': 0.43415679072160723, 'feature_fraction': 0.671765722754736, 'bagging_fraction': 0.7337146640910361, 'bagging_freq': 3, 'max_bin': 162}. Best is trial 10 with value: 101215333.33333334.\n",
      "[I 2024-11-19 16:23:28,005] Trial 32 finished with value: 92703333.33333334 and parameters: {'n_estimators': 61, 'num_leaves': 39, 'learning_rate': 0.027161927351041223, 'min_data_in_leaf': 26, 'min_gain_to_split': 0.1171230567149652, 'feature_fraction': 0.70896711107621, 'bagging_fraction': 0.7434867525728137, 'bagging_freq': 2, 'max_bin': 203}. Best is trial 10 with value: 101215333.33333334.\n",
      "[I 2024-11-19 16:24:31,452] Trial 33 finished with value: 79212000.0 and parameters: {'n_estimators': 153, 'num_leaves': 62, 'learning_rate': 0.051953016938669265, 'min_data_in_leaf': 100, 'min_gain_to_split': 0.6359817818055024, 'feature_fraction': 0.6887438714621353, 'bagging_fraction': 0.7724979854643834, 'bagging_freq': 4, 'max_bin': 170}. Best is trial 10 with value: 101215333.33333334.\n",
      "[I 2024-11-19 16:26:07,879] Trial 34 finished with value: 76253333.33333334 and parameters: {'n_estimators': 112, 'num_leaves': 212, 'learning_rate': 0.0054353617329466215, 'min_data_in_leaf': 35, 'min_gain_to_split': 0.33195773454024885, 'feature_fraction': 0.6398713800792978, 'bagging_fraction': 0.6961464727125201, 'bagging_freq': 3, 'max_bin': 180}. Best is trial 10 with value: 101215333.33333334.\n",
      "[I 2024-11-19 16:26:56,213] Trial 35 finished with value: 38336666.66666667 and parameters: {'n_estimators': 52, 'num_leaves': 45, 'learning_rate': 0.1029186644284043, 'min_data_in_leaf': 29, 'min_gain_to_split': 0.19336908206094297, 'feature_fraction': 0.6043558054604206, 'bagging_fraction': 0.8138575878715776, 'bagging_freq': 3, 'max_bin': 147}. Best is trial 10 with value: 101215333.33333334.\n",
      "[I 2024-11-19 16:27:54,223] Trial 36 finished with value: 80892000.00000001 and parameters: {'n_estimators': 97, 'num_leaves': 87, 'learning_rate': 0.03818330517616046, 'min_data_in_leaf': 42, 'min_gain_to_split': 0.73223896738668, 'feature_fraction': 0.5468904895092561, 'bagging_fraction': 0.7308966069694829, 'bagging_freq': 2, 'max_bin': 219}. Best is trial 10 with value: 101215333.33333334.\n",
      "[I 2024-11-19 16:29:32,083] Trial 37 finished with value: 79716000.0 and parameters: {'n_estimators': 391, 'num_leaves': 171, 'learning_rate': 0.011334488763855548, 'min_data_in_leaf': 54, 'min_gain_to_split': 0.30992744030067293, 'feature_fraction': 0.7188255814236169, 'bagging_fraction': 0.794619729166573, 'bagging_freq': 6, 'max_bin': 253}. Best is trial 10 with value: 101215333.33333334.\n",
      "[I 2024-11-19 16:30:58,416] Trial 38 finished with value: 81442666.66666667 and parameters: {'n_estimators': 165, 'num_leaves': 68, 'learning_rate': 0.023079991058976384, 'min_data_in_leaf': 24, 'min_gain_to_split': 0.5166137231407283, 'feature_fraction': 0.7488289455899879, 'bagging_fraction': 0.6386548614977434, 'bagging_freq': 3, 'max_bin': 196}. Best is trial 10 with value: 101215333.33333334.\n",
      "[I 2024-11-19 16:32:37,115] Trial 39 finished with value: 69496000.00000001 and parameters: {'n_estimators': 340, 'num_leaves': 138, 'learning_rate': 0.01569171362624081, 'min_data_in_leaf': 31, 'min_gain_to_split': 0.0925030024133665, 'feature_fraction': 0.6781369659113132, 'bagging_fraction': 0.7653408082851253, 'bagging_freq': 1, 'max_bin': 125}. Best is trial 10 with value: 101215333.33333334.\n",
      "[I 2024-11-19 16:33:34,636] Trial 40 finished with value: 9977333.333333334 and parameters: {'n_estimators': 229, 'num_leaves': 52, 'learning_rate': 0.26946650053861165, 'min_data_in_leaf': 59, 'min_gain_to_split': 0.38781730507749523, 'feature_fraction': 0.8162376427882131, 'bagging_fraction': 0.6725289686949182, 'bagging_freq': 3, 'max_bin': 112}. Best is trial 10 with value: 101215333.33333334.\n",
      "[I 2024-11-19 16:34:28,755] Trial 41 finished with value: 96245333.33333334 and parameters: {'n_estimators': 129, 'num_leaves': 44, 'learning_rate': 0.022283695430459754, 'min_data_in_leaf': 32, 'min_gain_to_split': 0.4302218213724877, 'feature_fraction': 0.6728114631161535, 'bagging_fraction': 0.7288583547643546, 'bagging_freq': 3, 'max_bin': 162}. Best is trial 10 with value: 101215333.33333334.\n",
      "[I 2024-11-19 16:35:31,960] Trial 42 finished with value: 80929333.33333334 and parameters: {'n_estimators': 91, 'num_leaves': 40, 'learning_rate': 0.049522662011913784, 'min_data_in_leaf': 39, 'min_gain_to_split': 0.6034708876728117, 'feature_fraction': 0.644397043851555, 'bagging_fraction': 0.7416656825442091, 'bagging_freq': 3, 'max_bin': 184}. Best is trial 10 with value: 101215333.33333334.\n",
      "[I 2024-11-19 16:36:25,510] Trial 43 finished with value: 97981333.33333334 and parameters: {'n_estimators': 65, 'num_leaves': 41, 'learning_rate': 0.018275879607527842, 'min_data_in_leaf': 23, 'min_gain_to_split': 0.3986700967419301, 'feature_fraction': 0.6142995968065026, 'bagging_fraction': 0.711030183300562, 'bagging_freq': 4, 'max_bin': 169}. Best is trial 10 with value: 101215333.33333334.\n",
      "[I 2024-11-19 16:37:19,483] Trial 44 finished with value: 99549333.33333334 and parameters: {'n_estimators': 72, 'num_leaves': 37, 'learning_rate': 0.00843073995902214, 'min_data_in_leaf': 22, 'min_gain_to_split': 0.47863065885001504, 'feature_fraction': 0.6140465053237445, 'bagging_fraction': 0.7052886553691832, 'bagging_freq': 4, 'max_bin': 142}. Best is trial 10 with value: 101215333.33333334.\n",
      "[I 2024-11-19 16:38:34,556] Trial 45 finished with value: 97113333.33333334 and parameters: {'n_estimators': 73, 'num_leaves': 60, 'learning_rate': 0.00952444097530199, 'min_data_in_leaf': 22, 'min_gain_to_split': 0.48602865134337575, 'feature_fraction': 0.6176149404019384, 'bagging_fraction': 0.7077075758512184, 'bagging_freq': 4, 'max_bin': 143}. Best is trial 10 with value: 101215333.33333334.\n",
      "[I 2024-11-19 16:39:43,468] Trial 46 finished with value: 96119333.33333334 and parameters: {'n_estimators': 104, 'num_leaves': 80, 'learning_rate': 0.00818877618853485, 'min_data_in_leaf': 20, 'min_gain_to_split': 0.7161133220801892, 'feature_fraction': 0.5692967158663953, 'bagging_fraction': 0.6170419696291201, 'bagging_freq': 5, 'max_bin': 136}. Best is trial 10 with value: 101215333.33333334.\n",
      "[I 2024-11-19 16:40:34,495] Trial 47 finished with value: 91984666.66666667 and parameters: {'n_estimators': 73, 'num_leaves': 31, 'learning_rate': 0.004098838368234612, 'min_data_in_leaf': 28, 'min_gain_to_split': 0.5900340001193356, 'feature_fraction': 0.6032634455893059, 'bagging_fraction': 0.6857116552668238, 'bagging_freq': 4, 'max_bin': 154}. Best is trial 10 with value: 101215333.33333334.\n",
      "[I 2024-11-19 16:42:11,500] Trial 48 finished with value: 85577333.33333334 and parameters: {'n_estimators': 267, 'num_leaves': 93, 'learning_rate': 0.013568827615595918, 'min_data_in_leaf': 24, 'min_gain_to_split': 0.010589043780440628, 'feature_fraction': 0.5617277109339924, 'bagging_fraction': 0.6609928901372424, 'bagging_freq': 6, 'max_bin': 115}. Best is trial 10 with value: 101215333.33333334.\n",
      "[I 2024-11-19 16:43:03,104] Trial 49 finished with value: 81447333.33333334 and parameters: {'n_estimators': 360, 'num_leaves': 50, 'learning_rate': 0.0026634791267191598, 'min_data_in_leaf': 23, 'min_gain_to_split': 0.21085456696950075, 'feature_fraction': 0.5871557008370791, 'bagging_fraction': 0.6381724955567654, 'bagging_freq': 5, 'max_bin': 129}. Best is trial 10 with value: 101215333.33333334.\n",
      "[I 2024-11-19 16:44:14,764] Trial 50 finished with value: 94929333.33333334 and parameters: {'n_estimators': 434, 'num_leaves': 74, 'learning_rate': 0.006251265173345773, 'min_data_in_leaf': 28, 'min_gain_to_split': 0.14292770350721365, 'feature_fraction': 0.5149098435096469, 'bagging_fraction': 0.5918628934924879, 'bagging_freq': 4, 'max_bin': 83}. Best is trial 10 with value: 101215333.33333334.\n",
      "[I 2024-11-19 16:45:08,701] Trial 51 finished with value: 63126000.0 and parameters: {'n_estimators': 195, 'num_leaves': 39, 'learning_rate': 0.07001663290890858, 'min_data_in_leaf': 37, 'min_gain_to_split': 0.4526358808325098, 'feature_fraction': 0.6516836462434865, 'bagging_fraction': 0.6939218140150712, 'bagging_freq': 4, 'max_bin': 170}. Best is trial 10 with value: 101215333.33333334.\n",
      "[I 2024-11-19 16:46:09,271] Trial 52 finished with value: 97533333.33333334 and parameters: {'n_estimators': 131, 'num_leaves': 39, 'learning_rate': 0.017502195950603396, 'min_data_in_leaf': 32, 'min_gain_to_split': 0.38442537806107985, 'feature_fraction': 0.6560747384725597, 'bagging_fraction': 0.7186493881494255, 'bagging_freq': 4, 'max_bin': 189}. Best is trial 10 with value: 101215333.33333334.\n",
      "[I 2024-11-19 16:47:21,776] Trial 53 finished with value: 93510666.66666667 and parameters: {'n_estimators': 138, 'num_leaves': 65, 'learning_rate': 0.017246163395926353, 'min_data_in_leaf': 20, 'min_gain_to_split': 0.3811595003281564, 'feature_fraction': 0.6185112029008991, 'bagging_fraction': 0.7550751763057719, 'bagging_freq': 4, 'max_bin': 197}. Best is trial 10 with value: 101215333.33333334.\n",
      "[I 2024-11-19 16:48:34,264] Trial 54 finished with value: 98042000.0 and parameters: {'n_estimators': 116, 'num_leaves': 54, 'learning_rate': 0.01140706242182292, 'min_data_in_leaf': 27, 'min_gain_to_split': 0.5558303176980924, 'feature_fraction': 0.6564919961242188, 'bagging_fraction': 0.7145195116338088, 'bagging_freq': 4, 'max_bin': 186}. Best is trial 10 with value: 101215333.33333334.\n",
      "[I 2024-11-19 16:49:41,926] Trial 55 finished with value: 95078666.66666667 and parameters: {'n_estimators': 116, 'num_leaves': 54, 'learning_rate': 0.011417907063955617, 'min_data_in_leaf': 26, 'min_gain_to_split': 0.5430215579830824, 'feature_fraction': 0.6268237868539609, 'bagging_fraction': 0.7792457186405264, 'bagging_freq': 5, 'max_bin': 157}. Best is trial 10 with value: 101215333.33333334.\n",
      "[I 2024-11-19 16:51:24,079] Trial 56 finished with value: 78045333.33333334 and parameters: {'n_estimators': 54, 'num_leaves': 198, 'learning_rate': 0.007182863699861786, 'min_data_in_leaf': 29, 'min_gain_to_split': 0.6975337183842578, 'feature_fraction': 0.5974969361359715, 'bagging_fraction': 0.682407893995368, 'bagging_freq': 2, 'max_bin': 150}. Best is trial 10 with value: 101215333.33333334.\n",
      "[I 2024-11-19 16:52:11,759] Trial 57 finished with value: 97262666.66666667 and parameters: {'n_estimators': 403, 'num_leaves': 31, 'learning_rate': 0.005118884305812623, 'min_data_in_leaf': 23, 'min_gain_to_split': 0.5028421907214918, 'feature_fraction': 0.6440468292651619, 'bagging_fraction': 0.7124294468426347, 'bagging_freq': 4, 'max_bin': 221}. Best is trial 10 with value: 101215333.33333334.\n",
      "[I 2024-11-19 16:53:20,238] Trial 58 finished with value: 99474666.66666667 and parameters: {'n_estimators': 317, 'num_leaves': 48, 'learning_rate': 0.010110687193157991, 'min_data_in_leaf': 42, 'min_gain_to_split': 0.5674731561832809, 'feature_fraction': 0.6581949369771379, 'bagging_fraction': 0.6656337919776572, 'bagging_freq': 3, 'max_bin': 175}. Best is trial 10 with value: 101215333.33333334.\n",
      "[I 2024-11-19 16:54:47,417] Trial 59 finished with value: 95354000.00000001 and parameters: {'n_estimators': 296, 'num_leaves': 68, 'learning_rate': 0.010683347192773186, 'min_data_in_leaf': 43, 'min_gain_to_split': 0.7934961553658094, 'feature_fraction': 0.7013706655660813, 'bagging_fraction': 0.6657217873202999, 'bagging_freq': 7, 'max_bin': 144}. Best is trial 10 with value: 101215333.33333334.\n",
      "[I 2024-11-19 16:55:46,204] Trial 60 finished with value: 97421333.33333334 and parameters: {'n_estimators': 352, 'num_leaves': 50, 'learning_rate': 0.013704919915879878, 'min_data_in_leaf': 46, 'min_gain_to_split': 0.6820471877783696, 'feature_fraction': 0.7283133636344076, 'bagging_fraction': 0.6378475678676168, 'bagging_freq': 2, 'max_bin': 120}. Best is trial 10 with value: 101215333.33333334.\n",
      "[I 2024-11-19 16:56:55,538] Trial 61 finished with value: 95680666.66666667 and parameters: {'n_estimators': 92, 'num_leaves': 58, 'learning_rate': 0.007797578655214025, 'min_data_in_leaf': 35, 'min_gain_to_split': 0.5879799193488854, 'feature_fraction': 0.6585235517032858, 'bagging_fraction': 0.699434967741808, 'bagging_freq': 3, 'max_bin': 175}. Best is trial 10 with value: 101215333.33333334.\n",
      "[I 2024-11-19 16:58:06,477] Trial 62 finished with value: 97682666.66666667 and parameters: {'n_estimators': 386, 'num_leaves': 48, 'learning_rate': 0.008693854018643369, 'min_data_in_leaf': 26, 'min_gain_to_split': 0.5440317918325877, 'feature_fraction': 0.6670371007318143, 'bagging_fraction': 0.6807252252894759, 'bagging_freq': 3, 'max_bin': 185}. Best is trial 10 with value: 101215333.33333334.\n",
      "[I 2024-11-19 16:58:57,459] Trial 63 finished with value: 94654000.00000003 and parameters: {'n_estimators': 317, 'num_leaves': 35, 'learning_rate': 0.0290567711834577, 'min_data_in_leaf': 39, 'min_gain_to_split': 0.6281289154998121, 'feature_fraction': 0.6293883404958689, 'bagging_fraction': 0.6508375522610256, 'bagging_freq': 4, 'max_bin': 165}. Best is trial 10 with value: 101215333.33333334.\n",
      "[I 2024-11-19 17:00:01,091] Trial 64 finished with value: 97080666.66666667 and parameters: {'n_estimators': 278, 'num_leaves': 46, 'learning_rate': 0.012937479409319868, 'min_data_in_leaf': 23, 'min_gain_to_split': 0.06016979386974937, 'feature_fraction': 0.6903975151186857, 'bagging_fraction': 0.6092881519586159, 'bagging_freq': 3, 'max_bin': 170}. Best is trial 10 with value: 101215333.33333334.\n",
      "[I 2024-11-19 17:01:04,352] Trial 65 finished with value: 96254666.66666667 and parameters: {'n_estimators': 72, 'num_leaves': 59, 'learning_rate': 0.010365987607382651, 'min_data_in_leaf': 30, 'min_gain_to_split': 0.5230623863030063, 'feature_fraction': 0.6117986862734686, 'bagging_fraction': 0.7197604634055119, 'bagging_freq': 4, 'max_bin': 133}. Best is trial 10 with value: 101215333.33333334.\n",
      "[I 2024-11-19 17:02:01,940] Trial 66 finished with value: 93361333.33333334 and parameters: {'n_estimators': 312, 'num_leaves': 38, 'learning_rate': 0.0033790595779958554, 'min_data_in_leaf': 75, 'min_gain_to_split': 0.5627036518565276, 'feature_fraction': 0.6391147917221545, 'bagging_fraction': 0.625629363169988, 'bagging_freq': 4, 'max_bin': 194}. Best is trial 10 with value: 101215333.33333334.\n",
      "[I 2024-11-19 17:03:30,094] Trial 67 finished with value: 73985333.33333334 and parameters: {'n_estimators': 337, 'num_leaves': 251, 'learning_rate': 0.01904160044328367, 'min_data_in_leaf': 34, 'min_gain_to_split': 0.46896402205741294, 'feature_fraction': 0.5863307659443793, 'bagging_fraction': 0.8851003537863462, 'bagging_freq': 2, 'max_bin': 214}. Best is trial 10 with value: 101215333.33333334.\n",
      "[I 2024-11-19 17:04:41,520] Trial 68 finished with value: 91098000.0 and parameters: {'n_estimators': 148, 'num_leaves': 76, 'learning_rate': 0.005537893939820102, 'min_data_in_leaf': 20, 'min_gain_to_split': 0.29093220020586763, 'feature_fraction': 0.678040705070582, 'bagging_fraction': 0.6461887289046592, 'bagging_freq': 3, 'max_bin': 176}. Best is trial 10 with value: 101215333.33333334.\n",
      "[I 2024-11-19 17:05:36,648] Trial 69 finished with value: 92386000.00000001 and parameters: {'n_estimators': 109, 'num_leaves': 45, 'learning_rate': 0.026299974463645914, 'min_data_in_leaf': 27, 'min_gain_to_split': 0.4163214791877576, 'feature_fraction': 0.6507968432036368, 'bagging_fraction': 0.6661616909179922, 'bagging_freq': 5, 'max_bin': 156}. Best is trial 10 with value: 101215333.33333334.\n",
      "[I 2024-11-19 17:06:42,870] Trial 70 finished with value: 82124000.0 and parameters: {'n_estimators': 496, 'num_leaves': 107, 'learning_rate': 0.03902134915983276, 'min_data_in_leaf': 22, 'min_gain_to_split': 0.6703896588468066, 'feature_fraction': 0.6308149246145283, 'bagging_fraction': 0.8582442168732902, 'bagging_freq': 3, 'max_bin': 138}. Best is trial 10 with value: 101215333.33333334.\n",
      "[I 2024-11-19 17:07:42,925] Trial 71 finished with value: 99325333.33333334 and parameters: {'n_estimators': 365, 'num_leaves': 50, 'learning_rate': 0.009238505212057336, 'min_data_in_leaf': 25, 'min_gain_to_split': 0.5608301878198667, 'feature_fraction': 0.6667790106973434, 'bagging_fraction': 0.6852737499082572, 'bagging_freq': 3, 'max_bin': 183}. Best is trial 10 with value: 101215333.33333334.\n",
      "[I 2024-11-19 17:08:46,446] Trial 72 finished with value: 94976000.00000001 and parameters: {'n_estimators': 371, 'num_leaves': 56, 'learning_rate': 0.014300536797512803, 'min_data_in_leaf': 26, 'min_gain_to_split': 0.6138993865539346, 'feature_fraction': 0.6848462752183392, 'bagging_fraction': 0.6939556646796474, 'bagging_freq': 3, 'max_bin': 202}. Best is trial 10 with value: 101215333.33333334.\n",
      "[I 2024-11-19 17:09:43,235] Trial 73 finished with value: 97155333.33333334 and parameters: {'n_estimators': 404, 'num_leaves': 37, 'learning_rate': 0.006903927544802904, 'min_data_in_leaf': 30, 'min_gain_to_split': 0.5685740400045156, 'feature_fraction': 0.6640641450515324, 'bagging_fraction': 0.705960064218945, 'bagging_freq': 2, 'max_bin': 182}. Best is trial 10 with value: 101215333.33333334.\n",
      "[I 2024-11-19 17:10:58,078] Trial 74 finished with value: 93818666.66666667 and parameters: {'n_estimators': 346, 'num_leaves': 67, 'learning_rate': 0.00976923353961614, 'min_data_in_leaf': 24, 'min_gain_to_split': 0.5015997552142131, 'feature_fraction': 0.706142482979138, 'bagging_fraction': 0.6880672541895039, 'bagging_freq': 3, 'max_bin': 163}. Best is trial 10 with value: 101215333.33333334.\n",
      "[I 2024-11-19 17:11:54,584] Trial 75 finished with value: 101327333.33333334 and parameters: {'n_estimators': 250, 'num_leaves': 45, 'learning_rate': 0.012350169253943786, 'min_data_in_leaf': 33, 'min_gain_to_split': 0.9213018688936937, 'feature_fraction': 0.611089538550811, 'bagging_fraction': 0.74831411387316, 'bagging_freq': 4, 'max_bin': 148}. Best is trial 75 with value: 101327333.33333334.\n",
      "[I 2024-11-19 17:12:58,814] Trial 76 finished with value: 93403333.33333334 and parameters: {'n_estimators': 325, 'num_leaves': 48, 'learning_rate': 0.004248234517200984, 'min_data_in_leaf': 37, 'min_gain_to_split': 0.9406858841728052, 'feature_fraction': 0.6447281127060733, 'bagging_fraction': 0.7434687892103203, 'bagging_freq': 3, 'max_bin': 129}. Best is trial 75 with value: 101327333.33333334.\n",
      "[I 2024-11-19 17:13:57,107] Trial 77 finished with value: 98774666.66666667 and parameters: {'n_estimators': 283, 'num_leaves': 35, 'learning_rate': 0.011904909778882844, 'min_data_in_leaf': 31, 'min_gain_to_split': 0.8563281233560658, 'feature_fraction': 0.5988820612262971, 'bagging_fraction': 0.769420426459348, 'bagging_freq': 3, 'max_bin': 147}. Best is trial 75 with value: 101327333.33333334.\n",
      "[I 2024-11-19 17:15:14,831] Trial 78 finished with value: 87248000.00000001 and parameters: {'n_estimators': 237, 'num_leaves': 162, 'learning_rate': 0.008555824115455855, 'min_data_in_leaf': 33, 'min_gain_to_split': 0.9989804132675307, 'feature_fraction': 0.5955471796555856, 'bagging_fraction': 0.7959745479662389, 'bagging_freq': 2, 'max_bin': 147}. Best is trial 75 with value: 101327333.33333334.\n",
      "[I 2024-11-19 17:16:17,408] Trial 79 finished with value: 102391333.33333334 and parameters: {'n_estimators': 245, 'num_leaves': 32, 'learning_rate': 0.015330648196527527, 'min_data_in_leaf': 49, 'min_gain_to_split': 0.8515036056072753, 'feature_fraction': 0.5678735462867577, 'bagging_fraction': 0.8185743833451125, 'bagging_freq': 3, 'max_bin': 151}. Best is trial 79 with value: 102391333.33333334.\n",
      "[I 2024-11-19 17:17:04,964] Trial 80 finished with value: 102615333.33333334 and parameters: {'n_estimators': 246, 'num_leaves': 32, 'learning_rate': 0.015965482225980026, 'min_data_in_leaf': 50, 'min_gain_to_split': 0.853064441269767, 'feature_fraction': 0.5372491142847512, 'bagging_fraction': 0.8391102567537061, 'bagging_freq': 3, 'max_bin': 152}. Best is trial 80 with value: 102615333.33333334.\n",
      "[I 2024-11-19 17:18:05,442] Trial 81 finished with value: 102372666.66666667 and parameters: {'n_estimators': 241, 'num_leaves': 34, 'learning_rate': 0.015338567457257018, 'min_data_in_leaf': 49, 'min_gain_to_split': 0.8606866696050177, 'feature_fraction': 0.5008235967126902, 'bagging_fraction': 0.8219331743204735, 'bagging_freq': 3, 'max_bin': 142}. Best is trial 80 with value: 102615333.33333334.\n",
      "[I 2024-11-19 17:19:09,218] Trial 82 finished with value: 98742000.0 and parameters: {'n_estimators': 246, 'num_leaves': 31, 'learning_rate': 0.025356419555120545, 'min_data_in_leaf': 52, 'min_gain_to_split': 0.8568783292826876, 'feature_fraction': 0.5251150191720649, 'bagging_fraction': 0.8293578524885796, 'bagging_freq': 3, 'max_bin': 152}. Best is trial 80 with value: 102615333.33333334.\n",
      "[I 2024-11-19 17:20:08,314] Trial 83 finished with value: 98900666.66666667 and parameters: {'n_estimators': 208, 'num_leaves': 44, 'learning_rate': 0.015593169378730586, 'min_data_in_leaf': 49, 'min_gain_to_split': 0.8685147901751897, 'feature_fraction': 0.5490358957046888, 'bagging_fraction': 0.8407881429621391, 'bagging_freq': 3, 'max_bin': 139}. Best is trial 80 with value: 102615333.33333334.\n",
      "[I 2024-11-19 17:21:14,788] Trial 84 finished with value: 102321333.33333334 and parameters: {'n_estimators': 255, 'num_leaves': 35, 'learning_rate': 0.015392489412922995, 'min_data_in_leaf': 58, 'min_gain_to_split': 0.7674050408386281, 'feature_fraction': 0.501009549419476, 'bagging_fraction': 0.8723747512441549, 'bagging_freq': 3, 'max_bin': 159}. Best is trial 80 with value: 102615333.33333334.\n",
      "[I 2024-11-19 17:22:26,334] Trial 85 finished with value: 102811333.33333334 and parameters: {'n_estimators': 256, 'num_leaves': 37, 'learning_rate': 0.019705417599590425, 'min_data_in_leaf': 60, 'min_gain_to_split': 0.7542063172070039, 'feature_fraction': 0.5020429576814027, 'bagging_fraction': 0.8623805856452469, 'bagging_freq': 2, 'max_bin': 123}. Best is trial 85 with value: 102811333.33333334.\n",
      "[I 2024-11-19 17:23:33,389] Trial 86 finished with value: 99423333.33333334 and parameters: {'n_estimators': 261, 'num_leaves': 35, 'learning_rate': 0.019237328043872223, 'min_data_in_leaf': 60, 'min_gain_to_split': 0.7621657444989968, 'feature_fraction': 0.5072354717298962, 'bagging_fraction': 0.8999564066580803, 'bagging_freq': 2, 'max_bin': 124}. Best is trial 85 with value: 102811333.33333334.\n",
      "[I 2024-11-19 17:24:47,136] Trial 87 finished with value: 95512666.66666667 and parameters: {'n_estimators': 244, 'num_leaves': 41, 'learning_rate': 0.03439765558798754, 'min_data_in_leaf': 66, 'min_gain_to_split': 0.8936052289787467, 'feature_fraction': 0.52584665330491, 'bagging_fraction': 0.8581378988897588, 'bagging_freq': 2, 'max_bin': 160}. Best is trial 85 with value: 102811333.33333334.\n",
      "[I 2024-11-19 17:25:53,193] Trial 88 finished with value: 100142000.00000001 and parameters: {'n_estimators': 218, 'num_leaves': 31, 'learning_rate': 0.015869808120472364, 'min_data_in_leaf': 54, 'min_gain_to_split': 0.8149142937913773, 'feature_fraction': 0.5044794315306538, 'bagging_fraction': 0.8058041506788441, 'bagging_freq': 1, 'max_bin': 109}. Best is trial 85 with value: 102811333.33333334.\n",
      "[I 2024-11-19 17:27:00,868] Trial 89 finished with value: 89828666.66666669 and parameters: {'n_estimators': 214, 'num_leaves': 134, 'learning_rate': 0.015102220291075516, 'min_data_in_leaf': 57, 'min_gain_to_split': 0.8225415946291428, 'feature_fraction': 0.5033041006964958, 'bagging_fraction': 0.8048284126375301, 'bagging_freq': 1, 'max_bin': 99}. Best is trial 85 with value: 102811333.33333334.\n",
      "[I 2024-11-19 17:28:05,612] Trial 90 finished with value: 98462000.00000001 and parameters: {'n_estimators': 268, 'num_leaves': 43, 'learning_rate': 0.020067097899937686, 'min_data_in_leaf': 52, 'min_gain_to_split': 0.8276375987784944, 'feature_fraction': 0.5280925254874392, 'bagging_fraction': 0.8380091049218213, 'bagging_freq': 1, 'max_bin': 104}. Best is trial 85 with value: 102811333.33333334.\n",
      "[I 2024-11-19 17:29:06,955] Trial 91 finished with value: 98541333.33333334 and parameters: {'n_estimators': 250, 'num_leaves': 32, 'learning_rate': 0.022720249795553198, 'min_data_in_leaf': 64, 'min_gain_to_split': 0.9203903671269296, 'feature_fraction': 0.5373482446928489, 'bagging_fraction': 0.8164236131718302, 'bagging_freq': 1, 'max_bin': 134}. Best is trial 85 with value: 102811333.33333334.\n",
      "[I 2024-11-19 17:30:22,669] Trial 92 finished with value: 98466666.66666667 and parameters: {'n_estimators': 231, 'num_leaves': 36, 'learning_rate': 0.016395422921064034, 'min_data_in_leaf': 55, 'min_gain_to_split': 0.7585682364135965, 'feature_fraction': 0.5003661853230232, 'bagging_fraction': 0.8659319202889819, 'bagging_freq': 1, 'max_bin': 105}. Best is trial 85 with value: 102811333.33333334.\n",
      "[I 2024-11-19 17:31:20,271] Trial 93 finished with value: 101570000.0 and parameters: {'n_estimators': 208, 'num_leaves': 31, 'learning_rate': 0.012801161967947394, 'min_data_in_leaf': 62, 'min_gain_to_split': 0.8871182149976358, 'feature_fraction': 0.513803972680857, 'bagging_fraction': 0.8490433779933493, 'bagging_freq': 2, 'max_bin': 115}. Best is trial 85 with value: 102811333.33333334.\n",
      "[I 2024-11-19 17:32:20,900] Trial 94 finished with value: 101943333.33333334 and parameters: {'n_estimators': 184, 'num_leaves': 31, 'learning_rate': 0.013260885037168562, 'min_data_in_leaf': 62, 'min_gain_to_split': 0.8897835118570567, 'feature_fraction': 0.5166935451895741, 'bagging_fraction': 0.8427926843260682, 'bagging_freq': 2, 'max_bin': 119}. Best is trial 85 with value: 102811333.33333334.\n",
      "[I 2024-11-19 17:33:20,020] Trial 95 finished with value: 101808000.00000001 and parameters: {'n_estimators': 197, 'num_leaves': 43, 'learning_rate': 0.012379570682570925, 'min_data_in_leaf': 62, 'min_gain_to_split': 0.9684560857285456, 'feature_fraction': 0.5175540211818551, 'bagging_fraction': 0.8468842821204731, 'bagging_freq': 2, 'max_bin': 121}. Best is trial 85 with value: 102811333.33333334.\n",
      "[I 2024-11-19 17:34:20,713] Trial 96 finished with value: 100744000.0 and parameters: {'n_estimators': 174, 'num_leaves': 40, 'learning_rate': 0.013158693410474114, 'min_data_in_leaf': 70, 'min_gain_to_split': 0.9857589111032968, 'feature_fraction': 0.5574768636891321, 'bagging_fraction': 0.8480511372772832, 'bagging_freq': 2, 'max_bin': 121}. Best is trial 85 with value: 102811333.33333334.\n",
      "[I 2024-11-19 17:35:26,293] Trial 97 finished with value: 99115333.33333334 and parameters: {'n_estimators': 200, 'num_leaves': 62, 'learning_rate': 0.013119882131491551, 'min_data_in_leaf': 67, 'min_gain_to_split': 0.9588368863921163, 'feature_fraction': 0.5170537310458482, 'bagging_fraction': 0.8747878985038076, 'bagging_freq': 2, 'max_bin': 128}. Best is trial 85 with value: 102811333.33333334.\n",
      "[I 2024-11-19 17:36:39,951] Trial 98 finished with value: 99068666.66666667 and parameters: {'n_estimators': 206, 'num_leaves': 54, 'learning_rate': 0.019931136873710543, 'min_data_in_leaf': 62, 'min_gain_to_split': 0.9148739146965283, 'feature_fraction': 0.5362763451318886, 'bagging_fraction': 0.8247204985845586, 'bagging_freq': 2, 'max_bin': 94}. Best is trial 85 with value: 102811333.33333334.\n",
      "[I 2024-11-19 17:37:33,357] Trial 99 finished with value: 99437333.33333334 and parameters: {'n_estimators': 187, 'num_leaves': 41, 'learning_rate': 0.01180270846495734, 'min_data_in_leaf': 59, 'min_gain_to_split': 0.8856790003306427, 'feature_fraction': 0.5174592501763069, 'bagging_fraction': 0.8884223334847461, 'bagging_freq': 2, 'max_bin': 112}. Best is trial 85 with value: 102811333.33333334.\n"
     ]
    },
    {
     "name": "stdout",
     "output_type": "stream",
     "text": [
      "Mejores parámetros para lightgbm: {'n_estimators': 256, 'num_leaves': 37, 'learning_rate': 0.019705417599590425, 'min_data_in_leaf': 60, 'min_gain_to_split': 0.7542063172070039, 'feature_fraction': 0.5020429576814027, 'bagging_fraction': 0.8623805856452469, 'bagging_freq': 2, 'max_bin': 123}\n",
      "\n",
      "# Entrenando el mejor modelo con parámetros optimizados\n",
      "[LightGBM] [Warning] min_data_in_leaf is set=60, min_child_samples=20 will be ignored. Current value: min_data_in_leaf=60\n",
      "[LightGBM] [Warning] feature_fraction is set=0.5020429576814027, colsample_bytree=1.0 will be ignored. Current value: feature_fraction=0.5020429576814027\n",
      "[LightGBM] [Warning] min_gain_to_split is set=0.7542063172070039, min_split_gain=0.0 will be ignored. Current value: min_gain_to_split=0.7542063172070039\n",
      "[LightGBM] [Warning] bagging_fraction is set=0.8623805856452469, subsample=1.0 will be ignored. Current value: bagging_fraction=0.8623805856452469\n",
      "[LightGBM] [Warning] bagging_freq is set=2, subsample_freq=0 will be ignored. Current value: bagging_freq=2\n",
      "[LightGBM] [Warning] min_data_in_leaf is set=60, min_child_samples=20 will be ignored. Current value: min_data_in_leaf=60\n",
      "[LightGBM] [Warning] feature_fraction is set=0.5020429576814027, colsample_bytree=1.0 will be ignored. Current value: feature_fraction=0.5020429576814027\n",
      "[LightGBM] [Warning] min_gain_to_split is set=0.7542063172070039, min_split_gain=0.0 will be ignored. Current value: min_gain_to_split=0.7542063172070039\n",
      "[LightGBM] [Warning] bagging_fraction is set=0.8623805856452469, subsample=1.0 will be ignored. Current value: bagging_fraction=0.8623805856452469\n",
      "[LightGBM] [Warning] bagging_freq is set=2, subsample_freq=0 will be ignored. Current value: bagging_freq=2\n",
      "[LightGBM] [Info] Auto-choosing col-wise multi-threading, the overhead of testing was 0.192328 seconds.\n",
      "You can set `force_col_wise=true` to remove the overhead.\n",
      "[LightGBM] [Info] Total Bins 26687\n",
      "[LightGBM] [Info] Number of data points in the train set: 164876, number of used features: 402\n",
      "[LightGBM] [Info] Start training from score -5.201705\n",
      "[LightGBM] [Info] Start training from score -5.033804\n",
      "[LightGBM] [Info] Start training from score -0.012094\n",
      "\n",
      "# Comparando modelos\n"
     ]
    }
   ],
   "source": [
    "\n",
    "# Condiciones de la optimización\n",
    "s = 1\n",
    "prepro = 6 # data quality + data drifting\n",
    "fe = 6 # feature engineering conceptual 6 meses\n",
    "training = 6 # un mes de optimización\n",
    "\n",
    "print(\"### Corriendo pipeline con LightGBM ###\")\n",
    "# Inicializar el pipeline con 'lightgbm'\n",
    "pipeline_lgbm = ModelPipeline(data, semillas, model_type='lightgbm', seed=s, n_jobs=-1)\n",
    "\n",
    "del data\n",
    "\n",
    "X_train, y_train = pipeline_lgbm.def_xy(mes_train)\n",
    "\n",
    "# Identify columns with all NaN values\n",
    "cols_with_all_nan = X_train.columns[X_train.isna().all()]\n",
    "print(\"Columns with all NaN values:\", cols_with_all_nan.tolist())\n",
    "\n",
    "# Drop these columns\n",
    "X_train = X_train.drop(columns=cols_with_all_nan) # extra limpieza\n",
    "\n",
    "# Imputación de valores faltantes\n",
    "imp_median = SimpleImputer(missing_values=np.nan, strategy='median')\n",
    "X_train_imp = pd.DataFrame(imp_median.fit_transform(X_train), columns=X_train.columns)\n",
    "\n",
    "del X_train\n",
    "\n",
    "# Opcional: Codificar variables categóricas\n",
    "# LightGBM puede manejar variables categóricas directamente si se especifican\n",
    "# Si tus datos tienen variables categóricas, puedes identificarlas y especificarlas en el modelo\n",
    "categorical_features = [col for col in X_train_imp.columns if X_train_imp[col].dtype == 'object']\n",
    "\n",
    "# Convertir variables categóricas a 'category' dtype para LightGBM\n",
    "for col in categorical_features:\n",
    "    X_train_imp[col] = X_train_imp[col].astype('category')\n",
    "\n",
    "print(\"\\n# Entrenando el modelo base LightGBM\")\n",
    "pipeline_lgbm.train_base_model(X_train_imp, y_train)\n",
    "\n",
    "# Definir el almacenamiento para Optuna\n",
    "# storage_name = \"sqlite:///\" + db_path + \"optimization_lgbm.db\"\n",
    "storage_name = \"sqlite:///optimizacion/optimization_tree.db\"\n",
    "study_name = f\"exp_lgbm_pr{prepro}_fe{fe}_tr{training}\"\n",
    "\n",
    "print(\"\\n# Optimizando el modelo\")\n",
    "pipeline_lgbm.optimize_model(\n",
    "    X_train_imp, y_train,\n",
    "    storage_name=storage_name,\n",
    "    study_name=study_name,\n",
    "    optimize=False,  \n",
    "    n_trials=100\n",
    ")\n",
    "\n",
    "# Entrenar el mejor modelo con parámetros optimizados\n",
    "print(\"\\n# Entrenando el mejor modelo con parámetros optimizados\")\n",
    "pipeline_lgbm.train_best_model(X_train_imp, y_train)\n",
    "\n",
    "# Comparar modelos\n",
    "print(\"\\n# Comparando modelos\")\n",
    "results_base_lgbm_pr6_fe6_tr1, results_best_lgbm_pr6_fe6_tr1 = pipeline_lgbm.compare_models(X_train_imp, y_train)\n",
    "pipeline_lgbm.plot_comparisons(results_base_lgbm_pr6_fe6_tr1, results_best_lgbm_pr6_fe6_tr1)"
   ]
  },
  {
   "cell_type": "markdown",
   "metadata": {},
   "source": [
    "Exploring optimization"
   ]
  },
  {
   "cell_type": "code",
   "execution_count": null,
   "metadata": {},
   "outputs": [],
   "source": [
    "###"
   ]
  },
  {
   "cell_type": "markdown",
   "metadata": {},
   "source": [
    "___"
   ]
  }
 ],
 "metadata": {
  "colab": {
   "provenance": []
  },
  "kernelspec": {
   "display_name": "dm_eyf",
   "language": "python",
   "name": "python3"
  },
  "language_info": {
   "codemirror_mode": {
    "name": "ipython",
    "version": 3
   },
   "file_extension": ".py",
   "mimetype": "text/x-python",
   "name": "python",
   "nbconvert_exporter": "python",
   "pygments_lexer": "ipython3",
   "version": "3.11.10"
  }
 },
 "nbformat": 4,
 "nbformat_minor": 0
}
