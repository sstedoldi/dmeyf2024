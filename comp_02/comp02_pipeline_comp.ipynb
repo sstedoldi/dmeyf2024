{
 "cells": [
  {
   "cell_type": "markdown",
   "metadata": {
    "id": "HNoCqM1I5-le"
   },
   "source": [
    "# Comparando pipelines\n",
    "\n",
    "Incluye:\n",
    "\n",
    "- Comparación de modelos cantidatos\n",
    "- Elección del modelo opt\n",
    "- Comparación de modelo opt elegido según meses de entrenamiento"
   ]
  },
  {
   "cell_type": "code",
   "execution_count": 1,
   "metadata": {},
   "outputs": [
    {
     "name": "stdout",
     "output_type": "stream",
     "text": [
      "Requirement already satisfied: dask[dataframe] in c:\\users\\santt\\.conda\\envs\\dm_eyf\\lib\\site-packages (2024.11.2)\n",
      "Requirement already satisfied: click>=8.1 in c:\\users\\santt\\.conda\\envs\\dm_eyf\\lib\\site-packages (from dask[dataframe]) (8.1.7)\n",
      "Requirement already satisfied: cloudpickle>=3.0.0 in c:\\users\\santt\\.conda\\envs\\dm_eyf\\lib\\site-packages (from dask[dataframe]) (3.1.0)\n",
      "Requirement already satisfied: fsspec>=2021.09.0 in c:\\users\\santt\\.conda\\envs\\dm_eyf\\lib\\site-packages (from dask[dataframe]) (2024.9.0)\n",
      "Requirement already satisfied: packaging>=20.0 in c:\\users\\santt\\.conda\\envs\\dm_eyf\\lib\\site-packages (from dask[dataframe]) (24.1)\n",
      "Requirement already satisfied: partd>=1.4.0 in c:\\users\\santt\\.conda\\envs\\dm_eyf\\lib\\site-packages (from dask[dataframe]) (1.4.2)\n",
      "Requirement already satisfied: pyyaml>=5.3.1 in c:\\users\\santt\\.conda\\envs\\dm_eyf\\lib\\site-packages (from dask[dataframe]) (6.0.1)\n",
      "Requirement already satisfied: toolz>=0.10.0 in c:\\users\\santt\\.conda\\envs\\dm_eyf\\lib\\site-packages (from dask[dataframe]) (1.0.0)\n",
      "Requirement already satisfied: importlib-metadata>=4.13.0 in c:\\users\\santt\\.conda\\envs\\dm_eyf\\lib\\site-packages (from dask[dataframe]) (8.5.0)\n",
      "Requirement already satisfied: pandas>=2.0 in c:\\users\\santt\\.conda\\envs\\dm_eyf\\lib\\site-packages (from dask[dataframe]) (2.0.3)\n",
      "Requirement already satisfied: dask-expr<1.2,>=1.1 in c:\\users\\santt\\.conda\\envs\\dm_eyf\\lib\\site-packages (from dask[dataframe]) (1.1.19)\n",
      "Requirement already satisfied: colorama in c:\\users\\santt\\.conda\\envs\\dm_eyf\\lib\\site-packages (from click>=8.1->dask[dataframe]) (0.4.6)\n",
      "Requirement already satisfied: pyarrow>=14.0.1 in c:\\users\\santt\\.conda\\envs\\dm_eyf\\lib\\site-packages (from dask-expr<1.2,>=1.1->dask[dataframe]) (18.0.0)\n",
      "Requirement already satisfied: zipp>=3.20 in c:\\users\\santt\\.conda\\envs\\dm_eyf\\lib\\site-packages (from importlib-metadata>=4.13.0->dask[dataframe]) (3.21.0)\n",
      "Requirement already satisfied: python-dateutil>=2.8.2 in c:\\users\\santt\\.conda\\envs\\dm_eyf\\lib\\site-packages (from pandas>=2.0->dask[dataframe]) (2.9.0.post0)\n",
      "Requirement already satisfied: pytz>=2020.1 in c:\\users\\santt\\.conda\\envs\\dm_eyf\\lib\\site-packages (from pandas>=2.0->dask[dataframe]) (2024.1)\n",
      "Requirement already satisfied: tzdata>=2022.1 in c:\\users\\santt\\.conda\\envs\\dm_eyf\\lib\\site-packages (from pandas>=2.0->dask[dataframe]) (2023.3)\n",
      "Requirement already satisfied: numpy>=1.21.0 in c:\\users\\santt\\.conda\\envs\\dm_eyf\\lib\\site-packages (from pandas>=2.0->dask[dataframe]) (1.25.2)\n",
      "Requirement already satisfied: locket in c:\\users\\santt\\.conda\\envs\\dm_eyf\\lib\\site-packages (from partd>=1.4.0->dask[dataframe]) (1.0.0)\n",
      "Requirement already satisfied: six>=1.5 in c:\\users\\santt\\.conda\\envs\\dm_eyf\\lib\\site-packages (from python-dateutil>=2.8.2->pandas>=2.0->dask[dataframe]) (1.16.0)\n"
     ]
    }
   ],
   "source": [
    "!pip install dask[dataframe]"
   ]
  },
  {
   "cell_type": "code",
   "execution_count": 2,
   "metadata": {},
   "outputs": [],
   "source": [
    "# Librerias\n",
    "import os\n",
    "import pandas as pd\n",
    "import numpy as np\n",
    "\n",
    "#######\n",
    "# rutas\n",
    "# datasets\n",
    "from config import dataset_file_fe6_6pqt\n",
    "# optimizacion\n",
    "from config import db_path\n",
    "# modelos\n",
    "from config import modelos_path\n",
    "# predicciones\n",
    "from config import pred_path\n",
    "\n",
    "##########\n",
    "# pipeline\n",
    "from processing import ModelPipeline, plot_comparisons_on_kaggle_split\n",
    "from processing import analyze_study\n",
    "from sklearn.impute import SimpleImputer\n",
    "from sklearn.preprocessing import LabelEncoder\n",
    "import optuna\n",
    "import warnings\n",
    "\n",
    "# Ignorar advertencias de tipo UserWarning\n",
    "warnings.filterwarnings('ignore', category=UserWarning, module='pandas')\n",
    "warnings.filterwarnings('ignore', category=Warning, module='lightgbm')\n",
    "warnings.filterwarnings('ignore', category=UserWarning, module='lightgbm')\n",
    "warnings.filterwarnings('ignore', category=Warning, module='xgboost')\n",
    "warnings.filterwarnings('ignore', category=UserWarning, module='xgboost')\n"
   ]
  },
  {
   "cell_type": "markdown",
   "metadata": {},
   "source": [
    "Variables de train y test"
   ]
  },
  {
   "cell_type": "code",
   "execution_count": null,
   "metadata": {},
   "outputs": [],
   "source": [
    "ganancia_acierto = 273000\n",
    "costo_estimulo = 7000\n",
    "\n",
    "mes_train_all = [201901, 201902, 201903, 201904, 201905, 201906, 201907, 201908,\n",
    "                 201909, 201910, 201911, 201912, 202001, 202002, 202003, 202004,\n",
    "                 202005, 202006, 202007, 202008, 202009, 202010, 202011, 202012,\n",
    "                 202101, 202102, 202103, 202104, 202105, 202106]\n",
    "\n",
    "mes_train_ult_3_meses = [202104, 202105, 202106]\n",
    "\n",
    "mes_train_ult_4_meses = [202103, 202104, 202105, 202106]\n",
    "\n",
    "mes_train_ult_6_meses = [202101, 202102, 202103, 202104, 202105, 202106]\n",
    "\n",
    "mes_train_ult_9_meses = [202009, 202010, 202011, 202012, 202101, 202102, 202103, 202104, 202105, 202106]\n",
    "\n",
    "mes_train_ult_anio = [202006, 202007, 202008, 202009, 202010, 202011, 202012,\n",
    "                 202101, 202102, 202103, 202104, 202105, 202106]\n",
    "\n",
    "mes_train = [202106]\n",
    "mes_test = 202108\n",
    "\n",
    "threshold = 0.025\n",
    "# comp02_back-testing\n",
    "threshold_bt_mean = 0.015627\n",
    "threshold_bt_median = 0.014848\n",
    "\n",
    "semillas = [437809, 327347, 392879, 455783, 217163]"
   ]
  },
  {
   "cell_type": "markdown",
   "metadata": {},
   "source": [
    "## Loading data"
   ]
  },
  {
   "cell_type": "code",
   "execution_count": 4,
   "metadata": {},
   "outputs": [],
   "source": [
    "# data = pd.read_parquet(dataset_file_fe6_6pqt)\n",
    "\n",
    "# running local, con 6 meses para train\n",
    "data = pd.read_parquet(\"datos/datasets_competencia_02_fe6_6_6m_train.parquet\")\n",
    "\n",
    "# Mapear etiquetas de clase a números\n",
    "label_mapping = {'CONTINUA': 0, 'BAJA+1': 1, 'BAJA+2': 2}\n",
    "\n",
    "data['clase_ternaria'] = data['clase_ternaria'].map(label_mapping)\n",
    "\n",
    "# Simulación para Kaggle\n",
    "X_train = data[data['foto_mes'].isin([202101, 202102, 202103, 202104])]\n",
    "y_train = X_train['clase_ternaria']\n",
    "X_train = X_train.drop(columns=['clase_ternaria'])\n",
    "\n",
    "mes_futuro = 202106 # usado como test\n",
    "X_test = data[data['foto_mes'] == mes_futuro]\n",
    "y_test = X_test['clase_ternaria']\n",
    "X_test = X_test.drop(columns=['clase_ternaria'])\n",
    "\n",
    "del data"
   ]
  },
  {
   "cell_type": "markdown",
   "metadata": {},
   "source": [
    "Preprocesando data"
   ]
  },
  {
   "cell_type": "code",
   "execution_count": 5,
   "metadata": {},
   "outputs": [
    {
     "name": "stdout",
     "output_type": "stream",
     "text": [
      "Columns with all NaN values: ['payroll_slope_1_foto_mes', 'cuenta_corriente_slope_1_foto_mes', 'visa_consumo_slope_1_foto_mes', 'comisiones_mantenimiento_slope_1_foto_mes', 'comisiones_otras_slope_1_foto_mes']\n"
     ]
    }
   ],
   "source": [
    "# Imputacion de Xs\n",
    "cols_with_all_nan = X_train.columns[X_train.isna().all()].tolist()\n",
    "print(\"Columns with all NaN values:\", cols_with_all_nan)\n",
    "X_train = X_train.drop(columns=cols_with_all_nan)\n",
    "X_test = X_test.drop(columns=cols_with_all_nan)\n",
    "\n",
    "# Imputación de nulls\n",
    "imp_median = SimpleImputer(missing_values=np.nan, strategy='median')\n",
    "X_train_imp = pd.DataFrame(imp_median.fit_transform(X_train), columns=X_train.columns)\n",
    "X_test_imp = pd.DataFrame(imp_median.transform(X_test), columns=X_train.columns)\n",
    "\n",
    "del X_train\n",
    "del X_test\n",
    "\n",
    "# Codificar variables categóricas\n",
    "categorical_features = [col for col in X_train_imp.columns if X_train_imp[col].dtype == 'object']\n",
    "\n",
    "# Convertir variables categóricas a 'category' dtype para LightGBM\n",
    "for col in categorical_features:\n",
    "    X_train_imp[col] = X_train_imp[col].astype('category')\n",
    "    X_test_imp[col] = X_test_imp[col].astype('category')"
   ]
  },
  {
   "cell_type": "markdown",
   "metadata": {},
   "source": [
    "## Modelos candidatos"
   ]
  },
  {
   "cell_type": "markdown",
   "metadata": {},
   "source": [
    "> lightgbm prepro6 fe6 y 3 opt (local opt)\n",
    "\n",
    "> xgboost prepro6 fe6 y 3 opt (local opt)"
   ]
  },
  {
   "cell_type": "markdown",
   "metadata": {},
   "source": [
    "### lightgbm prepro6 fe6 y 3 opt (local opt) \n",
    "\n",
    "**Prepro in 6 months and Conceptual FE 6 months**\n",
    "\n",
    "comp02_prepro_6.ipynb\n",
    "\n",
    "comp02_fe6_6.ipynb\n",
    "\n",
    "**Usando los últimos 3 meses para optimizar**"
   ]
  },
  {
   "cell_type": "code",
   "execution_count": null,
   "metadata": {},
   "outputs": [
    {
     "name": "stdout",
     "output_type": "stream",
     "text": [
      "### Corriendo pipeline con LightGBM ###\n",
      "\n",
      "# Entrenando el modelo base LightGBM\n",
      "[LightGBM] [Info] Auto-choosing col-wise multi-threading, the overhead of testing was 0.623966 seconds.\n",
      "You can set `force_col_wise=true` to remove the overhead.\n",
      "[LightGBM] [Info] Total Bins 50980\n",
      "[LightGBM] [Info] Number of data points in the train set: 652447, number of used features: 405\n",
      "[LightGBM] [Info] Start training from score -0.011397\n",
      "[LightGBM] [Info] Start training from score -5.250505\n",
      "[LightGBM] [Info] Start training from score -5.101460\n",
      "\n",
      "# Evaluando el modelo base en el conjunto de prueba\n"
     ]
    },
    {
     "name": "stderr",
     "output_type": "stream",
     "text": [
      "[I 2024-11-20 16:36:57,994] Using an existing study with name 'exp_lgbm_pr6_fe6_tr3_x' instead of creating a new one.\n"
     ]
    },
    {
     "name": "stdout",
     "output_type": "stream",
     "text": [
      "Ganancia del modelo en el conjunto de test: 63308000.0\n",
      "\n",
      "# Optimizando el modelo\n",
      "Mejores parámetros para lightgbm: {'n_estimators': 466, 'num_leaves': 57, 'learning_rate': 0.024563319625208798, 'min_data_in_leaf': 100, 'min_gain_to_split': 0.011030284732349089, 'feature_fraction': 0.5157056981996073, 'bagging_fraction': 0.8424259086760796, 'bagging_freq': 2, 'max_bin': 97}\n",
      "\n",
      "# Entrenando el mejor modelo con parámetros optimizados\n",
      "[LightGBM] [Warning] min_data_in_leaf is set=100, min_child_samples=20 will be ignored. Current value: min_data_in_leaf=100\n",
      "[LightGBM] [Warning] feature_fraction is set=0.5157056981996073, colsample_bytree=1.0 will be ignored. Current value: feature_fraction=0.5157056981996073\n",
      "[LightGBM] [Warning] min_gain_to_split is set=0.011030284732349089, min_split_gain=0.0 will be ignored. Current value: min_gain_to_split=0.011030284732349089\n",
      "[LightGBM] [Warning] bagging_fraction is set=0.8424259086760796, subsample=1.0 will be ignored. Current value: bagging_fraction=0.8424259086760796\n",
      "[LightGBM] [Warning] bagging_freq is set=2, subsample_freq=0 will be ignored. Current value: bagging_freq=2\n",
      "[LightGBM] [Warning] min_data_in_leaf is set=100, min_child_samples=20 will be ignored. Current value: min_data_in_leaf=100\n",
      "[LightGBM] [Warning] feature_fraction is set=0.5157056981996073, colsample_bytree=1.0 will be ignored. Current value: feature_fraction=0.5157056981996073\n",
      "[LightGBM] [Warning] min_gain_to_split is set=0.011030284732349089, min_split_gain=0.0 will be ignored. Current value: min_gain_to_split=0.011030284732349089\n",
      "[LightGBM] [Warning] bagging_fraction is set=0.8424259086760796, subsample=1.0 will be ignored. Current value: bagging_fraction=0.8424259086760796\n",
      "[LightGBM] [Warning] bagging_freq is set=2, subsample_freq=0 will be ignored. Current value: bagging_freq=2\n",
      "[LightGBM] [Info] Auto-choosing col-wise multi-threading, the overhead of testing was 0.609476 seconds.\n",
      "You can set `force_col_wise=true` to remove the overhead.\n",
      "[LightGBM] [Info] Total Bins 22201\n",
      "[LightGBM] [Info] Number of data points in the train set: 652447, number of used features: 403\n",
      "[LightGBM] [Info] Start training from score -0.011397\n",
      "[LightGBM] [Info] Start training from score -5.250505\n",
      "[LightGBM] [Info] Start training from score -5.101460\n",
      "\n",
      "# Evaluando el mejor modelo en el conjunto de prueba\n",
      "[LightGBM] [Warning] min_data_in_leaf is set=100, min_child_samples=20 will be ignored. Current value: min_data_in_leaf=100\n",
      "[LightGBM] [Warning] feature_fraction is set=0.5157056981996073, colsample_bytree=1.0 will be ignored. Current value: feature_fraction=0.5157056981996073\n",
      "[LightGBM] [Warning] min_gain_to_split is set=0.011030284732349089, min_split_gain=0.0 will be ignored. Current value: min_gain_to_split=0.011030284732349089\n",
      "[LightGBM] [Warning] bagging_fraction is set=0.8424259086760796, subsample=1.0 will be ignored. Current value: bagging_fraction=0.8424259086760796\n",
      "[LightGBM] [Warning] bagging_freq is set=2, subsample_freq=0 will be ignored. Current value: bagging_freq=2\n",
      "Ganancia del modelo en el conjunto de test: 81263000.0\n",
      "\n",
      "# Simulando el split Kaggle y comparando modelos\n",
      "[LightGBM] [Warning] min_data_in_leaf is set=100, min_child_samples=20 will be ignored. Current value: min_data_in_leaf=100\n",
      "[LightGBM] [Warning] feature_fraction is set=0.5157056981996073, colsample_bytree=1.0 will be ignored. Current value: feature_fraction=0.5157056981996073\n",
      "[LightGBM] [Warning] min_gain_to_split is set=0.011030284732349089, min_split_gain=0.0 will be ignored. Current value: min_gain_to_split=0.011030284732349089\n",
      "[LightGBM] [Warning] bagging_fraction is set=0.8424259086760796, subsample=1.0 will be ignored. Current value: bagging_fraction=0.8424259086760796\n",
      "[LightGBM] [Warning] bagging_freq is set=2, subsample_freq=0 will be ignored. Current value: bagging_freq=2\n",
      "[LightGBM] [Warning] min_data_in_leaf is set=100, min_child_samples=20 will be ignored. Current value: min_data_in_leaf=100\n",
      "[LightGBM] [Warning] feature_fraction is set=0.5157056981996073, colsample_bytree=1.0 will be ignored. Current value: feature_fraction=0.5157056981996073\n",
      "[LightGBM] [Warning] min_gain_to_split is set=0.011030284732349089, min_split_gain=0.0 will be ignored. Current value: min_gain_to_split=0.011030284732349089\n",
      "[LightGBM] [Warning] bagging_fraction is set=0.8424259086760796, subsample=1.0 will be ignored. Current value: bagging_fraction=0.8424259086760796\n",
      "[LightGBM] [Warning] bagging_freq is set=2, subsample_freq=0 will be ignored. Current value: bagging_freq=2\n",
      "[LightGBM] [Warning] min_data_in_leaf is set=100, min_child_samples=20 will be ignored. Current value: min_data_in_leaf=100\n",
      "[LightGBM] [Warning] feature_fraction is set=0.5157056981996073, colsample_bytree=1.0 will be ignored. Current value: feature_fraction=0.5157056981996073\n",
      "[LightGBM] [Warning] min_gain_to_split is set=0.011030284732349089, min_split_gain=0.0 will be ignored. Current value: min_gain_to_split=0.011030284732349089\n",
      "[LightGBM] [Warning] bagging_fraction is set=0.8424259086760796, subsample=1.0 will be ignored. Current value: bagging_fraction=0.8424259086760796\n",
      "[LightGBM] [Warning] bagging_freq is set=2, subsample_freq=0 will be ignored. Current value: bagging_freq=2\n",
      "[LightGBM] [Warning] min_data_in_leaf is set=100, min_child_samples=20 will be ignored. Current value: min_data_in_leaf=100\n",
      "[LightGBM] [Warning] feature_fraction is set=0.5157056981996073, colsample_bytree=1.0 will be ignored. Current value: feature_fraction=0.5157056981996073\n",
      "[LightGBM] [Warning] min_gain_to_split is set=0.011030284732349089, min_split_gain=0.0 will be ignored. Current value: min_gain_to_split=0.011030284732349089\n",
      "[LightGBM] [Warning] bagging_fraction is set=0.8424259086760796, subsample=1.0 will be ignored. Current value: bagging_fraction=0.8424259086760796\n",
      "[LightGBM] [Warning] bagging_freq is set=2, subsample_freq=0 will be ignored. Current value: bagging_freq=2\n",
      "[LightGBM] [Warning] min_data_in_leaf is set=100, min_child_samples=20 will be ignored. Current value: min_data_in_leaf=100\n",
      "[LightGBM] [Warning] feature_fraction is set=0.5157056981996073, colsample_bytree=1.0 will be ignored. Current value: feature_fraction=0.5157056981996073\n",
      "[LightGBM] [Warning] min_gain_to_split is set=0.011030284732349089, min_split_gain=0.0 will be ignored. Current value: min_gain_to_split=0.011030284732349089\n",
      "[LightGBM] [Warning] bagging_fraction is set=0.8424259086760796, subsample=1.0 will be ignored. Current value: bagging_fraction=0.8424259086760796\n",
      "[LightGBM] [Warning] bagging_freq is set=2, subsample_freq=0 will be ignored. Current value: bagging_freq=2\n",
      "[LightGBM] [Warning] min_data_in_leaf is set=100, min_child_samples=20 will be ignored. Current value: min_data_in_leaf=100\n",
      "[LightGBM] [Warning] feature_fraction is set=0.5157056981996073, colsample_bytree=1.0 will be ignored. Current value: feature_fraction=0.5157056981996073\n",
      "[LightGBM] [Warning] min_gain_to_split is set=0.011030284732349089, min_split_gain=0.0 will be ignored. Current value: min_gain_to_split=0.011030284732349089\n",
      "[LightGBM] [Warning] bagging_fraction is set=0.8424259086760796, subsample=1.0 will be ignored. Current value: bagging_fraction=0.8424259086760796\n",
      "[LightGBM] [Warning] bagging_freq is set=2, subsample_freq=0 will be ignored. Current value: bagging_freq=2\n",
      "[LightGBM] [Warning] min_data_in_leaf is set=100, min_child_samples=20 will be ignored. Current value: min_data_in_leaf=100\n",
      "[LightGBM] [Warning] feature_fraction is set=0.5157056981996073, colsample_bytree=1.0 will be ignored. Current value: feature_fraction=0.5157056981996073\n",
      "[LightGBM] [Warning] min_gain_to_split is set=0.011030284732349089, min_split_gain=0.0 will be ignored. Current value: min_gain_to_split=0.011030284732349089\n",
      "[LightGBM] [Warning] bagging_fraction is set=0.8424259086760796, subsample=1.0 will be ignored. Current value: bagging_fraction=0.8424259086760796\n",
      "[LightGBM] [Warning] bagging_freq is set=2, subsample_freq=0 will be ignored. Current value: bagging_freq=2\n",
      "[LightGBM] [Warning] min_data_in_leaf is set=100, min_child_samples=20 will be ignored. Current value: min_data_in_leaf=100\n",
      "[LightGBM] [Warning] feature_fraction is set=0.5157056981996073, colsample_bytree=1.0 will be ignored. Current value: feature_fraction=0.5157056981996073\n",
      "[LightGBM] [Warning] min_gain_to_split is set=0.011030284732349089, min_split_gain=0.0 will be ignored. Current value: min_gain_to_split=0.011030284732349089\n",
      "[LightGBM] [Warning] bagging_fraction is set=0.8424259086760796, subsample=1.0 will be ignored. Current value: bagging_fraction=0.8424259086760796\n",
      "[LightGBM] [Warning] bagging_freq is set=2, subsample_freq=0 will be ignored. Current value: bagging_freq=2\n",
      "[LightGBM] [Warning] min_data_in_leaf is set=100, min_child_samples=20 will be ignored. Current value: min_data_in_leaf=100\n",
      "[LightGBM] [Warning] feature_fraction is set=0.5157056981996073, colsample_bytree=1.0 will be ignored. Current value: feature_fraction=0.5157056981996073\n",
      "[LightGBM] [Warning] min_gain_to_split is set=0.011030284732349089, min_split_gain=0.0 will be ignored. Current value: min_gain_to_split=0.011030284732349089\n",
      "[LightGBM] [Warning] bagging_fraction is set=0.8424259086760796, subsample=1.0 will be ignored. Current value: bagging_fraction=0.8424259086760796\n",
      "[LightGBM] [Warning] bagging_freq is set=2, subsample_freq=0 will be ignored. Current value: bagging_freq=2\n",
      "[LightGBM] [Warning] min_data_in_leaf is set=100, min_child_samples=20 will be ignored. Current value: min_data_in_leaf=100\n",
      "[LightGBM] [Warning] feature_fraction is set=0.5157056981996073, colsample_bytree=1.0 will be ignored. Current value: feature_fraction=0.5157056981996073\n",
      "[LightGBM] [Warning] min_gain_to_split is set=0.011030284732349089, min_split_gain=0.0 will be ignored. Current value: min_gain_to_split=0.011030284732349089\n",
      "[LightGBM] [Warning] bagging_fraction is set=0.8424259086760796, subsample=1.0 will be ignored. Current value: bagging_fraction=0.8424259086760796\n",
      "[LightGBM] [Warning] bagging_freq is set=2, subsample_freq=0 will be ignored. Current value: bagging_freq=2\n",
      "[LightGBM] [Warning] min_data_in_leaf is set=100, min_child_samples=20 will be ignored. Current value: min_data_in_leaf=100\n",
      "[LightGBM] [Warning] feature_fraction is set=0.5157056981996073, colsample_bytree=1.0 will be ignored. Current value: feature_fraction=0.5157056981996073\n",
      "[LightGBM] [Warning] min_gain_to_split is set=0.011030284732349089, min_split_gain=0.0 will be ignored. Current value: min_gain_to_split=0.011030284732349089\n",
      "[LightGBM] [Warning] bagging_fraction is set=0.8424259086760796, subsample=1.0 will be ignored. Current value: bagging_fraction=0.8424259086760796\n",
      "[LightGBM] [Warning] bagging_freq is set=2, subsample_freq=0 will be ignored. Current value: bagging_freq=2\n",
      "[LightGBM] [Warning] min_data_in_leaf is set=100, min_child_samples=20 will be ignored. Current value: min_data_in_leaf=100\n",
      "[LightGBM] [Warning] feature_fraction is set=0.5157056981996073, colsample_bytree=1.0 will be ignored. Current value: feature_fraction=0.5157056981996073\n",
      "[LightGBM] [Warning] min_gain_to_split is set=0.011030284732349089, min_split_gain=0.0 will be ignored. Current value: min_gain_to_split=0.011030284732349089\n",
      "[LightGBM] [Warning] bagging_fraction is set=0.8424259086760796, subsample=1.0 will be ignored. Current value: bagging_fraction=0.8424259086760796\n",
      "[LightGBM] [Warning] bagging_freq is set=2, subsample_freq=0 will be ignored. Current value: bagging_freq=2\n",
      "[LightGBM] [Warning] min_data_in_leaf is set=100, min_child_samples=20 will be ignored. Current value: min_data_in_leaf=100\n",
      "[LightGBM] [Warning] feature_fraction is set=0.5157056981996073, colsample_bytree=1.0 will be ignored. Current value: feature_fraction=0.5157056981996073\n",
      "[LightGBM] [Warning] min_gain_to_split is set=0.011030284732349089, min_split_gain=0.0 will be ignored. Current value: min_gain_to_split=0.011030284732349089\n",
      "[LightGBM] [Warning] bagging_fraction is set=0.8424259086760796, subsample=1.0 will be ignored. Current value: bagging_fraction=0.8424259086760796\n",
      "[LightGBM] [Warning] bagging_freq is set=2, subsample_freq=0 will be ignored. Current value: bagging_freq=2\n",
      "[LightGBM] [Warning] min_data_in_leaf is set=100, min_child_samples=20 will be ignored. Current value: min_data_in_leaf=100\n",
      "[LightGBM] [Warning] feature_fraction is set=0.5157056981996073, colsample_bytree=1.0 will be ignored. Current value: feature_fraction=0.5157056981996073\n",
      "[LightGBM] [Warning] min_gain_to_split is set=0.011030284732349089, min_split_gain=0.0 will be ignored. Current value: min_gain_to_split=0.011030284732349089\n",
      "[LightGBM] [Warning] bagging_fraction is set=0.8424259086760796, subsample=1.0 will be ignored. Current value: bagging_fraction=0.8424259086760796\n",
      "[LightGBM] [Warning] bagging_freq is set=2, subsample_freq=0 will be ignored. Current value: bagging_freq=2\n",
      "[LightGBM] [Warning] min_data_in_leaf is set=100, min_child_samples=20 will be ignored. Current value: min_data_in_leaf=100\n",
      "[LightGBM] [Warning] feature_fraction is set=0.5157056981996073, colsample_bytree=1.0 will be ignored. Current value: feature_fraction=0.5157056981996073\n",
      "[LightGBM] [Warning] min_gain_to_split is set=0.011030284732349089, min_split_gain=0.0 will be ignored. Current value: min_gain_to_split=0.011030284732349089\n",
      "[LightGBM] [Warning] bagging_fraction is set=0.8424259086760796, subsample=1.0 will be ignored. Current value: bagging_fraction=0.8424259086760796\n",
      "[LightGBM] [Warning] bagging_freq is set=2, subsample_freq=0 will be ignored. Current value: bagging_freq=2\n",
      "[LightGBM] [Warning] min_data_in_leaf is set=100, min_child_samples=20 will be ignored. Current value: min_data_in_leaf=100\n",
      "[LightGBM] [Warning] feature_fraction is set=0.5157056981996073, colsample_bytree=1.0 will be ignored. Current value: feature_fraction=0.5157056981996073\n",
      "[LightGBM] [Warning] min_gain_to_split is set=0.011030284732349089, min_split_gain=0.0 will be ignored. Current value: min_gain_to_split=0.011030284732349089\n",
      "[LightGBM] [Warning] bagging_fraction is set=0.8424259086760796, subsample=1.0 will be ignored. Current value: bagging_fraction=0.8424259086760796\n",
      "[LightGBM] [Warning] bagging_freq is set=2, subsample_freq=0 will be ignored. Current value: bagging_freq=2\n",
      "[LightGBM] [Warning] min_data_in_leaf is set=100, min_child_samples=20 will be ignored. Current value: min_data_in_leaf=100\n",
      "[LightGBM] [Warning] feature_fraction is set=0.5157056981996073, colsample_bytree=1.0 will be ignored. Current value: feature_fraction=0.5157056981996073\n",
      "[LightGBM] [Warning] min_gain_to_split is set=0.011030284732349089, min_split_gain=0.0 will be ignored. Current value: min_gain_to_split=0.011030284732349089\n",
      "[LightGBM] [Warning] bagging_fraction is set=0.8424259086760796, subsample=1.0 will be ignored. Current value: bagging_fraction=0.8424259086760796\n",
      "[LightGBM] [Warning] bagging_freq is set=2, subsample_freq=0 will be ignored. Current value: bagging_freq=2\n",
      "[LightGBM] [Warning] min_data_in_leaf is set=100, min_child_samples=20 will be ignored. Current value: min_data_in_leaf=100\n",
      "[LightGBM] [Warning] feature_fraction is set=0.5157056981996073, colsample_bytree=1.0 will be ignored. Current value: feature_fraction=0.5157056981996073\n",
      "[LightGBM] [Warning] min_gain_to_split is set=0.011030284732349089, min_split_gain=0.0 will be ignored. Current value: min_gain_to_split=0.011030284732349089\n",
      "[LightGBM] [Warning] bagging_fraction is set=0.8424259086760796, subsample=1.0 will be ignored. Current value: bagging_fraction=0.8424259086760796\n",
      "[LightGBM] [Warning] bagging_freq is set=2, subsample_freq=0 will be ignored. Current value: bagging_freq=2\n",
      "[LightGBM] [Warning] min_data_in_leaf is set=100, min_child_samples=20 will be ignored. Current value: min_data_in_leaf=100\n",
      "[LightGBM] [Warning] feature_fraction is set=0.5157056981996073, colsample_bytree=1.0 will be ignored. Current value: feature_fraction=0.5157056981996073\n",
      "[LightGBM] [Warning] min_gain_to_split is set=0.011030284732349089, min_split_gain=0.0 will be ignored. Current value: min_gain_to_split=0.011030284732349089\n",
      "[LightGBM] [Warning] bagging_fraction is set=0.8424259086760796, subsample=1.0 will be ignored. Current value: bagging_fraction=0.8424259086760796\n",
      "[LightGBM] [Warning] bagging_freq is set=2, subsample_freq=0 will be ignored. Current value: bagging_freq=2\n",
      "[LightGBM] [Warning] min_data_in_leaf is set=100, min_child_samples=20 will be ignored. Current value: min_data_in_leaf=100\n",
      "[LightGBM] [Warning] feature_fraction is set=0.5157056981996073, colsample_bytree=1.0 will be ignored. Current value: feature_fraction=0.5157056981996073\n",
      "[LightGBM] [Warning] min_gain_to_split is set=0.011030284732349089, min_split_gain=0.0 will be ignored. Current value: min_gain_to_split=0.011030284732349089\n",
      "[LightGBM] [Warning] bagging_fraction is set=0.8424259086760796, subsample=1.0 will be ignored. Current value: bagging_fraction=0.8424259086760796\n",
      "[LightGBM] [Warning] bagging_freq is set=2, subsample_freq=0 will be ignored. Current value: bagging_freq=2\n",
      "[LightGBM] [Warning] min_data_in_leaf is set=100, min_child_samples=20 will be ignored. Current value: min_data_in_leaf=100\n",
      "[LightGBM] [Warning] feature_fraction is set=0.5157056981996073, colsample_bytree=1.0 will be ignored. Current value: feature_fraction=0.5157056981996073\n",
      "[LightGBM] [Warning] min_gain_to_split is set=0.011030284732349089, min_split_gain=0.0 will be ignored. Current value: min_gain_to_split=0.011030284732349089\n",
      "[LightGBM] [Warning] bagging_fraction is set=0.8424259086760796, subsample=1.0 will be ignored. Current value: bagging_fraction=0.8424259086760796\n",
      "[LightGBM] [Warning] bagging_freq is set=2, subsample_freq=0 will be ignored. Current value: bagging_freq=2\n",
      "[LightGBM] [Warning] min_data_in_leaf is set=100, min_child_samples=20 will be ignored. Current value: min_data_in_leaf=100\n",
      "[LightGBM] [Warning] feature_fraction is set=0.5157056981996073, colsample_bytree=1.0 will be ignored. Current value: feature_fraction=0.5157056981996073\n",
      "[LightGBM] [Warning] min_gain_to_split is set=0.011030284732349089, min_split_gain=0.0 will be ignored. Current value: min_gain_to_split=0.011030284732349089\n",
      "[LightGBM] [Warning] bagging_fraction is set=0.8424259086760796, subsample=1.0 will be ignored. Current value: bagging_fraction=0.8424259086760796\n",
      "[LightGBM] [Warning] bagging_freq is set=2, subsample_freq=0 will be ignored. Current value: bagging_freq=2\n",
      "[LightGBM] [Warning] min_data_in_leaf is set=100, min_child_samples=20 will be ignored. Current value: min_data_in_leaf=100\n",
      "[LightGBM] [Warning] feature_fraction is set=0.5157056981996073, colsample_bytree=1.0 will be ignored. Current value: feature_fraction=0.5157056981996073\n",
      "[LightGBM] [Warning] min_gain_to_split is set=0.011030284732349089, min_split_gain=0.0 will be ignored. Current value: min_gain_to_split=0.011030284732349089\n",
      "[LightGBM] [Warning] bagging_fraction is set=0.8424259086760796, subsample=1.0 will be ignored. Current value: bagging_fraction=0.8424259086760796\n",
      "[LightGBM] [Warning] bagging_freq is set=2, subsample_freq=0 will be ignored. Current value: bagging_freq=2\n",
      "[LightGBM] [Warning] min_data_in_leaf is set=100, min_child_samples=20 will be ignored. Current value: min_data_in_leaf=100\n",
      "[LightGBM] [Warning] feature_fraction is set=0.5157056981996073, colsample_bytree=1.0 will be ignored. Current value: feature_fraction=0.5157056981996073\n",
      "[LightGBM] [Warning] min_gain_to_split is set=0.011030284732349089, min_split_gain=0.0 will be ignored. Current value: min_gain_to_split=0.011030284732349089\n",
      "[LightGBM] [Warning] bagging_fraction is set=0.8424259086760796, subsample=1.0 will be ignored. Current value: bagging_fraction=0.8424259086760796\n",
      "[LightGBM] [Warning] bagging_freq is set=2, subsample_freq=0 will be ignored. Current value: bagging_freq=2\n",
      "[LightGBM] [Warning] min_data_in_leaf is set=100, min_child_samples=20 will be ignored. Current value: min_data_in_leaf=100\n",
      "[LightGBM] [Warning] feature_fraction is set=0.5157056981996073, colsample_bytree=1.0 will be ignored. Current value: feature_fraction=0.5157056981996073\n",
      "[LightGBM] [Warning] min_gain_to_split is set=0.011030284732349089, min_split_gain=0.0 will be ignored. Current value: min_gain_to_split=0.011030284732349089\n",
      "[LightGBM] [Warning] bagging_fraction is set=0.8424259086760796, subsample=1.0 will be ignored. Current value: bagging_fraction=0.8424259086760796\n",
      "[LightGBM] [Warning] bagging_freq is set=2, subsample_freq=0 will be ignored. Current value: bagging_freq=2\n",
      "[LightGBM] [Warning] min_data_in_leaf is set=100, min_child_samples=20 will be ignored. Current value: min_data_in_leaf=100\n",
      "[LightGBM] [Warning] feature_fraction is set=0.5157056981996073, colsample_bytree=1.0 will be ignored. Current value: feature_fraction=0.5157056981996073\n",
      "[LightGBM] [Warning] min_gain_to_split is set=0.011030284732349089, min_split_gain=0.0 will be ignored. Current value: min_gain_to_split=0.011030284732349089\n",
      "[LightGBM] [Warning] bagging_fraction is set=0.8424259086760796, subsample=1.0 will be ignored. Current value: bagging_fraction=0.8424259086760796\n",
      "[LightGBM] [Warning] bagging_freq is set=2, subsample_freq=0 will be ignored. Current value: bagging_freq=2\n",
      "[LightGBM] [Warning] min_data_in_leaf is set=100, min_child_samples=20 will be ignored. Current value: min_data_in_leaf=100\n",
      "[LightGBM] [Warning] feature_fraction is set=0.5157056981996073, colsample_bytree=1.0 will be ignored. Current value: feature_fraction=0.5157056981996073\n",
      "[LightGBM] [Warning] min_gain_to_split is set=0.011030284732349089, min_split_gain=0.0 will be ignored. Current value: min_gain_to_split=0.011030284732349089\n",
      "[LightGBM] [Warning] bagging_fraction is set=0.8424259086760796, subsample=1.0 will be ignored. Current value: bagging_fraction=0.8424259086760796\n",
      "[LightGBM] [Warning] bagging_freq is set=2, subsample_freq=0 will be ignored. Current value: bagging_freq=2\n",
      "[LightGBM] [Warning] min_data_in_leaf is set=100, min_child_samples=20 will be ignored. Current value: min_data_in_leaf=100\n",
      "[LightGBM] [Warning] feature_fraction is set=0.5157056981996073, colsample_bytree=1.0 will be ignored. Current value: feature_fraction=0.5157056981996073\n",
      "[LightGBM] [Warning] min_gain_to_split is set=0.011030284732349089, min_split_gain=0.0 will be ignored. Current value: min_gain_to_split=0.011030284732349089\n",
      "[LightGBM] [Warning] bagging_fraction is set=0.8424259086760796, subsample=1.0 will be ignored. Current value: bagging_fraction=0.8424259086760796\n",
      "[LightGBM] [Warning] bagging_freq is set=2, subsample_freq=0 will be ignored. Current value: bagging_freq=2\n",
      "[LightGBM] [Warning] min_data_in_leaf is set=100, min_child_samples=20 will be ignored. Current value: min_data_in_leaf=100\n",
      "[LightGBM] [Warning] feature_fraction is set=0.5157056981996073, colsample_bytree=1.0 will be ignored. Current value: feature_fraction=0.5157056981996073\n",
      "[LightGBM] [Warning] min_gain_to_split is set=0.011030284732349089, min_split_gain=0.0 will be ignored. Current value: min_gain_to_split=0.011030284732349089\n",
      "[LightGBM] [Warning] bagging_fraction is set=0.8424259086760796, subsample=1.0 will be ignored. Current value: bagging_fraction=0.8424259086760796\n",
      "[LightGBM] [Warning] bagging_freq is set=2, subsample_freq=0 will be ignored. Current value: bagging_freq=2\n",
      "[LightGBM] [Warning] min_data_in_leaf is set=100, min_child_samples=20 will be ignored. Current value: min_data_in_leaf=100\n",
      "[LightGBM] [Warning] feature_fraction is set=0.5157056981996073, colsample_bytree=1.0 will be ignored. Current value: feature_fraction=0.5157056981996073\n",
      "[LightGBM] [Warning] min_gain_to_split is set=0.011030284732349089, min_split_gain=0.0 will be ignored. Current value: min_gain_to_split=0.011030284732349089\n",
      "[LightGBM] [Warning] bagging_fraction is set=0.8424259086760796, subsample=1.0 will be ignored. Current value: bagging_fraction=0.8424259086760796\n",
      "[LightGBM] [Warning] bagging_freq is set=2, subsample_freq=0 will be ignored. Current value: bagging_freq=2\n",
      "[LightGBM] [Warning] min_data_in_leaf is set=100, min_child_samples=20 will be ignored. Current value: min_data_in_leaf=100\n",
      "[LightGBM] [Warning] feature_fraction is set=0.5157056981996073, colsample_bytree=1.0 will be ignored. Current value: feature_fraction=0.5157056981996073\n",
      "[LightGBM] [Warning] min_gain_to_split is set=0.011030284732349089, min_split_gain=0.0 will be ignored. Current value: min_gain_to_split=0.011030284732349089\n",
      "[LightGBM] [Warning] bagging_fraction is set=0.8424259086760796, subsample=1.0 will be ignored. Current value: bagging_fraction=0.8424259086760796\n",
      "[LightGBM] [Warning] bagging_freq is set=2, subsample_freq=0 will be ignored. Current value: bagging_freq=2\n",
      "[LightGBM] [Warning] min_data_in_leaf is set=100, min_child_samples=20 will be ignored. Current value: min_data_in_leaf=100\n",
      "[LightGBM] [Warning] feature_fraction is set=0.5157056981996073, colsample_bytree=1.0 will be ignored. Current value: feature_fraction=0.5157056981996073\n",
      "[LightGBM] [Warning] min_gain_to_split is set=0.011030284732349089, min_split_gain=0.0 will be ignored. Current value: min_gain_to_split=0.011030284732349089\n",
      "[LightGBM] [Warning] bagging_fraction is set=0.8424259086760796, subsample=1.0 will be ignored. Current value: bagging_fraction=0.8424259086760796\n",
      "[LightGBM] [Warning] bagging_freq is set=2, subsample_freq=0 will be ignored. Current value: bagging_freq=2\n",
      "[LightGBM] [Warning] min_data_in_leaf is set=100, min_child_samples=20 will be ignored. Current value: min_data_in_leaf=100\n",
      "[LightGBM] [Warning] feature_fraction is set=0.5157056981996073, colsample_bytree=1.0 will be ignored. Current value: feature_fraction=0.5157056981996073\n",
      "[LightGBM] [Warning] min_gain_to_split is set=0.011030284732349089, min_split_gain=0.0 will be ignored. Current value: min_gain_to_split=0.011030284732349089\n",
      "[LightGBM] [Warning] bagging_fraction is set=0.8424259086760796, subsample=1.0 will be ignored. Current value: bagging_fraction=0.8424259086760796\n",
      "[LightGBM] [Warning] bagging_freq is set=2, subsample_freq=0 will be ignored. Current value: bagging_freq=2\n",
      "[LightGBM] [Warning] min_data_in_leaf is set=100, min_child_samples=20 will be ignored. Current value: min_data_in_leaf=100\n",
      "[LightGBM] [Warning] feature_fraction is set=0.5157056981996073, colsample_bytree=1.0 will be ignored. Current value: feature_fraction=0.5157056981996073\n",
      "[LightGBM] [Warning] min_gain_to_split is set=0.011030284732349089, min_split_gain=0.0 will be ignored. Current value: min_gain_to_split=0.011030284732349089\n",
      "[LightGBM] [Warning] bagging_fraction is set=0.8424259086760796, subsample=1.0 will be ignored. Current value: bagging_fraction=0.8424259086760796\n",
      "[LightGBM] [Warning] bagging_freq is set=2, subsample_freq=0 will be ignored. Current value: bagging_freq=2\n",
      "[LightGBM] [Warning] min_data_in_leaf is set=100, min_child_samples=20 will be ignored. Current value: min_data_in_leaf=100\n",
      "[LightGBM] [Warning] feature_fraction is set=0.5157056981996073, colsample_bytree=1.0 will be ignored. Current value: feature_fraction=0.5157056981996073\n",
      "[LightGBM] [Warning] min_gain_to_split is set=0.011030284732349089, min_split_gain=0.0 will be ignored. Current value: min_gain_to_split=0.011030284732349089\n",
      "[LightGBM] [Warning] bagging_fraction is set=0.8424259086760796, subsample=1.0 will be ignored. Current value: bagging_fraction=0.8424259086760796\n",
      "[LightGBM] [Warning] bagging_freq is set=2, subsample_freq=0 will be ignored. Current value: bagging_freq=2\n",
      "[LightGBM] [Warning] min_data_in_leaf is set=100, min_child_samples=20 will be ignored. Current value: min_data_in_leaf=100\n",
      "[LightGBM] [Warning] feature_fraction is set=0.5157056981996073, colsample_bytree=1.0 will be ignored. Current value: feature_fraction=0.5157056981996073\n",
      "[LightGBM] [Warning] min_gain_to_split is set=0.011030284732349089, min_split_gain=0.0 will be ignored. Current value: min_gain_to_split=0.011030284732349089\n",
      "[LightGBM] [Warning] bagging_fraction is set=0.8424259086760796, subsample=1.0 will be ignored. Current value: bagging_fraction=0.8424259086760796\n",
      "[LightGBM] [Warning] bagging_freq is set=2, subsample_freq=0 will be ignored. Current value: bagging_freq=2\n",
      "[LightGBM] [Warning] min_data_in_leaf is set=100, min_child_samples=20 will be ignored. Current value: min_data_in_leaf=100\n",
      "[LightGBM] [Warning] feature_fraction is set=0.5157056981996073, colsample_bytree=1.0 will be ignored. Current value: feature_fraction=0.5157056981996073\n",
      "[LightGBM] [Warning] min_gain_to_split is set=0.011030284732349089, min_split_gain=0.0 will be ignored. Current value: min_gain_to_split=0.011030284732349089\n",
      "[LightGBM] [Warning] bagging_fraction is set=0.8424259086760796, subsample=1.0 will be ignored. Current value: bagging_fraction=0.8424259086760796\n",
      "[LightGBM] [Warning] bagging_freq is set=2, subsample_freq=0 will be ignored. Current value: bagging_freq=2\n",
      "[LightGBM] [Warning] min_data_in_leaf is set=100, min_child_samples=20 will be ignored. Current value: min_data_in_leaf=100\n",
      "[LightGBM] [Warning] feature_fraction is set=0.5157056981996073, colsample_bytree=1.0 will be ignored. Current value: feature_fraction=0.5157056981996073\n",
      "[LightGBM] [Warning] min_gain_to_split is set=0.011030284732349089, min_split_gain=0.0 will be ignored. Current value: min_gain_to_split=0.011030284732349089\n",
      "[LightGBM] [Warning] bagging_fraction is set=0.8424259086760796, subsample=1.0 will be ignored. Current value: bagging_fraction=0.8424259086760796\n",
      "[LightGBM] [Warning] bagging_freq is set=2, subsample_freq=0 will be ignored. Current value: bagging_freq=2\n",
      "[LightGBM] [Warning] min_data_in_leaf is set=100, min_child_samples=20 will be ignored. Current value: min_data_in_leaf=100\n",
      "[LightGBM] [Warning] feature_fraction is set=0.5157056981996073, colsample_bytree=1.0 will be ignored. Current value: feature_fraction=0.5157056981996073\n",
      "[LightGBM] [Warning] min_gain_to_split is set=0.011030284732349089, min_split_gain=0.0 will be ignored. Current value: min_gain_to_split=0.011030284732349089\n",
      "[LightGBM] [Warning] bagging_fraction is set=0.8424259086760796, subsample=1.0 will be ignored. Current value: bagging_fraction=0.8424259086760796\n",
      "[LightGBM] [Warning] bagging_freq is set=2, subsample_freq=0 will be ignored. Current value: bagging_freq=2\n",
      "[LightGBM] [Warning] min_data_in_leaf is set=100, min_child_samples=20 will be ignored. Current value: min_data_in_leaf=100\n",
      "[LightGBM] [Warning] feature_fraction is set=0.5157056981996073, colsample_bytree=1.0 will be ignored. Current value: feature_fraction=0.5157056981996073\n",
      "[LightGBM] [Warning] min_gain_to_split is set=0.011030284732349089, min_split_gain=0.0 will be ignored. Current value: min_gain_to_split=0.011030284732349089\n",
      "[LightGBM] [Warning] bagging_fraction is set=0.8424259086760796, subsample=1.0 will be ignored. Current value: bagging_fraction=0.8424259086760796\n",
      "[LightGBM] [Warning] bagging_freq is set=2, subsample_freq=0 will be ignored. Current value: bagging_freq=2\n",
      "[LightGBM] [Warning] min_data_in_leaf is set=100, min_child_samples=20 will be ignored. Current value: min_data_in_leaf=100\n",
      "[LightGBM] [Warning] feature_fraction is set=0.5157056981996073, colsample_bytree=1.0 will be ignored. Current value: feature_fraction=0.5157056981996073\n",
      "[LightGBM] [Warning] min_gain_to_split is set=0.011030284732349089, min_split_gain=0.0 will be ignored. Current value: min_gain_to_split=0.011030284732349089\n",
      "[LightGBM] [Warning] bagging_fraction is set=0.8424259086760796, subsample=1.0 will be ignored. Current value: bagging_fraction=0.8424259086760796\n",
      "[LightGBM] [Warning] bagging_freq is set=2, subsample_freq=0 will be ignored. Current value: bagging_freq=2\n",
      "[LightGBM] [Warning] min_data_in_leaf is set=100, min_child_samples=20 will be ignored. Current value: min_data_in_leaf=100\n",
      "[LightGBM] [Warning] feature_fraction is set=0.5157056981996073, colsample_bytree=1.0 will be ignored. Current value: feature_fraction=0.5157056981996073\n",
      "[LightGBM] [Warning] min_gain_to_split is set=0.011030284732349089, min_split_gain=0.0 will be ignored. Current value: min_gain_to_split=0.011030284732349089\n",
      "[LightGBM] [Warning] bagging_fraction is set=0.8424259086760796, subsample=1.0 will be ignored. Current value: bagging_fraction=0.8424259086760796\n",
      "[LightGBM] [Warning] bagging_freq is set=2, subsample_freq=0 will be ignored. Current value: bagging_freq=2\n",
      "[LightGBM] [Warning] min_data_in_leaf is set=100, min_child_samples=20 will be ignored. Current value: min_data_in_leaf=100\n",
      "[LightGBM] [Warning] feature_fraction is set=0.5157056981996073, colsample_bytree=1.0 will be ignored. Current value: feature_fraction=0.5157056981996073\n",
      "[LightGBM] [Warning] min_gain_to_split is set=0.011030284732349089, min_split_gain=0.0 will be ignored. Current value: min_gain_to_split=0.011030284732349089\n",
      "[LightGBM] [Warning] bagging_fraction is set=0.8424259086760796, subsample=1.0 will be ignored. Current value: bagging_fraction=0.8424259086760796\n",
      "[LightGBM] [Warning] bagging_freq is set=2, subsample_freq=0 will be ignored. Current value: bagging_freq=2\n",
      "[LightGBM] [Warning] min_data_in_leaf is set=100, min_child_samples=20 will be ignored. Current value: min_data_in_leaf=100\n",
      "[LightGBM] [Warning] feature_fraction is set=0.5157056981996073, colsample_bytree=1.0 will be ignored. Current value: feature_fraction=0.5157056981996073\n",
      "[LightGBM] [Warning] min_gain_to_split is set=0.011030284732349089, min_split_gain=0.0 will be ignored. Current value: min_gain_to_split=0.011030284732349089\n",
      "[LightGBM] [Warning] bagging_fraction is set=0.8424259086760796, subsample=1.0 will be ignored. Current value: bagging_fraction=0.8424259086760796\n",
      "[LightGBM] [Warning] bagging_freq is set=2, subsample_freq=0 will be ignored. Current value: bagging_freq=2\n",
      "[LightGBM] [Warning] min_data_in_leaf is set=100, min_child_samples=20 will be ignored. Current value: min_data_in_leaf=100\n",
      "[LightGBM] [Warning] feature_fraction is set=0.5157056981996073, colsample_bytree=1.0 will be ignored. Current value: feature_fraction=0.5157056981996073\n",
      "[LightGBM] [Warning] min_gain_to_split is set=0.011030284732349089, min_split_gain=0.0 will be ignored. Current value: min_gain_to_split=0.011030284732349089\n",
      "[LightGBM] [Warning] bagging_fraction is set=0.8424259086760796, subsample=1.0 will be ignored. Current value: bagging_fraction=0.8424259086760796\n",
      "[LightGBM] [Warning] bagging_freq is set=2, subsample_freq=0 will be ignored. Current value: bagging_freq=2\n",
      "[LightGBM] [Warning] min_data_in_leaf is set=100, min_child_samples=20 will be ignored. Current value: min_data_in_leaf=100\n",
      "[LightGBM] [Warning] feature_fraction is set=0.5157056981996073, colsample_bytree=1.0 will be ignored. Current value: feature_fraction=0.5157056981996073\n",
      "[LightGBM] [Warning] min_gain_to_split is set=0.011030284732349089, min_split_gain=0.0 will be ignored. Current value: min_gain_to_split=0.011030284732349089\n",
      "[LightGBM] [Warning] bagging_fraction is set=0.8424259086760796, subsample=1.0 will be ignored. Current value: bagging_fraction=0.8424259086760796\n",
      "[LightGBM] [Warning] bagging_freq is set=2, subsample_freq=0 will be ignored. Current value: bagging_freq=2\n",
      "[LightGBM] [Warning] min_data_in_leaf is set=100, min_child_samples=20 will be ignored. Current value: min_data_in_leaf=100\n",
      "[LightGBM] [Warning] feature_fraction is set=0.5157056981996073, colsample_bytree=1.0 will be ignored. Current value: feature_fraction=0.5157056981996073\n",
      "[LightGBM] [Warning] min_gain_to_split is set=0.011030284732349089, min_split_gain=0.0 will be ignored. Current value: min_gain_to_split=0.011030284732349089\n",
      "[LightGBM] [Warning] bagging_fraction is set=0.8424259086760796, subsample=1.0 will be ignored. Current value: bagging_fraction=0.8424259086760796\n",
      "[LightGBM] [Warning] bagging_freq is set=2, subsample_freq=0 will be ignored. Current value: bagging_freq=2\n",
      "[LightGBM] [Warning] min_data_in_leaf is set=100, min_child_samples=20 will be ignored. Current value: min_data_in_leaf=100\n",
      "[LightGBM] [Warning] feature_fraction is set=0.5157056981996073, colsample_bytree=1.0 will be ignored. Current value: feature_fraction=0.5157056981996073\n",
      "[LightGBM] [Warning] min_gain_to_split is set=0.011030284732349089, min_split_gain=0.0 will be ignored. Current value: min_gain_to_split=0.011030284732349089\n",
      "[LightGBM] [Warning] bagging_fraction is set=0.8424259086760796, subsample=1.0 will be ignored. Current value: bagging_fraction=0.8424259086760796\n",
      "[LightGBM] [Warning] bagging_freq is set=2, subsample_freq=0 will be ignored. Current value: bagging_freq=2\n",
      "[LightGBM] [Warning] min_data_in_leaf is set=100, min_child_samples=20 will be ignored. Current value: min_data_in_leaf=100\n",
      "[LightGBM] [Warning] feature_fraction is set=0.5157056981996073, colsample_bytree=1.0 will be ignored. Current value: feature_fraction=0.5157056981996073\n",
      "[LightGBM] [Warning] min_gain_to_split is set=0.011030284732349089, min_split_gain=0.0 will be ignored. Current value: min_gain_to_split=0.011030284732349089\n",
      "[LightGBM] [Warning] bagging_fraction is set=0.8424259086760796, subsample=1.0 will be ignored. Current value: bagging_fraction=0.8424259086760796\n",
      "[LightGBM] [Warning] bagging_freq is set=2, subsample_freq=0 will be ignored. Current value: bagging_freq=2\n",
      "[LightGBM] [Warning] min_data_in_leaf is set=100, min_child_samples=20 will be ignored. Current value: min_data_in_leaf=100\n",
      "[LightGBM] [Warning] feature_fraction is set=0.5157056981996073, colsample_bytree=1.0 will be ignored. Current value: feature_fraction=0.5157056981996073\n",
      "[LightGBM] [Warning] min_gain_to_split is set=0.011030284732349089, min_split_gain=0.0 will be ignored. Current value: min_gain_to_split=0.011030284732349089\n",
      "[LightGBM] [Warning] bagging_fraction is set=0.8424259086760796, subsample=1.0 will be ignored. Current value: bagging_fraction=0.8424259086760796\n",
      "[LightGBM] [Warning] bagging_freq is set=2, subsample_freq=0 will be ignored. Current value: bagging_freq=2\n",
      "[LightGBM] [Warning] min_data_in_leaf is set=100, min_child_samples=20 will be ignored. Current value: min_data_in_leaf=100\n",
      "[LightGBM] [Warning] feature_fraction is set=0.5157056981996073, colsample_bytree=1.0 will be ignored. Current value: feature_fraction=0.5157056981996073\n",
      "[LightGBM] [Warning] min_gain_to_split is set=0.011030284732349089, min_split_gain=0.0 will be ignored. Current value: min_gain_to_split=0.011030284732349089\n",
      "[LightGBM] [Warning] bagging_fraction is set=0.8424259086760796, subsample=1.0 will be ignored. Current value: bagging_fraction=0.8424259086760796\n",
      "[LightGBM] [Warning] bagging_freq is set=2, subsample_freq=0 will be ignored. Current value: bagging_freq=2\n",
      "[LightGBM] [Warning] min_data_in_leaf is set=100, min_child_samples=20 will be ignored. Current value: min_data_in_leaf=100\n",
      "[LightGBM] [Warning] feature_fraction is set=0.5157056981996073, colsample_bytree=1.0 will be ignored. Current value: feature_fraction=0.5157056981996073\n",
      "[LightGBM] [Warning] min_gain_to_split is set=0.011030284732349089, min_split_gain=0.0 will be ignored. Current value: min_gain_to_split=0.011030284732349089\n",
      "[LightGBM] [Warning] bagging_fraction is set=0.8424259086760796, subsample=1.0 will be ignored. Current value: bagging_fraction=0.8424259086760796\n",
      "[LightGBM] [Warning] bagging_freq is set=2, subsample_freq=0 will be ignored. Current value: bagging_freq=2\n",
      "[LightGBM] [Warning] min_data_in_leaf is set=100, min_child_samples=20 will be ignored. Current value: min_data_in_leaf=100\n",
      "[LightGBM] [Warning] feature_fraction is set=0.5157056981996073, colsample_bytree=1.0 will be ignored. Current value: feature_fraction=0.5157056981996073\n",
      "[LightGBM] [Warning] min_gain_to_split is set=0.011030284732349089, min_split_gain=0.0 will be ignored. Current value: min_gain_to_split=0.011030284732349089\n",
      "[LightGBM] [Warning] bagging_fraction is set=0.8424259086760796, subsample=1.0 will be ignored. Current value: bagging_fraction=0.8424259086760796\n",
      "[LightGBM] [Warning] bagging_freq is set=2, subsample_freq=0 will be ignored. Current value: bagging_freq=2\n",
      "[LightGBM] [Warning] min_data_in_leaf is set=100, min_child_samples=20 will be ignored. Current value: min_data_in_leaf=100\n",
      "[LightGBM] [Warning] feature_fraction is set=0.5157056981996073, colsample_bytree=1.0 will be ignored. Current value: feature_fraction=0.5157056981996073\n",
      "[LightGBM] [Warning] min_gain_to_split is set=0.011030284732349089, min_split_gain=0.0 will be ignored. Current value: min_gain_to_split=0.011030284732349089\n",
      "[LightGBM] [Warning] bagging_fraction is set=0.8424259086760796, subsample=1.0 will be ignored. Current value: bagging_fraction=0.8424259086760796\n",
      "[LightGBM] [Warning] bagging_freq is set=2, subsample_freq=0 will be ignored. Current value: bagging_freq=2\n",
      "[LightGBM] [Warning] min_data_in_leaf is set=100, min_child_samples=20 will be ignored. Current value: min_data_in_leaf=100\n",
      "[LightGBM] [Warning] feature_fraction is set=0.5157056981996073, colsample_bytree=1.0 will be ignored. Current value: feature_fraction=0.5157056981996073\n",
      "[LightGBM] [Warning] min_gain_to_split is set=0.011030284732349089, min_split_gain=0.0 will be ignored. Current value: min_gain_to_split=0.011030284732349089\n",
      "[LightGBM] [Warning] bagging_fraction is set=0.8424259086760796, subsample=1.0 will be ignored. Current value: bagging_fraction=0.8424259086760796\n",
      "[LightGBM] [Warning] bagging_freq is set=2, subsample_freq=0 will be ignored. Current value: bagging_freq=2\n",
      "[LightGBM] [Warning] min_data_in_leaf is set=100, min_child_samples=20 will be ignored. Current value: min_data_in_leaf=100\n",
      "[LightGBM] [Warning] feature_fraction is set=0.5157056981996073, colsample_bytree=1.0 will be ignored. Current value: feature_fraction=0.5157056981996073\n",
      "[LightGBM] [Warning] min_gain_to_split is set=0.011030284732349089, min_split_gain=0.0 will be ignored. Current value: min_gain_to_split=0.011030284732349089\n",
      "[LightGBM] [Warning] bagging_fraction is set=0.8424259086760796, subsample=1.0 will be ignored. Current value: bagging_fraction=0.8424259086760796\n",
      "[LightGBM] [Warning] bagging_freq is set=2, subsample_freq=0 will be ignored. Current value: bagging_freq=2\n",
      "[LightGBM] [Warning] min_data_in_leaf is set=100, min_child_samples=20 will be ignored. Current value: min_data_in_leaf=100\n",
      "[LightGBM] [Warning] feature_fraction is set=0.5157056981996073, colsample_bytree=1.0 will be ignored. Current value: feature_fraction=0.5157056981996073\n",
      "[LightGBM] [Warning] min_gain_to_split is set=0.011030284732349089, min_split_gain=0.0 will be ignored. Current value: min_gain_to_split=0.011030284732349089\n",
      "[LightGBM] [Warning] bagging_fraction is set=0.8424259086760796, subsample=1.0 will be ignored. Current value: bagging_fraction=0.8424259086760796\n",
      "[LightGBM] [Warning] bagging_freq is set=2, subsample_freq=0 will be ignored. Current value: bagging_freq=2\n",
      "[LightGBM] [Warning] min_data_in_leaf is set=100, min_child_samples=20 will be ignored. Current value: min_data_in_leaf=100\n",
      "[LightGBM] [Warning] feature_fraction is set=0.5157056981996073, colsample_bytree=1.0 will be ignored. Current value: feature_fraction=0.5157056981996073\n",
      "[LightGBM] [Warning] min_gain_to_split is set=0.011030284732349089, min_split_gain=0.0 will be ignored. Current value: min_gain_to_split=0.011030284732349089\n",
      "[LightGBM] [Warning] bagging_fraction is set=0.8424259086760796, subsample=1.0 will be ignored. Current value: bagging_fraction=0.8424259086760796\n",
      "[LightGBM] [Warning] bagging_freq is set=2, subsample_freq=0 will be ignored. Current value: bagging_freq=2\n",
      "[LightGBM] [Warning] min_data_in_leaf is set=100, min_child_samples=20 will be ignored. Current value: min_data_in_leaf=100\n",
      "[LightGBM] [Warning] feature_fraction is set=0.5157056981996073, colsample_bytree=1.0 will be ignored. Current value: feature_fraction=0.5157056981996073\n",
      "[LightGBM] [Warning] min_gain_to_split is set=0.011030284732349089, min_split_gain=0.0 will be ignored. Current value: min_gain_to_split=0.011030284732349089\n",
      "[LightGBM] [Warning] bagging_fraction is set=0.8424259086760796, subsample=1.0 will be ignored. Current value: bagging_fraction=0.8424259086760796\n",
      "[LightGBM] [Warning] bagging_freq is set=2, subsample_freq=0 will be ignored. Current value: bagging_freq=2\n",
      "[LightGBM] [Warning] min_data_in_leaf is set=100, min_child_samples=20 will be ignored. Current value: min_data_in_leaf=100\n",
      "[LightGBM] [Warning] feature_fraction is set=0.5157056981996073, colsample_bytree=1.0 will be ignored. Current value: feature_fraction=0.5157056981996073\n",
      "[LightGBM] [Warning] min_gain_to_split is set=0.011030284732349089, min_split_gain=0.0 will be ignored. Current value: min_gain_to_split=0.011030284732349089\n",
      "[LightGBM] [Warning] bagging_fraction is set=0.8424259086760796, subsample=1.0 will be ignored. Current value: bagging_fraction=0.8424259086760796\n",
      "[LightGBM] [Warning] bagging_freq is set=2, subsample_freq=0 will be ignored. Current value: bagging_freq=2\n",
      "[LightGBM] [Warning] min_data_in_leaf is set=100, min_child_samples=20 will be ignored. Current value: min_data_in_leaf=100\n",
      "[LightGBM] [Warning] feature_fraction is set=0.5157056981996073, colsample_bytree=1.0 will be ignored. Current value: feature_fraction=0.5157056981996073\n",
      "[LightGBM] [Warning] min_gain_to_split is set=0.011030284732349089, min_split_gain=0.0 will be ignored. Current value: min_gain_to_split=0.011030284732349089\n",
      "[LightGBM] [Warning] bagging_fraction is set=0.8424259086760796, subsample=1.0 will be ignored. Current value: bagging_fraction=0.8424259086760796\n",
      "[LightGBM] [Warning] bagging_freq is set=2, subsample_freq=0 will be ignored. Current value: bagging_freq=2\n",
      "[LightGBM] [Warning] min_data_in_leaf is set=100, min_child_samples=20 will be ignored. Current value: min_data_in_leaf=100\n",
      "[LightGBM] [Warning] feature_fraction is set=0.5157056981996073, colsample_bytree=1.0 will be ignored. Current value: feature_fraction=0.5157056981996073\n",
      "[LightGBM] [Warning] min_gain_to_split is set=0.011030284732349089, min_split_gain=0.0 will be ignored. Current value: min_gain_to_split=0.011030284732349089\n",
      "[LightGBM] [Warning] bagging_fraction is set=0.8424259086760796, subsample=1.0 will be ignored. Current value: bagging_fraction=0.8424259086760796\n",
      "[LightGBM] [Warning] bagging_freq is set=2, subsample_freq=0 will be ignored. Current value: bagging_freq=2\n",
      "[LightGBM] [Warning] min_data_in_leaf is set=100, min_child_samples=20 will be ignored. Current value: min_data_in_leaf=100\n",
      "[LightGBM] [Warning] feature_fraction is set=0.5157056981996073, colsample_bytree=1.0 will be ignored. Current value: feature_fraction=0.5157056981996073\n",
      "[LightGBM] [Warning] min_gain_to_split is set=0.011030284732349089, min_split_gain=0.0 will be ignored. Current value: min_gain_to_split=0.011030284732349089\n",
      "[LightGBM] [Warning] bagging_fraction is set=0.8424259086760796, subsample=1.0 will be ignored. Current value: bagging_fraction=0.8424259086760796\n",
      "[LightGBM] [Warning] bagging_freq is set=2, subsample_freq=0 will be ignored. Current value: bagging_freq=2\n",
      "[LightGBM] [Warning] min_data_in_leaf is set=100, min_child_samples=20 will be ignored. Current value: min_data_in_leaf=100\n",
      "[LightGBM] [Warning] feature_fraction is set=0.5157056981996073, colsample_bytree=1.0 will be ignored. Current value: feature_fraction=0.5157056981996073\n",
      "[LightGBM] [Warning] min_gain_to_split is set=0.011030284732349089, min_split_gain=0.0 will be ignored. Current value: min_gain_to_split=0.011030284732349089\n",
      "[LightGBM] [Warning] bagging_fraction is set=0.8424259086760796, subsample=1.0 will be ignored. Current value: bagging_fraction=0.8424259086760796\n",
      "[LightGBM] [Warning] bagging_freq is set=2, subsample_freq=0 will be ignored. Current value: bagging_freq=2\n",
      "[LightGBM] [Warning] min_data_in_leaf is set=100, min_child_samples=20 will be ignored. Current value: min_data_in_leaf=100\n",
      "[LightGBM] [Warning] feature_fraction is set=0.5157056981996073, colsample_bytree=1.0 will be ignored. Current value: feature_fraction=0.5157056981996073\n",
      "[LightGBM] [Warning] min_gain_to_split is set=0.011030284732349089, min_split_gain=0.0 will be ignored. Current value: min_gain_to_split=0.011030284732349089\n",
      "[LightGBM] [Warning] bagging_fraction is set=0.8424259086760796, subsample=1.0 will be ignored. Current value: bagging_fraction=0.8424259086760796\n",
      "[LightGBM] [Warning] bagging_freq is set=2, subsample_freq=0 will be ignored. Current value: bagging_freq=2\n",
      "[LightGBM] [Warning] min_data_in_leaf is set=100, min_child_samples=20 will be ignored. Current value: min_data_in_leaf=100\n",
      "[LightGBM] [Warning] feature_fraction is set=0.5157056981996073, colsample_bytree=1.0 will be ignored. Current value: feature_fraction=0.5157056981996073\n",
      "[LightGBM] [Warning] min_gain_to_split is set=0.011030284732349089, min_split_gain=0.0 will be ignored. Current value: min_gain_to_split=0.011030284732349089\n",
      "[LightGBM] [Warning] bagging_fraction is set=0.8424259086760796, subsample=1.0 will be ignored. Current value: bagging_fraction=0.8424259086760796\n",
      "[LightGBM] [Warning] bagging_freq is set=2, subsample_freq=0 will be ignored. Current value: bagging_freq=2\n",
      "[LightGBM] [Warning] min_data_in_leaf is set=100, min_child_samples=20 will be ignored. Current value: min_data_in_leaf=100\n",
      "[LightGBM] [Warning] feature_fraction is set=0.5157056981996073, colsample_bytree=1.0 will be ignored. Current value: feature_fraction=0.5157056981996073\n",
      "[LightGBM] [Warning] min_gain_to_split is set=0.011030284732349089, min_split_gain=0.0 will be ignored. Current value: min_gain_to_split=0.011030284732349089\n",
      "[LightGBM] [Warning] bagging_fraction is set=0.8424259086760796, subsample=1.0 will be ignored. Current value: bagging_fraction=0.8424259086760796\n",
      "[LightGBM] [Warning] bagging_freq is set=2, subsample_freq=0 will be ignored. Current value: bagging_freq=2\n",
      "[LightGBM] [Warning] min_data_in_leaf is set=100, min_child_samples=20 will be ignored. Current value: min_data_in_leaf=100\n",
      "[LightGBM] [Warning] feature_fraction is set=0.5157056981996073, colsample_bytree=1.0 will be ignored. Current value: feature_fraction=0.5157056981996073\n",
      "[LightGBM] [Warning] min_gain_to_split is set=0.011030284732349089, min_split_gain=0.0 will be ignored. Current value: min_gain_to_split=0.011030284732349089\n",
      "[LightGBM] [Warning] bagging_fraction is set=0.8424259086760796, subsample=1.0 will be ignored. Current value: bagging_fraction=0.8424259086760796\n",
      "[LightGBM] [Warning] bagging_freq is set=2, subsample_freq=0 will be ignored. Current value: bagging_freq=2\n",
      "[LightGBM] [Warning] min_data_in_leaf is set=100, min_child_samples=20 will be ignored. Current value: min_data_in_leaf=100\n",
      "[LightGBM] [Warning] feature_fraction is set=0.5157056981996073, colsample_bytree=1.0 will be ignored. Current value: feature_fraction=0.5157056981996073\n",
      "[LightGBM] [Warning] min_gain_to_split is set=0.011030284732349089, min_split_gain=0.0 will be ignored. Current value: min_gain_to_split=0.011030284732349089\n",
      "[LightGBM] [Warning] bagging_fraction is set=0.8424259086760796, subsample=1.0 will be ignored. Current value: bagging_fraction=0.8424259086760796\n",
      "[LightGBM] [Warning] bagging_freq is set=2, subsample_freq=0 will be ignored. Current value: bagging_freq=2\n",
      "[LightGBM] [Warning] min_data_in_leaf is set=100, min_child_samples=20 will be ignored. Current value: min_data_in_leaf=100\n",
      "[LightGBM] [Warning] feature_fraction is set=0.5157056981996073, colsample_bytree=1.0 will be ignored. Current value: feature_fraction=0.5157056981996073\n",
      "[LightGBM] [Warning] min_gain_to_split is set=0.011030284732349089, min_split_gain=0.0 will be ignored. Current value: min_gain_to_split=0.011030284732349089\n",
      "[LightGBM] [Warning] bagging_fraction is set=0.8424259086760796, subsample=1.0 will be ignored. Current value: bagging_fraction=0.8424259086760796\n",
      "[LightGBM] [Warning] bagging_freq is set=2, subsample_freq=0 will be ignored. Current value: bagging_freq=2\n",
      "[LightGBM] [Warning] min_data_in_leaf is set=100, min_child_samples=20 will be ignored. Current value: min_data_in_leaf=100\n",
      "[LightGBM] [Warning] feature_fraction is set=0.5157056981996073, colsample_bytree=1.0 will be ignored. Current value: feature_fraction=0.5157056981996073\n",
      "[LightGBM] [Warning] min_gain_to_split is set=0.011030284732349089, min_split_gain=0.0 will be ignored. Current value: min_gain_to_split=0.011030284732349089\n",
      "[LightGBM] [Warning] bagging_fraction is set=0.8424259086760796, subsample=1.0 will be ignored. Current value: bagging_fraction=0.8424259086760796\n",
      "[LightGBM] [Warning] bagging_freq is set=2, subsample_freq=0 will be ignored. Current value: bagging_freq=2\n",
      "[LightGBM] [Warning] min_data_in_leaf is set=100, min_child_samples=20 will be ignored. Current value: min_data_in_leaf=100\n",
      "[LightGBM] [Warning] feature_fraction is set=0.5157056981996073, colsample_bytree=1.0 will be ignored. Current value: feature_fraction=0.5157056981996073\n",
      "[LightGBM] [Warning] min_gain_to_split is set=0.011030284732349089, min_split_gain=0.0 will be ignored. Current value: min_gain_to_split=0.011030284732349089\n",
      "[LightGBM] [Warning] bagging_fraction is set=0.8424259086760796, subsample=1.0 will be ignored. Current value: bagging_fraction=0.8424259086760796\n",
      "[LightGBM] [Warning] bagging_freq is set=2, subsample_freq=0 will be ignored. Current value: bagging_freq=2\n",
      "[LightGBM] [Warning] min_data_in_leaf is set=100, min_child_samples=20 will be ignored. Current value: min_data_in_leaf=100\n",
      "[LightGBM] [Warning] feature_fraction is set=0.5157056981996073, colsample_bytree=1.0 will be ignored. Current value: feature_fraction=0.5157056981996073\n",
      "[LightGBM] [Warning] min_gain_to_split is set=0.011030284732349089, min_split_gain=0.0 will be ignored. Current value: min_gain_to_split=0.011030284732349089\n",
      "[LightGBM] [Warning] bagging_fraction is set=0.8424259086760796, subsample=1.0 will be ignored. Current value: bagging_fraction=0.8424259086760796\n",
      "[LightGBM] [Warning] bagging_freq is set=2, subsample_freq=0 will be ignored. Current value: bagging_freq=2\n",
      "[LightGBM] [Warning] min_data_in_leaf is set=100, min_child_samples=20 will be ignored. Current value: min_data_in_leaf=100\n",
      "[LightGBM] [Warning] feature_fraction is set=0.5157056981996073, colsample_bytree=1.0 will be ignored. Current value: feature_fraction=0.5157056981996073\n",
      "[LightGBM] [Warning] min_gain_to_split is set=0.011030284732349089, min_split_gain=0.0 will be ignored. Current value: min_gain_to_split=0.011030284732349089\n",
      "[LightGBM] [Warning] bagging_fraction is set=0.8424259086760796, subsample=1.0 will be ignored. Current value: bagging_fraction=0.8424259086760796\n",
      "[LightGBM] [Warning] bagging_freq is set=2, subsample_freq=0 will be ignored. Current value: bagging_freq=2\n",
      "[LightGBM] [Warning] min_data_in_leaf is set=100, min_child_samples=20 will be ignored. Current value: min_data_in_leaf=100\n",
      "[LightGBM] [Warning] feature_fraction is set=0.5157056981996073, colsample_bytree=1.0 will be ignored. Current value: feature_fraction=0.5157056981996073\n",
      "[LightGBM] [Warning] min_gain_to_split is set=0.011030284732349089, min_split_gain=0.0 will be ignored. Current value: min_gain_to_split=0.011030284732349089\n",
      "[LightGBM] [Warning] bagging_fraction is set=0.8424259086760796, subsample=1.0 will be ignored. Current value: bagging_fraction=0.8424259086760796\n",
      "[LightGBM] [Warning] bagging_freq is set=2, subsample_freq=0 will be ignored. Current value: bagging_freq=2\n",
      "[LightGBM] [Warning] min_data_in_leaf is set=100, min_child_samples=20 will be ignored. Current value: min_data_in_leaf=100\n",
      "[LightGBM] [Warning] feature_fraction is set=0.5157056981996073, colsample_bytree=1.0 will be ignored. Current value: feature_fraction=0.5157056981996073\n",
      "[LightGBM] [Warning] min_gain_to_split is set=0.011030284732349089, min_split_gain=0.0 will be ignored. Current value: min_gain_to_split=0.011030284732349089\n",
      "[LightGBM] [Warning] bagging_fraction is set=0.8424259086760796, subsample=1.0 will be ignored. Current value: bagging_fraction=0.8424259086760796\n",
      "[LightGBM] [Warning] bagging_freq is set=2, subsample_freq=0 will be ignored. Current value: bagging_freq=2\n",
      "[LightGBM] [Warning] min_data_in_leaf is set=100, min_child_samples=20 will be ignored. Current value: min_data_in_leaf=100\n",
      "[LightGBM] [Warning] feature_fraction is set=0.5157056981996073, colsample_bytree=1.0 will be ignored. Current value: feature_fraction=0.5157056981996073\n",
      "[LightGBM] [Warning] min_gain_to_split is set=0.011030284732349089, min_split_gain=0.0 will be ignored. Current value: min_gain_to_split=0.011030284732349089\n",
      "[LightGBM] [Warning] bagging_fraction is set=0.8424259086760796, subsample=1.0 will be ignored. Current value: bagging_fraction=0.8424259086760796\n",
      "[LightGBM] [Warning] bagging_freq is set=2, subsample_freq=0 will be ignored. Current value: bagging_freq=2\n",
      "[LightGBM] [Warning] min_data_in_leaf is set=100, min_child_samples=20 will be ignored. Current value: min_data_in_leaf=100\n",
      "[LightGBM] [Warning] feature_fraction is set=0.5157056981996073, colsample_bytree=1.0 will be ignored. Current value: feature_fraction=0.5157056981996073\n",
      "[LightGBM] [Warning] min_gain_to_split is set=0.011030284732349089, min_split_gain=0.0 will be ignored. Current value: min_gain_to_split=0.011030284732349089\n",
      "[LightGBM] [Warning] bagging_fraction is set=0.8424259086760796, subsample=1.0 will be ignored. Current value: bagging_fraction=0.8424259086760796\n",
      "[LightGBM] [Warning] bagging_freq is set=2, subsample_freq=0 will be ignored. Current value: bagging_freq=2\n",
      "[LightGBM] [Warning] min_data_in_leaf is set=100, min_child_samples=20 will be ignored. Current value: min_data_in_leaf=100\n",
      "[LightGBM] [Warning] feature_fraction is set=0.5157056981996073, colsample_bytree=1.0 will be ignored. Current value: feature_fraction=0.5157056981996073\n",
      "[LightGBM] [Warning] min_gain_to_split is set=0.011030284732349089, min_split_gain=0.0 will be ignored. Current value: min_gain_to_split=0.011030284732349089\n",
      "[LightGBM] [Warning] bagging_fraction is set=0.8424259086760796, subsample=1.0 will be ignored. Current value: bagging_fraction=0.8424259086760796\n",
      "[LightGBM] [Warning] bagging_freq is set=2, subsample_freq=0 will be ignored. Current value: bagging_freq=2\n",
      "[LightGBM] [Warning] min_data_in_leaf is set=100, min_child_samples=20 will be ignored. Current value: min_data_in_leaf=100\n",
      "[LightGBM] [Warning] feature_fraction is set=0.5157056981996073, colsample_bytree=1.0 will be ignored. Current value: feature_fraction=0.5157056981996073\n",
      "[LightGBM] [Warning] min_gain_to_split is set=0.011030284732349089, min_split_gain=0.0 will be ignored. Current value: min_gain_to_split=0.011030284732349089\n",
      "[LightGBM] [Warning] bagging_fraction is set=0.8424259086760796, subsample=1.0 will be ignored. Current value: bagging_fraction=0.8424259086760796\n",
      "[LightGBM] [Warning] bagging_freq is set=2, subsample_freq=0 will be ignored. Current value: bagging_freq=2\n",
      "[LightGBM] [Warning] min_data_in_leaf is set=100, min_child_samples=20 will be ignored. Current value: min_data_in_leaf=100\n",
      "[LightGBM] [Warning] feature_fraction is set=0.5157056981996073, colsample_bytree=1.0 will be ignored. Current value: feature_fraction=0.5157056981996073\n",
      "[LightGBM] [Warning] min_gain_to_split is set=0.011030284732349089, min_split_gain=0.0 will be ignored. Current value: min_gain_to_split=0.011030284732349089\n",
      "[LightGBM] [Warning] bagging_fraction is set=0.8424259086760796, subsample=1.0 will be ignored. Current value: bagging_fraction=0.8424259086760796\n",
      "[LightGBM] [Warning] bagging_freq is set=2, subsample_freq=0 will be ignored. Current value: bagging_freq=2\n",
      "[LightGBM] [Warning] min_data_in_leaf is set=100, min_child_samples=20 will be ignored. Current value: min_data_in_leaf=100\n",
      "[LightGBM] [Warning] feature_fraction is set=0.5157056981996073, colsample_bytree=1.0 will be ignored. Current value: feature_fraction=0.5157056981996073\n",
      "[LightGBM] [Warning] min_gain_to_split is set=0.011030284732349089, min_split_gain=0.0 will be ignored. Current value: min_gain_to_split=0.011030284732349089\n",
      "[LightGBM] [Warning] bagging_fraction is set=0.8424259086760796, subsample=1.0 will be ignored. Current value: bagging_fraction=0.8424259086760796\n",
      "[LightGBM] [Warning] bagging_freq is set=2, subsample_freq=0 will be ignored. Current value: bagging_freq=2\n",
      "[LightGBM] [Warning] min_data_in_leaf is set=100, min_child_samples=20 will be ignored. Current value: min_data_in_leaf=100\n",
      "[LightGBM] [Warning] feature_fraction is set=0.5157056981996073, colsample_bytree=1.0 will be ignored. Current value: feature_fraction=0.5157056981996073\n",
      "[LightGBM] [Warning] min_gain_to_split is set=0.011030284732349089, min_split_gain=0.0 will be ignored. Current value: min_gain_to_split=0.011030284732349089\n",
      "[LightGBM] [Warning] bagging_fraction is set=0.8424259086760796, subsample=1.0 will be ignored. Current value: bagging_fraction=0.8424259086760796\n",
      "[LightGBM] [Warning] bagging_freq is set=2, subsample_freq=0 will be ignored. Current value: bagging_freq=2\n",
      "[LightGBM] [Warning] min_data_in_leaf is set=100, min_child_samples=20 will be ignored. Current value: min_data_in_leaf=100\n",
      "[LightGBM] [Warning] feature_fraction is set=0.5157056981996073, colsample_bytree=1.0 will be ignored. Current value: feature_fraction=0.5157056981996073\n",
      "[LightGBM] [Warning] min_gain_to_split is set=0.011030284732349089, min_split_gain=0.0 will be ignored. Current value: min_gain_to_split=0.011030284732349089\n",
      "[LightGBM] [Warning] bagging_fraction is set=0.8424259086760796, subsample=1.0 will be ignored. Current value: bagging_fraction=0.8424259086760796\n",
      "[LightGBM] [Warning] bagging_freq is set=2, subsample_freq=0 will be ignored. Current value: bagging_freq=2\n",
      "[LightGBM] [Warning] min_data_in_leaf is set=100, min_child_samples=20 will be ignored. Current value: min_data_in_leaf=100\n",
      "[LightGBM] [Warning] feature_fraction is set=0.5157056981996073, colsample_bytree=1.0 will be ignored. Current value: feature_fraction=0.5157056981996073\n",
      "[LightGBM] [Warning] min_gain_to_split is set=0.011030284732349089, min_split_gain=0.0 will be ignored. Current value: min_gain_to_split=0.011030284732349089\n",
      "[LightGBM] [Warning] bagging_fraction is set=0.8424259086760796, subsample=1.0 will be ignored. Current value: bagging_fraction=0.8424259086760796\n",
      "[LightGBM] [Warning] bagging_freq is set=2, subsample_freq=0 will be ignored. Current value: bagging_freq=2\n",
      "[LightGBM] [Warning] min_data_in_leaf is set=100, min_child_samples=20 will be ignored. Current value: min_data_in_leaf=100\n",
      "[LightGBM] [Warning] feature_fraction is set=0.5157056981996073, colsample_bytree=1.0 will be ignored. Current value: feature_fraction=0.5157056981996073\n",
      "[LightGBM] [Warning] min_gain_to_split is set=0.011030284732349089, min_split_gain=0.0 will be ignored. Current value: min_gain_to_split=0.011030284732349089\n",
      "[LightGBM] [Warning] bagging_fraction is set=0.8424259086760796, subsample=1.0 will be ignored. Current value: bagging_fraction=0.8424259086760796\n",
      "[LightGBM] [Warning] bagging_freq is set=2, subsample_freq=0 will be ignored. Current value: bagging_freq=2\n",
      "[LightGBM] [Warning] min_data_in_leaf is set=100, min_child_samples=20 will be ignored. Current value: min_data_in_leaf=100\n",
      "[LightGBM] [Warning] feature_fraction is set=0.5157056981996073, colsample_bytree=1.0 will be ignored. Current value: feature_fraction=0.5157056981996073\n",
      "[LightGBM] [Warning] min_gain_to_split is set=0.011030284732349089, min_split_gain=0.0 will be ignored. Current value: min_gain_to_split=0.011030284732349089\n",
      "[LightGBM] [Warning] bagging_fraction is set=0.8424259086760796, subsample=1.0 will be ignored. Current value: bagging_fraction=0.8424259086760796\n",
      "[LightGBM] [Warning] bagging_freq is set=2, subsample_freq=0 will be ignored. Current value: bagging_freq=2\n",
      "[LightGBM] [Warning] min_data_in_leaf is set=100, min_child_samples=20 will be ignored. Current value: min_data_in_leaf=100\n",
      "[LightGBM] [Warning] feature_fraction is set=0.5157056981996073, colsample_bytree=1.0 will be ignored. Current value: feature_fraction=0.5157056981996073\n",
      "[LightGBM] [Warning] min_gain_to_split is set=0.011030284732349089, min_split_gain=0.0 will be ignored. Current value: min_gain_to_split=0.011030284732349089\n",
      "[LightGBM] [Warning] bagging_fraction is set=0.8424259086760796, subsample=1.0 will be ignored. Current value: bagging_fraction=0.8424259086760796\n",
      "[LightGBM] [Warning] bagging_freq is set=2, subsample_freq=0 will be ignored. Current value: bagging_freq=2\n",
      "[LightGBM] [Warning] min_data_in_leaf is set=100, min_child_samples=20 will be ignored. Current value: min_data_in_leaf=100\n",
      "[LightGBM] [Warning] feature_fraction is set=0.5157056981996073, colsample_bytree=1.0 will be ignored. Current value: feature_fraction=0.5157056981996073\n",
      "[LightGBM] [Warning] min_gain_to_split is set=0.011030284732349089, min_split_gain=0.0 will be ignored. Current value: min_gain_to_split=0.011030284732349089\n",
      "[LightGBM] [Warning] bagging_fraction is set=0.8424259086760796, subsample=1.0 will be ignored. Current value: bagging_fraction=0.8424259086760796\n",
      "[LightGBM] [Warning] bagging_freq is set=2, subsample_freq=0 will be ignored. Current value: bagging_freq=2\n",
      "[LightGBM] [Warning] min_data_in_leaf is set=100, min_child_samples=20 will be ignored. Current value: min_data_in_leaf=100\n",
      "[LightGBM] [Warning] feature_fraction is set=0.5157056981996073, colsample_bytree=1.0 will be ignored. Current value: feature_fraction=0.5157056981996073\n",
      "[LightGBM] [Warning] min_gain_to_split is set=0.011030284732349089, min_split_gain=0.0 will be ignored. Current value: min_gain_to_split=0.011030284732349089\n",
      "[LightGBM] [Warning] bagging_fraction is set=0.8424259086760796, subsample=1.0 will be ignored. Current value: bagging_fraction=0.8424259086760796\n",
      "[LightGBM] [Warning] bagging_freq is set=2, subsample_freq=0 will be ignored. Current value: bagging_freq=2\n",
      "[LightGBM] [Warning] min_data_in_leaf is set=100, min_child_samples=20 will be ignored. Current value: min_data_in_leaf=100\n",
      "[LightGBM] [Warning] feature_fraction is set=0.5157056981996073, colsample_bytree=1.0 will be ignored. Current value: feature_fraction=0.5157056981996073\n",
      "[LightGBM] [Warning] min_gain_to_split is set=0.011030284732349089, min_split_gain=0.0 will be ignored. Current value: min_gain_to_split=0.011030284732349089\n",
      "[LightGBM] [Warning] bagging_fraction is set=0.8424259086760796, subsample=1.0 will be ignored. Current value: bagging_fraction=0.8424259086760796\n",
      "[LightGBM] [Warning] bagging_freq is set=2, subsample_freq=0 will be ignored. Current value: bagging_freq=2\n",
      "[LightGBM] [Warning] min_data_in_leaf is set=100, min_child_samples=20 will be ignored. Current value: min_data_in_leaf=100\n",
      "[LightGBM] [Warning] feature_fraction is set=0.5157056981996073, colsample_bytree=1.0 will be ignored. Current value: feature_fraction=0.5157056981996073\n",
      "[LightGBM] [Warning] min_gain_to_split is set=0.011030284732349089, min_split_gain=0.0 will be ignored. Current value: min_gain_to_split=0.011030284732349089\n",
      "[LightGBM] [Warning] bagging_fraction is set=0.8424259086760796, subsample=1.0 will be ignored. Current value: bagging_fraction=0.8424259086760796\n",
      "[LightGBM] [Warning] bagging_freq is set=2, subsample_freq=0 will be ignored. Current value: bagging_freq=2\n",
      "[LightGBM] [Warning] min_data_in_leaf is set=100, min_child_samples=20 will be ignored. Current value: min_data_in_leaf=100\n",
      "[LightGBM] [Warning] feature_fraction is set=0.5157056981996073, colsample_bytree=1.0 will be ignored. Current value: feature_fraction=0.5157056981996073\n",
      "[LightGBM] [Warning] min_gain_to_split is set=0.011030284732349089, min_split_gain=0.0 will be ignored. Current value: min_gain_to_split=0.011030284732349089\n",
      "[LightGBM] [Warning] bagging_fraction is set=0.8424259086760796, subsample=1.0 will be ignored. Current value: bagging_fraction=0.8424259086760796\n",
      "[LightGBM] [Warning] bagging_freq is set=2, subsample_freq=0 will be ignored. Current value: bagging_freq=2\n",
      "[LightGBM] [Warning] min_data_in_leaf is set=100, min_child_samples=20 will be ignored. Current value: min_data_in_leaf=100\n",
      "[LightGBM] [Warning] feature_fraction is set=0.5157056981996073, colsample_bytree=1.0 will be ignored. Current value: feature_fraction=0.5157056981996073\n",
      "[LightGBM] [Warning] min_gain_to_split is set=0.011030284732349089, min_split_gain=0.0 will be ignored. Current value: min_gain_to_split=0.011030284732349089\n",
      "[LightGBM] [Warning] bagging_fraction is set=0.8424259086760796, subsample=1.0 will be ignored. Current value: bagging_fraction=0.8424259086760796\n",
      "[LightGBM] [Warning] bagging_freq is set=2, subsample_freq=0 will be ignored. Current value: bagging_freq=2\n",
      "[LightGBM] [Warning] min_data_in_leaf is set=100, min_child_samples=20 will be ignored. Current value: min_data_in_leaf=100\n",
      "[LightGBM] [Warning] feature_fraction is set=0.5157056981996073, colsample_bytree=1.0 will be ignored. Current value: feature_fraction=0.5157056981996073\n",
      "[LightGBM] [Warning] min_gain_to_split is set=0.011030284732349089, min_split_gain=0.0 will be ignored. Current value: min_gain_to_split=0.011030284732349089\n",
      "[LightGBM] [Warning] bagging_fraction is set=0.8424259086760796, subsample=1.0 will be ignored. Current value: bagging_fraction=0.8424259086760796\n",
      "[LightGBM] [Warning] bagging_freq is set=2, subsample_freq=0 will be ignored. Current value: bagging_freq=2\n",
      "[LightGBM] [Warning] min_data_in_leaf is set=100, min_child_samples=20 will be ignored. Current value: min_data_in_leaf=100\n",
      "[LightGBM] [Warning] feature_fraction is set=0.5157056981996073, colsample_bytree=1.0 will be ignored. Current value: feature_fraction=0.5157056981996073\n",
      "[LightGBM] [Warning] min_gain_to_split is set=0.011030284732349089, min_split_gain=0.0 will be ignored. Current value: min_gain_to_split=0.011030284732349089\n",
      "[LightGBM] [Warning] bagging_fraction is set=0.8424259086760796, subsample=1.0 will be ignored. Current value: bagging_fraction=0.8424259086760796\n",
      "[LightGBM] [Warning] bagging_freq is set=2, subsample_freq=0 will be ignored. Current value: bagging_freq=2\n",
      "[LightGBM] [Warning] min_data_in_leaf is set=100, min_child_samples=20 will be ignored. Current value: min_data_in_leaf=100\n",
      "[LightGBM] [Warning] feature_fraction is set=0.5157056981996073, colsample_bytree=1.0 will be ignored. Current value: feature_fraction=0.5157056981996073\n",
      "[LightGBM] [Warning] min_gain_to_split is set=0.011030284732349089, min_split_gain=0.0 will be ignored. Current value: min_gain_to_split=0.011030284732349089\n",
      "[LightGBM] [Warning] bagging_fraction is set=0.8424259086760796, subsample=1.0 will be ignored. Current value: bagging_fraction=0.8424259086760796\n",
      "[LightGBM] [Warning] bagging_freq is set=2, subsample_freq=0 will be ignored. Current value: bagging_freq=2\n",
      "[LightGBM] [Warning] min_data_in_leaf is set=100, min_child_samples=20 will be ignored. Current value: min_data_in_leaf=100\n",
      "[LightGBM] [Warning] feature_fraction is set=0.5157056981996073, colsample_bytree=1.0 will be ignored. Current value: feature_fraction=0.5157056981996073\n",
      "[LightGBM] [Warning] min_gain_to_split is set=0.011030284732349089, min_split_gain=0.0 will be ignored. Current value: min_gain_to_split=0.011030284732349089\n",
      "[LightGBM] [Warning] bagging_fraction is set=0.8424259086760796, subsample=1.0 will be ignored. Current value: bagging_fraction=0.8424259086760796\n",
      "[LightGBM] [Warning] bagging_freq is set=2, subsample_freq=0 will be ignored. Current value: bagging_freq=2\n",
      "[LightGBM] [Warning] min_data_in_leaf is set=100, min_child_samples=20 will be ignored. Current value: min_data_in_leaf=100\n",
      "[LightGBM] [Warning] feature_fraction is set=0.5157056981996073, colsample_bytree=1.0 will be ignored. Current value: feature_fraction=0.5157056981996073\n",
      "[LightGBM] [Warning] min_gain_to_split is set=0.011030284732349089, min_split_gain=0.0 will be ignored. Current value: min_gain_to_split=0.011030284732349089\n",
      "[LightGBM] [Warning] bagging_fraction is set=0.8424259086760796, subsample=1.0 will be ignored. Current value: bagging_fraction=0.8424259086760796\n",
      "[LightGBM] [Warning] bagging_freq is set=2, subsample_freq=0 will be ignored. Current value: bagging_freq=2\n",
      "[LightGBM] [Warning] min_data_in_leaf is set=100, min_child_samples=20 will be ignored. Current value: min_data_in_leaf=100\n",
      "[LightGBM] [Warning] feature_fraction is set=0.5157056981996073, colsample_bytree=1.0 will be ignored. Current value: feature_fraction=0.5157056981996073\n",
      "[LightGBM] [Warning] min_gain_to_split is set=0.011030284732349089, min_split_gain=0.0 will be ignored. Current value: min_gain_to_split=0.011030284732349089\n",
      "[LightGBM] [Warning] bagging_fraction is set=0.8424259086760796, subsample=1.0 will be ignored. Current value: bagging_fraction=0.8424259086760796\n",
      "[LightGBM] [Warning] bagging_freq is set=2, subsample_freq=0 will be ignored. Current value: bagging_freq=2\n"
     ]
    },
    {
     "name": "stderr",
     "output_type": "stream",
     "text": [
      "c:\\Users\\santt\\.conda\\envs\\dm_eyf\\Lib\\site-packages\\seaborn\\axisgrid.py:123: UserWarning:\n",
      "\n",
      "The figure layout has changed to tight\n",
      "\n"
     ]
    },
    {
     "data": {
      "image/png": "[encoded data removed]",
      "text/plain": [
       "<Figure size 1200x600 with 4 Axes>"
      ]
     },
     "metadata": {},
     "output_type": "display_data"
    },
    {
     "name": "stdout",
     "output_type": "stream",
     "text": [
      "Ganancia media del modelo base en privado: 63063600.0\n",
      "Ganancia media del modelo base en público: 63878266.66666667\n",
      "Ganancia media del modelo Best en privado: 81533800.0\n",
      "Ganancia media del modelo Best en público: 80631133.33333334\n"
     ]
    }
   ],
   "source": [
    "# Condiciones de la optimización\n",
    "s = 1\n",
    "prepro = 6 # data quality + data drifting\n",
    "fe = 6 # feature engineering conceptual 6 meses\n",
    "training = 3 # un mes de optimización\n",
    "\n",
    "print(\"### Corriendo pipeline con LightGBM ###\")\n",
    "# Inicializar el pipeline con 'lightgbm'\n",
    "pipeline_lgbm_x = ModelPipeline(data=None, seeds=semillas, threshold=threshold_bt_mean,\n",
    "                              model_type='lightgbm', seed=s, n_jobs=-3)\n",
    "\n",
    "print(\"\\n# Entrenando el modelo base LightGBM\")\n",
    "pipeline_lgbm_x.train_base_model(X_train_imp, y_train)\n",
    "\n",
    "print(\"\\n# Evaluando el modelo base en el conjunto de prueba\")\n",
    "pipeline_lgbm_x.test_base_model(X_test_imp, y_test)\n",
    "\n",
    "# Definir el almacenamiento para Optuna\n",
    "storage_name = \"sqlite:///\" + db_path + \"optimization_tree.db\"\n",
    "# carga local\n",
    "# storage_name = \"sqlite:///optimizacion/optimization_tree.db\"\n",
    "study_name = f\"exp_lgbm_pr{prepro}_fe{fe}_tr{training}_x\"\n",
    "\n",
    "print(\"\\n# Optimizando el modelo\")\n",
    "pipeline_lgbm_x.optimize_model(\n",
    "    X_train_imp, y_train,\n",
    "    storage_name=storage_name,\n",
    "    study_name=study_name,\n",
    "    optimize=False,  \n",
    "    n_trials=100\n",
    ")\n",
    "\n",
    "# Entrenar el mejor modelo con parámetros optimizados\n",
    "print(\"\\n# Entrenando el mejor modelo con parámetros optimizados\")\n",
    "pipeline_lgbm_x.train_best_model(X_train_imp, y_train)\n",
    "\n",
    "# Evaluar el mejor modelo en el conjunto de prueba\n",
    "print(\"\\n# Evaluando el mejor modelo en el conjunto de prueba\")\n",
    "pipeline_lgbm_x.test_best_model(X_test_imp, y_test)\n",
    "\n",
    "# Simular el split Kaggle y comparar modelos\n",
    "print(\"\\n# Simulando el split Kaggle y comparando modelos\")\n",
    "\n",
    "fpri_best_lgbm_pr6_fe6_tr3, fpri_base_lgbm_pr6_fe6_tr3, \\\n",
    "fpub_best_lgbm_pr6_fe6_tr3, fpub_base_lgbm_pr6_fe6_tr3 = \\\n",
    "pipeline_lgbm_x.simulate_kaggle_split(X_test_imp, y_test) # sin imputer ni to_drop porque estan prepro"
   ]
  },
  {
   "cell_type": "markdown",
   "metadata": {},
   "source": [
    "Exploring optimization"
   ]
  },
  {
   "cell_type": "code",
   "execution_count": 12,
   "metadata": {},
   "outputs": [
    {
     "name": "stdout",
     "output_type": "stream",
     "text": [
      "\n",
      "Study Trials DataFrame:\n",
      "\n",
      "|    |   number |       value | datetime_start             | datetime_complete          | duration               |   params_bagging_fraction |   params_bagging_freq |   params_feature_fraction |   params_learning_rate |   params_max_bin |   params_min_data_in_leaf |   params_min_gain_to_split |   params_n_estimators |   params_num_leaves | state    |\n",
      "|---:|---------:|------------:|:---------------------------|:---------------------------|:-----------------------|--------------------------:|----------------------:|--------------------------:|-----------------------:|-----------------:|--------------------------:|---------------------------:|----------------------:|--------------------:|:---------|\n",
      "|  0 |        0 | 7.08633e+07 | 2024-11-19 22:39:55.915963 | 2024-11-19 22:43:04.160323 | 0 days 00:03:08.244360 |                  0.618832 |                     3 |                  0.52662  |             0.227994   |              168 |                        57 |                  0.296218  |                   341 |                  96 | COMPLETE |\n",
      "|  1 |        1 | 1.96588e+08 | 2024-11-19 22:43:04.218603 | 2024-11-19 22:46:23.242695 | 0 days 00:03:19.024092 |                  0.779552 |                     3 |                  0.864654 |             0.00113786 |              122 |                        69 |                  0.679874  |                   253 |                  99 | COMPLETE |\n",
      "|  2 |        2 | 2.38042e+08 | 2024-11-19 22:46:23.285569 | 2024-11-19 22:48:30.710073 | 0 days 00:02:07.424504 |                  0.580756 |                     2 |                  0.783073 |             0.118123   |              164 |                        26 |                  0.643559  |                   457 |                  37 | COMPLETE |\n",
      "|  3 |        3 | 3.19429e+08 | 2024-11-19 22:48:30.774003 | 2024-11-19 22:52:10.744119 | 0 days 00:03:39.970116 |                  0.727923 |                     5 |                  0.621567 |             0.00576777 |              145 |                        29 |                  0.117317  |                   296 |                 186 | COMPLETE |\n",
      "|  4 |        4 | 3.23353e+08 | 2024-11-19 22:52:10.786569 | 2024-11-19 22:56:40.783096 | 0 days 00:04:29.996527 |                  0.552128 |                     4 |                  0.837447 |             0.0117977  |              162 |                        90 |                  0.0524553 |                   239 |                 231 | COMPLETE |\n",
      "|  5 |        5 | 2.0958e+07  | 2024-11-19 22:56:40.833165 | 2024-11-19 22:59:24.484981 | 0 days 00:02:43.651816 |                  0.750425 |                     2 |                  0.664634 |             0.282      |              164 |                        24 |                  0.712577  |                   431 |                 239 | COMPLETE |\n",
      "|  6 |        6 | 3.2977e+08  | 2024-11-19 22:59:24.526975 | 2024-11-19 23:01:43.814890 | 0 days 00:02:19.287915 |                  0.739269 |                     2 |                  0.645256 |             0.00540413 |               85 |                        47 |                  0.969089  |                   263 |                  68 | COMPLETE |\n",
      "|  7 |        7 | 3.10441e+08 | 2024-11-19 23:01:43.865740 | 2024-11-19 23:04:02.867173 | 0 days 00:02:19.001433 |                  0.748357 |                     5 |                  0.88366  |             0.00457184 |               88 |                        24 |                  0.386016  |                   136 |                  34 | COMPLETE |\n",
      "|  8 |        8 | 1.92621e+08 | 2024-11-19 23:04:02.907174 | 2024-11-19 23:07:36.729069 | 0 days 00:03:33.821895 |                  0.82447  |                     2 |                  0.589949 |             0.00117788 |              146 |                        34 |                  0.471028  |                   205 |                 163 | COMPLETE |\n",
      "|  9 |        9 | 3.27273e+08 | 2024-11-19 23:07:36.773776 | 2024-11-19 23:11:02.298571 | 0 days 00:03:25.524795 |                  0.622776 |                     4 |                  0.817251 |             0.00541114 |               98 |                        80 |                  0.312022  |                    97 |                 195 | COMPLETE |\n",
      "\n",
      "Basic Statistics of Trials:\n",
      "\n",
      "|       |   number |         value | datetime_start                | datetime_complete             | duration                  |   params_bagging_fraction |   params_bagging_freq |   params_feature_fraction |   params_learning_rate |   params_max_bin |   params_min_data_in_leaf |   params_min_gain_to_split |   params_n_estimators |   params_num_leaves |\n",
      "|:------|---------:|--------------:|:------------------------------|:------------------------------|:--------------------------|--------------------------:|----------------------:|--------------------------:|-----------------------:|-----------------:|--------------------------:|---------------------------:|----------------------:|--------------------:|\n",
      "| count | 201      | 200           | 201                           | 201                           | 201                       |               201         |             201       |               201         |           201          |          201     |                  201      |                201         |              201      |            201      |\n",
      "| mean  | 100      |   3.31458e+08 | 2024-11-20 03:49:38.128131584 | 2024-11-20 03:52:46.858418176 | 0 days 00:03:08.730286611 |                 0.800278  |               4.85075 |                 0.622388  |             0.0302999  |          147.731 |                   67.995  |                  0.273541  |              410.532  |             68.4876 |\n",
      "| min   |   0      |   2.0958e+07  | 2024-11-19 22:39:55.915963    | 2024-11-19 22:43:04.160323    | 0 days 00:01:51.514822    |                 0.507442  |               1       |                 0.500323  |             0.00113786 |           68     |                   20      |                  0.0001589 |               59      |             31      |\n",
      "| 25%   |  50      |   3.36397e+08 | 2024-11-20 01:08:29.651496960 | 2024-11-20 01:11:25.610959872 | 0 days 00:02:50.358191    |                 0.775867  |               3       |                 0.541807  |             0.0168241  |          107     |                   51      |                  0.0609988 |              370      |             45      |\n",
      "| 50%   | 100      |   3.44939e+08 | 2024-11-20 03:47:34.346664960 | 2024-11-20 03:50:28.269163008 | 0 days 00:03:07.959434    |                 0.826709  |               6       |                 0.600138  |             0.02419    |          143     |                   64      |                  0.190614  |              442      |             56      |\n",
      "| 75%   | 150      |   3.47825e+08 | 2024-11-20 06:23:38.020708096 | 2024-11-20 06:27:03.469423104 | 0 days 00:03:23.932489    |                 0.855952  |               7       |                 0.670305  |             0.0322191  |          175     |                   94      |                  0.436633  |              469      |             73      |\n",
      "| max   | 200      |   3.52865e+08 | 2024-11-20 09:17:27.339491    | 2024-11-20 09:20:20.937901    | 0 days 00:05:05.441001    |                 0.899857  |               7       |                 0.895065  |             0.282      |          255     |                  100      |                  0.992397  |              500      |            255      |\n",
      "| std   |  58.1679 |   4.34081e+07 | nan                           | nan                           | 0 days 00:00:27.060854479 |                 0.0841977 |               2.1442  |                 0.0993118 |             0.0337198  |           45.851 |                   23.1472 |                  0.250664  |               85.3712 |             41.0235 |\n",
      "\n",
      "Best Trial:\n",
      "\n",
      "  Value: 352865333.3333334\n",
      "  Params:\n",
      "    n_estimators: 466\n",
      "    num_leaves: 57\n",
      "    learning_rate: 0.024563319625208798\n",
      "    min_data_in_leaf: 100\n",
      "    min_gain_to_split: 0.011030284732349089\n",
      "    feature_fraction: 0.5157056981996073\n",
      "    bagging_fraction: 0.8424259086760796\n",
      "    bagging_freq: 2\n",
      "    max_bin: 97\n"
     ]
    }
   ],
   "source": [
    "study = analyze_study(storage_name, study_name)"
   ]
  },
  {
   "cell_type": "code",
   "execution_count": 13,
   "metadata": {},
   "outputs": [
    {
     "data": {
      "application/vnd.plotly.v1+json": {
       "config": {
        "plotlyServerURL": "https://plot.ly"
       },
       "data": [
        {
         "mode": "markers",
         "name": "Objective Value",
         "type": "scatter",
         "x": [
          0,
          1,
          2,
          3,
          4,
          5,
          6,
          7,
          8,
          9,
          10,
          11,
          12,
          13,
          14,
          15,
          16,
          17,
          18,
          19,
          20,
          21,
          22,
          23,
          24,
          25,
          26,
          27,
          28,
          29,
          30,
          31,
          32,
          33,
          34,
          35,
          36,
          37,
          38,
          39,
          40,
          41,
          42,
          43,
          44,
          45,
          46,
          47,
          48,
          49,
          50,
          51,
          52,
          53,
          54,
          55,
          56,
          57,
          58,
          59,
          60,
          61,
          62,
          63,
          64,
          65,
          66,
          67,
          68,
          69,
          70,
          71,
          72,
          73,
          74,
          75,
          76,
          77,
          78,
          79,
          80,
          81,
          82,
          83,
          84,
          85,
          86,
          87,
          88,
          89,
          90,
          91,
          92,
          93,
          94,
          95,
          96,
          97,
          98,
          99,
          100,
          101,
          102,
          103,
          104,
          105,
          106,
          107,
          108,
          109,
          110,
          111,
          112,
          113,
          114,
          115,
          116,
          117,
          118,
          119,
          120,
          121,
          122,
          123,
          124,
          125,
          126,
          127,
          128,
          129,
          130,
          131,
          132,
          133,
          134,
          135,
          136,
          137,
          138,
          139,
          140,
          141,
          142,
          143,
          144,
          145,
          146,
          147,
          148,
          149,
          150,
          151,
          152,
          153,
          154,
          155,
          156,
          157,
          158,
          159,
          160,
          161,
          162,
          163,
          164,
          165,
          166,
          167,
          168,
          169,
          170,
          171,
          172,
          173,
          174,
          176,
          177,
          178,
          179,
          180,
          181,
          182,
          183,
          184,
          185,
          186,
          187,
          188,
          189,
          190,
          191,
          192,
          193,
          194,
          195,
          196,
          197,
          198,
          199,
          200
         ],
         "y": [
          70863333.33333334,
          196588000.00000003,
          238042000,
          319428666.6666667,
          323353333.3333334,
          20958000,
          329770000,
          310440666.6666667,
          192621333.33333334,
          327273333.3333334,
          330540000,
          325486000,
          343494666.6666667,
          321337333.3333334,
          326802000,
          298816000,
          344540000.00000006,
          341469333.3333334,
          337992666.6666667,
          288260000,
          217746666.6666667,
          341604666.6666667,
          341049333.3333334,
          335878666.6666667,
          336798000,
          342934666.6666667,
          334469333.3333334,
          323012666.6666667,
          298848666.6666667,
          175592666.6666667,
          340606000.0000001,
          343331333.3333334,
          330647333.3333334,
          291102000,
          309143333.3333334,
          205025333.33333334,
          333470666.6666667,
          335388666.6666667,
          319410000.00000006,
          332915333.3333334,
          329004666.6666667,
          342808666.6666667,
          342122666.6666667,
          336938000.00000006,
          337432666.6666667,
          335827333.3333334,
          305097333.3333334,
          316166666.6666667,
          340260666.6666667,
          337213333.3333334,
          302824666.6666667,
          341366666.6666667,
          344241333.3333334,
          324086000,
          347974666.6666667,
          336998666.6666667,
          343578666.6666667,
          332495333.3333334,
          340354000.00000006,
          337918000,
          202505333.33333334,
          344964666.6666667,
          348371333.3333334,
          289748666.6666667,
          347951333.3333334,
          351232000.00000006,
          347442666.66666675,
          344717333.3333334,
          344050000,
          336830666.6666667,
          319400666.6666667,
          347690000,
          343228666.6666667,
          346640000,
          336569333.3333334,
          345772000.00000006,
          345272666.6666667,
          350079333.3333334,
          347839333.3333334,
          345548000,
          345375333.3333334,
          344908666.6666667,
          220010000,
          347727333.3333334,
          350709333.3333334,
          343242666.6666667,
          346430000,
          344997333.3333334,
          344978666.6666667,
          347736666.6666667,
          342524000,
          346910666.6666667,
          350844666.6666667,
          329462000.00000006,
          344913333.3333334,
          333657333.3333334,
          347316666.6666667,
          346369333.3333334,
          344274000,
          337208666.6666667,
          346038000,
          344404666.6666667,
          343513333.3333334,
          346504666.6666667,
          346047333.3333334,
          346668000,
          345058000,
          343672000.00000006,
          345408000,
          343779333.3333334,
          346402000,
          343998666.66666675,
          344787333.3333334,
          347158000,
          345655333.3333334,
          333741333.3333334,
          346182666.6666667,
          345940000.00000006,
          346896666.66666675,
          337824666.6666667,
          350714000,
          346416000.00000006,
          344036000.00000006,
          345151333.3333334,
          348922000,
          350037333.3333334,
          347820666.6666667,
          350144666.6666667,
          349608000,
          343532000.00000006,
          346994666.6666667,
          346318000,
          346518666.6666667,
          348035333.3333334,
          348040000,
          347769333.3333334,
          348147333.3333334,
          145623333.33333334,
          348548666.6666667,
          342300000,
          350933333.3333334,
          349332666.6666667,
          351269333.3333334,
          344591333.3333334,
          343886666.6666667,
          349570666.6666667,
          344586666.6666667,
          351087333.3333334,
          347050666.6666667,
          332528000,
          347881333.3333334,
          346024000.0000001,
          347615333.3333334,
          334469333.3333334,
          351409333.3333334,
          350368666.6666667,
          345650666.6666667,
          351955333.3333334,
          346588666.6666667,
          348026000.00000006,
          347064666.6666667,
          346290000.00000006,
          349505333.3333334,
          342780666.6666667,
          343756000,
          334600000,
          347965333.3333334,
          310086000.00000006,
          351614666.6666667,
          352865333.3333334,
          349780666.6666667,
          349066666.6666667,
          351274000,
          350009333.3333334,
          349906666.6666667,
          347522000,
          349365333.3333334,
          351409333.3333334,
          350317333.3333334,
          345986666.6666667,
          350140000.00000006,
          344596000.00000006,
          348287333.3333334,
          352053333.3333334,
          349804000,
          348385333.3333334,
          345856000,
          351040666.66666675,
          350630000,
          347176666.6666667,
          349766666.6666667,
          346014666.6666667,
          285576666.6666667,
          347643333.3333334,
          351488666.6666667,
          349701333.3333334,
          347340000,
          342734000.00000006,
          347424000,
          348390000
         ]
        },
        {
         "mode": "lines",
         "name": "Best Value",
         "type": "scatter",
         "x": [
          0,
          1,
          2,
          3,
          4,
          5,
          6,
          7,
          8,
          9,
          10,
          11,
          12,
          13,
          14,
          15,
          16,
          17,
          18,
          19,
          20,
          21,
          22,
          23,
          24,
          25,
          26,
          27,
          28,
          29,
          30,
          31,
          32,
          33,
          34,
          35,
          36,
          37,
          38,
          39,
          40,
          41,
          42,
          43,
          44,
          45,
          46,
          47,
          48,
          49,
          50,
          51,
          52,
          53,
          54,
          55,
          56,
          57,
          58,
          59,
          60,
          61,
          62,
          63,
          64,
          65,
          66,
          67,
          68,
          69,
          70,
          71,
          72,
          73,
          74,
          75,
          76,
          77,
          78,
          79,
          80,
          81,
          82,
          83,
          84,
          85,
          86,
          87,
          88,
          89,
          90,
          91,
          92,
          93,
          94,
          95,
          96,
          97,
          98,
          99,
          100,
          101,
          102,
          103,
          104,
          105,
          106,
          107,
          108,
          109,
          110,
          111,
          112,
          113,
          114,
          115,
          116,
          117,
          118,
          119,
          120,
          121,
          122,
          123,
          124,
          125,
          126,
          127,
          128,
          129,
          130,
          131,
          132,
          133,
          134,
          135,
          136,
          137,
          138,
          139,
          140,
          141,
          142,
          143,
          144,
          145,
          146,
          147,
          148,
          149,
          150,
          151,
          152,
          153,
          154,
          155,
          156,
          157,
          158,
          159,
          160,
          161,
          162,
          163,
          164,
          165,
          166,
          167,
          168,
          169,
          170,
          171,
          172,
          173,
          174,
          175,
          176,
          177,
          178,
          179,
          180,
          181,
          182,
          183,
          184,
          185,
          186,
          187,
          188,
          189,
          190,
          191,
          192,
          193,
          194,
          195,
          196,
          197,
          198,
          199,
          200
         ],
         "y": [
          70863333.33333334,
          196588000.00000003,
          238042000,
          319428666.6666667,
          323353333.3333334,
          323353333.3333334,
          329770000,
          329770000,
          329770000,
          329770000,
          330540000,
          330540000,
          343494666.6666667,
          343494666.6666667,
          343494666.6666667,
          343494666.6666667,
          344540000.00000006,
          344540000.00000006,
          344540000.00000006,
          344540000.00000006,
          344540000.00000006,
          344540000.00000006,
          344540000.00000006,
          344540000.00000006,
          344540000.00000006,
          344540000.00000006,
          344540000.00000006,
          344540000.00000006,
          344540000.00000006,
          344540000.00000006,
          344540000.00000006,
          344540000.00000006,
          344540000.00000006,
          344540000.00000006,
          344540000.00000006,
          344540000.00000006,
          344540000.00000006,
          344540000.00000006,
          344540000.00000006,
          344540000.00000006,
          344540000.00000006,
          344540000.00000006,
          344540000.00000006,
          344540000.00000006,
          344540000.00000006,
          344540000.00000006,
          344540000.00000006,
          344540000.00000006,
          344540000.00000006,
          344540000.00000006,
          344540000.00000006,
          344540000.00000006,
          344540000.00000006,
          344540000.00000006,
          347974666.6666667,
          347974666.6666667,
          347974666.6666667,
          347974666.6666667,
          347974666.6666667,
          347974666.6666667,
          347974666.6666667,
          347974666.6666667,
          348371333.3333334,
          348371333.3333334,
          348371333.3333334,
          351232000.00000006,
          351232000.00000006,
          351232000.00000006,
          351232000.00000006,
          351232000.00000006,
          351232000.00000006,
          351232000.00000006,
          351232000.00000006,
          351232000.00000006,
          351232000.00000006,
          351232000.00000006,
          351232000.00000006,
          351232000.00000006,
          351232000.00000006,
          351232000.00000006,
          351232000.00000006,
          351232000.00000006,
          351232000.00000006,
          351232000.00000006,
          351232000.00000006,
          351232000.00000006,
          351232000.00000006,
          351232000.00000006,
          351232000.00000006,
          351232000.00000006,
          351232000.00000006,
          351232000.00000006,
          351232000.00000006,
          351232000.00000006,
          351232000.00000006,
          351232000.00000006,
          351232000.00000006,
          351232000.00000006,
          351232000.00000006,
          351232000.00000006,
          351232000.00000006,
          351232000.00000006,
          351232000.00000006,
          351232000.00000006,
          351232000.00000006,
          351232000.00000006,
          351232000.00000006,
          351232000.00000006,
          351232000.00000006,
          351232000.00000006,
          351232000.00000006,
          351232000.00000006,
          351232000.00000006,
          351232000.00000006,
          351232000.00000006,
          351232000.00000006,
          351232000.00000006,
          351232000.00000006,
          351232000.00000006,
          351232000.00000006,
          351232000.00000006,
          351232000.00000006,
          351232000.00000006,
          351232000.00000006,
          351232000.00000006,
          351232000.00000006,
          351232000.00000006,
          351232000.00000006,
          351232000.00000006,
          351232000.00000006,
          351232000.00000006,
          351232000.00000006,
          351232000.00000006,
          351232000.00000006,
          351232000.00000006,
          351232000.00000006,
          351232000.00000006,
          351232000.00000006,
          351232000.00000006,
          351232000.00000006,
          351232000.00000006,
          351232000.00000006,
          351269333.3333334,
          351269333.3333334,
          351269333.3333334,
          351269333.3333334,
          351269333.3333334,
          351269333.3333334,
          351269333.3333334,
          351269333.3333334,
          351269333.3333334,
          351269333.3333334,
          351269333.3333334,
          351269333.3333334,
          351409333.3333334,
          351409333.3333334,
          351409333.3333334,
          351955333.3333334,
          351955333.3333334,
          351955333.3333334,
          351955333.3333334,
          351955333.3333334,
          351955333.3333334,
          351955333.3333334,
          351955333.3333334,
          351955333.3333334,
          351955333.3333334,
          351955333.3333334,
          351955333.3333334,
          352865333.3333334,
          352865333.3333334,
          352865333.3333334,
          352865333.3333334,
          352865333.3333334,
          352865333.3333334,
          352865333.3333334,
          352865333.3333334,
          352865333.3333334,
          352865333.3333334,
          352865333.3333334,
          352865333.3333334,
          352865333.3333334,
          352865333.3333334,
          352865333.3333334,
          352865333.3333334,
          352865333.3333334,
          352865333.3333334,
          352865333.3333334,
          352865333.3333334,
          352865333.3333334,
          352865333.3333334,
          352865333.3333334,
          352865333.3333334,
          352865333.3333334,
          352865333.3333334,
          352865333.3333334,
          352865333.3333334,
          352865333.3333334,
          352865333.3333334,
          352865333.3333334,
          352865333.3333334
         ]
        },
        {
         "marker": {
          "color": "#cccccc"
         },
         "mode": "markers",
         "name": "Infeasible Trial",
         "showlegend": false,
         "type": "scatter",
         "x": [],
         "y": []
        }
       ],
       "layout": {
        "template": {
         "data": {
          "bar": [
           {
            "error_x": {
             "color": "#2a3f5f"
            },
            "error_y": {
             "color": "#2a3f5f"
            },
            "marker": {
             "line": {
              "color": "#E5ECF6",
              "width": 0.5
             },
             "pattern": {
              "fillmode": "overlay",
              "size": 10,
              "solidity": 0.2
             }
            },
            "type": "bar"
           }
          ],
          "barpolar": [
           {
            "marker": {
             "line": {
              "color": "#E5ECF6",
              "width": 0.5
             },
             "pattern": {
              "fillmode": "overlay",
              "size": 10,
              "solidity": 0.2
             }
            },
            "type": "barpolar"
           }
          ],
          "carpet": [
           {
            "aaxis": {
             "endlinecolor": "#2a3f5f",
             "gridcolor": "white",
             "linecolor": "white",
             "minorgridcolor": "white",
             "startlinecolor": "#2a3f5f"
            },
            "baxis": {
             "endlinecolor": "#2a3f5f",
             "gridcolor": "white",
             "linecolor": "white",
             "minorgridcolor": "white",
             "startlinecolor": "#2a3f5f"
            },
            "type": "carpet"
           }
          ],
          "choropleth": [
           {
            "colorbar": {
             "outlinewidth": 0,
             "ticks": ""
            },
            "type": "choropleth"
           }
          ],
          "contour": [
           {
            "colorbar": {
             "outlinewidth": 0,
             "ticks": ""
            },
            "colorscale": [
             [
              0,
              "#0d0887"
             ],
             [
              0.1111111111111111,
              "#46039f"
             ],
             [
              0.2222222222222222,
              "#7201a8"
             ],
             [
              0.3333333333333333,
              "#9c179e"
             ],
             [
              0.4444444444444444,
              "#bd3786"
             ],
             [
              0.5555555555555556,
              "#d8576b"
             ],
             [
              0.6666666666666666,
              "#ed7953"
             ],
             [
              0.7777777777777778,
              "#fb9f3a"
             ],
             [
              0.8888888888888888,
              "#fdca26"
             ],
             [
              1,
              "#f0f921"
             ]
            ],
            "type": "contour"
           }
          ],
          "contourcarpet": [
           {
            "colorbar": {
             "outlinewidth": 0,
             "ticks": ""
            },
            "type": "contourcarpet"
           }
          ],
          "heatmap": [
           {
            "colorbar": {
             "outlinewidth": 0,
             "ticks": ""
            },
            "colorscale": [
             [
              0,
              "#0d0887"
             ],
             [
              0.1111111111111111,
              "#46039f"
             ],
             [
              0.2222222222222222,
              "#7201a8"
             ],
             [
              0.3333333333333333,
              "#9c179e"
             ],
             [
              0.4444444444444444,
              "#bd3786"
             ],
             [
              0.5555555555555556,
              "#d8576b"
             ],
             [
              0.6666666666666666,
              "#ed7953"
             ],
             [
              0.7777777777777778,
              "#fb9f3a"
             ],
             [
              0.8888888888888888,
              "#fdca26"
             ],
             [
              1,
              "#f0f921"
             ]
            ],
            "type": "heatmap"
           }
          ],
          "heatmapgl": [
           {
            "colorbar": {
             "outlinewidth": 0,
             "ticks": ""
            },
            "colorscale": [
             [
              0,
              "#0d0887"
             ],
             [
              0.1111111111111111,
              "#46039f"
             ],
             [
              0.2222222222222222,
              "#7201a8"
             ],
             [
              0.3333333333333333,
              "#9c179e"
             ],
             [
              0.4444444444444444,
              "#bd3786"
             ],
             [
              0.5555555555555556,
              "#d8576b"
             ],
             [
              0.6666666666666666,
              "#ed7953"
             ],
             [
              0.7777777777777778,
              "#fb9f3a"
             ],
             [
              0.8888888888888888,
              "#fdca26"
             ],
             [
              1,
              "#f0f921"
             ]
            ],
            "type": "heatmapgl"
           }
          ],
          "histogram": [
           {
            "marker": {
             "pattern": {
              "fillmode": "overlay",
              "size": 10,
              "solidity": 0.2
             }
            },
            "type": "histogram"
           }
          ],
          "histogram2d": [
           {
            "colorbar": {
             "outlinewidth": 0,
             "ticks": ""
            },
            "colorscale": [
             [
              0,
              "#0d0887"
             ],
             [
              0.1111111111111111,
              "#46039f"
             ],
             [
              0.2222222222222222,
              "#7201a8"
             ],
             [
              0.3333333333333333,
              "#9c179e"
             ],
             [
              0.4444444444444444,
              "#bd3786"
             ],
             [
              0.5555555555555556,
              "#d8576b"
             ],
             [
              0.6666666666666666,
              "#ed7953"
             ],
             [
              0.7777777777777778,
              "#fb9f3a"
             ],
             [
              0.8888888888888888,
              "#fdca26"
             ],
             [
              1,
              "#f0f921"
             ]
            ],
            "type": "histogram2d"
           }
          ],
          "histogram2dcontour": [
           {
            "colorbar": {
             "outlinewidth": 0,
             "ticks": ""
            },
            "colorscale": [
             [
              0,
              "#0d0887"
             ],
             [
              0.1111111111111111,
              "#46039f"
             ],
             [
              0.2222222222222222,
              "#7201a8"
             ],
             [
              0.3333333333333333,
              "#9c179e"
             ],
             [
              0.4444444444444444,
              "#bd3786"
             ],
             [
              0.5555555555555556,
              "#d8576b"
             ],
             [
              0.6666666666666666,
              "#ed7953"
             ],
             [
              0.7777777777777778,
              "#fb9f3a"
             ],
             [
              0.8888888888888888,
              "#fdca26"
             ],
             [
              1,
              "#f0f921"
             ]
            ],
            "type": "histogram2dcontour"
           }
          ],
          "mesh3d": [
           {
            "colorbar": {
             "outlinewidth": 0,
             "ticks": ""
            },
            "type": "mesh3d"
           }
          ],
          "parcoords": [
           {
            "line": {
             "colorbar": {
              "outlinewidth": 0,
              "ticks": ""
             }
            },
            "type": "parcoords"
           }
          ],
          "pie": [
           {
            "automargin": true,
            "type": "pie"
           }
          ],
          "scatter": [
           {
            "fillpattern": {
             "fillmode": "overlay",
             "size": 10,
             "solidity": 0.2
            },
            "type": "scatter"
           }
          ],
          "scatter3d": [
           {
            "line": {
             "colorbar": {
              "outlinewidth": 0,
              "ticks": ""
             }
            },
            "marker": {
             "colorbar": {
              "outlinewidth": 0,
              "ticks": ""
             }
            },
            "type": "scatter3d"
           }
          ],
          "scattercarpet": [
           {
            "marker": {
             "colorbar": {
              "outlinewidth": 0,
              "ticks": ""
             }
            },
            "type": "scattercarpet"
           }
          ],
          "scattergeo": [
           {
            "marker": {
             "colorbar": {
              "outlinewidth": 0,
              "ticks": ""
             }
            },
            "type": "scattergeo"
           }
          ],
          "scattergl": [
           {
            "marker": {
             "colorbar": {
              "outlinewidth": 0,
              "ticks": ""
             }
            },
            "type": "scattergl"
           }
          ],
          "scattermapbox": [
           {
            "marker": {
             "colorbar": {
              "outlinewidth": 0,
              "ticks": ""
             }
            },
            "type": "scattermapbox"
           }
          ],
          "scatterpolar": [
           {
            "marker": {
             "colorbar": {
              "outlinewidth": 0,
              "ticks": ""
             }
            },
            "type": "scatterpolar"
           }
          ],
          "scatterpolargl": [
           {
            "marker": {
             "colorbar": {
              "outlinewidth": 0,
              "ticks": ""
             }
            },
            "type": "scatterpolargl"
           }
          ],
          "scatterternary": [
           {
            "marker": {
             "colorbar": {
              "outlinewidth": 0,
              "ticks": ""
             }
            },
            "type": "scatterternary"
           }
          ],
          "surface": [
           {
            "colorbar": {
             "outlinewidth": 0,
             "ticks": ""
            },
            "colorscale": [
             [
              0,
              "#0d0887"
             ],
             [
              0.1111111111111111,
              "#46039f"
             ],
             [
              0.2222222222222222,
              "#7201a8"
             ],
             [
              0.3333333333333333,
              "#9c179e"
             ],
             [
              0.4444444444444444,
              "#bd3786"
             ],
             [
              0.5555555555555556,
              "#d8576b"
             ],
             [
              0.6666666666666666,
              "#ed7953"
             ],
             [
              0.7777777777777778,
              "#fb9f3a"
             ],
             [
              0.8888888888888888,
              "#fdca26"
             ],
             [
              1,
              "#f0f921"
             ]
            ],
            "type": "surface"
           }
          ],
          "table": [
           {
            "cells": {
             "fill": {
              "color": "#EBF0F8"
             },
             "line": {
              "color": "white"
             }
            },
            "header": {
             "fill": {
              "color": "#C8D4E3"
             },
             "line": {
              "color": "white"
             }
            },
            "type": "table"
           }
          ]
         },
         "layout": {
          "annotationdefaults": {
           "arrowcolor": "#2a3f5f",
           "arrowhead": 0,
           "arrowwidth": 1
          },
          "autotypenumbers": "strict",
          "coloraxis": {
           "colorbar": {
            "outlinewidth": 0,
            "ticks": ""
           }
          },
          "colorscale": {
           "diverging": [
            [
             0,
             "#8e0152"
            ],
            [
             0.1,
             "#c51b7d"
            ],
            [
             0.2,
             "#de77ae"
            ],
            [
             0.3,
             "#f1b6da"
            ],
            [
             0.4,
             "#fde0ef"
            ],
            [
             0.5,
             "#f7f7f7"
            ],
            [
             0.6,
             "#e6f5d0"
            ],
            [
             0.7,
             "#b8e186"
            ],
            [
             0.8,
             "#7fbc41"
            ],
            [
             0.9,
             "#4d9221"
            ],
            [
             1,
             "#276419"
            ]
           ],
           "sequential": [
            [
             0,
             "#0d0887"
            ],
            [
             0.1111111111111111,
             "#46039f"
            ],
            [
             0.2222222222222222,
             "#7201a8"
            ],
            [
             0.3333333333333333,
             "#9c179e"
            ],
            [
             0.4444444444444444,
             "#bd3786"
            ],
            [
             0.5555555555555556,
             "#d8576b"
            ],
            [
             0.6666666666666666,
             "#ed7953"
            ],
            [
             0.7777777777777778,
             "#fb9f3a"
            ],
            [
             0.8888888888888888,
             "#fdca26"
            ],
            [
             1,
             "#f0f921"
            ]
           ],
           "sequentialminus": [
            [
             0,
             "#0d0887"
            ],
            [
             0.1111111111111111,
             "#46039f"
            ],
            [
             0.2222222222222222,
             "#7201a8"
            ],
            [
             0.3333333333333333,
             "#9c179e"
            ],
            [
             0.4444444444444444,
             "#bd3786"
            ],
            [
             0.5555555555555556,
             "#d8576b"
            ],
            [
             0.6666666666666666,
             "#ed7953"
            ],
            [
             0.7777777777777778,
             "#fb9f3a"
            ],
            [
             0.8888888888888888,
             "#fdca26"
            ],
            [
             1,
             "#f0f921"
            ]
           ]
          },
          "colorway": [
           "#636efa",
           "#EF553B",
           "#00cc96",
           "#ab63fa",
           "#FFA15A",
           "#19d3f3",
           "#FF6692",
           "#B6E880",
           "#FF97FF",
           "#FECB52"
          ],
          "font": {
           "color": "#2a3f5f"
          },
          "geo": {
           "bgcolor": "white",
           "lakecolor": "white",
           "landcolor": "#E5ECF6",
           "showlakes": true,
           "showland": true,
           "subunitcolor": "white"
          },
          "hoverlabel": {
           "align": "left"
          },
          "hovermode": "closest",
          "mapbox": {
           "style": "light"
          },
          "paper_bgcolor": "white",
          "plot_bgcolor": "#E5ECF6",
          "polar": {
           "angularaxis": {
            "gridcolor": "white",
            "linecolor": "white",
            "ticks": ""
           },
           "bgcolor": "#E5ECF6",
           "radialaxis": {
            "gridcolor": "white",
            "linecolor": "white",
            "ticks": ""
           }
          },
          "scene": {
           "xaxis": {
            "backgroundcolor": "#E5ECF6",
            "gridcolor": "white",
            "gridwidth": 2,
            "linecolor": "white",
            "showbackground": true,
            "ticks": "",
            "zerolinecolor": "white"
           },
           "yaxis": {
            "backgroundcolor": "#E5ECF6",
            "gridcolor": "white",
            "gridwidth": 2,
            "linecolor": "white",
            "showbackground": true,
            "ticks": "",
            "zerolinecolor": "white"
           },
           "zaxis": {
            "backgroundcolor": "#E5ECF6",
            "gridcolor": "white",
            "gridwidth": 2,
            "linecolor": "white",
            "showbackground": true,
            "ticks": "",
            "zerolinecolor": "white"
           }
          },
          "shapedefaults": {
           "line": {
            "color": "#2a3f5f"
           }
          },
          "ternary": {
           "aaxis": {
            "gridcolor": "white",
            "linecolor": "white",
            "ticks": ""
           },
           "baxis": {
            "gridcolor": "white",
            "linecolor": "white",
            "ticks": ""
           },
           "bgcolor": "#E5ECF6",
           "caxis": {
            "gridcolor": "white",
            "linecolor": "white",
            "ticks": ""
           }
          },
          "title": {
           "x": 0.05
          },
          "xaxis": {
           "automargin": true,
           "gridcolor": "white",
           "linecolor": "white",
           "ticks": "",
           "title": {
            "standoff": 15
           },
           "zerolinecolor": "white",
           "zerolinewidth": 2
          },
          "yaxis": {
           "automargin": true,
           "gridcolor": "white",
           "linecolor": "white",
           "ticks": "",
           "title": {
            "standoff": 15
           },
           "zerolinecolor": "white",
           "zerolinewidth": 2
          }
         }
        },
        "title": {
         "text": "Optimization History Plot"
        },
        "xaxis": {
         "title": {
          "text": "Trial"
         }
        },
        "yaxis": {
         "title": {
          "text": "Objective Value"
         }
        }
       }
      }
     },
     "metadata": {},
     "output_type": "display_data"
    }
   ],
   "source": [
    "optuna.visualization.plot_optimization_history(study)"
   ]
  },
  {
   "cell_type": "code",
   "execution_count": 14,
   "metadata": {},
   "outputs": [
    {
     "data": {
      "application/vnd.plotly.v1+json": {
       "config": {
        "plotlyServerURL": "https://plot.ly"
       },
       "data": [
        {
         "cliponaxis": false,
         "hovertemplate": [
          "n_estimators (IntDistribution): 0.011932657885309433<extra></extra>",
          "num_leaves (IntDistribution): 0.017372036980496063<extra></extra>",
          "max_bin (IntDistribution): 0.020401225183628736<extra></extra>",
          "bagging_freq (IntDistribution): 0.022148249642793518<extra></extra>",
          "min_data_in_leaf (IntDistribution): 0.025719682850940197<extra></extra>",
          "bagging_fraction (FloatDistribution): 0.02910900480593503<extra></extra>",
          "min_gain_to_split (FloatDistribution): 0.042795457343985<extra></extra>",
          "feature_fraction (FloatDistribution): 0.04398617204602145<extra></extra>",
          "learning_rate (FloatDistribution): 0.7865355132608907<extra></extra>"
         ],
         "name": "Objective Value",
         "orientation": "h",
         "text": [
          "0.01",
          "0.02",
          "0.02",
          "0.02",
          "0.03",
          "0.03",
          "0.04",
          "0.04",
          "0.79"
         ],
         "textposition": "outside",
         "type": "bar",
         "x": [
          0.011932657885309433,
          0.017372036980496063,
          0.020401225183628736,
          0.022148249642793518,
          0.025719682850940197,
          0.02910900480593503,
          0.042795457343985,
          0.04398617204602145,
          0.7865355132608907
         ],
         "y": [
          "n_estimators",
          "num_leaves",
          "max_bin",
          "bagging_freq",
          "min_data_in_leaf",
          "bagging_fraction",
          "min_gain_to_split",
          "feature_fraction",
          "learning_rate"
         ]
        }
       ],
       "layout": {
        "template": {
         "data": {
          "bar": [
           {
            "error_x": {
             "color": "#2a3f5f"
            },
            "error_y": {
             "color": "#2a3f5f"
            },
            "marker": {
             "line": {
              "color": "#E5ECF6",
              "width": 0.5
             },
             "pattern": {
              "fillmode": "overlay",
              "size": 10,
              "solidity": 0.2
             }
            },
            "type": "bar"
           }
          ],
          "barpolar": [
           {
            "marker": {
             "line": {
              "color": "#E5ECF6",
              "width": 0.5
             },
             "pattern": {
              "fillmode": "overlay",
              "size": 10,
              "solidity": 0.2
             }
            },
            "type": "barpolar"
           }
          ],
          "carpet": [
           {
            "aaxis": {
             "endlinecolor": "#2a3f5f",
             "gridcolor": "white",
             "linecolor": "white",
             "minorgridcolor": "white",
             "startlinecolor": "#2a3f5f"
            },
            "baxis": {
             "endlinecolor": "#2a3f5f",
             "gridcolor": "white",
             "linecolor": "white",
             "minorgridcolor": "white",
             "startlinecolor": "#2a3f5f"
            },
            "type": "carpet"
           }
          ],
          "choropleth": [
           {
            "colorbar": {
             "outlinewidth": 0,
             "ticks": ""
            },
            "type": "choropleth"
           }
          ],
          "contour": [
           {
            "colorbar": {
             "outlinewidth": 0,
             "ticks": ""
            },
            "colorscale": [
             [
              0,
              "#0d0887"
             ],
             [
              0.1111111111111111,
              "#46039f"
             ],
             [
              0.2222222222222222,
              "#7201a8"
             ],
             [
              0.3333333333333333,
              "#9c179e"
             ],
             [
              0.4444444444444444,
              "#bd3786"
             ],
             [
              0.5555555555555556,
              "#d8576b"
             ],
             [
              0.6666666666666666,
              "#ed7953"
             ],
             [
              0.7777777777777778,
              "#fb9f3a"
             ],
             [
              0.8888888888888888,
              "#fdca26"
             ],
             [
              1,
              "#f0f921"
             ]
            ],
            "type": "contour"
           }
          ],
          "contourcarpet": [
           {
            "colorbar": {
             "outlinewidth": 0,
             "ticks": ""
            },
            "type": "contourcarpet"
           }
          ],
          "heatmap": [
           {
            "colorbar": {
             "outlinewidth": 0,
             "ticks": ""
            },
            "colorscale": [
             [
              0,
              "#0d0887"
             ],
             [
              0.1111111111111111,
              "#46039f"
             ],
             [
              0.2222222222222222,
              "#7201a8"
             ],
             [
              0.3333333333333333,
              "#9c179e"
             ],
             [
              0.4444444444444444,
              "#bd3786"
             ],
             [
              0.5555555555555556,
              "#d8576b"
             ],
             [
              0.6666666666666666,
              "#ed7953"
             ],
             [
              0.7777777777777778,
              "#fb9f3a"
             ],
             [
              0.8888888888888888,
              "#fdca26"
             ],
             [
              1,
              "#f0f921"
             ]
            ],
            "type": "heatmap"
           }
          ],
          "heatmapgl": [
           {
            "colorbar": {
             "outlinewidth": 0,
             "ticks": ""
            },
            "colorscale": [
             [
              0,
              "#0d0887"
             ],
             [
              0.1111111111111111,
              "#46039f"
             ],
             [
              0.2222222222222222,
              "#7201a8"
             ],
             [
              0.3333333333333333,
              "#9c179e"
             ],
             [
              0.4444444444444444,
              "#bd3786"
             ],
             [
              0.5555555555555556,
              "#d8576b"
             ],
             [
              0.6666666666666666,
              "#ed7953"
             ],
             [
              0.7777777777777778,
              "#fb9f3a"
             ],
             [
              0.8888888888888888,
              "#fdca26"
             ],
             [
              1,
              "#f0f921"
             ]
            ],
            "type": "heatmapgl"
           }
          ],
          "histogram": [
           {
            "marker": {
             "pattern": {
              "fillmode": "overlay",
              "size": 10,
              "solidity": 0.2
             }
            },
            "type": "histogram"
           }
          ],
          "histogram2d": [
           {
            "colorbar": {
             "outlinewidth": 0,
             "ticks": ""
            },
            "colorscale": [
             [
              0,
              "#0d0887"
             ],
             [
              0.1111111111111111,
              "#46039f"
             ],
             [
              0.2222222222222222,
              "#7201a8"
             ],
             [
              0.3333333333333333,
              "#9c179e"
             ],
             [
              0.4444444444444444,
              "#bd3786"
             ],
             [
              0.5555555555555556,
              "#d8576b"
             ],
             [
              0.6666666666666666,
              "#ed7953"
             ],
             [
              0.7777777777777778,
              "#fb9f3a"
             ],
             [
              0.8888888888888888,
              "#fdca26"
             ],
             [
              1,
              "#f0f921"
             ]
            ],
            "type": "histogram2d"
           }
          ],
          "histogram2dcontour": [
           {
            "colorbar": {
             "outlinewidth": 0,
             "ticks": ""
            },
            "colorscale": [
             [
              0,
              "#0d0887"
             ],
             [
              0.1111111111111111,
              "#46039f"
             ],
             [
              0.2222222222222222,
              "#7201a8"
             ],
             [
              0.3333333333333333,
              "#9c179e"
             ],
             [
              0.4444444444444444,
              "#bd3786"
             ],
             [
              0.5555555555555556,
              "#d8576b"
             ],
             [
              0.6666666666666666,
              "#ed7953"
             ],
             [
              0.7777777777777778,
              "#fb9f3a"
             ],
             [
              0.8888888888888888,
              "#fdca26"
             ],
             [
              1,
              "#f0f921"
             ]
            ],
            "type": "histogram2dcontour"
           }
          ],
          "mesh3d": [
           {
            "colorbar": {
             "outlinewidth": 0,
             "ticks": ""
            },
            "type": "mesh3d"
           }
          ],
          "parcoords": [
           {
            "line": {
             "colorbar": {
              "outlinewidth": 0,
              "ticks": ""
             }
            },
            "type": "parcoords"
           }
          ],
          "pie": [
           {
            "automargin": true,
            "type": "pie"
           }
          ],
          "scatter": [
           {
            "fillpattern": {
             "fillmode": "overlay",
             "size": 10,
             "solidity": 0.2
            },
            "type": "scatter"
           }
          ],
          "scatter3d": [
           {
            "line": {
             "colorbar": {
              "outlinewidth": 0,
              "ticks": ""
             }
            },
            "marker": {
             "colorbar": {
              "outlinewidth": 0,
              "ticks": ""
             }
            },
            "type": "scatter3d"
           }
          ],
          "scattercarpet": [
           {
            "marker": {
             "colorbar": {
              "outlinewidth": 0,
              "ticks": ""
             }
            },
            "type": "scattercarpet"
           }
          ],
          "scattergeo": [
           {
            "marker": {
             "colorbar": {
              "outlinewidth": 0,
              "ticks": ""
             }
            },
            "type": "scattergeo"
           }
          ],
          "scattergl": [
           {
            "marker": {
             "colorbar": {
              "outlinewidth": 0,
              "ticks": ""
             }
            },
            "type": "scattergl"
           }
          ],
          "scattermapbox": [
           {
            "marker": {
             "colorbar": {
              "outlinewidth": 0,
              "ticks": ""
             }
            },
            "type": "scattermapbox"
           }
          ],
          "scatterpolar": [
           {
            "marker": {
             "colorbar": {
              "outlinewidth": 0,
              "ticks": ""
             }
            },
            "type": "scatterpolar"
           }
          ],
          "scatterpolargl": [
           {
            "marker": {
             "colorbar": {
              "outlinewidth": 0,
              "ticks": ""
             }
            },
            "type": "scatterpolargl"
           }
          ],
          "scatterternary": [
           {
            "marker": {
             "colorbar": {
              "outlinewidth": 0,
              "ticks": ""
             }
            },
            "type": "scatterternary"
           }
          ],
          "surface": [
           {
            "colorbar": {
             "outlinewidth": 0,
             "ticks": ""
            },
            "colorscale": [
             [
              0,
              "#0d0887"
             ],
             [
              0.1111111111111111,
              "#46039f"
             ],
             [
              0.2222222222222222,
              "#7201a8"
             ],
             [
              0.3333333333333333,
              "#9c179e"
             ],
             [
              0.4444444444444444,
              "#bd3786"
             ],
             [
              0.5555555555555556,
              "#d8576b"
             ],
             [
              0.6666666666666666,
              "#ed7953"
             ],
             [
              0.7777777777777778,
              "#fb9f3a"
             ],
             [
              0.8888888888888888,
              "#fdca26"
             ],
             [
              1,
              "#f0f921"
             ]
            ],
            "type": "surface"
           }
          ],
          "table": [
           {
            "cells": {
             "fill": {
              "color": "#EBF0F8"
             },
             "line": {
              "color": "white"
             }
            },
            "header": {
             "fill": {
              "color": "#C8D4E3"
             },
             "line": {
              "color": "white"
             }
            },
            "type": "table"
           }
          ]
         },
         "layout": {
          "annotationdefaults": {
           "arrowcolor": "#2a3f5f",
           "arrowhead": 0,
           "arrowwidth": 1
          },
          "autotypenumbers": "strict",
          "coloraxis": {
           "colorbar": {
            "outlinewidth": 0,
            "ticks": ""
           }
          },
          "colorscale": {
           "diverging": [
            [
             0,
             "#8e0152"
            ],
            [
             0.1,
             "#c51b7d"
            ],
            [
             0.2,
             "#de77ae"
            ],
            [
             0.3,
             "#f1b6da"
            ],
            [
             0.4,
             "#fde0ef"
            ],
            [
             0.5,
             "#f7f7f7"
            ],
            [
             0.6,
             "#e6f5d0"
            ],
            [
             0.7,
             "#b8e186"
            ],
            [
             0.8,
             "#7fbc41"
            ],
            [
             0.9,
             "#4d9221"
            ],
            [
             1,
             "#276419"
            ]
           ],
           "sequential": [
            [
             0,
             "#0d0887"
            ],
            [
             0.1111111111111111,
             "#46039f"
            ],
            [
             0.2222222222222222,
             "#7201a8"
            ],
            [
             0.3333333333333333,
             "#9c179e"
            ],
            [
             0.4444444444444444,
             "#bd3786"
            ],
            [
             0.5555555555555556,
             "#d8576b"
            ],
            [
             0.6666666666666666,
             "#ed7953"
            ],
            [
             0.7777777777777778,
             "#fb9f3a"
            ],
            [
             0.8888888888888888,
             "#fdca26"
            ],
            [
             1,
             "#f0f921"
            ]
           ],
           "sequentialminus": [
            [
             0,
             "#0d0887"
            ],
            [
             0.1111111111111111,
             "#46039f"
            ],
            [
             0.2222222222222222,
             "#7201a8"
            ],
            [
             0.3333333333333333,
             "#9c179e"
            ],
            [
             0.4444444444444444,
             "#bd3786"
            ],
            [
             0.5555555555555556,
             "#d8576b"
            ],
            [
             0.6666666666666666,
             "#ed7953"
            ],
            [
             0.7777777777777778,
             "#fb9f3a"
            ],
            [
             0.8888888888888888,
             "#fdca26"
            ],
            [
             1,
             "#f0f921"
            ]
           ]
          },
          "colorway": [
           "#636efa",
           "#EF553B",
           "#00cc96",
           "#ab63fa",
           "#FFA15A",
           "#19d3f3",
           "#FF6692",
           "#B6E880",
           "#FF97FF",
           "#FECB52"
          ],
          "font": {
           "color": "#2a3f5f"
          },
          "geo": {
           "bgcolor": "white",
           "lakecolor": "white",
           "landcolor": "#E5ECF6",
           "showlakes": true,
           "showland": true,
           "subunitcolor": "white"
          },
          "hoverlabel": {
           "align": "left"
          },
          "hovermode": "closest",
          "mapbox": {
           "style": "light"
          },
          "paper_bgcolor": "white",
          "plot_bgcolor": "#E5ECF6",
          "polar": {
           "angularaxis": {
            "gridcolor": "white",
            "linecolor": "white",
            "ticks": ""
           },
           "bgcolor": "#E5ECF6",
           "radialaxis": {
            "gridcolor": "white",
            "linecolor": "white",
            "ticks": ""
           }
          },
          "scene": {
           "xaxis": {
            "backgroundcolor": "#E5ECF6",
            "gridcolor": "white",
            "gridwidth": 2,
            "linecolor": "white",
            "showbackground": true,
            "ticks": "",
            "zerolinecolor": "white"
           },
           "yaxis": {
            "backgroundcolor": "#E5ECF6",
            "gridcolor": "white",
            "gridwidth": 2,
            "linecolor": "white",
            "showbackground": true,
            "ticks": "",
            "zerolinecolor": "white"
           },
           "zaxis": {
            "backgroundcolor": "#E5ECF6",
            "gridcolor": "white",
            "gridwidth": 2,
            "linecolor": "white",
            "showbackground": true,
            "ticks": "",
            "zerolinecolor": "white"
           }
          },
          "shapedefaults": {
           "line": {
            "color": "#2a3f5f"
           }
          },
          "ternary": {
           "aaxis": {
            "gridcolor": "white",
            "linecolor": "white",
            "ticks": ""
           },
           "baxis": {
            "gridcolor": "white",
            "linecolor": "white",
            "ticks": ""
           },
           "bgcolor": "#E5ECF6",
           "caxis": {
            "gridcolor": "white",
            "linecolor": "white",
            "ticks": ""
           }
          },
          "title": {
           "x": 0.05
          },
          "xaxis": {
           "automargin": true,
           "gridcolor": "white",
           "linecolor": "white",
           "ticks": "",
           "title": {
            "standoff": 15
           },
           "zerolinecolor": "white",
           "zerolinewidth": 2
          },
          "yaxis": {
           "automargin": true,
           "gridcolor": "white",
           "linecolor": "white",
           "ticks": "",
           "title": {
            "standoff": 15
           },
           "zerolinecolor": "white",
           "zerolinewidth": 2
          }
         }
        },
        "title": {
         "text": "Hyperparameter Importances"
        },
        "xaxis": {
         "title": {
          "text": "Hyperparameter Importance"
         }
        },
        "yaxis": {
         "title": {
          "text": "Hyperparameter"
         }
        }
       }
      }
     },
     "metadata": {},
     "output_type": "display_data"
    }
   ],
   "source": [
    "optuna.visualization.plot_param_importances(study)"
   ]
  },
  {
   "cell_type": "code",
   "execution_count": 15,
   "metadata": {},
   "outputs": [
    {
     "data": {
      "application/vnd.plotly.v1+json": {
       "config": {
        "plotlyServerURL": "https://plot.ly"
       },
       "data": [
        {
         "marker": {
          "color": [
           0,
           1,
           2,
           3,
           4,
           5,
           6,
           7,
           8,
           9,
           10,
           11,
           12,
           13,
           14,
           15,
           16,
           17,
           18,
           19,
           20,
           21,
           22,
           23,
           24,
           25,
           26,
           27,
           28,
           29,
           30,
           31,
           32,
           33,
           34,
           35,
           36,
           37,
           38,
           39,
           40,
           41,
           42,
           43,
           44,
           45,
           46,
           47,
           48,
           49,
           50,
           51,
           52,
           53,
           54,
           55,
           56,
           57,
           58,
           59,
           60,
           61,
           62,
           63,
           64,
           65,
           66,
           67,
           68,
           69,
           70,
           71,
           72,
           73,
           74,
           75,
           76,
           77,
           78,
           79,
           80,
           81,
           82,
           83,
           84,
           85,
           86,
           87,
           88,
           89,
           90,
           91,
           92,
           93,
           94,
           95,
           96,
           97,
           98,
           99,
           100,
           101,
           102,
           103,
           104,
           105,
           106,
           107,
           108,
           109,
           110,
           111,
           112,
           113,
           114,
           115,
           116,
           117,
           118,
           119,
           120,
           121,
           122,
           123,
           124,
           125,
           126,
           127,
           128,
           129,
           130,
           131,
           132,
           133,
           134,
           135,
           136,
           137,
           138,
           139,
           140,
           141,
           142,
           143,
           144,
           145,
           146,
           147,
           148,
           149,
           150,
           151,
           152,
           153,
           154,
           155,
           156,
           157,
           158,
           159,
           160,
           161,
           162,
           163,
           164,
           165,
           166,
           167,
           168,
           169,
           170,
           171,
           172,
           173,
           174,
           176,
           177,
           178,
           179,
           180,
           181,
           182,
           183,
           184,
           185,
           186,
           187,
           188,
           189,
           190,
           191,
           192,
           193,
           194,
           195,
           196,
           197,
           198,
           199,
           200
          ],
          "colorbar": {
           "title": {
            "text": "Trial"
           },
           "x": 1,
           "xpad": 40
          },
          "colorscale": [
           [
            0,
            "rgb(247,251,255)"
           ],
           [
            0.125,
            "rgb(222,235,247)"
           ],
           [
            0.25,
            "rgb(198,219,239)"
           ],
           [
            0.375,
            "rgb(158,202,225)"
           ],
           [
            0.5,
            "rgb(107,174,214)"
           ],
           [
            0.625,
            "rgb(66,146,198)"
           ],
           [
            0.75,
            "rgb(33,113,181)"
           ],
           [
            0.875,
            "rgb(8,81,156)"
           ],
           [
            1,
            "rgb(8,48,107)"
           ]
          ],
          "line": {
           "color": "Grey",
           "width": 0.5
          },
          "showscale": true
         },
         "mode": "markers",
         "name": "Feasible Trial",
         "showlegend": false,
         "type": "scatter",
         "x": [
          0.618832371977666,
          0.7795516807665303,
          0.580755844294889,
          0.7279226355708152,
          0.5521280602880341,
          0.7504253996618027,
          0.7392687791913609,
          0.7483565560342338,
          0.8244696113486671,
          0.6227764996564095,
          0.8761863333393303,
          0.8930867776237787,
          0.8902941481119597,
          0.8881102261682705,
          0.8357149678352114,
          0.8394898282963511,
          0.6778779715834745,
          0.6704676902608437,
          0.6760080898686761,
          0.7941532437812553,
          0.6993023450000353,
          0.6448087154607302,
          0.5074419510080103,
          0.6474311491684582,
          0.599891418008524,
          0.694506880187181,
          0.7043992847299304,
          0.7017898854714074,
          0.7873271460817166,
          0.6475310025327153,
          0.6760012141512787,
          0.6275313017754862,
          0.576689986308675,
          0.6213018411712761,
          0.5448991527220418,
          0.7246125975916681,
          0.7651584482842356,
          0.6015880112453255,
          0.663962849889905,
          0.7215463827695501,
          0.8082561620580152,
          0.6379514124505578,
          0.695063815613268,
          0.6364775819564361,
          0.5962535532746366,
          0.5687832775029559,
          0.6270310921250422,
          0.6598334532990052,
          0.7546288858344219,
          0.6905206700283771,
          0.854170963104409,
          0.6847152755223092,
          0.7137607962987612,
          0.717270492807813,
          0.8672537639502769,
          0.8685085563291095,
          0.8602361666239424,
          0.8744980922095835,
          0.8957394910275335,
          0.8576935293409622,
          0.8252697804508702,
          0.7383852359174097,
          0.8477065393626754,
          0.848584926403276,
          0.8815425812382595,
          0.8121064051113231,
          0.7383766467976494,
          0.739713814416401,
          0.7411282308371516,
          0.8085253025355774,
          0.7735091784541733,
          0.8818431991736154,
          0.8822624392679826,
          0.8426103614995057,
          0.8422249461883614,
          0.8272101528149064,
          0.8284329155521543,
          0.8998572201991939,
          0.8840535176227794,
          0.884469314822465,
          0.865686578863765,
          0.8138404034880156,
          0.8919947076347398,
          0.8764898941113416,
          0.8726381711343538,
          0.8781221225921311,
          0.8980765052121621,
          0.8704851492674734,
          0.8853474857926401,
          0.8988785727966593,
          0.8640409802663317,
          0.8983454296598655,
          0.8506857788468609,
          0.8497954182389917,
          0.8740448480494635,
          0.8561402661518249,
          0.8422999442426577,
          0.835186766071394,
          0.8902190444656857,
          0.8679670675113633,
          0.8756770364025149,
          0.8849648658679152,
          0.8599698089724775,
          0.8991373892740786,
          0.8880353835070793,
          0.7974071399474992,
          0.8497401884145832,
          0.8787903742712889,
          0.835034952599616,
          0.8177619949021403,
          0.8630055526376814,
          0.8778797558350665,
          0.8903539086435242,
          0.8701761249113208,
          0.8536827947088604,
          0.8853232937086454,
          0.8988488358062502,
          0.8687072200463924,
          0.8804763436371679,
          0.7962829656888565,
          0.8594793757464725,
          0.8611067796199818,
          0.8447656684505962,
          0.8544673369943898,
          0.8332881930714524,
          0.8359413118423233,
          0.8290852977375709,
          0.8197407075710057,
          0.8169054500568719,
          0.8204519530677501,
          0.8080547681225525,
          0.8326595000274837,
          0.807491815997563,
          0.7854085663296712,
          0.7758665690024444,
          0.7752341013362243,
          0.7897955854330825,
          0.7803496386858501,
          0.79881795477212,
          0.7654904720739928,
          0.7873879801448185,
          0.7835073421141097,
          0.7875648604624321,
          0.7958075919015162,
          0.7612368770044208,
          0.8055725993561278,
          0.8026654304013466,
          0.8154559789320771,
          0.8147980198696296,
          0.8223741745345982,
          0.8018511463732358,
          0.8165535829400233,
          0.7877177811738191,
          0.8372692385800227,
          0.8265850187504811,
          0.8248915062036236,
          0.8267094986163535,
          0.8130047468491476,
          0.8137366369137198,
          0.822353486387985,
          0.8066108601603462,
          0.8369624147637442,
          0.8111707947798503,
          0.8157503485519785,
          0.7914323079517008,
          0.8240825876568206,
          0.8102806467110225,
          0.8035386529923156,
          0.7828246276044442,
          0.8424259086760796,
          0.8436808332732806,
          0.8293414788479005,
          0.8410385330946047,
          0.8485220671820576,
          0.8422296162246955,
          0.8477537070962985,
          0.8495833943361905,
          0.8414186748652362,
          0.836766063890288,
          0.837671938239439,
          0.8298353489345931,
          0.8303148025675849,
          0.8576624332109634,
          0.8381351208125363,
          0.8221809462514228,
          0.838857687549717,
          0.830018088926955,
          0.8559523400481853,
          0.8545890402734921,
          0.8565817689721953,
          0.8427987729354948,
          0.8532889717496225,
          0.8622625800317065,
          0.8239341708618827,
          0.8346961262058885,
          0.8440210824356458,
          0.837654167081546,
          0.8546329836994323,
          0.8194272640095644,
          0.8481008601664841
         ],
         "xaxis": "x",
         "y": [
          70863333.33333334,
          196588000.00000003,
          238042000,
          319428666.6666667,
          323353333.3333334,
          20958000,
          329770000,
          310440666.6666667,
          192621333.33333334,
          327273333.3333334,
          330540000,
          325486000,
          343494666.6666667,
          321337333.3333334,
          326802000,
          298816000,
          344540000.00000006,
          341469333.3333334,
          337992666.6666667,
          288260000,
          217746666.6666667,
          341604666.6666667,
          341049333.3333334,
          335878666.6666667,
          336798000,
          342934666.6666667,
          334469333.3333334,
          323012666.6666667,
          298848666.6666667,
          175592666.6666667,
          340606000.0000001,
          343331333.3333334,
          330647333.3333334,
          291102000,
          309143333.3333334,
          205025333.33333334,
          333470666.6666667,
          335388666.6666667,
          319410000.00000006,
          332915333.3333334,
          329004666.6666667,
          342808666.6666667,
          342122666.6666667,
          336938000.00000006,
          337432666.6666667,
          335827333.3333334,
          305097333.3333334,
          316166666.6666667,
          340260666.6666667,
          337213333.3333334,
          302824666.6666667,
          341366666.6666667,
          344241333.3333334,
          324086000,
          347974666.6666667,
          336998666.6666667,
          343578666.6666667,
          332495333.3333334,
          340354000.00000006,
          337918000,
          202505333.33333334,
          344964666.6666667,
          348371333.3333334,
          289748666.6666667,
          347951333.3333334,
          351232000.00000006,
          347442666.66666675,
          344717333.3333334,
          344050000,
          336830666.6666667,
          319400666.6666667,
          347690000,
          343228666.6666667,
          346640000,
          336569333.3333334,
          345772000.00000006,
          345272666.6666667,
          350079333.3333334,
          347839333.3333334,
          345548000,
          345375333.3333334,
          344908666.6666667,
          220010000,
          347727333.3333334,
          350709333.3333334,
          343242666.6666667,
          346430000,
          344997333.3333334,
          344978666.6666667,
          347736666.6666667,
          342524000,
          346910666.6666667,
          350844666.6666667,
          329462000.00000006,
          344913333.3333334,
          333657333.3333334,
          347316666.6666667,
          346369333.3333334,
          344274000,
          337208666.6666667,
          346038000,
          344404666.6666667,
          343513333.3333334,
          346504666.6666667,
          346047333.3333334,
          346668000,
          345058000,
          343672000.00000006,
          345408000,
          343779333.3333334,
          346402000,
          343998666.66666675,
          344787333.3333334,
          347158000,
          345655333.3333334,
          333741333.3333334,
          346182666.6666667,
          345940000.00000006,
          346896666.66666675,
          337824666.6666667,
          350714000,
          346416000.00000006,
          344036000.00000006,
          345151333.3333334,
          348922000,
          350037333.3333334,
          347820666.6666667,
          350144666.6666667,
          349608000,
          343532000.00000006,
          346994666.6666667,
          346318000,
          346518666.6666667,
          348035333.3333334,
          348040000,
          347769333.3333334,
          348147333.3333334,
          145623333.33333334,
          348548666.6666667,
          342300000,
          350933333.3333334,
          349332666.6666667,
          351269333.3333334,
          344591333.3333334,
          343886666.6666667,
          349570666.6666667,
          344586666.6666667,
          351087333.3333334,
          347050666.6666667,
          332528000,
          347881333.3333334,
          346024000.0000001,
          347615333.3333334,
          334469333.3333334,
          351409333.3333334,
          350368666.6666667,
          345650666.6666667,
          351955333.3333334,
          346588666.6666667,
          348026000.00000006,
          347064666.6666667,
          346290000.00000006,
          349505333.3333334,
          342780666.6666667,
          343756000,
          334600000,
          347965333.3333334,
          310086000.00000006,
          351614666.6666667,
          352865333.3333334,
          349780666.6666667,
          349066666.6666667,
          351274000,
          350009333.3333334,
          349906666.6666667,
          347522000,
          349365333.3333334,
          351409333.3333334,
          350317333.3333334,
          345986666.6666667,
          350140000.00000006,
          344596000.00000006,
          348287333.3333334,
          352053333.3333334,
          349804000,
          348385333.3333334,
          345856000,
          351040666.66666675,
          350630000,
          347176666.6666667,
          349766666.6666667,
          346014666.6666667,
          285576666.6666667,
          347643333.3333334,
          351488666.6666667,
          349701333.3333334,
          347340000,
          342734000.00000006,
          347424000,
          348390000
         ],
         "yaxis": "y"
        },
        {
         "marker": {
          "color": [
           0,
           1,
           2,
           3,
           4,
           5,
           6,
           7,
           8,
           9,
           10,
           11,
           12,
           13,
           14,
           15,
           16,
           17,
           18,
           19,
           20,
           21,
           22,
           23,
           24,
           25,
           26,
           27,
           28,
           29,
           30,
           31,
           32,
           33,
           34,
           35,
           36,
           37,
           38,
           39,
           40,
           41,
           42,
           43,
           44,
           45,
           46,
           47,
           48,
           49,
           50,
           51,
           52,
           53,
           54,
           55,
           56,
           57,
           58,
           59,
           60,
           61,
           62,
           63,
           64,
           65,
           66,
           67,
           68,
           69,
           70,
           71,
           72,
           73,
           74,
           75,
           76,
           77,
           78,
           79,
           80,
           81,
           82,
           83,
           84,
           85,
           86,
           87,
           88,
           89,
           90,
           91,
           92,
           93,
           94,
           95,
           96,
           97,
           98,
           99,
           100,
           101,
           102,
           103,
           104,
           105,
           106,
           107,
           108,
           109,
           110,
           111,
           112,
           113,
           114,
           115,
           116,
           117,
           118,
           119,
           120,
           121,
           122,
           123,
           124,
           125,
           126,
           127,
           128,
           129,
           130,
           131,
           132,
           133,
           134,
           135,
           136,
           137,
           138,
           139,
           140,
           141,
           142,
           143,
           144,
           145,
           146,
           147,
           148,
           149,
           150,
           151,
           152,
           153,
           154,
           155,
           156,
           157,
           158,
           159,
           160,
           161,
           162,
           163,
           164,
           165,
           166,
           167,
           168,
           169,
           170,
           171,
           172,
           173,
           174,
           176,
           177,
           178,
           179,
           180,
           181,
           182,
           183,
           184,
           185,
           186,
           187,
           188,
           189,
           190,
           191,
           192,
           193,
           194,
           195,
           196,
           197,
           198,
           199,
           200
          ],
          "colorbar": {
           "title": {
            "text": "Trial"
           },
           "x": 1,
           "xpad": 40
          },
          "colorscale": [
           [
            0,
            "rgb(247,251,255)"
           ],
           [
            0.125,
            "rgb(222,235,247)"
           ],
           [
            0.25,
            "rgb(198,219,239)"
           ],
           [
            0.375,
            "rgb(158,202,225)"
           ],
           [
            0.5,
            "rgb(107,174,214)"
           ],
           [
            0.625,
            "rgb(66,146,198)"
           ],
           [
            0.75,
            "rgb(33,113,181)"
           ],
           [
            0.875,
            "rgb(8,81,156)"
           ],
           [
            1,
            "rgb(8,48,107)"
           ]
          ],
          "line": {
           "color": "Grey",
           "width": 0.5
          },
          "showscale": false
         },
         "mode": "markers",
         "name": "Feasible Trial",
         "showlegend": false,
         "type": "scatter",
         "x": [
          3,
          3,
          2,
          5,
          4,
          2,
          2,
          5,
          2,
          4,
          7,
          7,
          7,
          7,
          6,
          6,
          7,
          6,
          5,
          7,
          1,
          6,
          6,
          7,
          6,
          7,
          7,
          5,
          7,
          4,
          6,
          7,
          7,
          7,
          6,
          7,
          3,
          5,
          6,
          7,
          3,
          6,
          7,
          7,
          6,
          7,
          7,
          5,
          6,
          7,
          6,
          7,
          7,
          7,
          7,
          1,
          7,
          7,
          6,
          7,
          4,
          7,
          7,
          7,
          7,
          7,
          7,
          6,
          6,
          6,
          7,
          7,
          7,
          7,
          7,
          7,
          7,
          7,
          7,
          6,
          7,
          2,
          7,
          7,
          7,
          7,
          7,
          7,
          7,
          6,
          6,
          7,
          7,
          7,
          7,
          6,
          7,
          6,
          5,
          7,
          7,
          7,
          7,
          7,
          7,
          7,
          7,
          4,
          7,
          6,
          7,
          7,
          7,
          7,
          7,
          7,
          7,
          7,
          7,
          6,
          7,
          7,
          7,
          7,
          7,
          7,
          7,
          7,
          3,
          3,
          3,
          2,
          4,
          3,
          3,
          3,
          3,
          3,
          3,
          3,
          3,
          3,
          3,
          2,
          3,
          3,
          3,
          4,
          3,
          4,
          4,
          2,
          3,
          3,
          3,
          3,
          3,
          3,
          3,
          3,
          3,
          3,
          3,
          3,
          3,
          3,
          4,
          3,
          2,
          2,
          2,
          2,
          2,
          2,
          2,
          1,
          2,
          2,
          2,
          2,
          2,
          2,
          1,
          2,
          2,
          2,
          2,
          2,
          2,
          2,
          2,
          2,
          2,
          2,
          2,
          2,
          1,
          2,
          2,
          2
         ],
         "xaxis": "x2",
         "y": [
          70863333.33333334,
          196588000.00000003,
          238042000,
          319428666.6666667,
          323353333.3333334,
          20958000,
          329770000,
          310440666.6666667,
          192621333.33333334,
          327273333.3333334,
          330540000,
          325486000,
          343494666.6666667,
          321337333.3333334,
          326802000,
          298816000,
          344540000.00000006,
          341469333.3333334,
          337992666.6666667,
          288260000,
          217746666.6666667,
          341604666.6666667,
          341049333.3333334,
          335878666.6666667,
          336798000,
          342934666.6666667,
          334469333.3333334,
          323012666.6666667,
          298848666.6666667,
          175592666.6666667,
          340606000.0000001,
          343331333.3333334,
          330647333.3333334,
          291102000,
          309143333.3333334,
          205025333.33333334,
          333470666.6666667,
          335388666.6666667,
          319410000.00000006,
          332915333.3333334,
          329004666.6666667,
          342808666.6666667,
          342122666.6666667,
          336938000.00000006,
          337432666.6666667,
          335827333.3333334,
          305097333.3333334,
          316166666.6666667,
          340260666.6666667,
          337213333.3333334,
          302824666.6666667,
          341366666.6666667,
          344241333.3333334,
          324086000,
          347974666.6666667,
          336998666.6666667,
          343578666.6666667,
          332495333.3333334,
          340354000.00000006,
          337918000,
          202505333.33333334,
          344964666.6666667,
          348371333.3333334,
          289748666.6666667,
          347951333.3333334,
          351232000.00000006,
          347442666.66666675,
          344717333.3333334,
          344050000,
          336830666.6666667,
          319400666.6666667,
          347690000,
          343228666.6666667,
          346640000,
          336569333.3333334,
          345772000.00000006,
          345272666.6666667,
          350079333.3333334,
          347839333.3333334,
          345548000,
          345375333.3333334,
          344908666.6666667,
          220010000,
          347727333.3333334,
          350709333.3333334,
          343242666.6666667,
          346430000,
          344997333.3333334,
          344978666.6666667,
          347736666.6666667,
          342524000,
          346910666.6666667,
          350844666.6666667,
          329462000.00000006,
          344913333.3333334,
          333657333.3333334,
          347316666.6666667,
          346369333.3333334,
          344274000,
          337208666.6666667,
          346038000,
          344404666.6666667,
          343513333.3333334,
          346504666.6666667,
          346047333.3333334,
          346668000,
          345058000,
          343672000.00000006,
          345408000,
          343779333.3333334,
          346402000,
          343998666.66666675,
          344787333.3333334,
          347158000,
          345655333.3333334,
          333741333.3333334,
          346182666.6666667,
          345940000.00000006,
          346896666.66666675,
          337824666.6666667,
          350714000,
          346416000.00000006,
          344036000.00000006,
          345151333.3333334,
          348922000,
          350037333.3333334,
          347820666.6666667,
          350144666.6666667,
          349608000,
          343532000.00000006,
          346994666.6666667,
          346318000,
          346518666.6666667,
          348035333.3333334,
          348040000,
          347769333.3333334,
          348147333.3333334,
          145623333.33333334,
          348548666.6666667,
          342300000,
          350933333.3333334,
          349332666.6666667,
          351269333.3333334,
          344591333.3333334,
          343886666.6666667,
          349570666.6666667,
          344586666.6666667,
          351087333.3333334,
          347050666.6666667,
          332528000,
          347881333.3333334,
          346024000.0000001,
          347615333.3333334,
          334469333.3333334,
          351409333.3333334,
          350368666.6666667,
          345650666.6666667,
          351955333.3333334,
          346588666.6666667,
          348026000.00000006,
          347064666.6666667,
          346290000.00000006,
          349505333.3333334,
          342780666.6666667,
          343756000,
          334600000,
          347965333.3333334,
          310086000.00000006,
          351614666.6666667,
          352865333.3333334,
          349780666.6666667,
          349066666.6666667,
          351274000,
          350009333.3333334,
          349906666.6666667,
          347522000,
          349365333.3333334,
          351409333.3333334,
          350317333.3333334,
          345986666.6666667,
          350140000.00000006,
          344596000.00000006,
          348287333.3333334,
          352053333.3333334,
          349804000,
          348385333.3333334,
          345856000,
          351040666.66666675,
          350630000,
          347176666.6666667,
          349766666.6666667,
          346014666.6666667,
          285576666.6666667,
          347643333.3333334,
          351488666.6666667,
          349701333.3333334,
          347340000,
          342734000.00000006,
          347424000,
          348390000
         ],
         "yaxis": "y2"
        },
        {
         "marker": {
          "color": [
           0,
           1,
           2,
           3,
           4,
           5,
           6,
           7,
           8,
           9,
           10,
           11,
           12,
           13,
           14,
           15,
           16,
           17,
           18,
           19,
           20,
           21,
           22,
           23,
           24,
           25,
           26,
           27,
           28,
           29,
           30,
           31,
           32,
           33,
           34,
           35,
           36,
           37,
           38,
           39,
           40,
           41,
           42,
           43,
           44,
           45,
           46,
           47,
           48,
           49,
           50,
           51,
           52,
           53,
           54,
           55,
           56,
           57,
           58,
           59,
           60,
           61,
           62,
           63,
           64,
           65,
           66,
           67,
           68,
           69,
           70,
           71,
           72,
           73,
           74,
           75,
           76,
           77,
           78,
           79,
           80,
           81,
           82,
           83,
           84,
           85,
           86,
           87,
           88,
           89,
           90,
           91,
           92,
           93,
           94,
           95,
           96,
           97,
           98,
           99,
           100,
           101,
           102,
           103,
           104,
           105,
           106,
           107,
           108,
           109,
           110,
           111,
           112,
           113,
           114,
           115,
           116,
           117,
           118,
           119,
           120,
           121,
           122,
           123,
           124,
           125,
           126,
           127,
           128,
           129,
           130,
           131,
           132,
           133,
           134,
           135,
           136,
           137,
           138,
           139,
           140,
           141,
           142,
           143,
           144,
           145,
           146,
           147,
           148,
           149,
           150,
           151,
           152,
           153,
           154,
           155,
           156,
           157,
           158,
           159,
           160,
           161,
           162,
           163,
           164,
           165,
           166,
           167,
           168,
           169,
           170,
           171,
           172,
           173,
           174,
           176,
           177,
           178,
           179,
           180,
           181,
           182,
           183,
           184,
           185,
           186,
           187,
           188,
           189,
           190,
           191,
           192,
           193,
           194,
           195,
           196,
           197,
           198,
           199,
           200
          ],
          "colorbar": {
           "title": {
            "text": "Trial"
           },
           "x": 1,
           "xpad": 40
          },
          "colorscale": [
           [
            0,
            "rgb(247,251,255)"
           ],
           [
            0.125,
            "rgb(222,235,247)"
           ],
           [
            0.25,
            "rgb(198,219,239)"
           ],
           [
            0.375,
            "rgb(158,202,225)"
           ],
           [
            0.5,
            "rgb(107,174,214)"
           ],
           [
            0.625,
            "rgb(66,146,198)"
           ],
           [
            0.75,
            "rgb(33,113,181)"
           ],
           [
            0.875,
            "rgb(8,81,156)"
           ],
           [
            1,
            "rgb(8,48,107)"
           ]
          ],
          "line": {
           "color": "Grey",
           "width": 0.5
          },
          "showscale": false
         },
         "mode": "markers",
         "name": "Feasible Trial",
         "showlegend": false,
         "type": "scatter",
         "x": [
          0.5266197781135868,
          0.8646543131413891,
          0.7830725672025989,
          0.6215665686837153,
          0.8374473117537735,
          0.6646336979479258,
          0.6452562053560252,
          0.8836600179368594,
          0.5899492808206334,
          0.8172511974715859,
          0.7476568871687832,
          0.730281441900226,
          0.6937340755126686,
          0.7289377633202462,
          0.7616665909032674,
          0.6921976031903376,
          0.78300822271593,
          0.8008504811539946,
          0.5874552444647001,
          0.6994446793397284,
          0.8411142421421327,
          0.7989389240369842,
          0.7790629961797999,
          0.7198834012333665,
          0.8950646598854756,
          0.6708578241810907,
          0.6718131473349385,
          0.6247473892434918,
          0.5114759968498448,
          0.6751519408883838,
          0.5530779889418322,
          0.7518104703213426,
          0.7597274871491794,
          0.7127529345709657,
          0.6430301740440874,
          0.7451132307659558,
          0.780642057328213,
          0.838635103457404,
          0.649853202713884,
          0.6037109907944975,
          0.6935560350122241,
          0.816947243183825,
          0.8551389406337766,
          0.798115006182162,
          0.7596136427614566,
          0.8232921906741104,
          0.7460575088050482,
          0.8169815405008102,
          0.8652191777012995,
          0.7138320607266457,
          0.6811043254428819,
          0.8729222175374647,
          0.8545009677959289,
          0.8234209093236742,
          0.7749966568740125,
          0.7328836543456532,
          0.654707819108718,
          0.7846946167994,
          0.7705427528526352,
          0.6507689288638696,
          0.7066477516107963,
          0.6620292840796796,
          0.6372657523451797,
          0.604761246832406,
          0.6218667295544107,
          0.6351369017480977,
          0.6316985524482367,
          0.6307811916867012,
          0.6321462036510015,
          0.5681393059038023,
          0.6050097089819089,
          0.6339842313582529,
          0.6162004870967456,
          0.5864504619008348,
          0.582343843286297,
          0.5422220977718915,
          0.5351942309785896,
          0.5727249521550036,
          0.5596800789143394,
          0.5728441893061056,
          0.5109116710217115,
          0.5929306318437277,
          0.5656726457230327,
          0.6172499783697751,
          0.6375722032552373,
          0.6163864259865948,
          0.640761282266259,
          0.5543329236740968,
          0.5955563955798094,
          0.6176839581579684,
          0.6171811070660582,
          0.6396534983111887,
          0.6584483758896282,
          0.6768435908511843,
          0.6612324343755923,
          0.684083097164224,
          0.6093733184398952,
          0.6246712100206687,
          0.5773791750383069,
          0.5956901930814962,
          0.6647607474943333,
          0.6536552301792167,
          0.6390357373766438,
          0.6219346631760849,
          0.5544127617472582,
          0.6300927538553316,
          0.6461970956239483,
          0.6091065184737531,
          0.5981450971047385,
          0.6572194329260648,
          0.5264107306034442,
          0.6333366395964872,
          0.6703049978577483,
          0.6150334002761084,
          0.628634157859856,
          0.6453982525325246,
          0.6378940471799536,
          0.6245932871651373,
          0.6001381752988417,
          0.6119451658908941,
          0.6472635276430858,
          0.6883921417836635,
          0.6473824158461668,
          0.6361585033605905,
          0.5859011695291702,
          0.5598353181050103,
          0.5836084551012516,
          0.5636217197499268,
          0.5640073566092246,
          0.545640872959017,
          0.5648392657588249,
          0.561177439946277,
          0.578363538473909,
          0.5851026903973491,
          0.5223774993747825,
          0.5003658958895281,
          0.5242729921905078,
          0.5254460506859228,
          0.5440014553789424,
          0.5325391463568592,
          0.5434595509815762,
          0.5457991518769028,
          0.5418073166263302,
          0.5449560021557897,
          0.5370809013099105,
          0.5482116903975051,
          0.5482620040742876,
          0.5704238757108515,
          0.5585452832137896,
          0.5711517735743723,
          0.5379349899294134,
          0.551828561431064,
          0.5720854839866003,
          0.5631870955875218,
          0.5513424722596719,
          0.5551174499129684,
          0.5554194106559207,
          0.5322769761882065,
          0.5095361520200095,
          0.5175476952851715,
          0.5394196977021569,
          0.5310493364234425,
          0.5511376848513787,
          0.5504278360923847,
          0.5652194340531618,
          0.576551929897712,
          0.5554865700086425,
          0.5459578605324715,
          0.5324589905187619,
          0.5157056981996073,
          0.5327114276575005,
          0.5151303138560261,
          0.5321062521656199,
          0.5302910832228668,
          0.5051292796184808,
          0.5069688756627543,
          0.5181987875516293,
          0.5023783247459099,
          0.5307503622669358,
          0.5213088406249055,
          0.5369909117927747,
          0.5378695081845545,
          0.5141999717384362,
          0.5284053583437764,
          0.5284345223730256,
          0.5388623856872367,
          0.522710061858798,
          0.5145760858826411,
          0.507898748543811,
          0.503570408641653,
          0.5117437217204316,
          0.5180997006082833,
          0.5271052786452215,
          0.511491179133137,
          0.5346969714810007,
          0.5003229570083716,
          0.5289025590360892,
          0.518172445892203,
          0.5361611722069711,
          0.5246460996791911
         ],
         "xaxis": "x3",
         "y": [
          70863333.33333334,
          196588000.00000003,
          238042000,
          319428666.6666667,
          323353333.3333334,
          20958000,
          329770000,
          310440666.6666667,
          192621333.33333334,
          327273333.3333334,
          330540000,
          325486000,
          343494666.6666667,
          321337333.3333334,
          326802000,
          298816000,
          344540000.00000006,
          341469333.3333334,
          337992666.6666667,
          288260000,
          217746666.6666667,
          341604666.6666667,
          341049333.3333334,
          335878666.6666667,
          336798000,
          342934666.6666667,
          334469333.3333334,
          323012666.6666667,
          298848666.6666667,
          175592666.6666667,
          340606000.0000001,
          343331333.3333334,
          330647333.3333334,
          291102000,
          309143333.3333334,
          205025333.33333334,
          333470666.6666667,
          335388666.6666667,
          319410000.00000006,
          332915333.3333334,
          329004666.6666667,
          342808666.6666667,
          342122666.6666667,
          336938000.00000006,
          337432666.6666667,
          335827333.3333334,
          305097333.3333334,
          316166666.6666667,
          340260666.6666667,
          337213333.3333334,
          302824666.6666667,
          341366666.6666667,
          344241333.3333334,
          324086000,
          347974666.6666667,
          336998666.6666667,
          343578666.6666667,
          332495333.3333334,
          340354000.00000006,
          337918000,
          202505333.33333334,
          344964666.6666667,
          348371333.3333334,
          289748666.6666667,
          347951333.3333334,
          351232000.00000006,
          347442666.66666675,
          344717333.3333334,
          344050000,
          336830666.6666667,
          319400666.6666667,
          347690000,
          343228666.6666667,
          346640000,
          336569333.3333334,
          345772000.00000006,
          345272666.6666667,
          350079333.3333334,
          347839333.3333334,
          345548000,
          345375333.3333334,
          344908666.6666667,
          220010000,
          347727333.3333334,
          350709333.3333334,
          343242666.6666667,
          346430000,
          344997333.3333334,
          344978666.6666667,
          347736666.6666667,
          342524000,
          346910666.6666667,
          350844666.6666667,
          329462000.00000006,
          344913333.3333334,
          333657333.3333334,
          347316666.6666667,
          346369333.3333334,
          344274000,
          337208666.6666667,
          346038000,
          344404666.6666667,
          343513333.3333334,
          346504666.6666667,
          346047333.3333334,
          346668000,
          345058000,
          343672000.00000006,
          345408000,
          343779333.3333334,
          346402000,
          343998666.66666675,
          344787333.3333334,
          347158000,
          345655333.3333334,
          333741333.3333334,
          346182666.6666667,
          345940000.00000006,
          346896666.66666675,
          337824666.6666667,
          350714000,
          346416000.00000006,
          344036000.00000006,
          345151333.3333334,
          348922000,
          350037333.3333334,
          347820666.6666667,
          350144666.6666667,
          349608000,
          343532000.00000006,
          346994666.6666667,
          346318000,
          346518666.6666667,
          348035333.3333334,
          348040000,
          347769333.3333334,
          348147333.3333334,
          145623333.33333334,
          348548666.6666667,
          342300000,
          350933333.3333334,
          349332666.6666667,
          351269333.3333334,
          344591333.3333334,
          343886666.6666667,
          349570666.6666667,
          344586666.6666667,
          351087333.3333334,
          347050666.6666667,
          332528000,
          347881333.3333334,
          346024000.0000001,
          347615333.3333334,
          334469333.3333334,
          351409333.3333334,
          350368666.6666667,
          345650666.6666667,
          351955333.3333334,
          346588666.6666667,
          348026000.00000006,
          347064666.6666667,
          346290000.00000006,
          349505333.3333334,
          342780666.6666667,
          343756000,
          334600000,
          347965333.3333334,
          310086000.00000006,
          351614666.6666667,
          352865333.3333334,
          349780666.6666667,
          349066666.6666667,
          351274000,
          350009333.3333334,
          349906666.6666667,
          347522000,
          349365333.3333334,
          351409333.3333334,
          350317333.3333334,
          345986666.6666667,
          350140000.00000006,
          344596000.00000006,
          348287333.3333334,
          352053333.3333334,
          349804000,
          348385333.3333334,
          345856000,
          351040666.66666675,
          350630000,
          347176666.6666667,
          349766666.6666667,
          346014666.6666667,
          285576666.6666667,
          347643333.3333334,
          351488666.6666667,
          349701333.3333334,
          347340000,
          342734000.00000006,
          347424000,
          348390000
         ],
         "yaxis": "y3"
        },
        {
         "marker": {
          "color": [
           0,
           1,
           2,
           3,
           4,
           5,
           6,
           7,
           8,
           9,
           10,
           11,
           12,
           13,
           14,
           15,
           16,
           17,
           18,
           19,
           20,
           21,
           22,
           23,
           24,
           25,
           26,
           27,
           28,
           29,
           30,
           31,
           32,
           33,
           34,
           35,
           36,
           37,
           38,
           39,
           40,
           41,
           42,
           43,
           44,
           45,
           46,
           47,
           48,
           49,
           50,
           51,
           52,
           53,
           54,
           55,
           56,
           57,
           58,
           59,
           60,
           61,
           62,
           63,
           64,
           65,
           66,
           67,
           68,
           69,
           70,
           71,
           72,
           73,
           74,
           75,
           76,
           77,
           78,
           79,
           80,
           81,
           82,
           83,
           84,
           85,
           86,
           87,
           88,
           89,
           90,
           91,
           92,
           93,
           94,
           95,
           96,
           97,
           98,
           99,
           100,
           101,
           102,
           103,
           104,
           105,
           106,
           107,
           108,
           109,
           110,
           111,
           112,
           113,
           114,
           115,
           116,
           117,
           118,
           119,
           120,
           121,
           122,
           123,
           124,
           125,
           126,
           127,
           128,
           129,
           130,
           131,
           132,
           133,
           134,
           135,
           136,
           137,
           138,
           139,
           140,
           141,
           142,
           143,
           144,
           145,
           146,
           147,
           148,
           149,
           150,
           151,
           152,
           153,
           154,
           155,
           156,
           157,
           158,
           159,
           160,
           161,
           162,
           163,
           164,
           165,
           166,
           167,
           168,
           169,
           170,
           171,
           172,
           173,
           174,
           176,
           177,
           178,
           179,
           180,
           181,
           182,
           183,
           184,
           185,
           186,
           187,
           188,
           189,
           190,
           191,
           192,
           193,
           194,
           195,
           196,
           197,
           198,
           199,
           200
          ],
          "colorbar": {
           "title": {
            "text": "Trial"
           },
           "x": 1,
           "xpad": 40
          },
          "colorscale": [
           [
            0,
            "rgb(247,251,255)"
           ],
           [
            0.125,
            "rgb(222,235,247)"
           ],
           [
            0.25,
            "rgb(198,219,239)"
           ],
           [
            0.375,
            "rgb(158,202,225)"
           ],
           [
            0.5,
            "rgb(107,174,214)"
           ],
           [
            0.625,
            "rgb(66,146,198)"
           ],
           [
            0.75,
            "rgb(33,113,181)"
           ],
           [
            0.875,
            "rgb(8,81,156)"
           ],
           [
            1,
            "rgb(8,48,107)"
           ]
          ],
          "line": {
           "color": "Grey",
           "width": 0.5
          },
          "showscale": false
         },
         "mode": "markers",
         "name": "Feasible Trial",
         "showlegend": false,
         "type": "scatter",
         "x": [
          0.2279940354645384,
          0.0011378605696154578,
          0.11812282481403504,
          0.0057677713091822715,
          0.011797657155184903,
          0.2819997577601425,
          0.005404127709326514,
          0.004571843977109422,
          0.001177877795422011,
          0.0054111442039615435,
          0.029718655297917576,
          0.0462567899234104,
          0.029584956837478305,
          0.036955422656152065,
          0.031240524396442898,
          0.08015972701494162,
          0.016343797701332343,
          0.014949873635546156,
          0.009381861385426935,
          0.0025276778130459573,
          0.07221634236685466,
          0.018384237469409207,
          0.015880961958276617,
          0.020897554639394963,
          0.00880437813180141,
          0.01908754364710933,
          0.023458066580814996,
          0.05078751635890643,
          0.0028091102778708445,
          0.11434747413275154,
          0.010931121788551604,
          0.021980017431667866,
          0.027273739639272977,
          0.04735525082628168,
          0.06702515542654658,
          0.17278232269407207,
          0.007780818888173549,
          0.012955346359354612,
          0.021002747214844658,
          0.006764333265113557,
          0.03973887237563867,
          0.014957795132473571,
          0.014686962431175121,
          0.02685465969996588,
          0.017729136918545215,
          0.01177705828814329,
          0.003924842906769509,
          0.033667697217693054,
          0.022683768523227288,
          0.01052096229802574,
          0.05955948335517587,
          0.013485294242605965,
          0.016824056278494676,
          0.03822790746337659,
          0.017426912008101432,
          0.027417348106701003,
          0.01879089899150394,
          0.006526166493079119,
          0.009445595293378113,
          0.023347971644394394,
          0.09469750544476338,
          0.03091961050590723,
          0.0178956467267744,
          0.0329824868846356,
          0.017466671371204064,
          0.01743505674916217,
          0.016146228106312503,
          0.012028132622358382,
          0.012179782687204568,
          0.007999720858820093,
          0.004276954410254942,
          0.01607949879109178,
          0.009712376197373382,
          0.025209852114126827,
          0.041340688346145925,
          0.026494621182242637,
          0.02620821683855475,
          0.020255062409887756,
          0.019846103836661484,
          0.019884850630234624,
          0.014293864850453886,
          0.016497623196991724,
          0.0014044680556723264,
          0.019566940676082497,
          0.021023529321463282,
          0.02117466629438257,
          0.019048622159555176,
          0.013710654445788017,
          0.017790326742671742,
          0.022710274826683956,
          0.035821793669212836,
          0.02329432468423691,
          0.030698302546531907,
          0.05472584329652225,
          0.03052341085206118,
          0.04356544923866374,
          0.010923104976776923,
          0.02043873938331268,
          0.02383536381179936,
          0.028976525592593033,
          0.018446103250148498,
          0.015500007476306567,
          0.013778195810541067,
          0.017282795830983806,
          0.021855418502940264,
          0.012470345945547329,
          0.015178986308267455,
          0.03261357980419034,
          0.02004160043782297,
          0.010800878581965066,
          0.03619750898055567,
          0.015674036534259528,
          0.016541773071895617,
          0.02459427759924527,
          0.028265497695758514,
          0.013078232490397563,
          0.018108996063721707,
          0.022243091289370888,
          0.020795922283080866,
          0.008692231990841395,
          0.026128444881367376,
          0.023928825154593443,
          0.014798762734389917,
          0.026802499671799554,
          0.016904002645165138,
          0.019018523753538796,
          0.018768372679865867,
          0.018138866339703588,
          0.017415063791860846,
          0.011811702832654014,
          0.029567918859251273,
          0.01818038473122103,
          0.013669187024697636,
          0.019388475670959904,
          0.024957598071055936,
          0.025538391698185246,
          0.021625203193999104,
          0.2464961316229107,
          0.03356830344456692,
          0.04697733625867604,
          0.03577209144387101,
          0.02958431589153585,
          0.03937259266347389,
          0.03802085468760825,
          0.0526489194744414,
          0.032877072324292066,
          0.04203009151960155,
          0.031317469734097034,
          0.03437438204186486,
          0.06484400100510192,
          0.03340740450709317,
          0.039538552523404456,
          0.03168668449939868,
          0.04586693646847085,
          0.02984467468785804,
          0.029492850682514744,
          0.03740230100067711,
          0.0295780902574014,
          0.029408746532068316,
          0.028675852779501142,
          0.031106972273283493,
          0.026873850826560686,
          0.04084932119120628,
          0.04479186505696876,
          0.03991900303951117,
          0.05543979243526599,
          0.03618983845610997,
          0.03221914341188696,
          0.027780872979383156,
          0.024563319625208798,
          0.024414895959117642,
          0.024190026722770833,
          0.024882584671663842,
          0.026161660257444822,
          0.026791251955780915,
          0.0270460231088841,
          0.022038529551349276,
          0.02694228790144789,
          0.022773307704138608,
          0.02215125358063861,
          0.02837581208903769,
          0.029238719228880352,
          0.023661105366260805,
          0.03531171245960747,
          0.03503140156682807,
          0.030000709929130096,
          0.037479750683743845,
          0.02864558254285227,
          0.028563745121097977,
          0.03320562193955309,
          0.025561720664728883,
          0.030008724248121583,
          0.027624313742128617,
          0.03491190491876396,
          0.024001299181692318,
          0.022862379670201452,
          0.024783327004160492,
          0.042904420357360605,
          0.021496915313766626,
          0.031576443776670335
         ],
         "xaxis": "x4",
         "y": [
          70863333.33333334,
          196588000.00000003,
          238042000,
          319428666.6666667,
          323353333.3333334,
          20958000,
          329770000,
          310440666.6666667,
          192621333.33333334,
          327273333.3333334,
          330540000,
          325486000,
          343494666.6666667,
          321337333.3333334,
          326802000,
          298816000,
          344540000.00000006,
          341469333.3333334,
          337992666.6666667,
          288260000,
          217746666.6666667,
          341604666.6666667,
          341049333.3333334,
          335878666.6666667,
          336798000,
          342934666.6666667,
          334469333.3333334,
          323012666.6666667,
          298848666.6666667,
          175592666.6666667,
          340606000.0000001,
          343331333.3333334,
          330647333.3333334,
          291102000,
          309143333.3333334,
          205025333.33333334,
          333470666.6666667,
          335388666.6666667,
          319410000.00000006,
          332915333.3333334,
          329004666.6666667,
          342808666.6666667,
          342122666.6666667,
          336938000.00000006,
          337432666.6666667,
          335827333.3333334,
          305097333.3333334,
          316166666.6666667,
          340260666.6666667,
          337213333.3333334,
          302824666.6666667,
          341366666.6666667,
          344241333.3333334,
          324086000,
          347974666.6666667,
          336998666.6666667,
          343578666.6666667,
          332495333.3333334,
          340354000.00000006,
          337918000,
          202505333.33333334,
          344964666.6666667,
          348371333.3333334,
          289748666.6666667,
          347951333.3333334,
          351232000.00000006,
          347442666.66666675,
          344717333.3333334,
          344050000,
          336830666.6666667,
          319400666.6666667,
          347690000,
          343228666.6666667,
          346640000,
          336569333.3333334,
          345772000.00000006,
          345272666.6666667,
          350079333.3333334,
          347839333.3333334,
          345548000,
          345375333.3333334,
          344908666.6666667,
          220010000,
          347727333.3333334,
          350709333.3333334,
          343242666.6666667,
          346430000,
          344997333.3333334,
          344978666.6666667,
          347736666.6666667,
          342524000,
          346910666.6666667,
          350844666.6666667,
          329462000.00000006,
          344913333.3333334,
          333657333.3333334,
          347316666.6666667,
          346369333.3333334,
          344274000,
          337208666.6666667,
          346038000,
          344404666.6666667,
          343513333.3333334,
          346504666.6666667,
          346047333.3333334,
          346668000,
          345058000,
          343672000.00000006,
          345408000,
          343779333.3333334,
          346402000,
          343998666.66666675,
          344787333.3333334,
          347158000,
          345655333.3333334,
          333741333.3333334,
          346182666.6666667,
          345940000.00000006,
          346896666.66666675,
          337824666.6666667,
          350714000,
          346416000.00000006,
          344036000.00000006,
          345151333.3333334,
          348922000,
          350037333.3333334,
          347820666.6666667,
          350144666.6666667,
          349608000,
          343532000.00000006,
          346994666.6666667,
          346318000,
          346518666.6666667,
          348035333.3333334,
          348040000,
          347769333.3333334,
          348147333.3333334,
          145623333.33333334,
          348548666.6666667,
          342300000,
          350933333.3333334,
          349332666.6666667,
          351269333.3333334,
          344591333.3333334,
          343886666.6666667,
          349570666.6666667,
          344586666.6666667,
          351087333.3333334,
          347050666.6666667,
          332528000,
          347881333.3333334,
          346024000.0000001,
          347615333.3333334,
          334469333.3333334,
          351409333.3333334,
          350368666.6666667,
          345650666.6666667,
          351955333.3333334,
          346588666.6666667,
          348026000.00000006,
          347064666.6666667,
          346290000.00000006,
          349505333.3333334,
          342780666.6666667,
          343756000,
          334600000,
          347965333.3333334,
          310086000.00000006,
          351614666.6666667,
          352865333.3333334,
          349780666.6666667,
          349066666.6666667,
          351274000,
          350009333.3333334,
          349906666.6666667,
          347522000,
          349365333.3333334,
          351409333.3333334,
          350317333.3333334,
          345986666.6666667,
          350140000.00000006,
          344596000.00000006,
          348287333.3333334,
          352053333.3333334,
          349804000,
          348385333.3333334,
          345856000,
          351040666.66666675,
          350630000,
          347176666.6666667,
          349766666.6666667,
          346014666.6666667,
          285576666.6666667,
          347643333.3333334,
          351488666.6666667,
          349701333.3333334,
          347340000,
          342734000.00000006,
          347424000,
          348390000
         ],
         "yaxis": "y4"
        },
        {
         "marker": {
          "color": [
           0,
           1,
           2,
           3,
           4,
           5,
           6,
           7,
           8,
           9,
           10,
           11,
           12,
           13,
           14,
           15,
           16,
           17,
           18,
           19,
           20,
           21,
           22,
           23,
           24,
           25,
           26,
           27,
           28,
           29,
           30,
           31,
           32,
           33,
           34,
           35,
           36,
           37,
           38,
           39,
           40,
           41,
           42,
           43,
           44,
           45,
           46,
           47,
           48,
           49,
           50,
           51,
           52,
           53,
           54,
           55,
           56,
           57,
           58,
           59,
           60,
           61,
           62,
           63,
           64,
           65,
           66,
           67,
           68,
           69,
           70,
           71,
           72,
           73,
           74,
           75,
           76,
           77,
           78,
           79,
           80,
           81,
           82,
           83,
           84,
           85,
           86,
           87,
           88,
           89,
           90,
           91,
           92,
           93,
           94,
           95,
           96,
           97,
           98,
           99,
           100,
           101,
           102,
           103,
           104,
           105,
           106,
           107,
           108,
           109,
           110,
           111,
           112,
           113,
           114,
           115,
           116,
           117,
           118,
           119,
           120,
           121,
           122,
           123,
           124,
           125,
           126,
           127,
           128,
           129,
           130,
           131,
           132,
           133,
           134,
           135,
           136,
           137,
           138,
           139,
           140,
           141,
           142,
           143,
           144,
           145,
           146,
           147,
           148,
           149,
           150,
           151,
           152,
           153,
           154,
           155,
           156,
           157,
           158,
           159,
           160,
           161,
           162,
           163,
           164,
           165,
           166,
           167,
           168,
           169,
           170,
           171,
           172,
           173,
           174,
           176,
           177,
           178,
           179,
           180,
           181,
           182,
           183,
           184,
           185,
           186,
           187,
           188,
           189,
           190,
           191,
           192,
           193,
           194,
           195,
           196,
           197,
           198,
           199,
           200
          ],
          "colorbar": {
           "title": {
            "text": "Trial"
           },
           "x": 1,
           "xpad": 40
          },
          "colorscale": [
           [
            0,
            "rgb(247,251,255)"
           ],
           [
            0.125,
            "rgb(222,235,247)"
           ],
           [
            0.25,
            "rgb(198,219,239)"
           ],
           [
            0.375,
            "rgb(158,202,225)"
           ],
           [
            0.5,
            "rgb(107,174,214)"
           ],
           [
            0.625,
            "rgb(66,146,198)"
           ],
           [
            0.75,
            "rgb(33,113,181)"
           ],
           [
            0.875,
            "rgb(8,81,156)"
           ],
           [
            1,
            "rgb(8,48,107)"
           ]
          ],
          "line": {
           "color": "Grey",
           "width": 0.5
          },
          "showscale": false
         },
         "mode": "markers",
         "name": "Feasible Trial",
         "showlegend": false,
         "type": "scatter",
         "x": [
          168,
          122,
          164,
          145,
          162,
          164,
          85,
          88,
          146,
          98,
          240,
          242,
          253,
          254,
          213,
          211,
          218,
          204,
          194,
          227,
          188,
          218,
          225,
          250,
          228,
          184,
          185,
          199,
          180,
          234,
          175,
          218,
          205,
          244,
          144,
          224,
          255,
          124,
          68,
          154,
          175,
          217,
          215,
          235,
          194,
          206,
          244,
          220,
          195,
          159,
          236,
          213,
          214,
          230,
          207,
          202,
          191,
          207,
          191,
          247,
          220,
          185,
          170,
          172,
          166,
          165,
          139,
          131,
          135,
          102,
          166,
          148,
          150,
          129,
          139,
          158,
          113,
          152,
          143,
          150,
          143,
          127,
          116,
          164,
          163,
          162,
          170,
          178,
          153,
          166,
          166,
          160,
          155,
          156,
          170,
          163,
          181,
          174,
          153,
          143,
          168,
          147,
          149,
          157,
          164,
          138,
          179,
          153,
          145,
          135,
          161,
          141,
          147,
          134,
          175,
          156,
          168,
          165,
          151,
          159,
          139,
          139,
          117,
          123,
          131,
          132,
          134,
          130,
          129,
          120,
          130,
          107,
          133,
          126,
          122,
          116,
          127,
          126,
          126,
          120,
          108,
          127,
          112,
          111,
          129,
          105,
          89,
          97,
          102,
          93,
          109,
          78,
          100,
          114,
          96,
          107,
          96,
          107,
          107,
          104,
          85,
          96,
          104,
          103,
          91,
          85,
          106,
          112,
          98,
          97,
          97,
          95,
          101,
          97,
          100,
          101,
          92,
          99,
          98,
          88,
          100,
          109,
          82,
          99,
          98,
          92,
          99,
          109,
          109,
          110,
          107,
          102,
          114,
          99,
          95,
          92,
          110,
          95,
          117,
          107
         ],
         "xaxis": "x5",
         "y": [
          70863333.33333334,
          196588000.00000003,
          238042000,
          319428666.6666667,
          323353333.3333334,
          20958000,
          329770000,
          310440666.6666667,
          192621333.33333334,
          327273333.3333334,
          330540000,
          325486000,
          343494666.6666667,
          321337333.3333334,
          326802000,
          298816000,
          344540000.00000006,
          341469333.3333334,
          337992666.6666667,
          288260000,
          217746666.6666667,
          341604666.6666667,
          341049333.3333334,
          335878666.6666667,
          336798000,
          342934666.6666667,
          334469333.3333334,
          323012666.6666667,
          298848666.6666667,
          175592666.6666667,
          340606000.0000001,
          343331333.3333334,
          330647333.3333334,
          291102000,
          309143333.3333334,
          205025333.33333334,
          333470666.6666667,
          335388666.6666667,
          319410000.00000006,
          332915333.3333334,
          329004666.6666667,
          342808666.6666667,
          342122666.6666667,
          336938000.00000006,
          337432666.6666667,
          335827333.3333334,
          305097333.3333334,
          316166666.6666667,
          340260666.6666667,
          337213333.3333334,
          302824666.6666667,
          341366666.6666667,
          344241333.3333334,
          324086000,
          347974666.6666667,
          336998666.6666667,
          343578666.6666667,
          332495333.3333334,
          340354000.00000006,
          337918000,
          202505333.33333334,
          344964666.6666667,
          348371333.3333334,
          289748666.6666667,
          347951333.3333334,
          351232000.00000006,
          347442666.66666675,
          344717333.3333334,
          344050000,
          336830666.6666667,
          319400666.6666667,
          347690000,
          343228666.6666667,
          346640000,
          336569333.3333334,
          345772000.00000006,
          345272666.6666667,
          350079333.3333334,
          347839333.3333334,
          345548000,
          345375333.3333334,
          344908666.6666667,
          220010000,
          347727333.3333334,
          350709333.3333334,
          343242666.6666667,
          346430000,
          344997333.3333334,
          344978666.6666667,
          347736666.6666667,
          342524000,
          346910666.6666667,
          350844666.6666667,
          329462000.00000006,
          344913333.3333334,
          333657333.3333334,
          347316666.6666667,
          346369333.3333334,
          344274000,
          337208666.6666667,
          346038000,
          344404666.6666667,
          343513333.3333334,
          346504666.6666667,
          346047333.3333334,
          346668000,
          345058000,
          343672000.00000006,
          345408000,
          343779333.3333334,
          346402000,
          343998666.66666675,
          344787333.3333334,
          347158000,
          345655333.3333334,
          333741333.3333334,
          346182666.6666667,
          345940000.00000006,
          346896666.66666675,
          337824666.6666667,
          350714000,
          346416000.00000006,
          344036000.00000006,
          345151333.3333334,
          348922000,
          350037333.3333334,
          347820666.6666667,
          350144666.6666667,
          349608000,
          343532000.00000006,
          346994666.6666667,
          346318000,
          346518666.6666667,
          348035333.3333334,
          348040000,
          347769333.3333334,
          348147333.3333334,
          145623333.33333334,
          348548666.6666667,
          342300000,
          350933333.3333334,
          349332666.6666667,
          351269333.3333334,
          344591333.3333334,
          343886666.6666667,
          349570666.6666667,
          344586666.6666667,
          351087333.3333334,
          347050666.6666667,
          332528000,
          347881333.3333334,
          346024000.0000001,
          347615333.3333334,
          334469333.3333334,
          351409333.3333334,
          350368666.6666667,
          345650666.6666667,
          351955333.3333334,
          346588666.6666667,
          348026000.00000006,
          347064666.6666667,
          346290000.00000006,
          349505333.3333334,
          342780666.6666667,
          343756000,
          334600000,
          347965333.3333334,
          310086000.00000006,
          351614666.6666667,
          352865333.3333334,
          349780666.6666667,
          349066666.6666667,
          351274000,
          350009333.3333334,
          349906666.6666667,
          347522000,
          349365333.3333334,
          351409333.3333334,
          350317333.3333334,
          345986666.6666667,
          350140000.00000006,
          344596000.00000006,
          348287333.3333334,
          352053333.3333334,
          349804000,
          348385333.3333334,
          345856000,
          351040666.66666675,
          350630000,
          347176666.6666667,
          349766666.6666667,
          346014666.6666667,
          285576666.6666667,
          347643333.3333334,
          351488666.6666667,
          349701333.3333334,
          347340000,
          342734000.00000006,
          347424000,
          348390000
         ],
         "yaxis": "y5"
        },
        {
         "marker": {
          "color": [
           0,
           1,
           2,
           3,
           4,
           5,
           6,
           7,
           8,
           9,
           10,
           11,
           12,
           13,
           14,
           15,
           16,
           17,
           18,
           19,
           20,
           21,
           22,
           23,
           24,
           25,
           26,
           27,
           28,
           29,
           30,
           31,
           32,
           33,
           34,
           35,
           36,
           37,
           38,
           39,
           40,
           41,
           42,
           43,
           44,
           45,
           46,
           47,
           48,
           49,
           50,
           51,
           52,
           53,
           54,
           55,
           56,
           57,
           58,
           59,
           60,
           61,
           62,
           63,
           64,
           65,
           66,
           67,
           68,
           69,
           70,
           71,
           72,
           73,
           74,
           75,
           76,
           77,
           78,
           79,
           80,
           81,
           82,
           83,
           84,
           85,
           86,
           87,
           88,
           89,
           90,
           91,
           92,
           93,
           94,
           95,
           96,
           97,
           98,
           99,
           100,
           101,
           102,
           103,
           104,
           105,
           106,
           107,
           108,
           109,
           110,
           111,
           112,
           113,
           114,
           115,
           116,
           117,
           118,
           119,
           120,
           121,
           122,
           123,
           124,
           125,
           126,
           127,
           128,
           129,
           130,
           131,
           132,
           133,
           134,
           135,
           136,
           137,
           138,
           139,
           140,
           141,
           142,
           143,
           144,
           145,
           146,
           147,
           148,
           149,
           150,
           151,
           152,
           153,
           154,
           155,
           156,
           157,
           158,
           159,
           160,
           161,
           162,
           163,
           164,
           165,
           166,
           167,
           168,
           169,
           170,
           171,
           172,
           173,
           174,
           176,
           177,
           178,
           179,
           180,
           181,
           182,
           183,
           184,
           185,
           186,
           187,
           188,
           189,
           190,
           191,
           192,
           193,
           194,
           195,
           196,
           197,
           198,
           199,
           200
          ],
          "colorbar": {
           "title": {
            "text": "Trial"
           },
           "x": 1,
           "xpad": 40
          },
          "colorscale": [
           [
            0,
            "rgb(247,251,255)"
           ],
           [
            0.125,
            "rgb(222,235,247)"
           ],
           [
            0.25,
            "rgb(198,219,239)"
           ],
           [
            0.375,
            "rgb(158,202,225)"
           ],
           [
            0.5,
            "rgb(107,174,214)"
           ],
           [
            0.625,
            "rgb(66,146,198)"
           ],
           [
            0.75,
            "rgb(33,113,181)"
           ],
           [
            0.875,
            "rgb(8,81,156)"
           ],
           [
            1,
            "rgb(8,48,107)"
           ]
          ],
          "line": {
           "color": "Grey",
           "width": 0.5
          },
          "showscale": false
         },
         "mode": "markers",
         "name": "Feasible Trial",
         "showlegend": false,
         "type": "scatter",
         "x": [
          57,
          69,
          26,
          29,
          90,
          24,
          47,
          24,
          34,
          80,
          49,
          48,
          45,
          43,
          64,
          55,
          37,
          37,
          74,
          38,
          95,
          40,
          41,
          31,
          51,
          62,
          62,
          68,
          55,
          58,
          79,
          20,
          20,
          20,
          31,
          44,
          35,
          26,
          53,
          70,
          30,
          44,
          46,
          60,
          27,
          34,
          51,
          44,
          66,
          23,
          38,
          47,
          47,
          57,
          41,
          40,
          49,
          49,
          36,
          41,
          33,
          51,
          51,
          52,
          54,
          54,
          58,
          55,
          55,
          59,
          62,
          55,
          55,
          57,
          53,
          64,
          71,
          57,
          57,
          61,
          65,
          56,
          58,
          60,
          60,
          68,
          63,
          53,
          60,
          50,
          50,
          53,
          66,
          60,
          75,
          66,
          89,
          48,
          67,
          72,
          62,
          56,
          42,
          54,
          51,
          58,
          46,
          60,
          64,
          49,
          56,
          58,
          59,
          54,
          52,
          63,
          61,
          56,
          50,
          57,
          69,
          65,
          54,
          69,
          77,
          79,
          79,
          81,
          81,
          82,
          83,
          77,
          79,
          83,
          86,
          87,
          85,
          85,
          91,
          91,
          82,
          94,
          98,
          100,
          94,
          100,
          97,
          99,
          99,
          95,
          97,
          92,
          74,
          96,
          99,
          98,
          98,
          93,
          100,
          98,
          94,
          77,
          81,
          81,
          93,
          96,
          99,
          88,
          96,
          100,
          100,
          100,
          98,
          98,
          97,
          97,
          96,
          98,
          98,
          95,
          98,
          98,
          93,
          96,
          96,
          98,
          95,
          99,
          99,
          99,
          92,
          98,
          100,
          96,
          98,
          94,
          96,
          99,
          97,
          100
         ],
         "xaxis": "x6",
         "y": [
          70863333.33333334,
          196588000.00000003,
          238042000,
          319428666.6666667,
          323353333.3333334,
          20958000,
          329770000,
          310440666.6666667,
          192621333.33333334,
          327273333.3333334,
          330540000,
          325486000,
          343494666.6666667,
          321337333.3333334,
          326802000,
          298816000,
          344540000.00000006,
          341469333.3333334,
          337992666.6666667,
          288260000,
          217746666.6666667,
          341604666.6666667,
          341049333.3333334,
          335878666.6666667,
          336798000,
          342934666.6666667,
          334469333.3333334,
          323012666.6666667,
          298848666.6666667,
          175592666.6666667,
          340606000.0000001,
          343331333.3333334,
          330647333.3333334,
          291102000,
          309143333.3333334,
          205025333.33333334,
          333470666.6666667,
          335388666.6666667,
          319410000.00000006,
          332915333.3333334,
          329004666.6666667,
          342808666.6666667,
          342122666.6666667,
          336938000.00000006,
          337432666.6666667,
          335827333.3333334,
          305097333.3333334,
          316166666.6666667,
          340260666.6666667,
          337213333.3333334,
          302824666.6666667,
          341366666.6666667,
          344241333.3333334,
          324086000,
          347974666.6666667,
          336998666.6666667,
          343578666.6666667,
          332495333.3333334,
          340354000.00000006,
          337918000,
          202505333.33333334,
          344964666.6666667,
          348371333.3333334,
          289748666.6666667,
          347951333.3333334,
          351232000.00000006,
          347442666.66666675,
          344717333.3333334,
          344050000,
          336830666.6666667,
          319400666.6666667,
          347690000,
          343228666.6666667,
          346640000,
          336569333.3333334,
          345772000.00000006,
          345272666.6666667,
          350079333.3333334,
          347839333.3333334,
          345548000,
          345375333.3333334,
          344908666.6666667,
          220010000,
          347727333.3333334,
          350709333.3333334,
          343242666.6666667,
          346430000,
          344997333.3333334,
          344978666.6666667,
          347736666.6666667,
          342524000,
          346910666.6666667,
          350844666.6666667,
          329462000.00000006,
          344913333.3333334,
          333657333.3333334,
          347316666.6666667,
          346369333.3333334,
          344274000,
          337208666.6666667,
          346038000,
          344404666.6666667,
          343513333.3333334,
          346504666.6666667,
          346047333.3333334,
          346668000,
          345058000,
          343672000.00000006,
          345408000,
          343779333.3333334,
          346402000,
          343998666.66666675,
          344787333.3333334,
          347158000,
          345655333.3333334,
          333741333.3333334,
          346182666.6666667,
          345940000.00000006,
          346896666.66666675,
          337824666.6666667,
          350714000,
          346416000.00000006,
          344036000.00000006,
          345151333.3333334,
          348922000,
          350037333.3333334,
          347820666.6666667,
          350144666.6666667,
          349608000,
          343532000.00000006,
          346994666.6666667,
          346318000,
          346518666.6666667,
          348035333.3333334,
          348040000,
          347769333.3333334,
          348147333.3333334,
          145623333.33333334,
          348548666.6666667,
          342300000,
          350933333.3333334,
          349332666.6666667,
          351269333.3333334,
          344591333.3333334,
          343886666.6666667,
          349570666.6666667,
          344586666.6666667,
          351087333.3333334,
          347050666.6666667,
          332528000,
          347881333.3333334,
          346024000.0000001,
          347615333.3333334,
          334469333.3333334,
          351409333.3333334,
          350368666.6666667,
          345650666.6666667,
          351955333.3333334,
          346588666.6666667,
          348026000.00000006,
          347064666.6666667,
          346290000.00000006,
          349505333.3333334,
          342780666.6666667,
          343756000,
          334600000,
          347965333.3333334,
          310086000.00000006,
          351614666.6666667,
          352865333.3333334,
          349780666.6666667,
          349066666.6666667,
          351274000,
          350009333.3333334,
          349906666.6666667,
          347522000,
          349365333.3333334,
          351409333.3333334,
          350317333.3333334,
          345986666.6666667,
          350140000.00000006,
          344596000.00000006,
          348287333.3333334,
          352053333.3333334,
          349804000,
          348385333.3333334,
          345856000,
          351040666.66666675,
          350630000,
          347176666.6666667,
          349766666.6666667,
          346014666.6666667,
          285576666.6666667,
          347643333.3333334,
          351488666.6666667,
          349701333.3333334,
          347340000,
          342734000.00000006,
          347424000,
          348390000
         ],
         "yaxis": "y6"
        },
        {
         "marker": {
          "color": [
           0,
           1,
           2,
           3,
           4,
           5,
           6,
           7,
           8,
           9,
           10,
           11,
           12,
           13,
           14,
           15,
           16,
           17,
           18,
           19,
           20,
           21,
           22,
           23,
           24,
           25,
           26,
           27,
           28,
           29,
           30,
           31,
           32,
           33,
           34,
           35,
           36,
           37,
           38,
           39,
           40,
           41,
           42,
           43,
           44,
           45,
           46,
           47,
           48,
           49,
           50,
           51,
           52,
           53,
           54,
           55,
           56,
           57,
           58,
           59,
           60,
           61,
           62,
           63,
           64,
           65,
           66,
           67,
           68,
           69,
           70,
           71,
           72,
           73,
           74,
           75,
           76,
           77,
           78,
           79,
           80,
           81,
           82,
           83,
           84,
           85,
           86,
           87,
           88,
           89,
           90,
           91,
           92,
           93,
           94,
           95,
           96,
           97,
           98,
           99,
           100,
           101,
           102,
           103,
           104,
           105,
           106,
           107,
           108,
           109,
           110,
           111,
           112,
           113,
           114,
           115,
           116,
           117,
           118,
           119,
           120,
           121,
           122,
           123,
           124,
           125,
           126,
           127,
           128,
           129,
           130,
           131,
           132,
           133,
           134,
           135,
           136,
           137,
           138,
           139,
           140,
           141,
           142,
           143,
           144,
           145,
           146,
           147,
           148,
           149,
           150,
           151,
           152,
           153,
           154,
           155,
           156,
           157,
           158,
           159,
           160,
           161,
           162,
           163,
           164,
           165,
           166,
           167,
           168,
           169,
           170,
           171,
           172,
           173,
           174,
           176,
           177,
           178,
           179,
           180,
           181,
           182,
           183,
           184,
           185,
           186,
           187,
           188,
           189,
           190,
           191,
           192,
           193,
           194,
           195,
           196,
           197,
           198,
           199,
           200
          ],
          "colorbar": {
           "title": {
            "text": "Trial"
           },
           "x": 1,
           "xpad": 40
          },
          "colorscale": [
           [
            0,
            "rgb(247,251,255)"
           ],
           [
            0.125,
            "rgb(222,235,247)"
           ],
           [
            0.25,
            "rgb(198,219,239)"
           ],
           [
            0.375,
            "rgb(158,202,225)"
           ],
           [
            0.5,
            "rgb(107,174,214)"
           ],
           [
            0.625,
            "rgb(66,146,198)"
           ],
           [
            0.75,
            "rgb(33,113,181)"
           ],
           [
            0.875,
            "rgb(8,81,156)"
           ],
           [
            1,
            "rgb(8,48,107)"
           ]
          ],
          "line": {
           "color": "Grey",
           "width": 0.5
          },
          "showscale": false
         },
         "mode": "markers",
         "name": "Feasible Trial",
         "showlegend": false,
         "type": "scatter",
         "x": [
          0.2962180777260537,
          0.6798739668140338,
          0.6435589409189557,
          0.11731727866067831,
          0.05245528620484252,
          0.7125769713877057,
          0.9690887307427195,
          0.38601638361447577,
          0.47102797866577195,
          0.3120219969261796,
          0.9599493635007972,
          0.9923966403392063,
          0.9794404013477761,
          0.8255488069361683,
          0.8555445652237615,
          0.859877613571253,
          0.6105214712040148,
          0.5092427846166987,
          0.5561325026144993,
          0.7719569377889415,
          0.224257907682059,
          0.54050785194494,
          0.6033598584966612,
          0.4310398669670666,
          0.7588821684973639,
          0.5787684541445361,
          0.597945680008501,
          0.9129820849090179,
          0.3831928273099105,
          0.19183300866865305,
          0.7387437369102963,
          0.5306199047809356,
          0.6212130464946145,
          0.6699460475518647,
          0.46758374870274544,
          0.3142408521623763,
          0.6582153534351289,
          0.556088222665036,
          0.6906030675531695,
          0.39399657002777805,
          0.05880836288831004,
          0.4787109207762338,
          0.49297779015396426,
          0.4343326213119598,
          0.34389137225028643,
          0.5880017307592788,
          0.7976180278070001,
          0.5198688846457642,
          0.22515524948979193,
          0.7150992044627489,
          0.9067629011692858,
          0.47627577958754574,
          0.4961462409466897,
          0.5653487887321325,
          0.43464246521320204,
          0.4194764608818975,
          0.5244407218601321,
          0.3666612985916349,
          0.6402636843619797,
          0.5173105467802707,
          0.277463826329656,
          0.4456650431895407,
          0.4541812047576541,
          0.41023493046584814,
          0.43663285205421826,
          0.34489452045713376,
          0.4450903049830367,
          0.34575034837766183,
          0.3466161376227089,
          0.4443322927527059,
          0.2652059234731543,
          0.3212732120770009,
          0.3245942589596193,
          0.37613340865389844,
          0.3713484054345463,
          0.2919268397629926,
          0.28755433221098603,
          0.16951321470194683,
          0.16994479124178746,
          0.16151589060956312,
          0.03614512210210993,
          0.08987586206257392,
          0.13471247620472138,
          0.26102580447335844,
          0.24071974168718815,
          0.18880463665337155,
          0.24533131357352964,
          0.19061391299041838,
          0.21825907263344718,
          0.15054862736988844,
          0.11089220909573519,
          0.13994267740508837,
          0.17218498457033538,
          0.1581016411417674,
          0.08225270895876205,
          0.20784296836412575,
          0.2559155175641856,
          0.17512603036609553,
          0.23531691882713504,
          0.13392668183908488,
          0.4051858019380308,
          0.3096957202238521,
          0.10969747551683284,
          0.004308134454393597,
          0.2087123945101024,
          0.16659232957948877,
          0.2654917056430126,
          0.32303219417354767,
          0.3547897954719627,
          0.45950819226116607,
          0.3960343907532764,
          0.43178889960950884,
          0.3054392872913835,
          0.23824815463073584,
          0.45472468429500423,
          0.47826317740441615,
          0.33292775431663435,
          0.4969176138466,
          0.4197470367825934,
          0.2788552785094956,
          0.15157253571966522,
          0.1515399674442891,
          0.21346566396700933,
          0.1929746573891154,
          0.1798599408512584,
          0.09349275614620607,
          0.086779434501362,
          0.09439066160309172,
          0.06099880317986134,
          0.05326167305392171,
          0.018567212716577172,
          0.08861621591179211,
          0.06677477326269973,
          0.12127104513862001,
          0.18026437316626215,
          0.12245069497096198,
          0.11291285133663251,
          0.10983718535608339,
          0.03371991732173769,
          0.06699664008702408,
          0.04417945706967567,
          0.03398842905046413,
          0.03896665965946612,
          0.029968521995137595,
          0.03899103109435172,
          0.003866304306927887,
          0.022520624761070085,
          0.00595022350697531,
          0.04060251250879088,
          0.001920410633427301,
          0.06740717834309898,
          0.013668633277448612,
          0.03760162304851246,
          0.07984395442228151,
          0.04875526022103296,
          0.049810878271576244,
          0.0536645042234264,
          0.098999526930768,
          0.10130984418003701,
          0.05885725093083716,
          0.0053346110386313095,
          0.07196117799541521,
          0.09354285023985574,
          0.09155790268416543,
          0.04528826931506253,
          0.13836789004850206,
          0.0973710390959326,
          0.05564868448441803,
          0.022684231401759673,
          0.011030284732349089,
          0.012606299606646207,
          0.01405367732826814,
          0.0027710580838828727,
          0.025968927753568505,
          0.02381072980224033,
          0.02583464978259349,
          0.046378583546193494,
          0.00015889971686527428,
          0.07537102141268226,
          0.07223976611863824,
          0.0010078702921271585,
          0.04820272412643389,
          0.13057254335306723,
          0.00021008890819528255,
          0.006682098109645755,
          0.00177732320506354,
          0.029282967052828554,
          0.07514531814755002,
          0.07368149454262438,
          0.07083962000891014,
          0.05041358690375219,
          0.027372704744784267,
          0.07477966251894409,
          0.001789620262984619,
          0.048431746941861094,
          0.0495655281178255,
          0.08067875305464883,
          0.03577321997811133,
          0.10625809398057642,
          0.058891561712398954
         ],
         "xaxis": "x7",
         "y": [
          70863333.33333334,
          196588000.00000003,
          238042000,
          319428666.6666667,
          323353333.3333334,
          20958000,
          329770000,
          310440666.6666667,
          192621333.33333334,
          327273333.3333334,
          330540000,
          325486000,
          343494666.6666667,
          321337333.3333334,
          326802000,
          298816000,
          344540000.00000006,
          341469333.3333334,
          337992666.6666667,
          288260000,
          217746666.6666667,
          341604666.6666667,
          341049333.3333334,
          335878666.6666667,
          336798000,
          342934666.6666667,
          334469333.3333334,
          323012666.6666667,
          298848666.6666667,
          175592666.6666667,
          340606000.0000001,
          343331333.3333334,
          330647333.3333334,
          291102000,
          309143333.3333334,
          205025333.33333334,
          333470666.6666667,
          335388666.6666667,
          319410000.00000006,
          332915333.3333334,
          329004666.6666667,
          342808666.6666667,
          342122666.6666667,
          336938000.00000006,
          337432666.6666667,
          335827333.3333334,
          305097333.3333334,
          316166666.6666667,
          340260666.6666667,
          337213333.3333334,
          302824666.6666667,
          341366666.6666667,
          344241333.3333334,
          324086000,
          347974666.6666667,
          336998666.6666667,
          343578666.6666667,
          332495333.3333334,
          340354000.00000006,
          337918000,
          202505333.33333334,
          344964666.6666667,
          348371333.3333334,
          289748666.6666667,
          347951333.3333334,
          351232000.00000006,
          347442666.66666675,
          344717333.3333334,
          344050000,
          336830666.6666667,
          319400666.6666667,
          347690000,
          343228666.6666667,
          346640000,
          336569333.3333334,
          345772000.00000006,
          345272666.6666667,
          350079333.3333334,
          347839333.3333334,
          345548000,
          345375333.3333334,
          344908666.6666667,
          220010000,
          347727333.3333334,
          350709333.3333334,
          343242666.6666667,
          346430000,
          344997333.3333334,
          344978666.6666667,
          347736666.6666667,
          342524000,
          346910666.6666667,
          350844666.6666667,
          329462000.00000006,
          344913333.3333334,
          333657333.3333334,
          347316666.6666667,
          346369333.3333334,
          344274000,
          337208666.6666667,
          346038000,
          344404666.6666667,
          343513333.3333334,
          346504666.6666667,
          346047333.3333334,
          346668000,
          345058000,
          343672000.00000006,
          345408000,
          343779333.3333334,
          346402000,
          343998666.66666675,
          344787333.3333334,
          347158000,
          345655333.3333334,
          333741333.3333334,
          346182666.6666667,
          345940000.00000006,
          346896666.66666675,
          337824666.6666667,
          350714000,
          346416000.00000006,
          344036000.00000006,
          345151333.3333334,
          348922000,
          350037333.3333334,
          347820666.6666667,
          350144666.6666667,
          349608000,
          343532000.00000006,
          346994666.6666667,
          346318000,
          346518666.6666667,
          348035333.3333334,
          348040000,
          347769333.3333334,
          348147333.3333334,
          145623333.33333334,
          348548666.6666667,
          342300000,
          350933333.3333334,
          349332666.6666667,
          351269333.3333334,
          344591333.3333334,
          343886666.6666667,
          349570666.6666667,
          344586666.6666667,
          351087333.3333334,
          347050666.6666667,
          332528000,
          347881333.3333334,
          346024000.0000001,
          347615333.3333334,
          334469333.3333334,
          351409333.3333334,
          350368666.6666667,
          345650666.6666667,
          351955333.3333334,
          346588666.6666667,
          348026000.00000006,
          347064666.6666667,
          346290000.00000006,
          349505333.3333334,
          342780666.6666667,
          343756000,
          334600000,
          347965333.3333334,
          310086000.00000006,
          351614666.6666667,
          352865333.3333334,
          349780666.6666667,
          349066666.6666667,
          351274000,
          350009333.3333334,
          349906666.6666667,
          347522000,
          349365333.3333334,
          351409333.3333334,
          350317333.3333334,
          345986666.6666667,
          350140000.00000006,
          344596000.00000006,
          348287333.3333334,
          352053333.3333334,
          349804000,
          348385333.3333334,
          345856000,
          351040666.66666675,
          350630000,
          347176666.6666667,
          349766666.6666667,
          346014666.6666667,
          285576666.6666667,
          347643333.3333334,
          351488666.6666667,
          349701333.3333334,
          347340000,
          342734000.00000006,
          347424000,
          348390000
         ],
         "yaxis": "y7"
        },
        {
         "marker": {
          "color": [
           0,
           1,
           2,
           3,
           4,
           5,
           6,
           7,
           8,
           9,
           10,
           11,
           12,
           13,
           14,
           15,
           16,
           17,
           18,
           19,
           20,
           21,
           22,
           23,
           24,
           25,
           26,
           27,
           28,
           29,
           30,
           31,
           32,
           33,
           34,
           35,
           36,
           37,
           38,
           39,
           40,
           41,
           42,
           43,
           44,
           45,
           46,
           47,
           48,
           49,
           50,
           51,
           52,
           53,
           54,
           55,
           56,
           57,
           58,
           59,
           60,
           61,
           62,
           63,
           64,
           65,
           66,
           67,
           68,
           69,
           70,
           71,
           72,
           73,
           74,
           75,
           76,
           77,
           78,
           79,
           80,
           81,
           82,
           83,
           84,
           85,
           86,
           87,
           88,
           89,
           90,
           91,
           92,
           93,
           94,
           95,
           96,
           97,
           98,
           99,
           100,
           101,
           102,
           103,
           104,
           105,
           106,
           107,
           108,
           109,
           110,
           111,
           112,
           113,
           114,
           115,
           116,
           117,
           118,
           119,
           120,
           121,
           122,
           123,
           124,
           125,
           126,
           127,
           128,
           129,
           130,
           131,
           132,
           133,
           134,
           135,
           136,
           137,
           138,
           139,
           140,
           141,
           142,
           143,
           144,
           145,
           146,
           147,
           148,
           149,
           150,
           151,
           152,
           153,
           154,
           155,
           156,
           157,
           158,
           159,
           160,
           161,
           162,
           163,
           164,
           165,
           166,
           167,
           168,
           169,
           170,
           171,
           172,
           173,
           174,
           176,
           177,
           178,
           179,
           180,
           181,
           182,
           183,
           184,
           185,
           186,
           187,
           188,
           189,
           190,
           191,
           192,
           193,
           194,
           195,
           196,
           197,
           198,
           199,
           200
          ],
          "colorbar": {
           "title": {
            "text": "Trial"
           },
           "x": 1,
           "xpad": 40
          },
          "colorscale": [
           [
            0,
            "rgb(247,251,255)"
           ],
           [
            0.125,
            "rgb(222,235,247)"
           ],
           [
            0.25,
            "rgb(198,219,239)"
           ],
           [
            0.375,
            "rgb(158,202,225)"
           ],
           [
            0.5,
            "rgb(107,174,214)"
           ],
           [
            0.625,
            "rgb(66,146,198)"
           ],
           [
            0.75,
            "rgb(33,113,181)"
           ],
           [
            0.875,
            "rgb(8,81,156)"
           ],
           [
            1,
            "rgb(8,48,107)"
           ]
          ],
          "line": {
           "color": "Grey",
           "width": 0.5
          },
          "showscale": false
         },
         "mode": "markers",
         "name": "Feasible Trial",
         "showlegend": false,
         "type": "scatter",
         "x": [
          341,
          253,
          457,
          296,
          239,
          431,
          263,
          136,
          205,
          97,
          368,
          370,
          378,
          403,
          499,
          339,
          378,
          311,
          486,
          409,
          188,
          309,
          370,
          300,
          439,
          337,
          383,
          335,
          411,
          352,
          328,
          283,
          239,
          279,
          217,
          281,
          387,
          459,
          153,
          256,
          448,
          320,
          316,
          354,
          292,
          389,
          353,
          268,
          238,
          426,
          59,
          319,
          325,
          345,
          363,
          368,
          402,
          422,
          401,
          373,
          459,
          295,
          294,
          304,
          397,
          397,
          359,
          360,
          416,
          360,
          393,
          438,
          435,
          474,
          467,
          497,
          490,
          471,
          477,
          443,
          454,
          476,
          479,
          471,
          435,
          429,
          465,
          447,
          412,
          433,
          421,
          437,
          456,
          485,
          455,
          396,
          469,
          496,
          382,
          447,
          485,
          431,
          410,
          463,
          441,
          421,
          452,
          403,
          478,
          434,
          200,
          376,
          335,
          394,
          346,
          459,
          364,
          425,
          468,
          385,
          500,
          494,
          483,
          471,
          500,
          484,
          498,
          490,
          500,
          488,
          488,
          498,
          496,
          500,
          478,
          481,
          488,
          489,
          480,
          500,
          476,
          476,
          475,
          465,
          458,
          472,
          131,
          474,
          477,
          450,
          471,
          462,
          481,
          485,
          471,
          468,
          453,
          465,
          444,
          471,
          461,
          473,
          488,
          463,
          491,
          456,
          475,
          485,
          468,
          466,
          446,
          446,
          463,
          452,
          455,
          457,
          465,
          452,
          449,
          435,
          442,
          461,
          441,
          464,
          467,
          447,
          468,
          439,
          428,
          425,
          416,
          438,
          431,
          452,
          444,
          457,
          448,
          464,
          429,
          437
         ],
         "xaxis": "x8",
         "y": [
          70863333.33333334,
          196588000.00000003,
          238042000,
          319428666.6666667,
          323353333.3333334,
          20958000,
          329770000,
          310440666.6666667,
          192621333.33333334,
          327273333.3333334,
          330540000,
          325486000,
          343494666.6666667,
          321337333.3333334,
          326802000,
          298816000,
          344540000.00000006,
          341469333.3333334,
          337992666.6666667,
          288260000,
          217746666.6666667,
          341604666.6666667,
          341049333.3333334,
          335878666.6666667,
          336798000,
          342934666.6666667,
          334469333.3333334,
          323012666.6666667,
          298848666.6666667,
          175592666.6666667,
          340606000.0000001,
          343331333.3333334,
          330647333.3333334,
          291102000,
          309143333.3333334,
          205025333.33333334,
          333470666.6666667,
          335388666.6666667,
          319410000.00000006,
          332915333.3333334,
          329004666.6666667,
          342808666.6666667,
          342122666.6666667,
          336938000.00000006,
          337432666.6666667,
          335827333.3333334,
          305097333.3333334,
          316166666.6666667,
          340260666.6666667,
          337213333.3333334,
          302824666.6666667,
          341366666.6666667,
          344241333.3333334,
          324086000,
          347974666.6666667,
          336998666.6666667,
          343578666.6666667,
          332495333.3333334,
          340354000.00000006,
          337918000,
          202505333.33333334,
          344964666.6666667,
          348371333.3333334,
          289748666.6666667,
          347951333.3333334,
          351232000.00000006,
          347442666.66666675,
          344717333.3333334,
          344050000,
          336830666.6666667,
          319400666.6666667,
          347690000,
          343228666.6666667,
          346640000,
          336569333.3333334,
          345772000.00000006,
          345272666.6666667,
          350079333.3333334,
          347839333.3333334,
          345548000,
          345375333.3333334,
          344908666.6666667,
          220010000,
          347727333.3333334,
          350709333.3333334,
          343242666.6666667,
          346430000,
          344997333.3333334,
          344978666.6666667,
          347736666.6666667,
          342524000,
          346910666.6666667,
          350844666.6666667,
          329462000.00000006,
          344913333.3333334,
          333657333.3333334,
          347316666.6666667,
          346369333.3333334,
          344274000,
          337208666.6666667,
          346038000,
          344404666.6666667,
          343513333.3333334,
          346504666.6666667,
          346047333.3333334,
          346668000,
          345058000,
          343672000.00000006,
          345408000,
          343779333.3333334,
          346402000,
          343998666.66666675,
          344787333.3333334,
          347158000,
          345655333.3333334,
          333741333.3333334,
          346182666.6666667,
          345940000.00000006,
          346896666.66666675,
          337824666.6666667,
          350714000,
          346416000.00000006,
          344036000.00000006,
          345151333.3333334,
          348922000,
          350037333.3333334,
          347820666.6666667,
          350144666.6666667,
          349608000,
          343532000.00000006,
          346994666.6666667,
          346318000,
          346518666.6666667,
          348035333.3333334,
          348040000,
          347769333.3333334,
          348147333.3333334,
          145623333.33333334,
          348548666.6666667,
          342300000,
          350933333.3333334,
          349332666.6666667,
          351269333.3333334,
          344591333.3333334,
          343886666.6666667,
          349570666.6666667,
          344586666.6666667,
          351087333.3333334,
          347050666.6666667,
          332528000,
          347881333.3333334,
          346024000.0000001,
          347615333.3333334,
          334469333.3333334,
          351409333.3333334,
          350368666.6666667,
          345650666.6666667,
          351955333.3333334,
          346588666.6666667,
          348026000.00000006,
          347064666.6666667,
          346290000.00000006,
          349505333.3333334,
          342780666.6666667,
          343756000,
          334600000,
          347965333.3333334,
          310086000.00000006,
          351614666.6666667,
          352865333.3333334,
          349780666.6666667,
          349066666.6666667,
          351274000,
          350009333.3333334,
          349906666.6666667,
          347522000,
          349365333.3333334,
          351409333.3333334,
          350317333.3333334,
          345986666.6666667,
          350140000.00000006,
          344596000.00000006,
          348287333.3333334,
          352053333.3333334,
          349804000,
          348385333.3333334,
          345856000,
          351040666.66666675,
          350630000,
          347176666.6666667,
          349766666.6666667,
          346014666.6666667,
          285576666.6666667,
          347643333.3333334,
          351488666.6666667,
          349701333.3333334,
          347340000,
          342734000.00000006,
          347424000,
          348390000
         ],
         "yaxis": "y8"
        },
        {
         "marker": {
          "color": [
           0,
           1,
           2,
           3,
           4,
           5,
           6,
           7,
           8,
           9,
           10,
           11,
           12,
           13,
           14,
           15,
           16,
           17,
           18,
           19,
           20,
           21,
           22,
           23,
           24,
           25,
           26,
           27,
           28,
           29,
           30,
           31,
           32,
           33,
           34,
           35,
           36,
           37,
           38,
           39,
           40,
           41,
           42,
           43,
           44,
           45,
           46,
           47,
           48,
           49,
           50,
           51,
           52,
           53,
           54,
           55,
           56,
           57,
           58,
           59,
           60,
           61,
           62,
           63,
           64,
           65,
           66,
           67,
           68,
           69,
           70,
           71,
           72,
           73,
           74,
           75,
           76,
           77,
           78,
           79,
           80,
           81,
           82,
           83,
           84,
           85,
           86,
           87,
           88,
           89,
           90,
           91,
           92,
           93,
           94,
           95,
           96,
           97,
           98,
           99,
           100,
           101,
           102,
           103,
           104,
           105,
           106,
           107,
           108,
           109,
           110,
           111,
           112,
           113,
           114,
           115,
           116,
           117,
           118,
           119,
           120,
           121,
           122,
           123,
           124,
           125,
           126,
           127,
           128,
           129,
           130,
           131,
           132,
           133,
           134,
           135,
           136,
           137,
           138,
           139,
           140,
           141,
           142,
           143,
           144,
           145,
           146,
           147,
           148,
           149,
           150,
           151,
           152,
           153,
           154,
           155,
           156,
           157,
           158,
           159,
           160,
           161,
           162,
           163,
           164,
           165,
           166,
           167,
           168,
           169,
           170,
           171,
           172,
           173,
           174,
           176,
           177,
           178,
           179,
           180,
           181,
           182,
           183,
           184,
           185,
           186,
           187,
           188,
           189,
           190,
           191,
           192,
           193,
           194,
           195,
           196,
           197,
           198,
           199,
           200
          ],
          "colorbar": {
           "title": {
            "text": "Trial"
           },
           "x": 1,
           "xpad": 40
          },
          "colorscale": [
           [
            0,
            "rgb(247,251,255)"
           ],
           [
            0.125,
            "rgb(222,235,247)"
           ],
           [
            0.25,
            "rgb(198,219,239)"
           ],
           [
            0.375,
            "rgb(158,202,225)"
           ],
           [
            0.5,
            "rgb(107,174,214)"
           ],
           [
            0.625,
            "rgb(66,146,198)"
           ],
           [
            0.75,
            "rgb(33,113,181)"
           ],
           [
            0.875,
            "rgb(8,81,156)"
           ],
           [
            1,
            "rgb(8,48,107)"
           ]
          ],
          "line": {
           "color": "Grey",
           "width": 0.5
          },
          "showscale": false
         },
         "mode": "markers",
         "name": "Feasible Trial",
         "showlegend": false,
         "type": "scatter",
         "x": [
          96,
          99,
          37,
          186,
          231,
          239,
          68,
          34,
          163,
          195,
          100,
          101,
          73,
          132,
          130,
          68,
          70,
          58,
          149,
          78,
          117,
          50,
          46,
          83,
          56,
          78,
          113,
          80,
          83,
          114,
          157,
          54,
          69,
          93,
          31,
          45,
          60,
          94,
          212,
          43,
          69,
          52,
          64,
          34,
          53,
          76,
          255,
          104,
          91,
          40,
          123,
          64,
          73,
          74,
          52,
          82,
          105,
          138,
          102,
          107,
          88,
          57,
          61,
          179,
          60,
          61,
          61,
          47,
          47,
          39,
          58,
          62,
          63,
          49,
          57,
          35,
          37,
          50,
          66,
          65,
          86,
          49,
          43,
          70,
          67,
          70,
          78,
          68,
          55,
          53,
          42,
          31,
          52,
          52,
          72,
          53,
          66,
          59,
          79,
          97,
          44,
          61,
          63,
          76,
          51,
          85,
          68,
          39,
          73,
          55,
          47,
          59,
          61,
          64,
          51,
          199,
          69,
          56,
          90,
          169,
          45,
          45,
          60,
          35,
          52,
          50,
          42,
          39,
          40,
          38,
          48,
          41,
          31,
          42,
          36,
          35,
          45,
          45,
          38,
          37,
          31,
          32,
          32,
          32,
          31,
          40,
          40,
          38,
          35,
          40,
          49,
          37,
          31,
          48,
          43,
          42,
          41,
          45,
          45,
          34,
          43,
          52,
          47,
          48,
          39,
          43,
          31,
          146,
          56,
          57,
          56,
          56,
          56,
          53,
          54,
          54,
          50,
          56,
          57,
          58,
          64,
          64,
          59,
          49,
          45,
          66,
          49,
          55,
          57,
          57,
          45,
          64,
          225,
          60,
          56,
          55,
          51,
          56,
          47,
          60
         ],
         "xaxis": "x9",
         "y": [
          70863333.33333334,
          196588000.00000003,
          238042000,
          319428666.6666667,
          323353333.3333334,
          20958000,
          329770000,
          310440666.6666667,
          192621333.33333334,
          327273333.3333334,
          330540000,
          325486000,
          343494666.6666667,
          321337333.3333334,
          326802000,
          298816000,
          344540000.00000006,
          341469333.3333334,
          337992666.6666667,
          288260000,
          217746666.6666667,
          341604666.6666667,
          341049333.3333334,
          335878666.6666667,
          336798000,
          342934666.6666667,
          334469333.3333334,
          323012666.6666667,
          298848666.6666667,
          175592666.6666667,
          340606000.0000001,
          343331333.3333334,
          330647333.3333334,
          291102000,
          309143333.3333334,
          205025333.33333334,
          333470666.6666667,
          335388666.6666667,
          319410000.00000006,
          332915333.3333334,
          329004666.6666667,
          342808666.6666667,
          342122666.6666667,
          336938000.00000006,
          337432666.6666667,
          335827333.3333334,
          305097333.3333334,
          316166666.6666667,
          340260666.6666667,
          337213333.3333334,
          302824666.6666667,
          341366666.6666667,
          344241333.3333334,
          324086000,
          347974666.6666667,
          336998666.6666667,
          343578666.6666667,
          332495333.3333334,
          340354000.00000006,
          337918000,
          202505333.33333334,
          344964666.6666667,
          348371333.3333334,
          289748666.6666667,
          347951333.3333334,
          351232000.00000006,
          347442666.66666675,
          344717333.3333334,
          344050000,
          336830666.6666667,
          319400666.6666667,
          347690000,
          343228666.6666667,
          346640000,
          336569333.3333334,
          345772000.00000006,
          345272666.6666667,
          350079333.3333334,
          347839333.3333334,
          345548000,
          345375333.3333334,
          344908666.6666667,
          220010000,
          347727333.3333334,
          350709333.3333334,
          343242666.6666667,
          346430000,
          344997333.3333334,
          344978666.6666667,
          347736666.6666667,
          342524000,
          346910666.6666667,
          350844666.6666667,
          329462000.00000006,
          344913333.3333334,
          333657333.3333334,
          347316666.6666667,
          346369333.3333334,
          344274000,
          337208666.6666667,
          346038000,
          344404666.6666667,
          343513333.3333334,
          346504666.6666667,
          346047333.3333334,
          346668000,
          345058000,
          343672000.00000006,
          345408000,
          343779333.3333334,
          346402000,
          343998666.66666675,
          344787333.3333334,
          347158000,
          345655333.3333334,
          333741333.3333334,
          346182666.6666667,
          345940000.00000006,
          346896666.66666675,
          337824666.6666667,
          350714000,
          346416000.00000006,
          344036000.00000006,
          345151333.3333334,
          348922000,
          350037333.3333334,
          347820666.6666667,
          350144666.6666667,
          349608000,
          343532000.00000006,
          346994666.6666667,
          346318000,
          346518666.6666667,
          348035333.3333334,
          348040000,
          347769333.3333334,
          348147333.3333334,
          145623333.33333334,
          348548666.6666667,
          342300000,
          350933333.3333334,
          349332666.6666667,
          351269333.3333334,
          344591333.3333334,
          343886666.6666667,
          349570666.6666667,
          344586666.6666667,
          351087333.3333334,
          347050666.6666667,
          332528000,
          347881333.3333334,
          346024000.0000001,
          347615333.3333334,
          334469333.3333334,
          351409333.3333334,
          350368666.6666667,
          345650666.6666667,
          351955333.3333334,
          346588666.6666667,
          348026000.00000006,
          347064666.6666667,
          346290000.00000006,
          349505333.3333334,
          342780666.6666667,
          343756000,
          334600000,
          347965333.3333334,
          310086000.00000006,
          351614666.6666667,
          352865333.3333334,
          349780666.6666667,
          349066666.6666667,
          351274000,
          350009333.3333334,
          349906666.6666667,
          347522000,
          349365333.3333334,
          351409333.3333334,
          350317333.3333334,
          345986666.6666667,
          350140000.00000006,
          344596000.00000006,
          348287333.3333334,
          352053333.3333334,
          349804000,
          348385333.3333334,
          345856000,
          351040666.66666675,
          350630000,
          347176666.6666667,
          349766666.6666667,
          346014666.6666667,
          285576666.6666667,
          347643333.3333334,
          351488666.6666667,
          349701333.3333334,
          347340000,
          342734000.00000006,
          347424000,
          348390000
         ],
         "yaxis": "y9"
        }
       ],
       "layout": {
        "template": {
         "data": {
          "bar": [
           {
            "error_x": {
             "color": "#2a3f5f"
            },
            "error_y": {
             "color": "#2a3f5f"
            },
            "marker": {
             "line": {
              "color": "#E5ECF6",
              "width": 0.5
             },
             "pattern": {
              "fillmode": "overlay",
              "size": 10,
              "solidity": 0.2
             }
            },
            "type": "bar"
           }
          ],
          "barpolar": [
           {
            "marker": {
             "line": {
              "color": "#E5ECF6",
              "width": 0.5
             },
             "pattern": {
              "fillmode": "overlay",
              "size": 10,
              "solidity": 0.2
             }
            },
            "type": "barpolar"
           }
          ],
          "carpet": [
           {
            "aaxis": {
             "endlinecolor": "#2a3f5f",
             "gridcolor": "white",
             "linecolor": "white",
             "minorgridcolor": "white",
             "startlinecolor": "#2a3f5f"
            },
            "baxis": {
             "endlinecolor": "#2a3f5f",
             "gridcolor": "white",
             "linecolor": "white",
             "minorgridcolor": "white",
             "startlinecolor": "#2a3f5f"
            },
            "type": "carpet"
           }
          ],
          "choropleth": [
           {
            "colorbar": {
             "outlinewidth": 0,
             "ticks": ""
            },
            "type": "choropleth"
           }
          ],
          "contour": [
           {
            "colorbar": {
             "outlinewidth": 0,
             "ticks": ""
            },
            "colorscale": [
             [
              0,
              "#0d0887"
             ],
             [
              0.1111111111111111,
              "#46039f"
             ],
             [
              0.2222222222222222,
              "#7201a8"
             ],
             [
              0.3333333333333333,
              "#9c179e"
             ],
             [
              0.4444444444444444,
              "#bd3786"
             ],
             [
              0.5555555555555556,
              "#d8576b"
             ],
             [
              0.6666666666666666,
              "#ed7953"
             ],
             [
              0.7777777777777778,
              "#fb9f3a"
             ],
             [
              0.8888888888888888,
              "#fdca26"
             ],
             [
              1,
              "#f0f921"
             ]
            ],
            "type": "contour"
           }
          ],
          "contourcarpet": [
           {
            "colorbar": {
             "outlinewidth": 0,
             "ticks": ""
            },
            "type": "contourcarpet"
           }
          ],
          "heatmap": [
           {
            "colorbar": {
             "outlinewidth": 0,
             "ticks": ""
            },
            "colorscale": [
             [
              0,
              "#0d0887"
             ],
             [
              0.1111111111111111,
              "#46039f"
             ],
             [
              0.2222222222222222,
              "#7201a8"
             ],
             [
              0.3333333333333333,
              "#9c179e"
             ],
             [
              0.4444444444444444,
              "#bd3786"
             ],
             [
              0.5555555555555556,
              "#d8576b"
             ],
             [
              0.6666666666666666,
              "#ed7953"
             ],
             [
              0.7777777777777778,
              "#fb9f3a"
             ],
             [
              0.8888888888888888,
              "#fdca26"
             ],
             [
              1,
              "#f0f921"
             ]
            ],
            "type": "heatmap"
           }
          ],
          "heatmapgl": [
           {
            "colorbar": {
             "outlinewidth": 0,
             "ticks": ""
            },
            "colorscale": [
             [
              0,
              "#0d0887"
             ],
             [
              0.1111111111111111,
              "#46039f"
             ],
             [
              0.2222222222222222,
              "#7201a8"
             ],
             [
              0.3333333333333333,
              "#9c179e"
             ],
             [
              0.4444444444444444,
              "#bd3786"
             ],
             [
              0.5555555555555556,
              "#d8576b"
             ],
             [
              0.6666666666666666,
              "#ed7953"
             ],
             [
              0.7777777777777778,
              "#fb9f3a"
             ],
             [
              0.8888888888888888,
              "#fdca26"
             ],
             [
              1,
              "#f0f921"
             ]
            ],
            "type": "heatmapgl"
           }
          ],
          "histogram": [
           {
            "marker": {
             "pattern": {
              "fillmode": "overlay",
              "size": 10,
              "solidity": 0.2
             }
            },
            "type": "histogram"
           }
          ],
          "histogram2d": [
           {
            "colorbar": {
             "outlinewidth": 0,
             "ticks": ""
            },
            "colorscale": [
             [
              0,
              "#0d0887"
             ],
             [
              0.1111111111111111,
              "#46039f"
             ],
             [
              0.2222222222222222,
              "#7201a8"
             ],
             [
              0.3333333333333333,
              "#9c179e"
             ],
             [
              0.4444444444444444,
              "#bd3786"
             ],
             [
              0.5555555555555556,
              "#d8576b"
             ],
             [
              0.6666666666666666,
              "#ed7953"
             ],
             [
              0.7777777777777778,
              "#fb9f3a"
             ],
             [
              0.8888888888888888,
              "#fdca26"
             ],
             [
              1,
              "#f0f921"
             ]
            ],
            "type": "histogram2d"
           }
          ],
          "histogram2dcontour": [
           {
            "colorbar": {
             "outlinewidth": 0,
             "ticks": ""
            },
            "colorscale": [
             [
              0,
              "#0d0887"
             ],
             [
              0.1111111111111111,
              "#46039f"
             ],
             [
              0.2222222222222222,
              "#7201a8"
             ],
             [
              0.3333333333333333,
              "#9c179e"
             ],
             [
              0.4444444444444444,
              "#bd3786"
             ],
             [
              0.5555555555555556,
              "#d8576b"
             ],
             [
              0.6666666666666666,
              "#ed7953"
             ],
             [
              0.7777777777777778,
              "#fb9f3a"
             ],
             [
              0.8888888888888888,
              "#fdca26"
             ],
             [
              1,
              "#f0f921"
             ]
            ],
            "type": "histogram2dcontour"
           }
          ],
          "mesh3d": [
           {
            "colorbar": {
             "outlinewidth": 0,
             "ticks": ""
            },
            "type": "mesh3d"
           }
          ],
          "parcoords": [
           {
            "line": {
             "colorbar": {
              "outlinewidth": 0,
              "ticks": ""
             }
            },
            "type": "parcoords"
           }
          ],
          "pie": [
           {
            "automargin": true,
            "type": "pie"
           }
          ],
          "scatter": [
           {
            "fillpattern": {
             "fillmode": "overlay",
             "size": 10,
             "solidity": 0.2
            },
            "type": "scatter"
           }
          ],
          "scatter3d": [
           {
            "line": {
             "colorbar": {
              "outlinewidth": 0,
              "ticks": ""
             }
            },
            "marker": {
             "colorbar": {
              "outlinewidth": 0,
              "ticks": ""
             }
            },
            "type": "scatter3d"
           }
          ],
          "scattercarpet": [
           {
            "marker": {
             "colorbar": {
              "outlinewidth": 0,
              "ticks": ""
             }
            },
            "type": "scattercarpet"
           }
          ],
          "scattergeo": [
           {
            "marker": {
             "colorbar": {
              "outlinewidth": 0,
              "ticks": ""
             }
            },
            "type": "scattergeo"
           }
          ],
          "scattergl": [
           {
            "marker": {
             "colorbar": {
              "outlinewidth": 0,
              "ticks": ""
             }
            },
            "type": "scattergl"
           }
          ],
          "scattermapbox": [
           {
            "marker": {
             "colorbar": {
              "outlinewidth": 0,
              "ticks": ""
             }
            },
            "type": "scattermapbox"
           }
          ],
          "scatterpolar": [
           {
            "marker": {
             "colorbar": {
              "outlinewidth": 0,
              "ticks": ""
             }
            },
            "type": "scatterpolar"
           }
          ],
          "scatterpolargl": [
           {
            "marker": {
             "colorbar": {
              "outlinewidth": 0,
              "ticks": ""
             }
            },
            "type": "scatterpolargl"
           }
          ],
          "scatterternary": [
           {
            "marker": {
             "colorbar": {
              "outlinewidth": 0,
              "ticks": ""
             }
            },
            "type": "scatterternary"
           }
          ],
          "surface": [
           {
            "colorbar": {
             "outlinewidth": 0,
             "ticks": ""
            },
            "colorscale": [
             [
              0,
              "#0d0887"
             ],
             [
              0.1111111111111111,
              "#46039f"
             ],
             [
              0.2222222222222222,
              "#7201a8"
             ],
             [
              0.3333333333333333,
              "#9c179e"
             ],
             [
              0.4444444444444444,
              "#bd3786"
             ],
             [
              0.5555555555555556,
              "#d8576b"
             ],
             [
              0.6666666666666666,
              "#ed7953"
             ],
             [
              0.7777777777777778,
              "#fb9f3a"
             ],
             [
              0.8888888888888888,
              "#fdca26"
             ],
             [
              1,
              "#f0f921"
             ]
            ],
            "type": "surface"
           }
          ],
          "table": [
           {
            "cells": {
             "fill": {
              "color": "#EBF0F8"
             },
             "line": {
              "color": "white"
             }
            },
            "header": {
             "fill": {
              "color": "#C8D4E3"
             },
             "line": {
              "color": "white"
             }
            },
            "type": "table"
           }
          ]
         },
         "layout": {
          "annotationdefaults": {
           "arrowcolor": "#2a3f5f",
           "arrowhead": 0,
           "arrowwidth": 1
          },
          "autotypenumbers": "strict",
          "coloraxis": {
           "colorbar": {
            "outlinewidth": 0,
            "ticks": ""
           }
          },
          "colorscale": {
           "diverging": [
            [
             0,
             "#8e0152"
            ],
            [
             0.1,
             "#c51b7d"
            ],
            [
             0.2,
             "#de77ae"
            ],
            [
             0.3,
             "#f1b6da"
            ],
            [
             0.4,
             "#fde0ef"
            ],
            [
             0.5,
             "#f7f7f7"
            ],
            [
             0.6,
             "#e6f5d0"
            ],
            [
             0.7,
             "#b8e186"
            ],
            [
             0.8,
             "#7fbc41"
            ],
            [
             0.9,
             "#4d9221"
            ],
            [
             1,
             "#276419"
            ]
           ],
           "sequential": [
            [
             0,
             "#0d0887"
            ],
            [
             0.1111111111111111,
             "#46039f"
            ],
            [
             0.2222222222222222,
             "#7201a8"
            ],
            [
             0.3333333333333333,
             "#9c179e"
            ],
            [
             0.4444444444444444,
             "#bd3786"
            ],
            [
             0.5555555555555556,
             "#d8576b"
            ],
            [
             0.6666666666666666,
             "#ed7953"
            ],
            [
             0.7777777777777778,
             "#fb9f3a"
            ],
            [
             0.8888888888888888,
             "#fdca26"
            ],
            [
             1,
             "#f0f921"
            ]
           ],
           "sequentialminus": [
            [
             0,
             "#0d0887"
            ],
            [
             0.1111111111111111,
             "#46039f"
            ],
            [
             0.2222222222222222,
             "#7201a8"
            ],
            [
             0.3333333333333333,
             "#9c179e"
            ],
            [
             0.4444444444444444,
             "#bd3786"
            ],
            [
             0.5555555555555556,
             "#d8576b"
            ],
            [
             0.6666666666666666,
             "#ed7953"
            ],
            [
             0.7777777777777778,
             "#fb9f3a"
            ],
            [
             0.8888888888888888,
             "#fdca26"
            ],
            [
             1,
             "#f0f921"
            ]
           ]
          },
          "colorway": [
           "#636efa",
           "#EF553B",
           "#00cc96",
           "#ab63fa",
           "#FFA15A",
           "#19d3f3",
           "#FF6692",
           "#B6E880",
           "#FF97FF",
           "#FECB52"
          ],
          "font": {
           "color": "#2a3f5f"
          },
          "geo": {
           "bgcolor": "white",
           "lakecolor": "white",
           "landcolor": "#E5ECF6",
           "showlakes": true,
           "showland": true,
           "subunitcolor": "white"
          },
          "hoverlabel": {
           "align": "left"
          },
          "hovermode": "closest",
          "mapbox": {
           "style": "light"
          },
          "paper_bgcolor": "white",
          "plot_bgcolor": "#E5ECF6",
          "polar": {
           "angularaxis": {
            "gridcolor": "white",
            "linecolor": "white",
            "ticks": ""
           },
           "bgcolor": "#E5ECF6",
           "radialaxis": {
            "gridcolor": "white",
            "linecolor": "white",
            "ticks": ""
           }
          },
          "scene": {
           "xaxis": {
            "backgroundcolor": "#E5ECF6",
            "gridcolor": "white",
            "gridwidth": 2,
            "linecolor": "white",
            "showbackground": true,
            "ticks": "",
            "zerolinecolor": "white"
           },
           "yaxis": {
            "backgroundcolor": "#E5ECF6",
            "gridcolor": "white",
            "gridwidth": 2,
            "linecolor": "white",
            "showbackground": true,
            "ticks": "",
            "zerolinecolor": "white"
           },
           "zaxis": {
            "backgroundcolor": "#E5ECF6",
            "gridcolor": "white",
            "gridwidth": 2,
            "linecolor": "white",
            "showbackground": true,
            "ticks": "",
            "zerolinecolor": "white"
           }
          },
          "shapedefaults": {
           "line": {
            "color": "#2a3f5f"
           }
          },
          "ternary": {
           "aaxis": {
            "gridcolor": "white",
            "linecolor": "white",
            "ticks": ""
           },
           "baxis": {
            "gridcolor": "white",
            "linecolor": "white",
            "ticks": ""
           },
           "bgcolor": "#E5ECF6",
           "caxis": {
            "gridcolor": "white",
            "linecolor": "white",
            "ticks": ""
           }
          },
          "title": {
           "x": 0.05
          },
          "xaxis": {
           "automargin": true,
           "gridcolor": "white",
           "linecolor": "white",
           "ticks": "",
           "title": {
            "standoff": 15
           },
           "zerolinecolor": "white",
           "zerolinewidth": 2
          },
          "yaxis": {
           "automargin": true,
           "gridcolor": "white",
           "linecolor": "white",
           "ticks": "",
           "title": {
            "standoff": 15
           },
           "zerolinecolor": "white",
           "zerolinewidth": 2
          }
         }
        },
        "title": {
         "text": "Slice Plot"
        },
        "width": 2700,
        "xaxis": {
         "anchor": "y",
         "domain": [
          0,
          0.09135802469135802
         ],
         "title": {
          "text": "bagging_fraction"
         }
        },
        "xaxis2": {
         "anchor": "y2",
         "domain": [
          0.11358024691358025,
          0.20493827160493827
         ],
         "title": {
          "text": "bagging_freq"
         }
        },
        "xaxis3": {
         "anchor": "y3",
         "domain": [
          0.2271604938271605,
          0.31851851851851853
         ],
         "title": {
          "text": "feature_fraction"
         }
        },
        "xaxis4": {
         "anchor": "y4",
         "domain": [
          0.34074074074074073,
          0.43209876543209874
         ],
         "title": {
          "text": "learning_rate"
         },
         "type": "log"
        },
        "xaxis5": {
         "anchor": "y5",
         "domain": [
          0.454320987654321,
          0.5456790123456791
         ],
         "title": {
          "text": "max_bin"
         }
        },
        "xaxis6": {
         "anchor": "y6",
         "domain": [
          0.5679012345679012,
          0.6592592592592592
         ],
         "title": {
          "text": "min_data_in_leaf"
         }
        },
        "xaxis7": {
         "anchor": "y7",
         "domain": [
          0.6814814814814815,
          0.7728395061728395
         ],
         "title": {
          "text": "min_gain_to_split"
         }
        },
        "xaxis8": {
         "anchor": "y8",
         "domain": [
          0.7950617283950617,
          0.8864197530864197
         ],
         "title": {
          "text": "n_estimators"
         }
        },
        "xaxis9": {
         "anchor": "y9",
         "domain": [
          0.908641975308642,
          1
         ],
         "title": {
          "text": "num_leaves"
         }
        },
        "yaxis": {
         "anchor": "x",
         "domain": [
          0,
          1
         ],
         "title": {
          "text": "Objective Value"
         }
        },
        "yaxis2": {
         "anchor": "x2",
         "domain": [
          0,
          1
         ],
         "matches": "y",
         "showticklabels": false
        },
        "yaxis3": {
         "anchor": "x3",
         "domain": [
          0,
          1
         ],
         "matches": "y",
         "showticklabels": false
        },
        "yaxis4": {
         "anchor": "x4",
         "domain": [
          0,
          1
         ],
         "matches": "y",
         "showticklabels": false
        },
        "yaxis5": {
         "anchor": "x5",
         "domain": [
          0,
          1
         ],
         "matches": "y",
         "showticklabels": false
        },
        "yaxis6": {
         "anchor": "x6",
         "domain": [
          0,
          1
         ],
         "matches": "y",
         "showticklabels": false
        },
        "yaxis7": {
         "anchor": "x7",
         "domain": [
          0,
          1
         ],
         "matches": "y",
         "showticklabels": false
        },
        "yaxis8": {
         "anchor": "x8",
         "domain": [
          0,
          1
         ],
         "matches": "y",
         "showticklabels": false
        },
        "yaxis9": {
         "anchor": "x9",
         "domain": [
          0,
          1
         ],
         "matches": "y",
         "showticklabels": false
        }
       }
      }
     },
     "metadata": {},
     "output_type": "display_data"
    }
   ],
   "source": [
    "optuna.visualization.plot_slice(study)"
   ]
  },
  {
   "cell_type": "markdown",
   "metadata": {},
   "source": [
    "### xgboost prepro6 fe6 y 3 opt (local opt parcial) \n",
    "\n",
    "**Prepro in 6 months and Conceptual FE 6 months**\n",
    "\n",
    "comp02_prepro_6.ipynb\n",
    "\n",
    "comp02_fe6_6.ipynb\n",
    "\n",
    "**Usando los últimos 3 meses (parcial) para optimizar**"
   ]
  },
  {
   "cell_type": "code",
   "execution_count": null,
   "metadata": {},
   "outputs": [
    {
     "name": "stdout",
     "output_type": "stream",
     "text": [
      "### Corriendo pipeline con XGBoost ###\n",
      "\n",
      "# Entrenando el modelo base XGBoost\n",
      "\n",
      "# Evaluando el modelo base en el conjunto de prueba\n"
     ]
    },
    {
     "name": "stderr",
     "output_type": "stream",
     "text": [
      "[I 2024-11-20 16:42:34,245] Using an existing study with name 'exp_xgb_pr6_fe6_tr3_x' instead of creating a new one.\n"
     ]
    },
    {
     "name": "stdout",
     "output_type": "stream",
     "text": [
      "Ganancia del modelo en el conjunto de test: 81270000.0\n",
      "\n",
      "# Optimizando el modelo\n",
      "Mejores parámetros para xgboost: {'n_estimators': 478, 'max_leaves': 174, 'eta': 0.060387545964796806, 'gamma': 0.9866113690542855, 'min_child_weight': 5, 'subsample': 0.7985283659419606, 'colsample_bytree': 0.680777100783857}\n",
      "\n",
      "# Entrenando el mejor modelo con parámetros optimizados\n",
      "\n",
      "# Evaluando el mejor modelo en el conjunto de prueba\n",
      "Ganancia del modelo en el conjunto de test: 87815000.0\n",
      "\n",
      "# Simulando el split Kaggle y comparando modelos\n"
     ]
    },
    {
     "name": "stderr",
     "output_type": "stream",
     "text": [
      "c:\\Users\\santt\\.conda\\envs\\dm_eyf\\Lib\\site-packages\\seaborn\\axisgrid.py:123: UserWarning:\n",
      "\n",
      "The figure layout has changed to tight\n",
      "\n"
     ]
    },
    {
     "data": {
      "image/png": "[encoded data removed]",
      "text/plain": [
       "<Figure size 1200x600 with 4 Axes>"
      ]
     },
     "metadata": {},
     "output_type": "display_data"
    },
    {
     "name": "stdout",
     "output_type": "stream",
     "text": [
      "Ganancia media del modelo base en privado: 81240200.0\n",
      "Ganancia media del modelo base en público: 81339533.33333334\n",
      "Ganancia media del modelo Best en privado: 87951400.0\n",
      "Ganancia media del modelo Best en público: 87496733.33333334\n"
     ]
    }
   ],
   "source": [
    "# Condiciones de la optimización\n",
    "s = 1\n",
    "prepro = 6 # data quality + data drifting\n",
    "fe = 6 # feature engineering conceptual 6 meses\n",
    "training = 3 # un mes de optimización\n",
    "\n",
    "print(\"### Corriendo pipeline con XGBoost ###\")\n",
    "# Inicializar el pipeline con 'xgboost'\n",
    "pipeline_xgb_x = ModelPipeline(data=None, seeds=semillas, threshold=threshold_bt_mean,\n",
    "                              model_type='xgboost', seed=s, n_jobs=-3)\n",
    "\n",
    "print(\"\\n# Entrenando el modelo base XGBoost\")\n",
    "pipeline_xgb_x.train_base_model(X_train_imp, y_train)\n",
    "\n",
    "print(\"\\n# Evaluando el modelo base en el conjunto de prueba\")\n",
    "pipeline_xgb_x.test_base_model(X_test_imp, y_test)\n",
    "\n",
    "# Definir el almacenamiento para Optuna\n",
    "storage_name = \"sqlite:///\" + db_path + \"optimization_tree.db\"\n",
    "# carga local\n",
    "# storage_name = \"sqlite:///optimizacion/optimization_tree.db\"\n",
    "study_name = f\"exp_xgb_pr{prepro}_fe{fe}_tr{training}_x\"\n",
    "\n",
    "print(\"\\n# Optimizando el modelo\")\n",
    "pipeline_xgb_x.optimize_model(\n",
    "    X_train_imp, y_train,\n",
    "    storage_name=storage_name,\n",
    "    study_name=study_name,\n",
    "    optimize=False,  \n",
    "    n_trials=100\n",
    ")\n",
    "\n",
    "# Entrenar el mejor modelo con parámetros optimizados\n",
    "print(\"\\n# Entrenando el mejor modelo con parámetros optimizados\")\n",
    "pipeline_xgb_x.train_best_model(X_train_imp, y_train)\n",
    "\n",
    "# Evaluar el mejor modelo en el conjunto de prueba\n",
    "print(\"\\n# Evaluando el mejor modelo en el conjunto de prueba\")\n",
    "pipeline_xgb_x.test_best_model(X_test_imp, y_test)\n",
    "\n",
    "# Simular el split Kaggle y comparar modelos\n",
    "print(\"\\n# Simulando el split Kaggle y comparando modelos\")\n",
    "\n",
    "fpri_best_xgb_pr6_fe6_tr3, fpri_base_xgb_pr6_fe6_tr3, \\\n",
    "fpub_best_xgb_pr6_fe6_tr3, fpub_base_xgb_pr6_fe6_tr3 = \\\n",
    "pipeline_xgb_x.simulate_kaggle_split(X_test_imp, y_test) # sin imputer ni to_drop porque estan prepro"
   ]
  },
  {
   "cell_type": "markdown",
   "metadata": {},
   "source": [
    "Exploring optimization"
   ]
  },
  {
   "cell_type": "code",
   "execution_count": 17,
   "metadata": {},
   "outputs": [
    {
     "name": "stdout",
     "output_type": "stream",
     "text": [
      "\n",
      "Study Trials DataFrame:\n",
      "\n",
      "|    |   number |         value | datetime_start             | datetime_complete          | duration               |   params_colsample_bytree |   params_eta |   params_gamma |   params_max_leaves |   params_min_child_weight |   params_n_estimators |   params_subsample | state    |\n",
      "|---:|---------:|--------------:|:---------------------------|:---------------------------|:-----------------------|--------------------------:|-------------:|---------------:|--------------------:|--------------------------:|----------------------:|-------------------:|:---------|\n",
      "|  0 |        0 | nan           | 2024-11-20 07:54:50.583926 | 2024-11-20 07:55:11.767686 | 0 days 00:00:21.183760 |                  0.787096 |    0.130665  |       0.218265 |                 212 |                         2 |                   406 |           0.77097  | FAIL     |\n",
      "|  1 |        1 |   3.40354e+08 | 2024-11-20 09:20:54.080034 | 2024-11-20 09:25:01.335416 | 0 days 00:04:07.255382 |                  0.801752 |    0.126477  |       1.34205  |                 235 |                         3 |                   322 |           0.80281  | COMPLETE |\n",
      "|  2 |        2 |   2.22231e+08 | 2024-11-20 09:25:01.424077 | 2024-11-20 09:28:36.275409 | 0 days 00:03:34.851332 |                  0.887656 |    0.0164577 |       1.99111  |                 109 |                         4 |                   391 |           0.742555 | COMPLETE |\n",
      "|  3 |        3 |   3.39631e+08 | 2024-11-20 09:28:36.308869 | 2024-11-20 09:32:03.365431 | 0 days 00:03:27.056562 |                  0.79289  |    0.189348  |       2.25545  |                  73 |                         2 |                   114 |           0.754413 | COMPLETE |\n",
      "|  4 |        4 |  -2.56473e+09 | 2024-11-20 09:32:03.440800 | 2024-11-20 09:35:26.280305 | 0 days 00:03:22.839505 |                  0.533478 |    0.0102284 |       1.70792  |                 185 |                         5 |                   361 |           0.696127 | COMPLETE |\n",
      "|  5 |        5 |   3.53831e+08 | 2024-11-20 09:35:26.337279 | 2024-11-20 09:38:59.518966 | 0 days 00:03:33.181687 |                  0.576881 |    0.0710393 |       4.59313  |                  80 |                         4 |                   423 |           0.686325 | COMPLETE |\n",
      "|  6 |        6 |   3.41124e+08 | 2024-11-20 09:38:59.579966 | 2024-11-20 09:41:59.974305 | 0 days 00:03:00.394339 |                  0.553859 |    0.248286  |       3.62888  |                  28 |                         5 |                   174 |           0.641673 | COMPLETE |\n",
      "|  7 |        7 |   3.54452e+08 | 2024-11-20 09:42:00.031862 | 2024-11-20 09:45:56.605637 | 0 days 00:03:56.573775 |                  0.680777 |    0.0603875 |       0.986611 |                 174 |                         5 |                   478 |           0.798528 | COMPLETE |\n",
      "|  8 |        8 |  -9.98153e+07 | 2024-11-20 09:45:56.663797 | 2024-11-20 09:49:25.425958 | 0 days 00:03:28.762161 |                  0.863254 |    0.0149878 |       2.55878  |                  23 |                         5 |                   188 |           0.868344 | COMPLETE |\n",
      "|  9 |        9 |  -2.56473e+09 | 2024-11-20 09:49:25.488337 | 2024-11-20 09:53:13.966263 | 0 days 00:03:48.477926 |                  0.817515 |    0.0126932 |       3.10693  |                 122 |                         5 |                   120 |           0.602511 | COMPLETE |\n",
      "\n",
      "Basic Statistics of Trials:\n",
      "\n",
      "|       |   number |        value | datetime_start                | datetime_complete             | duration                  |   params_colsample_bytree |   params_eta |   params_gamma |   params_max_leaves |   params_min_child_weight |   params_n_estimators |   params_subsample |\n",
      "|:------|---------:|-------------:|:------------------------------|:------------------------------|:--------------------------|--------------------------:|-------------:|---------------:|--------------------:|--------------------------:|----------------------:|-------------------:|\n",
      "| count | 11       |  9           | 11                            | 11                            | 11                        |                 11        |   11         |      11        |             11      |                  11       |                 11    |         11         |\n",
      "| mean  |  5       | -3.64184e+08 | 2024-11-20 09:27:51.634618112 | 2024-11-20 09:30:52.475689984 | 0 days 00:03:00.841071636 |                  0.710966 |    0.0811167 |       2.22772  |            132.091  |                   3.72727 |                286    |          0.73446   |\n",
      "| min   |  0       | -2.56473e+09 | 2024-11-20 07:54:50.583926    | 2024-11-20 07:55:11.767686    | 0 days 00:00:21.183760    |                  0.525468 |    0.0102284 |       0.218265 |             23      |                   1       |                114    |          0.602511  |\n",
      "| 25%   |  2.5     | -9.98153e+07 | 2024-11-20 09:26:48.866473216 | 2024-11-20 09:30:19.820420096 | 0 days 00:03:11.616922    |                  0.56537  |    0.0138405 |       1.52499  |             76.5    |                   2.5     |                171.5  |          0.691226  |\n",
      "| 50%   |  5       |  3.39631e+08 | 2024-11-20 09:35:26.337278976 | 2024-11-20 09:38:59.518966016 | 0 days 00:03:28.762161    |                  0.787096 |    0.0603875 |       2.11576  |            122      |                   4       |                322    |          0.742555  |\n",
      "| 75%   |  7.5     |  3.41124e+08 | 2024-11-20 09:43:58.347829504 | 2024-11-20 09:47:41.015797504 | 0 days 00:03:41.664629    |                  0.809633 |    0.128571  |       2.83286  |            198.5    |                   5       |                398.5  |          0.784749  |\n",
      "| max   | 10       |  3.54452e+08 | 2024-11-20 09:53:14.041853    | 2024-11-20 09:53:42.717212    | 0 days 00:04:07.255382    |                  0.887656 |    0.248286  |       4.59313  |            235      |                   5       |                478    |          0.868344  |\n",
      "| std   |  3.31662 |  1.25597e+09 | nan                           | nan                           | 0 days 00:01:19.110498051 |                  0.139999 |    0.0823293 |       1.23057  |             75.8241 |                   1.48936 |                134.52 |          0.0766098 |\n",
      "\n",
      "Best Trial:\n",
      "\n",
      "  Value: 354452000.00000006\n",
      "  Params:\n",
      "    n_estimators: 478\n",
      "    max_leaves: 174\n",
      "    eta: 0.060387545964796806\n",
      "    gamma: 0.9866113690542855\n",
      "    min_child_weight: 5\n",
      "    subsample: 0.7985283659419606\n",
      "    colsample_bytree: 0.680777100783857\n"
     ]
    }
   ],
   "source": [
    "study = analyze_study(storage_name, study_name)"
   ]
  },
  {
   "cell_type": "code",
   "execution_count": 18,
   "metadata": {},
   "outputs": [
    {
     "data": {
      "application/vnd.plotly.v1+json": {
       "config": {
        "plotlyServerURL": "https://plot.ly"
       },
       "data": [
        {
         "mode": "markers",
         "name": "Objective Value",
         "type": "scatter",
         "x": [
          1,
          2,
          3,
          4,
          5,
          6,
          7,
          8,
          9
         ],
         "y": [
          340354000.0000001,
          222231333.33333334,
          339630666.6666667,
          -2564730000.0000005,
          353831333.3333334,
          341124000.00000006,
          354452000.00000006,
          -99815333.33333334,
          -2564730000.0000005
         ]
        },
        {
         "mode": "lines",
         "name": "Best Value",
         "type": "scatter",
         "x": [
          0,
          1,
          2,
          3,
          4,
          5,
          6,
          7,
          8,
          9,
          10
         ],
         "y": [
          null,
          340354000.0000001,
          340354000.0000001,
          340354000.0000001,
          340354000.0000001,
          353831333.3333334,
          353831333.3333334,
          354452000.00000006,
          354452000.00000006,
          354452000.00000006,
          354452000.00000006
         ]
        },
        {
         "marker": {
          "color": "#cccccc"
         },
         "mode": "markers",
         "name": "Infeasible Trial",
         "showlegend": false,
         "type": "scatter",
         "x": [],
         "y": []
        }
       ],
       "layout": {
        "template": {
         "data": {
          "bar": [
           {
            "error_x": {
             "color": "#2a3f5f"
            },
            "error_y": {
             "color": "#2a3f5f"
            },
            "marker": {
             "line": {
              "color": "#E5ECF6",
              "width": 0.5
             },
             "pattern": {
              "fillmode": "overlay",
              "size": 10,
              "solidity": 0.2
             }
            },
            "type": "bar"
           }
          ],
          "barpolar": [
           {
            "marker": {
             "line": {
              "color": "#E5ECF6",
              "width": 0.5
             },
             "pattern": {
              "fillmode": "overlay",
              "size": 10,
              "solidity": 0.2
             }
            },
            "type": "barpolar"
           }
          ],
          "carpet": [
           {
            "aaxis": {
             "endlinecolor": "#2a3f5f",
             "gridcolor": "white",
             "linecolor": "white",
             "minorgridcolor": "white",
             "startlinecolor": "#2a3f5f"
            },
            "baxis": {
             "endlinecolor": "#2a3f5f",
             "gridcolor": "white",
             "linecolor": "white",
             "minorgridcolor": "white",
             "startlinecolor": "#2a3f5f"
            },
            "type": "carpet"
           }
          ],
          "choropleth": [
           {
            "colorbar": {
             "outlinewidth": 0,
             "ticks": ""
            },
            "type": "choropleth"
           }
          ],
          "contour": [
           {
            "colorbar": {
             "outlinewidth": 0,
             "ticks": ""
            },
            "colorscale": [
             [
              0,
              "#0d0887"
             ],
             [
              0.1111111111111111,
              "#46039f"
             ],
             [
              0.2222222222222222,
              "#7201a8"
             ],
             [
              0.3333333333333333,
              "#9c179e"
             ],
             [
              0.4444444444444444,
              "#bd3786"
             ],
             [
              0.5555555555555556,
              "#d8576b"
             ],
             [
              0.6666666666666666,
              "#ed7953"
             ],
             [
              0.7777777777777778,
              "#fb9f3a"
             ],
             [
              0.8888888888888888,
              "#fdca26"
             ],
             [
              1,
              "#f0f921"
             ]
            ],
            "type": "contour"
           }
          ],
          "contourcarpet": [
           {
            "colorbar": {
             "outlinewidth": 0,
             "ticks": ""
            },
            "type": "contourcarpet"
           }
          ],
          "heatmap": [
           {
            "colorbar": {
             "outlinewidth": 0,
             "ticks": ""
            },
            "colorscale": [
             [
              0,
              "#0d0887"
             ],
             [
              0.1111111111111111,
              "#46039f"
             ],
             [
              0.2222222222222222,
              "#7201a8"
             ],
             [
              0.3333333333333333,
              "#9c179e"
             ],
             [
              0.4444444444444444,
              "#bd3786"
             ],
             [
              0.5555555555555556,
              "#d8576b"
             ],
             [
              0.6666666666666666,
              "#ed7953"
             ],
             [
              0.7777777777777778,
              "#fb9f3a"
             ],
             [
              0.8888888888888888,
              "#fdca26"
             ],
             [
              1,
              "#f0f921"
             ]
            ],
            "type": "heatmap"
           }
          ],
          "heatmapgl": [
           {
            "colorbar": {
             "outlinewidth": 0,
             "ticks": ""
            },
            "colorscale": [
             [
              0,
              "#0d0887"
             ],
             [
              0.1111111111111111,
              "#46039f"
             ],
             [
              0.2222222222222222,
              "#7201a8"
             ],
             [
              0.3333333333333333,
              "#9c179e"
             ],
             [
              0.4444444444444444,
              "#bd3786"
             ],
             [
              0.5555555555555556,
              "#d8576b"
             ],
             [
              0.6666666666666666,
              "#ed7953"
             ],
             [
              0.7777777777777778,
              "#fb9f3a"
             ],
             [
              0.8888888888888888,
              "#fdca26"
             ],
             [
              1,
              "#f0f921"
             ]
            ],
            "type": "heatmapgl"
           }
          ],
          "histogram": [
           {
            "marker": {
             "pattern": {
              "fillmode": "overlay",
              "size": 10,
              "solidity": 0.2
             }
            },
            "type": "histogram"
           }
          ],
          "histogram2d": [
           {
            "colorbar": {
             "outlinewidth": 0,
             "ticks": ""
            },
            "colorscale": [
             [
              0,
              "#0d0887"
             ],
             [
              0.1111111111111111,
              "#46039f"
             ],
             [
              0.2222222222222222,
              "#7201a8"
             ],
             [
              0.3333333333333333,
              "#9c179e"
             ],
             [
              0.4444444444444444,
              "#bd3786"
             ],
             [
              0.5555555555555556,
              "#d8576b"
             ],
             [
              0.6666666666666666,
              "#ed7953"
             ],
             [
              0.7777777777777778,
              "#fb9f3a"
             ],
             [
              0.8888888888888888,
              "#fdca26"
             ],
             [
              1,
              "#f0f921"
             ]
            ],
            "type": "histogram2d"
           }
          ],
          "histogram2dcontour": [
           {
            "colorbar": {
             "outlinewidth": 0,
             "ticks": ""
            },
            "colorscale": [
             [
              0,
              "#0d0887"
             ],
             [
              0.1111111111111111,
              "#46039f"
             ],
             [
              0.2222222222222222,
              "#7201a8"
             ],
             [
              0.3333333333333333,
              "#9c179e"
             ],
             [
              0.4444444444444444,
              "#bd3786"
             ],
             [
              0.5555555555555556,
              "#d8576b"
             ],
             [
              0.6666666666666666,
              "#ed7953"
             ],
             [
              0.7777777777777778,
              "#fb9f3a"
             ],
             [
              0.8888888888888888,
              "#fdca26"
             ],
             [
              1,
              "#f0f921"
             ]
            ],
            "type": "histogram2dcontour"
           }
          ],
          "mesh3d": [
           {
            "colorbar": {
             "outlinewidth": 0,
             "ticks": ""
            },
            "type": "mesh3d"
           }
          ],
          "parcoords": [
           {
            "line": {
             "colorbar": {
              "outlinewidth": 0,
              "ticks": ""
             }
            },
            "type": "parcoords"
           }
          ],
          "pie": [
           {
            "automargin": true,
            "type": "pie"
           }
          ],
          "scatter": [
           {
            "fillpattern": {
             "fillmode": "overlay",
             "size": 10,
             "solidity": 0.2
            },
            "type": "scatter"
           }
          ],
          "scatter3d": [
           {
            "line": {
             "colorbar": {
              "outlinewidth": 0,
              "ticks": ""
             }
            },
            "marker": {
             "colorbar": {
              "outlinewidth": 0,
              "ticks": ""
             }
            },
            "type": "scatter3d"
           }
          ],
          "scattercarpet": [
           {
            "marker": {
             "colorbar": {
              "outlinewidth": 0,
              "ticks": ""
             }
            },
            "type": "scattercarpet"
           }
          ],
          "scattergeo": [
           {
            "marker": {
             "colorbar": {
              "outlinewidth": 0,
              "ticks": ""
             }
            },
            "type": "scattergeo"
           }
          ],
          "scattergl": [
           {
            "marker": {
             "colorbar": {
              "outlinewidth": 0,
              "ticks": ""
             }
            },
            "type": "scattergl"
           }
          ],
          "scattermapbox": [
           {
            "marker": {
             "colorbar": {
              "outlinewidth": 0,
              "ticks": ""
             }
            },
            "type": "scattermapbox"
           }
          ],
          "scatterpolar": [
           {
            "marker": {
             "colorbar": {
              "outlinewidth": 0,
              "ticks": ""
             }
            },
            "type": "scatterpolar"
           }
          ],
          "scatterpolargl": [
           {
            "marker": {
             "colorbar": {
              "outlinewidth": 0,
              "ticks": ""
             }
            },
            "type": "scatterpolargl"
           }
          ],
          "scatterternary": [
           {
            "marker": {
             "colorbar": {
              "outlinewidth": 0,
              "ticks": ""
             }
            },
            "type": "scatterternary"
           }
          ],
          "surface": [
           {
            "colorbar": {
             "outlinewidth": 0,
             "ticks": ""
            },
            "colorscale": [
             [
              0,
              "#0d0887"
             ],
             [
              0.1111111111111111,
              "#46039f"
             ],
             [
              0.2222222222222222,
              "#7201a8"
             ],
             [
              0.3333333333333333,
              "#9c179e"
             ],
             [
              0.4444444444444444,
              "#bd3786"
             ],
             [
              0.5555555555555556,
              "#d8576b"
             ],
             [
              0.6666666666666666,
              "#ed7953"
             ],
             [
              0.7777777777777778,
              "#fb9f3a"
             ],
             [
              0.8888888888888888,
              "#fdca26"
             ],
             [
              1,
              "#f0f921"
             ]
            ],
            "type": "surface"
           }
          ],
          "table": [
           {
            "cells": {
             "fill": {
              "color": "#EBF0F8"
             },
             "line": {
              "color": "white"
             }
            },
            "header": {
             "fill": {
              "color": "#C8D4E3"
             },
             "line": {
              "color": "white"
             }
            },
            "type": "table"
           }
          ]
         },
         "layout": {
          "annotationdefaults": {
           "arrowcolor": "#2a3f5f",
           "arrowhead": 0,
           "arrowwidth": 1
          },
          "autotypenumbers": "strict",
          "coloraxis": {
           "colorbar": {
            "outlinewidth": 0,
            "ticks": ""
           }
          },
          "colorscale": {
           "diverging": [
            [
             0,
             "#8e0152"
            ],
            [
             0.1,
             "#c51b7d"
            ],
            [
             0.2,
             "#de77ae"
            ],
            [
             0.3,
             "#f1b6da"
            ],
            [
             0.4,
             "#fde0ef"
            ],
            [
             0.5,
             "#f7f7f7"
            ],
            [
             0.6,
             "#e6f5d0"
            ],
            [
             0.7,
             "#b8e186"
            ],
            [
             0.8,
             "#7fbc41"
            ],
            [
             0.9,
             "#4d9221"
            ],
            [
             1,
             "#276419"
            ]
           ],
           "sequential": [
            [
             0,
             "#0d0887"
            ],
            [
             0.1111111111111111,
             "#46039f"
            ],
            [
             0.2222222222222222,
             "#7201a8"
            ],
            [
             0.3333333333333333,
             "#9c179e"
            ],
            [
             0.4444444444444444,
             "#bd3786"
            ],
            [
             0.5555555555555556,
             "#d8576b"
            ],
            [
             0.6666666666666666,
             "#ed7953"
            ],
            [
             0.7777777777777778,
             "#fb9f3a"
            ],
            [
             0.8888888888888888,
             "#fdca26"
            ],
            [
             1,
             "#f0f921"
            ]
           ],
           "sequentialminus": [
            [
             0,
             "#0d0887"
            ],
            [
             0.1111111111111111,
             "#46039f"
            ],
            [
             0.2222222222222222,
             "#7201a8"
            ],
            [
             0.3333333333333333,
             "#9c179e"
            ],
            [
             0.4444444444444444,
             "#bd3786"
            ],
            [
             0.5555555555555556,
             "#d8576b"
            ],
            [
             0.6666666666666666,
             "#ed7953"
            ],
            [
             0.7777777777777778,
             "#fb9f3a"
            ],
            [
             0.8888888888888888,
             "#fdca26"
            ],
            [
             1,
             "#f0f921"
            ]
           ]
          },
          "colorway": [
           "#636efa",
           "#EF553B",
           "#00cc96",
           "#ab63fa",
           "#FFA15A",
           "#19d3f3",
           "#FF6692",
           "#B6E880",
           "#FF97FF",
           "#FECB52"
          ],
          "font": {
           "color": "#2a3f5f"
          },
          "geo": {
           "bgcolor": "white",
           "lakecolor": "white",
           "landcolor": "#E5ECF6",
           "showlakes": true,
           "showland": true,
           "subunitcolor": "white"
          },
          "hoverlabel": {
           "align": "left"
          },
          "hovermode": "closest",
          "mapbox": {
           "style": "light"
          },
          "paper_bgcolor": "white",
          "plot_bgcolor": "#E5ECF6",
          "polar": {
           "angularaxis": {
            "gridcolor": "white",
            "linecolor": "white",
            "ticks": ""
           },
           "bgcolor": "#E5ECF6",
           "radialaxis": {
            "gridcolor": "white",
            "linecolor": "white",
            "ticks": ""
           }
          },
          "scene": {
           "xaxis": {
            "backgroundcolor": "#E5ECF6",
            "gridcolor": "white",
            "gridwidth": 2,
            "linecolor": "white",
            "showbackground": true,
            "ticks": "",
            "zerolinecolor": "white"
           },
           "yaxis": {
            "backgroundcolor": "#E5ECF6",
            "gridcolor": "white",
            "gridwidth": 2,
            "linecolor": "white",
            "showbackground": true,
            "ticks": "",
            "zerolinecolor": "white"
           },
           "zaxis": {
            "backgroundcolor": "#E5ECF6",
            "gridcolor": "white",
            "gridwidth": 2,
            "linecolor": "white",
            "showbackground": true,
            "ticks": "",
            "zerolinecolor": "white"
           }
          },
          "shapedefaults": {
           "line": {
            "color": "#2a3f5f"
           }
          },
          "ternary": {
           "aaxis": {
            "gridcolor": "white",
            "linecolor": "white",
            "ticks": ""
           },
           "baxis": {
            "gridcolor": "white",
            "linecolor": "white",
            "ticks": ""
           },
           "bgcolor": "#E5ECF6",
           "caxis": {
            "gridcolor": "white",
            "linecolor": "white",
            "ticks": ""
           }
          },
          "title": {
           "x": 0.05
          },
          "xaxis": {
           "automargin": true,
           "gridcolor": "white",
           "linecolor": "white",
           "ticks": "",
           "title": {
            "standoff": 15
           },
           "zerolinecolor": "white",
           "zerolinewidth": 2
          },
          "yaxis": {
           "automargin": true,
           "gridcolor": "white",
           "linecolor": "white",
           "ticks": "",
           "title": {
            "standoff": 15
           },
           "zerolinecolor": "white",
           "zerolinewidth": 2
          }
         }
        },
        "title": {
         "text": "Optimization History Plot"
        },
        "xaxis": {
         "title": {
          "text": "Trial"
         }
        },
        "yaxis": {
         "title": {
          "text": "Objective Value"
         }
        }
       }
      }
     },
     "metadata": {},
     "output_type": "display_data"
    }
   ],
   "source": [
    "optuna.visualization.plot_optimization_history(study)"
   ]
  },
  {
   "cell_type": "code",
   "execution_count": 19,
   "metadata": {},
   "outputs": [
    {
     "data": {
      "application/vnd.plotly.v1+json": {
       "config": {
        "plotlyServerURL": "https://plot.ly"
       },
       "data": [
        {
         "cliponaxis": false,
         "hovertemplate": [
          "min_child_weight (IntDistribution): 0.00010352979051149822<extra></extra>",
          "gamma (FloatDistribution): 0.020649088002188502<extra></extra>",
          "n_estimators (IntDistribution): 0.030866478009387383<extra></extra>",
          "max_leaves (IntDistribution): 0.10481299016075908<extra></extra>",
          "colsample_bytree (FloatDistribution): 0.10501642137381091<extra></extra>",
          "subsample (FloatDistribution): 0.15897916482886057<extra></extra>",
          "eta (FloatDistribution): 0.5795723278344822<extra></extra>"
         ],
         "name": "Objective Value",
         "orientation": "h",
         "text": [
          "<0.01",
          "0.02",
          "0.03",
          "0.10",
          "0.11",
          "0.16",
          "0.58"
         ],
         "textposition": "outside",
         "type": "bar",
         "x": [
          0.00010352979051149822,
          0.020649088002188502,
          0.030866478009387383,
          0.10481299016075908,
          0.10501642137381091,
          0.15897916482886057,
          0.5795723278344822
         ],
         "y": [
          "min_child_weight",
          "gamma",
          "n_estimators",
          "max_leaves",
          "colsample_bytree",
          "subsample",
          "eta"
         ]
        }
       ],
       "layout": {
        "template": {
         "data": {
          "bar": [
           {
            "error_x": {
             "color": "#2a3f5f"
            },
            "error_y": {
             "color": "#2a3f5f"
            },
            "marker": {
             "line": {
              "color": "#E5ECF6",
              "width": 0.5
             },
             "pattern": {
              "fillmode": "overlay",
              "size": 10,
              "solidity": 0.2
             }
            },
            "type": "bar"
           }
          ],
          "barpolar": [
           {
            "marker": {
             "line": {
              "color": "#E5ECF6",
              "width": 0.5
             },
             "pattern": {
              "fillmode": "overlay",
              "size": 10,
              "solidity": 0.2
             }
            },
            "type": "barpolar"
           }
          ],
          "carpet": [
           {
            "aaxis": {
             "endlinecolor": "#2a3f5f",
             "gridcolor": "white",
             "linecolor": "white",
             "minorgridcolor": "white",
             "startlinecolor": "#2a3f5f"
            },
            "baxis": {
             "endlinecolor": "#2a3f5f",
             "gridcolor": "white",
             "linecolor": "white",
             "minorgridcolor": "white",
             "startlinecolor": "#2a3f5f"
            },
            "type": "carpet"
           }
          ],
          "choropleth": [
           {
            "colorbar": {
             "outlinewidth": 0,
             "ticks": ""
            },
            "type": "choropleth"
           }
          ],
          "contour": [
           {
            "colorbar": {
             "outlinewidth": 0,
             "ticks": ""
            },
            "colorscale": [
             [
              0,
              "#0d0887"
             ],
             [
              0.1111111111111111,
              "#46039f"
             ],
             [
              0.2222222222222222,
              "#7201a8"
             ],
             [
              0.3333333333333333,
              "#9c179e"
             ],
             [
              0.4444444444444444,
              "#bd3786"
             ],
             [
              0.5555555555555556,
              "#d8576b"
             ],
             [
              0.6666666666666666,
              "#ed7953"
             ],
             [
              0.7777777777777778,
              "#fb9f3a"
             ],
             [
              0.8888888888888888,
              "#fdca26"
             ],
             [
              1,
              "#f0f921"
             ]
            ],
            "type": "contour"
           }
          ],
          "contourcarpet": [
           {
            "colorbar": {
             "outlinewidth": 0,
             "ticks": ""
            },
            "type": "contourcarpet"
           }
          ],
          "heatmap": [
           {
            "colorbar": {
             "outlinewidth": 0,
             "ticks": ""
            },
            "colorscale": [
             [
              0,
              "#0d0887"
             ],
             [
              0.1111111111111111,
              "#46039f"
             ],
             [
              0.2222222222222222,
              "#7201a8"
             ],
             [
              0.3333333333333333,
              "#9c179e"
             ],
             [
              0.4444444444444444,
              "#bd3786"
             ],
             [
              0.5555555555555556,
              "#d8576b"
             ],
             [
              0.6666666666666666,
              "#ed7953"
             ],
             [
              0.7777777777777778,
              "#fb9f3a"
             ],
             [
              0.8888888888888888,
              "#fdca26"
             ],
             [
              1,
              "#f0f921"
             ]
            ],
            "type": "heatmap"
           }
          ],
          "heatmapgl": [
           {
            "colorbar": {
             "outlinewidth": 0,
             "ticks": ""
            },
            "colorscale": [
             [
              0,
              "#0d0887"
             ],
             [
              0.1111111111111111,
              "#46039f"
             ],
             [
              0.2222222222222222,
              "#7201a8"
             ],
             [
              0.3333333333333333,
              "#9c179e"
             ],
             [
              0.4444444444444444,
              "#bd3786"
             ],
             [
              0.5555555555555556,
              "#d8576b"
             ],
             [
              0.6666666666666666,
              "#ed7953"
             ],
             [
              0.7777777777777778,
              "#fb9f3a"
             ],
             [
              0.8888888888888888,
              "#fdca26"
             ],
             [
              1,
              "#f0f921"
             ]
            ],
            "type": "heatmapgl"
           }
          ],
          "histogram": [
           {
            "marker": {
             "pattern": {
              "fillmode": "overlay",
              "size": 10,
              "solidity": 0.2
             }
            },
            "type": "histogram"
           }
          ],
          "histogram2d": [
           {
            "colorbar": {
             "outlinewidth": 0,
             "ticks": ""
            },
            "colorscale": [
             [
              0,
              "#0d0887"
             ],
             [
              0.1111111111111111,
              "#46039f"
             ],
             [
              0.2222222222222222,
              "#7201a8"
             ],
             [
              0.3333333333333333,
              "#9c179e"
             ],
             [
              0.4444444444444444,
              "#bd3786"
             ],
             [
              0.5555555555555556,
              "#d8576b"
             ],
             [
              0.6666666666666666,
              "#ed7953"
             ],
             [
              0.7777777777777778,
              "#fb9f3a"
             ],
             [
              0.8888888888888888,
              "#fdca26"
             ],
             [
              1,
              "#f0f921"
             ]
            ],
            "type": "histogram2d"
           }
          ],
          "histogram2dcontour": [
           {
            "colorbar": {
             "outlinewidth": 0,
             "ticks": ""
            },
            "colorscale": [
             [
              0,
              "#0d0887"
             ],
             [
              0.1111111111111111,
              "#46039f"
             ],
             [
              0.2222222222222222,
              "#7201a8"
             ],
             [
              0.3333333333333333,
              "#9c179e"
             ],
             [
              0.4444444444444444,
              "#bd3786"
             ],
             [
              0.5555555555555556,
              "#d8576b"
             ],
             [
              0.6666666666666666,
              "#ed7953"
             ],
             [
              0.7777777777777778,
              "#fb9f3a"
             ],
             [
              0.8888888888888888,
              "#fdca26"
             ],
             [
              1,
              "#f0f921"
             ]
            ],
            "type": "histogram2dcontour"
           }
          ],
          "mesh3d": [
           {
            "colorbar": {
             "outlinewidth": 0,
             "ticks": ""
            },
            "type": "mesh3d"
           }
          ],
          "parcoords": [
           {
            "line": {
             "colorbar": {
              "outlinewidth": 0,
              "ticks": ""
             }
            },
            "type": "parcoords"
           }
          ],
          "pie": [
           {
            "automargin": true,
            "type": "pie"
           }
          ],
          "scatter": [
           {
            "fillpattern": {
             "fillmode": "overlay",
             "size": 10,
             "solidity": 0.2
            },
            "type": "scatter"
           }
          ],
          "scatter3d": [
           {
            "line": {
             "colorbar": {
              "outlinewidth": 0,
              "ticks": ""
             }
            },
            "marker": {
             "colorbar": {
              "outlinewidth": 0,
              "ticks": ""
             }
            },
            "type": "scatter3d"
           }
          ],
          "scattercarpet": [
           {
            "marker": {
             "colorbar": {
              "outlinewidth": 0,
              "ticks": ""
             }
            },
            "type": "scattercarpet"
           }
          ],
          "scattergeo": [
           {
            "marker": {
             "colorbar": {
              "outlinewidth": 0,
              "ticks": ""
             }
            },
            "type": "scattergeo"
           }
          ],
          "scattergl": [
           {
            "marker": {
             "colorbar": {
              "outlinewidth": 0,
              "ticks": ""
             }
            },
            "type": "scattergl"
           }
          ],
          "scattermapbox": [
           {
            "marker": {
             "colorbar": {
              "outlinewidth": 0,
              "ticks": ""
             }
            },
            "type": "scattermapbox"
           }
          ],
          "scatterpolar": [
           {
            "marker": {
             "colorbar": {
              "outlinewidth": 0,
              "ticks": ""
             }
            },
            "type": "scatterpolar"
           }
          ],
          "scatterpolargl": [
           {
            "marker": {
             "colorbar": {
              "outlinewidth": 0,
              "ticks": ""
             }
            },
            "type": "scatterpolargl"
           }
          ],
          "scatterternary": [
           {
            "marker": {
             "colorbar": {
              "outlinewidth": 0,
              "ticks": ""
             }
            },
            "type": "scatterternary"
           }
          ],
          "surface": [
           {
            "colorbar": {
             "outlinewidth": 0,
             "ticks": ""
            },
            "colorscale": [
             [
              0,
              "#0d0887"
             ],
             [
              0.1111111111111111,
              "#46039f"
             ],
             [
              0.2222222222222222,
              "#7201a8"
             ],
             [
              0.3333333333333333,
              "#9c179e"
             ],
             [
              0.4444444444444444,
              "#bd3786"
             ],
             [
              0.5555555555555556,
              "#d8576b"
             ],
             [
              0.6666666666666666,
              "#ed7953"
             ],
             [
              0.7777777777777778,
              "#fb9f3a"
             ],
             [
              0.8888888888888888,
              "#fdca26"
             ],
             [
              1,
              "#f0f921"
             ]
            ],
            "type": "surface"
           }
          ],
          "table": [
           {
            "cells": {
             "fill": {
              "color": "#EBF0F8"
             },
             "line": {
              "color": "white"
             }
            },
            "header": {
             "fill": {
              "color": "#C8D4E3"
             },
             "line": {
              "color": "white"
             }
            },
            "type": "table"
           }
          ]
         },
         "layout": {
          "annotationdefaults": {
           "arrowcolor": "#2a3f5f",
           "arrowhead": 0,
           "arrowwidth": 1
          },
          "autotypenumbers": "strict",
          "coloraxis": {
           "colorbar": {
            "outlinewidth": 0,
            "ticks": ""
           }
          },
          "colorscale": {
           "diverging": [
            [
             0,
             "#8e0152"
            ],
            [
             0.1,
             "#c51b7d"
            ],
            [
             0.2,
             "#de77ae"
            ],
            [
             0.3,
             "#f1b6da"
            ],
            [
             0.4,
             "#fde0ef"
            ],
            [
             0.5,
             "#f7f7f7"
            ],
            [
             0.6,
             "#e6f5d0"
            ],
            [
             0.7,
             "#b8e186"
            ],
            [
             0.8,
             "#7fbc41"
            ],
            [
             0.9,
             "#4d9221"
            ],
            [
             1,
             "#276419"
            ]
           ],
           "sequential": [
            [
             0,
             "#0d0887"
            ],
            [
             0.1111111111111111,
             "#46039f"
            ],
            [
             0.2222222222222222,
             "#7201a8"
            ],
            [
             0.3333333333333333,
             "#9c179e"
            ],
            [
             0.4444444444444444,
             "#bd3786"
            ],
            [
             0.5555555555555556,
             "#d8576b"
            ],
            [
             0.6666666666666666,
             "#ed7953"
            ],
            [
             0.7777777777777778,
             "#fb9f3a"
            ],
            [
             0.8888888888888888,
             "#fdca26"
            ],
            [
             1,
             "#f0f921"
            ]
           ],
           "sequentialminus": [
            [
             0,
             "#0d0887"
            ],
            [
             0.1111111111111111,
             "#46039f"
            ],
            [
             0.2222222222222222,
             "#7201a8"
            ],
            [
             0.3333333333333333,
             "#9c179e"
            ],
            [
             0.4444444444444444,
             "#bd3786"
            ],
            [
             0.5555555555555556,
             "#d8576b"
            ],
            [
             0.6666666666666666,
             "#ed7953"
            ],
            [
             0.7777777777777778,
             "#fb9f3a"
            ],
            [
             0.8888888888888888,
             "#fdca26"
            ],
            [
             1,
             "#f0f921"
            ]
           ]
          },
          "colorway": [
           "#636efa",
           "#EF553B",
           "#00cc96",
           "#ab63fa",
           "#FFA15A",
           "#19d3f3",
           "#FF6692",
           "#B6E880",
           "#FF97FF",
           "#FECB52"
          ],
          "font": {
           "color": "#2a3f5f"
          },
          "geo": {
           "bgcolor": "white",
           "lakecolor": "white",
           "landcolor": "#E5ECF6",
           "showlakes": true,
           "showland": true,
           "subunitcolor": "white"
          },
          "hoverlabel": {
           "align": "left"
          },
          "hovermode": "closest",
          "mapbox": {
           "style": "light"
          },
          "paper_bgcolor": "white",
          "plot_bgcolor": "#E5ECF6",
          "polar": {
           "angularaxis": {
            "gridcolor": "white",
            "linecolor": "white",
            "ticks": ""
           },
           "bgcolor": "#E5ECF6",
           "radialaxis": {
            "gridcolor": "white",
            "linecolor": "white",
            "ticks": ""
           }
          },
          "scene": {
           "xaxis": {
            "backgroundcolor": "#E5ECF6",
            "gridcolor": "white",
            "gridwidth": 2,
            "linecolor": "white",
            "showbackground": true,
            "ticks": "",
            "zerolinecolor": "white"
           },
           "yaxis": {
            "backgroundcolor": "#E5ECF6",
            "gridcolor": "white",
            "gridwidth": 2,
            "linecolor": "white",
            "showbackground": true,
            "ticks": "",
            "zerolinecolor": "white"
           },
           "zaxis": {
            "backgroundcolor": "#E5ECF6",
            "gridcolor": "white",
            "gridwidth": 2,
            "linecolor": "white",
            "showbackground": true,
            "ticks": "",
            "zerolinecolor": "white"
           }
          },
          "shapedefaults": {
           "line": {
            "color": "#2a3f5f"
           }
          },
          "ternary": {
           "aaxis": {
            "gridcolor": "white",
            "linecolor": "white",
            "ticks": ""
           },
           "baxis": {
            "gridcolor": "white",
            "linecolor": "white",
            "ticks": ""
           },
           "bgcolor": "#E5ECF6",
           "caxis": {
            "gridcolor": "white",
            "linecolor": "white",
            "ticks": ""
           }
          },
          "title": {
           "x": 0.05
          },
          "xaxis": {
           "automargin": true,
           "gridcolor": "white",
           "linecolor": "white",
           "ticks": "",
           "title": {
            "standoff": 15
           },
           "zerolinecolor": "white",
           "zerolinewidth": 2
          },
          "yaxis": {
           "automargin": true,
           "gridcolor": "white",
           "linecolor": "white",
           "ticks": "",
           "title": {
            "standoff": 15
           },
           "zerolinecolor": "white",
           "zerolinewidth": 2
          }
         }
        },
        "title": {
         "text": "Hyperparameter Importances"
        },
        "xaxis": {
         "title": {
          "text": "Hyperparameter Importance"
         }
        },
        "yaxis": {
         "title": {
          "text": "Hyperparameter"
         }
        }
       }
      }
     },
     "metadata": {},
     "output_type": "display_data"
    }
   ],
   "source": [
    "optuna.visualization.plot_param_importances(study)"
   ]
  },
  {
   "cell_type": "code",
   "execution_count": 20,
   "metadata": {},
   "outputs": [
    {
     "data": {
      "application/vnd.plotly.v1+json": {
       "config": {
        "plotlyServerURL": "https://plot.ly"
       },
       "data": [
        {
         "marker": {
          "color": [
           1,
           2,
           3,
           4,
           5,
           6,
           7,
           8,
           9
          ],
          "colorbar": {
           "title": {
            "text": "Trial"
           },
           "x": 1,
           "xpad": 40
          },
          "colorscale": [
           [
            0,
            "rgb(247,251,255)"
           ],
           [
            0.125,
            "rgb(222,235,247)"
           ],
           [
            0.25,
            "rgb(198,219,239)"
           ],
           [
            0.375,
            "rgb(158,202,225)"
           ],
           [
            0.5,
            "rgb(107,174,214)"
           ],
           [
            0.625,
            "rgb(66,146,198)"
           ],
           [
            0.75,
            "rgb(33,113,181)"
           ],
           [
            0.875,
            "rgb(8,81,156)"
           ],
           [
            1,
            "rgb(8,48,107)"
           ]
          ],
          "line": {
           "color": "Grey",
           "width": 0.5
          },
          "showscale": true
         },
         "mode": "markers",
         "name": "Feasible Trial",
         "showlegend": false,
         "type": "scatter",
         "x": [
          0.801751642007587,
          0.8876561871694657,
          0.7928904362906195,
          0.533477854038019,
          0.5768808531708177,
          0.5538588288064948,
          0.680777100783857,
          0.8632538737175102,
          0.8175147760757995
         ],
         "xaxis": "x",
         "y": [
          340354000.0000001,
          222231333.33333334,
          339630666.6666667,
          -2564730000.0000005,
          353831333.3333334,
          341124000.00000006,
          354452000.00000006,
          -99815333.33333334,
          -2564730000.0000005
         ],
         "yaxis": "y"
        },
        {
         "marker": {
          "color": [
           1,
           2,
           3,
           4,
           5,
           6,
           7,
           8,
           9
          ],
          "colorbar": {
           "title": {
            "text": "Trial"
           },
           "x": 1,
           "xpad": 40
          },
          "colorscale": [
           [
            0,
            "rgb(247,251,255)"
           ],
           [
            0.125,
            "rgb(222,235,247)"
           ],
           [
            0.25,
            "rgb(198,219,239)"
           ],
           [
            0.375,
            "rgb(158,202,225)"
           ],
           [
            0.5,
            "rgb(107,174,214)"
           ],
           [
            0.625,
            "rgb(66,146,198)"
           ],
           [
            0.75,
            "rgb(33,113,181)"
           ],
           [
            0.875,
            "rgb(8,81,156)"
           ],
           [
            1,
            "rgb(8,48,107)"
           ]
          ],
          "line": {
           "color": "Grey",
           "width": 0.5
          },
          "showscale": false
         },
         "mode": "markers",
         "name": "Feasible Trial",
         "showlegend": false,
         "type": "scatter",
         "x": [
          0.12647741517718136,
          0.016457734521906835,
          0.1893483041565911,
          0.010228393157147086,
          0.0710393025899444,
          0.24828553158978228,
          0.060387545964796806,
          0.01498777586622271,
          0.012693228340986195
         ],
         "xaxis": "x2",
         "y": [
          340354000.0000001,
          222231333.33333334,
          339630666.6666667,
          -2564730000.0000005,
          353831333.3333334,
          341124000.00000006,
          354452000.00000006,
          -99815333.33333334,
          -2564730000.0000005
         ],
         "yaxis": "y2"
        },
        {
         "marker": {
          "color": [
           1,
           2,
           3,
           4,
           5,
           6,
           7,
           8,
           9
          ],
          "colorbar": {
           "title": {
            "text": "Trial"
           },
           "x": 1,
           "xpad": 40
          },
          "colorscale": [
           [
            0,
            "rgb(247,251,255)"
           ],
           [
            0.125,
            "rgb(222,235,247)"
           ],
           [
            0.25,
            "rgb(198,219,239)"
           ],
           [
            0.375,
            "rgb(158,202,225)"
           ],
           [
            0.5,
            "rgb(107,174,214)"
           ],
           [
            0.625,
            "rgb(66,146,198)"
           ],
           [
            0.75,
            "rgb(33,113,181)"
           ],
           [
            0.875,
            "rgb(8,81,156)"
           ],
           [
            1,
            "rgb(8,48,107)"
           ]
          ],
          "line": {
           "color": "Grey",
           "width": 0.5
          },
          "showscale": false
         },
         "mode": "markers",
         "name": "Feasible Trial",
         "showlegend": false,
         "type": "scatter",
         "x": [
          1.3420543503943279,
          1.9911085359878817,
          2.2554492947927898,
          1.7079186527283112,
          4.5931272328346795,
          3.6288755227057754,
          0.9866113690542855,
          2.558780725096864,
          3.1069301269777467
         ],
         "xaxis": "x3",
         "y": [
          340354000.0000001,
          222231333.33333334,
          339630666.6666667,
          -2564730000.0000005,
          353831333.3333334,
          341124000.00000006,
          354452000.00000006,
          -99815333.33333334,
          -2564730000.0000005
         ],
         "yaxis": "y3"
        },
        {
         "marker": {
          "color": [
           1,
           2,
           3,
           4,
           5,
           6,
           7,
           8,
           9
          ],
          "colorbar": {
           "title": {
            "text": "Trial"
           },
           "x": 1,
           "xpad": 40
          },
          "colorscale": [
           [
            0,
            "rgb(247,251,255)"
           ],
           [
            0.125,
            "rgb(222,235,247)"
           ],
           [
            0.25,
            "rgb(198,219,239)"
           ],
           [
            0.375,
            "rgb(158,202,225)"
           ],
           [
            0.5,
            "rgb(107,174,214)"
           ],
           [
            0.625,
            "rgb(66,146,198)"
           ],
           [
            0.75,
            "rgb(33,113,181)"
           ],
           [
            0.875,
            "rgb(8,81,156)"
           ],
           [
            1,
            "rgb(8,48,107)"
           ]
          ],
          "line": {
           "color": "Grey",
           "width": 0.5
          },
          "showscale": false
         },
         "mode": "markers",
         "name": "Feasible Trial",
         "showlegend": false,
         "type": "scatter",
         "x": [
          235,
          109,
          73,
          185,
          80,
          28,
          174,
          23,
          122
         ],
         "xaxis": "x4",
         "y": [
          340354000.0000001,
          222231333.33333334,
          339630666.6666667,
          -2564730000.0000005,
          353831333.3333334,
          341124000.00000006,
          354452000.00000006,
          -99815333.33333334,
          -2564730000.0000005
         ],
         "yaxis": "y4"
        },
        {
         "marker": {
          "color": [
           1,
           2,
           3,
           4,
           5,
           6,
           7,
           8,
           9
          ],
          "colorbar": {
           "title": {
            "text": "Trial"
           },
           "x": 1,
           "xpad": 40
          },
          "colorscale": [
           [
            0,
            "rgb(247,251,255)"
           ],
           [
            0.125,
            "rgb(222,235,247)"
           ],
           [
            0.25,
            "rgb(198,219,239)"
           ],
           [
            0.375,
            "rgb(158,202,225)"
           ],
           [
            0.5,
            "rgb(107,174,214)"
           ],
           [
            0.625,
            "rgb(66,146,198)"
           ],
           [
            0.75,
            "rgb(33,113,181)"
           ],
           [
            0.875,
            "rgb(8,81,156)"
           ],
           [
            1,
            "rgb(8,48,107)"
           ]
          ],
          "line": {
           "color": "Grey",
           "width": 0.5
          },
          "showscale": false
         },
         "mode": "markers",
         "name": "Feasible Trial",
         "showlegend": false,
         "type": "scatter",
         "x": [
          3,
          4,
          2,
          5,
          4,
          5,
          5,
          5,
          5
         ],
         "xaxis": "x5",
         "y": [
          340354000.0000001,
          222231333.33333334,
          339630666.6666667,
          -2564730000.0000005,
          353831333.3333334,
          341124000.00000006,
          354452000.00000006,
          -99815333.33333334,
          -2564730000.0000005
         ],
         "yaxis": "y5"
        },
        {
         "marker": {
          "color": [
           1,
           2,
           3,
           4,
           5,
           6,
           7,
           8,
           9
          ],
          "colorbar": {
           "title": {
            "text": "Trial"
           },
           "x": 1,
           "xpad": 40
          },
          "colorscale": [
           [
            0,
            "rgb(247,251,255)"
           ],
           [
            0.125,
            "rgb(222,235,247)"
           ],
           [
            0.25,
            "rgb(198,219,239)"
           ],
           [
            0.375,
            "rgb(158,202,225)"
           ],
           [
            0.5,
            "rgb(107,174,214)"
           ],
           [
            0.625,
            "rgb(66,146,198)"
           ],
           [
            0.75,
            "rgb(33,113,181)"
           ],
           [
            0.875,
            "rgb(8,81,156)"
           ],
           [
            1,
            "rgb(8,48,107)"
           ]
          ],
          "line": {
           "color": "Grey",
           "width": 0.5
          },
          "showscale": false
         },
         "mode": "markers",
         "name": "Feasible Trial",
         "showlegend": false,
         "type": "scatter",
         "x": [
          322,
          391,
          114,
          361,
          423,
          174,
          478,
          188,
          120
         ],
         "xaxis": "x6",
         "y": [
          340354000.0000001,
          222231333.33333334,
          339630666.6666667,
          -2564730000.0000005,
          353831333.3333334,
          341124000.00000006,
          354452000.00000006,
          -99815333.33333334,
          -2564730000.0000005
         ],
         "yaxis": "y6"
        },
        {
         "marker": {
          "color": [
           1,
           2,
           3,
           4,
           5,
           6,
           7,
           8,
           9
          ],
          "colorbar": {
           "title": {
            "text": "Trial"
           },
           "x": 1,
           "xpad": 40
          },
          "colorscale": [
           [
            0,
            "rgb(247,251,255)"
           ],
           [
            0.125,
            "rgb(222,235,247)"
           ],
           [
            0.25,
            "rgb(198,219,239)"
           ],
           [
            0.375,
            "rgb(158,202,225)"
           ],
           [
            0.5,
            "rgb(107,174,214)"
           ],
           [
            0.625,
            "rgb(66,146,198)"
           ],
           [
            0.75,
            "rgb(33,113,181)"
           ],
           [
            0.875,
            "rgb(8,81,156)"
           ],
           [
            1,
            "rgb(8,48,107)"
           ]
          ],
          "line": {
           "color": "Grey",
           "width": 0.5
          },
          "showscale": false
         },
         "mode": "markers",
         "name": "Feasible Trial",
         "showlegend": false,
         "type": "scatter",
         "x": [
          0.8028098386930991,
          0.7425545952280216,
          0.754412567707764,
          0.6961271278069561,
          0.6863252306854858,
          0.6416730968999965,
          0.7985283659419606,
          0.868343969250267,
          0.6025110216638094
         ],
         "xaxis": "x7",
         "y": [
          340354000.0000001,
          222231333.33333334,
          339630666.6666667,
          -2564730000.0000005,
          353831333.3333334,
          341124000.00000006,
          354452000.00000006,
          -99815333.33333334,
          -2564730000.0000005
         ],
         "yaxis": "y7"
        }
       ],
       "layout": {
        "template": {
         "data": {
          "bar": [
           {
            "error_x": {
             "color": "#2a3f5f"
            },
            "error_y": {
             "color": "#2a3f5f"
            },
            "marker": {
             "line": {
              "color": "#E5ECF6",
              "width": 0.5
             },
             "pattern": {
              "fillmode": "overlay",
              "size": 10,
              "solidity": 0.2
             }
            },
            "type": "bar"
           }
          ],
          "barpolar": [
           {
            "marker": {
             "line": {
              "color": "#E5ECF6",
              "width": 0.5
             },
             "pattern": {
              "fillmode": "overlay",
              "size": 10,
              "solidity": 0.2
             }
            },
            "type": "barpolar"
           }
          ],
          "carpet": [
           {
            "aaxis": {
             "endlinecolor": "#2a3f5f",
             "gridcolor": "white",
             "linecolor": "white",
             "minorgridcolor": "white",
             "startlinecolor": "#2a3f5f"
            },
            "baxis": {
             "endlinecolor": "#2a3f5f",
             "gridcolor": "white",
             "linecolor": "white",
             "minorgridcolor": "white",
             "startlinecolor": "#2a3f5f"
            },
            "type": "carpet"
           }
          ],
          "choropleth": [
           {
            "colorbar": {
             "outlinewidth": 0,
             "ticks": ""
            },
            "type": "choropleth"
           }
          ],
          "contour": [
           {
            "colorbar": {
             "outlinewidth": 0,
             "ticks": ""
            },
            "colorscale": [
             [
              0,
              "#0d0887"
             ],
             [
              0.1111111111111111,
              "#46039f"
             ],
             [
              0.2222222222222222,
              "#7201a8"
             ],
             [
              0.3333333333333333,
              "#9c179e"
             ],
             [
              0.4444444444444444,
              "#bd3786"
             ],
             [
              0.5555555555555556,
              "#d8576b"
             ],
             [
              0.6666666666666666,
              "#ed7953"
             ],
             [
              0.7777777777777778,
              "#fb9f3a"
             ],
             [
              0.8888888888888888,
              "#fdca26"
             ],
             [
              1,
              "#f0f921"
             ]
            ],
            "type": "contour"
           }
          ],
          "contourcarpet": [
           {
            "colorbar": {
             "outlinewidth": 0,
             "ticks": ""
            },
            "type": "contourcarpet"
           }
          ],
          "heatmap": [
           {
            "colorbar": {
             "outlinewidth": 0,
             "ticks": ""
            },
            "colorscale": [
             [
              0,
              "#0d0887"
             ],
             [
              0.1111111111111111,
              "#46039f"
             ],
             [
              0.2222222222222222,
              "#7201a8"
             ],
             [
              0.3333333333333333,
              "#9c179e"
             ],
             [
              0.4444444444444444,
              "#bd3786"
             ],
             [
              0.5555555555555556,
              "#d8576b"
             ],
             [
              0.6666666666666666,
              "#ed7953"
             ],
             [
              0.7777777777777778,
              "#fb9f3a"
             ],
             [
              0.8888888888888888,
              "#fdca26"
             ],
             [
              1,
              "#f0f921"
             ]
            ],
            "type": "heatmap"
           }
          ],
          "heatmapgl": [
           {
            "colorbar": {
             "outlinewidth": 0,
             "ticks": ""
            },
            "colorscale": [
             [
              0,
              "#0d0887"
             ],
             [
              0.1111111111111111,
              "#46039f"
             ],
             [
              0.2222222222222222,
              "#7201a8"
             ],
             [
              0.3333333333333333,
              "#9c179e"
             ],
             [
              0.4444444444444444,
              "#bd3786"
             ],
             [
              0.5555555555555556,
              "#d8576b"
             ],
             [
              0.6666666666666666,
              "#ed7953"
             ],
             [
              0.7777777777777778,
              "#fb9f3a"
             ],
             [
              0.8888888888888888,
              "#fdca26"
             ],
             [
              1,
              "#f0f921"
             ]
            ],
            "type": "heatmapgl"
           }
          ],
          "histogram": [
           {
            "marker": {
             "pattern": {
              "fillmode": "overlay",
              "size": 10,
              "solidity": 0.2
             }
            },
            "type": "histogram"
           }
          ],
          "histogram2d": [
           {
            "colorbar": {
             "outlinewidth": 0,
             "ticks": ""
            },
            "colorscale": [
             [
              0,
              "#0d0887"
             ],
             [
              0.1111111111111111,
              "#46039f"
             ],
             [
              0.2222222222222222,
              "#7201a8"
             ],
             [
              0.3333333333333333,
              "#9c179e"
             ],
             [
              0.4444444444444444,
              "#bd3786"
             ],
             [
              0.5555555555555556,
              "#d8576b"
             ],
             [
              0.6666666666666666,
              "#ed7953"
             ],
             [
              0.7777777777777778,
              "#fb9f3a"
             ],
             [
              0.8888888888888888,
              "#fdca26"
             ],
             [
              1,
              "#f0f921"
             ]
            ],
            "type": "histogram2d"
           }
          ],
          "histogram2dcontour": [
           {
            "colorbar": {
             "outlinewidth": 0,
             "ticks": ""
            },
            "colorscale": [
             [
              0,
              "#0d0887"
             ],
             [
              0.1111111111111111,
              "#46039f"
             ],
             [
              0.2222222222222222,
              "#7201a8"
             ],
             [
              0.3333333333333333,
              "#9c179e"
             ],
             [
              0.4444444444444444,
              "#bd3786"
             ],
             [
              0.5555555555555556,
              "#d8576b"
             ],
             [
              0.6666666666666666,
              "#ed7953"
             ],
             [
              0.7777777777777778,
              "#fb9f3a"
             ],
             [
              0.8888888888888888,
              "#fdca26"
             ],
             [
              1,
              "#f0f921"
             ]
            ],
            "type": "histogram2dcontour"
           }
          ],
          "mesh3d": [
           {
            "colorbar": {
             "outlinewidth": 0,
             "ticks": ""
            },
            "type": "mesh3d"
           }
          ],
          "parcoords": [
           {
            "line": {
             "colorbar": {
              "outlinewidth": 0,
              "ticks": ""
             }
            },
            "type": "parcoords"
           }
          ],
          "pie": [
           {
            "automargin": true,
            "type": "pie"
           }
          ],
          "scatter": [
           {
            "fillpattern": {
             "fillmode": "overlay",
             "size": 10,
             "solidity": 0.2
            },
            "type": "scatter"
           }
          ],
          "scatter3d": [
           {
            "line": {
             "colorbar": {
              "outlinewidth": 0,
              "ticks": ""
             }
            },
            "marker": {
             "colorbar": {
              "outlinewidth": 0,
              "ticks": ""
             }
            },
            "type": "scatter3d"
           }
          ],
          "scattercarpet": [
           {
            "marker": {
             "colorbar": {
              "outlinewidth": 0,
              "ticks": ""
             }
            },
            "type": "scattercarpet"
           }
          ],
          "scattergeo": [
           {
            "marker": {
             "colorbar": {
              "outlinewidth": 0,
              "ticks": ""
             }
            },
            "type": "scattergeo"
           }
          ],
          "scattergl": [
           {
            "marker": {
             "colorbar": {
              "outlinewidth": 0,
              "ticks": ""
             }
            },
            "type": "scattergl"
           }
          ],
          "scattermapbox": [
           {
            "marker": {
             "colorbar": {
              "outlinewidth": 0,
              "ticks": ""
             }
            },
            "type": "scattermapbox"
           }
          ],
          "scatterpolar": [
           {
            "marker": {
             "colorbar": {
              "outlinewidth": 0,
              "ticks": ""
             }
            },
            "type": "scatterpolar"
           }
          ],
          "scatterpolargl": [
           {
            "marker": {
             "colorbar": {
              "outlinewidth": 0,
              "ticks": ""
             }
            },
            "type": "scatterpolargl"
           }
          ],
          "scatterternary": [
           {
            "marker": {
             "colorbar": {
              "outlinewidth": 0,
              "ticks": ""
             }
            },
            "type": "scatterternary"
           }
          ],
          "surface": [
           {
            "colorbar": {
             "outlinewidth": 0,
             "ticks": ""
            },
            "colorscale": [
             [
              0,
              "#0d0887"
             ],
             [
              0.1111111111111111,
              "#46039f"
             ],
             [
              0.2222222222222222,
              "#7201a8"
             ],
             [
              0.3333333333333333,
              "#9c179e"
             ],
             [
              0.4444444444444444,
              "#bd3786"
             ],
             [
              0.5555555555555556,
              "#d8576b"
             ],
             [
              0.6666666666666666,
              "#ed7953"
             ],
             [
              0.7777777777777778,
              "#fb9f3a"
             ],
             [
              0.8888888888888888,
              "#fdca26"
             ],
             [
              1,
              "#f0f921"
             ]
            ],
            "type": "surface"
           }
          ],
          "table": [
           {
            "cells": {
             "fill": {
              "color": "#EBF0F8"
             },
             "line": {
              "color": "white"
             }
            },
            "header": {
             "fill": {
              "color": "#C8D4E3"
             },
             "line": {
              "color": "white"
             }
            },
            "type": "table"
           }
          ]
         },
         "layout": {
          "annotationdefaults": {
           "arrowcolor": "#2a3f5f",
           "arrowhead": 0,
           "arrowwidth": 1
          },
          "autotypenumbers": "strict",
          "coloraxis": {
           "colorbar": {
            "outlinewidth": 0,
            "ticks": ""
           }
          },
          "colorscale": {
           "diverging": [
            [
             0,
             "#8e0152"
            ],
            [
             0.1,
             "#c51b7d"
            ],
            [
             0.2,
             "#de77ae"
            ],
            [
             0.3,
             "#f1b6da"
            ],
            [
             0.4,
             "#fde0ef"
            ],
            [
             0.5,
             "#f7f7f7"
            ],
            [
             0.6,
             "#e6f5d0"
            ],
            [
             0.7,
             "#b8e186"
            ],
            [
             0.8,
             "#7fbc41"
            ],
            [
             0.9,
             "#4d9221"
            ],
            [
             1,
             "#276419"
            ]
           ],
           "sequential": [
            [
             0,
             "#0d0887"
            ],
            [
             0.1111111111111111,
             "#46039f"
            ],
            [
             0.2222222222222222,
             "#7201a8"
            ],
            [
             0.3333333333333333,
             "#9c179e"
            ],
            [
             0.4444444444444444,
             "#bd3786"
            ],
            [
             0.5555555555555556,
             "#d8576b"
            ],
            [
             0.6666666666666666,
             "#ed7953"
            ],
            [
             0.7777777777777778,
             "#fb9f3a"
            ],
            [
             0.8888888888888888,
             "#fdca26"
            ],
            [
             1,
             "#f0f921"
            ]
           ],
           "sequentialminus": [
            [
             0,
             "#0d0887"
            ],
            [
             0.1111111111111111,
             "#46039f"
            ],
            [
             0.2222222222222222,
             "#7201a8"
            ],
            [
             0.3333333333333333,
             "#9c179e"
            ],
            [
             0.4444444444444444,
             "#bd3786"
            ],
            [
             0.5555555555555556,
             "#d8576b"
            ],
            [
             0.6666666666666666,
             "#ed7953"
            ],
            [
             0.7777777777777778,
             "#fb9f3a"
            ],
            [
             0.8888888888888888,
             "#fdca26"
            ],
            [
             1,
             "#f0f921"
            ]
           ]
          },
          "colorway": [
           "#636efa",
           "#EF553B",
           "#00cc96",
           "#ab63fa",
           "#FFA15A",
           "#19d3f3",
           "#FF6692",
           "#B6E880",
           "#FF97FF",
           "#FECB52"
          ],
          "font": {
           "color": "#2a3f5f"
          },
          "geo": {
           "bgcolor": "white",
           "lakecolor": "white",
           "landcolor": "#E5ECF6",
           "showlakes": true,
           "showland": true,
           "subunitcolor": "white"
          },
          "hoverlabel": {
           "align": "left"
          },
          "hovermode": "closest",
          "mapbox": {
           "style": "light"
          },
          "paper_bgcolor": "white",
          "plot_bgcolor": "#E5ECF6",
          "polar": {
           "angularaxis": {
            "gridcolor": "white",
            "linecolor": "white",
            "ticks": ""
           },
           "bgcolor": "#E5ECF6",
           "radialaxis": {
            "gridcolor": "white",
            "linecolor": "white",
            "ticks": ""
           }
          },
          "scene": {
           "xaxis": {
            "backgroundcolor": "#E5ECF6",
            "gridcolor": "white",
            "gridwidth": 2,
            "linecolor": "white",
            "showbackground": true,
            "ticks": "",
            "zerolinecolor": "white"
           },
           "yaxis": {
            "backgroundcolor": "#E5ECF6",
            "gridcolor": "white",
            "gridwidth": 2,
            "linecolor": "white",
            "showbackground": true,
            "ticks": "",
            "zerolinecolor": "white"
           },
           "zaxis": {
            "backgroundcolor": "#E5ECF6",
            "gridcolor": "white",
            "gridwidth": 2,
            "linecolor": "white",
            "showbackground": true,
            "ticks": "",
            "zerolinecolor": "white"
           }
          },
          "shapedefaults": {
           "line": {
            "color": "#2a3f5f"
           }
          },
          "ternary": {
           "aaxis": {
            "gridcolor": "white",
            "linecolor": "white",
            "ticks": ""
           },
           "baxis": {
            "gridcolor": "white",
            "linecolor": "white",
            "ticks": ""
           },
           "bgcolor": "#E5ECF6",
           "caxis": {
            "gridcolor": "white",
            "linecolor": "white",
            "ticks": ""
           }
          },
          "title": {
           "x": 0.05
          },
          "xaxis": {
           "automargin": true,
           "gridcolor": "white",
           "linecolor": "white",
           "ticks": "",
           "title": {
            "standoff": 15
           },
           "zerolinecolor": "white",
           "zerolinewidth": 2
          },
          "yaxis": {
           "automargin": true,
           "gridcolor": "white",
           "linecolor": "white",
           "ticks": "",
           "title": {
            "standoff": 15
           },
           "zerolinecolor": "white",
           "zerolinewidth": 2
          }
         }
        },
        "title": {
         "text": "Slice Plot"
        },
        "width": 2100,
        "xaxis": {
         "anchor": "y",
         "domain": [
          0,
          0.1183673469387755
         ],
         "title": {
          "text": "colsample_bytree"
         }
        },
        "xaxis2": {
         "anchor": "y2",
         "domain": [
          0.14693877551020407,
          0.26530612244897955
         ],
         "title": {
          "text": "eta"
         },
         "type": "log"
        },
        "xaxis3": {
         "anchor": "y3",
         "domain": [
          0.29387755102040813,
          0.4122448979591836
         ],
         "title": {
          "text": "gamma"
         }
        },
        "xaxis4": {
         "anchor": "y4",
         "domain": [
          0.4408163265306122,
          0.5591836734693877
         ],
         "title": {
          "text": "max_leaves"
         }
        },
        "xaxis5": {
         "anchor": "y5",
         "domain": [
          0.5877551020408163,
          0.7061224489795918
         ],
         "title": {
          "text": "min_child_weight"
         }
        },
        "xaxis6": {
         "anchor": "y6",
         "domain": [
          0.7346938775510204,
          0.8530612244897959
         ],
         "title": {
          "text": "n_estimators"
         }
        },
        "xaxis7": {
         "anchor": "y7",
         "domain": [
          0.8816326530612244,
          0.9999999999999999
         ],
         "title": {
          "text": "subsample"
         }
        },
        "yaxis": {
         "anchor": "x",
         "domain": [
          0,
          1
         ],
         "title": {
          "text": "Objective Value"
         }
        },
        "yaxis2": {
         "anchor": "x2",
         "domain": [
          0,
          1
         ],
         "matches": "y",
         "showticklabels": false
        },
        "yaxis3": {
         "anchor": "x3",
         "domain": [
          0,
          1
         ],
         "matches": "y",
         "showticklabels": false
        },
        "yaxis4": {
         "anchor": "x4",
         "domain": [
          0,
          1
         ],
         "matches": "y",
         "showticklabels": false
        },
        "yaxis5": {
         "anchor": "x5",
         "domain": [
          0,
          1
         ],
         "matches": "y",
         "showticklabels": false
        },
        "yaxis6": {
         "anchor": "x6",
         "domain": [
          0,
          1
         ],
         "matches": "y",
         "showticklabels": false
        },
        "yaxis7": {
         "anchor": "x7",
         "domain": [
          0,
          1
         ],
         "matches": "y",
         "showticklabels": false
        }
       }
      }
     },
     "metadata": {},
     "output_type": "display_data"
    }
   ],
   "source": [
    "optuna.visualization.plot_slice(study)"
   ]
  },
  {
   "cell_type": "markdown",
   "metadata": {},
   "source": [
    "## Elección del modelo optimizado\n",
    "\n",
    "Distintos pipelines en sus pruebas de backtesting"
   ]
  },
  {
   "cell_type": "code",
   "execution_count": null,
   "metadata": {},
   "outputs": [
    {
     "name": "stdout",
     "output_type": "stream",
     "text": [
      "Comparando modelos: lgbm prepro6 fe6 y 3 opt (local opt)  vs. xgb prepro6 fe6 y 3 opt (local opt parcial)\n"
     ]
    },
    {
     "name": "stderr",
     "output_type": "stream",
     "text": [
      "c:\\Users\\santt\\.conda\\envs\\dm_eyf\\Lib\\site-packages\\seaborn\\axisgrid.py:123: UserWarning:\n",
      "\n",
      "The figure layout has changed to tight\n",
      "\n"
     ]
    },
    {
     "data": {
      "image/png": "[encoded data removed]",
      "text/plain": [
       "<Figure size 1200x600 with 4 Axes>"
      ]
     },
     "metadata": {},
     "output_type": "display_data"
    },
    {
     "name": "stdout",
     "output_type": "stream",
     "text": [
      "Ganancia media del modelo lgbm prepro6 fe6 y 3 opt (local opt)  privado: 81533800.0\n",
      "Ganancia media del modelo lgbm prepro6 fe6 y 3 opt (local opt)  publico: 80631133.33333334\n",
      "Ganancia media del modelo xgb prepro6 fe6 y 3 opt (local opt parcial) privado: 87951400.0\n",
      "Ganancia media del modelo xgb prepro6 fe6 y 3 opt (local opt parcial) publico: 87496733.33333334\n",
      "\n",
      "Resultado del test estadístico Mann-Whitney U (privado):\n",
      "Estadístico U = 210.5\n",
      "P-valor = 3.9539166732099834e-13\n",
      "Rechazamos la hipótesis nula. Hay evidencia estadística de que la distribución de xgb prepro6 fe6 y 3 opt (local opt parcial)_priv es mayor que la de lgbm prepro6 fe6 y 3 opt (local opt) _priv.\n",
      "\n",
      "Resultado del test estadístico Mann-Whitney U (privado):\n",
      "Estadístico U = 665.0\n",
      "P-valor = 2.7952338122150375e-05\n",
      "Rechazamos la hipótesis nula. Hay evidencia estadística de que la distribución de xgb prepro6 fe6 y 3 opt (local opt parcial)_pub es mayor que la de lgbm prepro6 fe6 y 3 opt (local opt) _pub.\n"
     ]
    }
   ],
   "source": [
    "model_a = \"lgbm prepro6 fe6 y 3 opt (local opt) \"\n",
    "model_b = \"xgb prepro6 fe6 y 3 opt (local opt)\"\n",
    "\n",
    "plot_comparisons_on_kaggle_split(model_a, fpri_best_lgbm_pr6_fe6_tr3, fpub_best_lgbm_pr6_fe6_tr3,\n",
    "                                model_b, fpri_best_xgb_pr6_fe6_tr3, fpub_best_xgb_pr6_fe6_tr3)"
   ]
  },
  {
   "cell_type": "markdown",
   "metadata": {},
   "source": [
    "## Comparando modelos\n",
    "\n",
    "Según cantidad de meses de entrenamiento\n",
    "\n",
    "Se ejecutó un back-testing para comparación, con 4 meses de entrenamiento, testeando sobre 202106\n",
    "\n",
    "Elegido el modelo xgboost"
   ]
  },
  {
   "cell_type": "code",
   "execution_count": null,
   "metadata": {},
   "outputs": [],
   "source": [
    "data = pd.read_parquet(dataset_file_fe6_6pqt)\n",
    "\n",
    "data = pd.read_parquet(dataset_file_fe6_6pqt)\n",
    "\n",
    "# running local, con 6 meses para train\n",
    "# data = pd.read_parquet(\"datos/datasets_competencia_02_fe6_6_6m_train.parquet\")\n",
    "\n",
    "# Mapear etiquetas de clase a números\n",
    "label_mapping = {'CONTINUA': 0, 'BAJA+1': 1, 'BAJA+2': 2}\n",
    "\n",
    "data['clase_ternaria'] = data['clase_ternaria'].map(label_mapping)\n",
    "\n",
    "mes_train_bt_4_meses = [202101, 202102, 202103, 202104] # hecho arriba\n",
    "\n",
    "mes_train_bt_6_meses = [202011, 202012, 202101, 202102, 202103, 202104]\n",
    "\n",
    "mes_train_bt_8_meses = [202009, 202010, 202011, 202012, 202101, 202102, 202103, 202104]\n",
    "\n",
    "mes_train_bt_10_meses = [202007, 202008, 202009, 202010, 202011, 202012,\n",
    "                 202101, 202102, 202103, 202104]"
   ]
  },
  {
   "cell_type": "markdown",
   "metadata": {},
   "source": [
    "### Back-testing con 6 meses"
   ]
  },
  {
   "cell_type": "code",
   "execution_count": null,
   "metadata": {},
   "outputs": [],
   "source": [
    "# Simulación para Kaggle\n",
    "X_train = data[data['foto_mes'].isin(mes_train_bt_6_meses)]\n",
    "y_train = X_train['clase_ternaria']\n",
    "X_train = X_train.drop(columns=['clase_ternaria'])\n",
    "\n",
    "mes_futuro = 202106 # usado como test\n",
    "X_test = data[data['foto_mes'] == mes_futuro]\n",
    "y_test = X_test['clase_ternaria']\n",
    "X_test = X_test.drop(columns=['clase_ternaria'])"
   ]
  },
  {
   "cell_type": "markdown",
   "metadata": {},
   "source": [
    "Preprocesando data"
   ]
  },
  {
   "cell_type": "code",
   "execution_count": null,
   "metadata": {},
   "outputs": [],
   "source": [
    "# Imputacion de Xs\n",
    "cols_with_all_nan = X_train.columns[X_train.isna().all()].tolist()\n",
    "print(\"Columns with all NaN values:\", cols_with_all_nan)\n",
    "X_train = X_train.drop(columns=cols_with_all_nan)\n",
    "X_test = X_test.drop(columns=cols_with_all_nan)\n",
    "\n",
    "# Imputación de nulls\n",
    "imp_median = SimpleImputer(missing_values=np.nan, strategy='median')\n",
    "X_train_imp = pd.DataFrame(imp_median.fit_transform(X_train), columns=X_train.columns)\n",
    "X_test_imp = pd.DataFrame(imp_median.transform(X_test), columns=X_train.columns)\n",
    "\n",
    "del X_train\n",
    "del X_test\n",
    "\n",
    "# Codificar variables categóricas\n",
    "categorical_features = [col for col in X_train_imp.columns if X_train_imp[col].dtype == 'object']\n",
    "\n",
    "# Convertir variables categóricas a 'category' dtype para LightGBM\n",
    "for col in categorical_features:\n",
    "    X_train_imp[col] = X_train_imp[col].astype('category')\n",
    "    X_test_imp[col] = X_test_imp[col].astype('category')"
   ]
  },
  {
   "cell_type": "markdown",
   "metadata": {},
   "source": [
    "Modelo elegido"
   ]
  },
  {
   "cell_type": "code",
   "execution_count": null,
   "metadata": {},
   "outputs": [],
   "source": [
    "# Condiciones de la optimización\n",
    "s = 1\n",
    "prepro = 6 # data quality + data drifting\n",
    "fe = 6 # feature engineering conceptual 6 meses\n",
    "training = 3 # un mes de optimización\n",
    "\n",
    "print(\"### Corriendo pipeline con XGBoost ###\")\n",
    "# Inicializar el pipeline con 'xgboost'\n",
    "pipeline_xgb_x = ModelPipeline(data=None, seeds=semillas, threshold=threshold_bt_mean,\n",
    "                              model_type='xgboost', seed=s, n_jobs=-3)\n",
    "\n",
    "print(\"\\n# Entrenando el modelo base XGBoost\")\n",
    "pipeline_xgb_x.train_base_model(X_train_imp, y_train)\n",
    "\n",
    "print(\"\\n# Evaluando el modelo base en el conjunto de prueba\")\n",
    "pipeline_xgb_x.test_base_model(X_test_imp, y_test)\n",
    "\n",
    "# Definir el almacenamiento para Optuna\n",
    "# storage_name = \"sqlite:///\" + db_path + \"optimization_tree.db\"\n",
    "# carga local\n",
    "storage_name = \"sqlite:///optimizacion/optimization_tree.db\"\n",
    "study_name = f\"exp_xgb_pr{prepro}_fe{fe}_tr{training}_x\"\n",
    "\n",
    "print(\"\\n# Optimizando el modelo\")\n",
    "pipeline_xgb_x.optimize_model(\n",
    "    X_train_imp, y_train,\n",
    "    storage_name=storage_name,\n",
    "    study_name=study_name,\n",
    "    optimize=False,  \n",
    "    n_trials=100\n",
    ")\n",
    "\n",
    "# Entrenar el mejor modelo con parámetros optimizados\n",
    "print(\"\\n# Entrenando el mejor modelo con parámetros optimizados\")\n",
    "pipeline_xgb_x.train_best_model(X_train_imp, y_train)\n",
    "\n",
    "# Evaluar el mejor modelo en el conjunto de prueba\n",
    "print(\"\\n# Evaluando el mejor modelo en el conjunto de prueba\")\n",
    "pipeline_xgb_x.test_best_model(X_test_imp, y_test)\n",
    "\n",
    "# Simular el split Kaggle y comparar modelos\n",
    "print(\"\\n# Simulando el split Kaggle y comparando modelos\")\n",
    "\n",
    "fpri_best_xgb_pr6_fe6_6m, fpri_base_xgb_pr6_fe6_6m, \\\n",
    "fpub_best_xgb_pr6_fe6_6m, fpub_base_xgb_pr6_fe6_6m = \\\n",
    "pipeline_xgb_x.simulate_kaggle_split(X_test_imp, y_test) \n",
    "\n",
    "del X_train_imp\n",
    "del X_test_imp"
   ]
  },
  {
   "cell_type": "markdown",
   "metadata": {},
   "source": [
    "### Back-testing con 8 meses"
   ]
  },
  {
   "cell_type": "code",
   "execution_count": null,
   "metadata": {},
   "outputs": [],
   "source": [
    "# Simulación para Kaggle\n",
    "X_train = data[data['foto_mes'].isin(mes_train_bt_8_meses)]\n",
    "y_train = X_train['clase_ternaria']\n",
    "X_train = X_train.drop(columns=['clase_ternaria'])\n",
    "\n",
    "mes_futuro = 202106 # usado como test\n",
    "X_test = data[data['foto_mes'] == mes_futuro]\n",
    "y_test = X_test['clase_ternaria']\n",
    "X_test = X_test.drop(columns=['clase_ternaria'])"
   ]
  },
  {
   "cell_type": "markdown",
   "metadata": {},
   "source": [
    "Preprocesando data"
   ]
  },
  {
   "cell_type": "code",
   "execution_count": null,
   "metadata": {},
   "outputs": [],
   "source": [
    "# Imputacion de Xs\n",
    "cols_with_all_nan = X_train.columns[X_train.isna().all()].tolist()\n",
    "print(\"Columns with all NaN values:\", cols_with_all_nan)\n",
    "X_train = X_train.drop(columns=cols_with_all_nan)\n",
    "X_test = X_test.drop(columns=cols_with_all_nan)\n",
    "\n",
    "# Imputación de nulls\n",
    "imp_median = SimpleImputer(missing_values=np.nan, strategy='median')\n",
    "X_train_imp = pd.DataFrame(imp_median.fit_transform(X_train), columns=X_train.columns)\n",
    "X_test_imp = pd.DataFrame(imp_median.transform(X_test), columns=X_train.columns)\n",
    "\n",
    "del X_train\n",
    "del X_test\n",
    "\n",
    "# Codificar variables categóricas\n",
    "categorical_features = [col for col in X_train_imp.columns if X_train_imp[col].dtype == 'object']\n",
    "\n",
    "# Convertir variables categóricas a 'category' dtype para LightGBM\n",
    "for col in categorical_features:\n",
    "    X_train_imp[col] = X_train_imp[col].astype('category')\n",
    "    X_test_imp[col] = X_test_imp[col].astype('category')"
   ]
  },
  {
   "cell_type": "markdown",
   "metadata": {},
   "source": [
    "Modelo elegido"
   ]
  },
  {
   "cell_type": "code",
   "execution_count": null,
   "metadata": {},
   "outputs": [],
   "source": [
    "# Condiciones de la optimización\n",
    "s = 1\n",
    "prepro = 6 # data quality + data drifting\n",
    "fe = 6 # feature engineering conceptual 6 meses\n",
    "training = 3 # un mes de optimización\n",
    "\n",
    "print(\"### Corriendo pipeline con XGBoost ###\")\n",
    "# Inicializar el pipeline con 'xgboost'\n",
    "pipeline_xgb_x = ModelPipeline(data=None, seeds=semillas, threshold=threshold_bt_mean,\n",
    "                              model_type='xgboost', seed=s, n_jobs=-3)\n",
    "\n",
    "print(\"\\n# Entrenando el modelo base XGBoost\")\n",
    "pipeline_xgb_x.train_base_model(X_train_imp, y_train)\n",
    "\n",
    "print(\"\\n# Evaluando el modelo base en el conjunto de prueba\")\n",
    "pipeline_xgb_x.test_base_model(X_test_imp, y_test)\n",
    "\n",
    "# Definir el almacenamiento para Optuna\n",
    "# storage_name = \"sqlite:///\" + db_path + \"optimization_tree.db\"\n",
    "# carga local\n",
    "storage_name = \"sqlite:///optimizacion/optimization_tree.db\"\n",
    "study_name = f\"exp_xgb_pr{prepro}_fe{fe}_tr{training}_x\"\n",
    "\n",
    "print(\"\\n# Optimizando el modelo\")\n",
    "pipeline_xgb_x.optimize_model(\n",
    "    X_train_imp, y_train,\n",
    "    storage_name=storage_name,\n",
    "    study_name=study_name,\n",
    "    optimize=False,  \n",
    "    n_trials=100\n",
    ")\n",
    "\n",
    "# Entrenar el mejor modelo con parámetros optimizados\n",
    "print(\"\\n# Entrenando el mejor modelo con parámetros optimizados\")\n",
    "pipeline_xgb_x.train_best_model(X_train_imp, y_train)\n",
    "\n",
    "# Evaluar el mejor modelo en el conjunto de prueba\n",
    "print(\"\\n# Evaluando el mejor modelo en el conjunto de prueba\")\n",
    "pipeline_xgb_x.test_best_model(X_test_imp, y_test)\n",
    "\n",
    "# Simular el split Kaggle y comparar modelos\n",
    "print(\"\\n# Simulando el split Kaggle y comparando modelos\")\n",
    "\n",
    "fpri_best_xgb_pr6_fe6_8m, fpri_base_xgb_pr6_fe6_8m, \\\n",
    "fpub_best_xgb_pr6_fe6_8m, fpub_base_xgb_pr6_fe6_8m = \\\n",
    "pipeline_xgb_x.simulate_kaggle_split(X_test_imp, y_test) \n",
    "\n",
    "del X_train_imp\n",
    "del X_test_imp"
   ]
  },
  {
   "cell_type": "markdown",
   "metadata": {},
   "source": [
    "### Back-testing con 10 meses"
   ]
  },
  {
   "cell_type": "code",
   "execution_count": null,
   "metadata": {},
   "outputs": [],
   "source": [
    "# Simulación para Kaggle\n",
    "X_train = data[data['foto_mes'].isin(mes_train_bt_10_meses)]\n",
    "y_train = X_train['clase_ternaria']\n",
    "X_train = X_train.drop(columns=['clase_ternaria'])\n",
    "\n",
    "mes_futuro = 202106 # usado como test\n",
    "X_test = data[data['foto_mes'] == mes_futuro]\n",
    "y_test = X_test['clase_ternaria']\n",
    "X_test = X_test.drop(columns=['clase_ternaria'])"
   ]
  },
  {
   "cell_type": "markdown",
   "metadata": {},
   "source": [
    "Preprocesando data"
   ]
  },
  {
   "cell_type": "code",
   "execution_count": null,
   "metadata": {},
   "outputs": [],
   "source": [
    "# Imputacion de Xs\n",
    "cols_with_all_nan = X_train.columns[X_train.isna().all()].tolist()\n",
    "print(\"Columns with all NaN values:\", cols_with_all_nan)\n",
    "X_train = X_train.drop(columns=cols_with_all_nan)\n",
    "X_test = X_test.drop(columns=cols_with_all_nan)\n",
    "\n",
    "# Imputación de nulls\n",
    "imp_median = SimpleImputer(missing_values=np.nan, strategy='median')\n",
    "X_train_imp = pd.DataFrame(imp_median.fit_transform(X_train), columns=X_train.columns)\n",
    "X_test_imp = pd.DataFrame(imp_median.transform(X_test), columns=X_train.columns)\n",
    "\n",
    "del X_train\n",
    "del X_test\n",
    "\n",
    "# Codificar variables categóricas\n",
    "categorical_features = [col for col in X_train_imp.columns if X_train_imp[col].dtype == 'object']\n",
    "\n",
    "# Convertir variables categóricas a 'category' dtype para LightGBM\n",
    "for col in categorical_features:\n",
    "    X_train_imp[col] = X_train_imp[col].astype('category')\n",
    "    X_test_imp[col] = X_test_imp[col].astype('category')"
   ]
  },
  {
   "cell_type": "markdown",
   "metadata": {},
   "source": [
    "Modelo elegido"
   ]
  },
  {
   "cell_type": "code",
   "execution_count": null,
   "metadata": {},
   "outputs": [],
   "source": [
    "# Condiciones de la optimización\n",
    "s = 1\n",
    "prepro = 6 # data quality + data drifting\n",
    "fe = 6 # feature engineering conceptual 6 meses\n",
    "training = 3 # un mes de optimización\n",
    "\n",
    "print(\"### Corriendo pipeline con XGBoost ###\")\n",
    "# Inicializar el pipeline con 'xgboost'\n",
    "pipeline_xgb_x = ModelPipeline(data=None, seeds=semillas, threshold=threshold_bt_mean,\n",
    "                              model_type='xgboost', seed=s, n_jobs=-3)\n",
    "\n",
    "print(\"\\n# Entrenando el modelo base XGBoost\")\n",
    "pipeline_xgb_x.train_base_model(X_train_imp, y_train)\n",
    "\n",
    "print(\"\\n# Evaluando el modelo base en el conjunto de prueba\")\n",
    "pipeline_xgb_x.test_base_model(X_test_imp, y_test)\n",
    "\n",
    "# Definir el almacenamiento para Optuna\n",
    "# storage_name = \"sqlite:///\" + db_path + \"optimization_tree.db\"\n",
    "# carga local\n",
    "storage_name = \"sqlite:///optimizacion/optimization_tree.db\"\n",
    "study_name = f\"exp_xgb_pr{prepro}_fe{fe}_tr{training}_x\"\n",
    "\n",
    "print(\"\\n# Optimizando el modelo\")\n",
    "pipeline_xgb_x.optimize_model(\n",
    "    X_train_imp, y_train,\n",
    "    storage_name=storage_name,\n",
    "    study_name=study_name,\n",
    "    optimize=False,  \n",
    "    n_trials=100\n",
    ")\n",
    "\n",
    "# Entrenar el mejor modelo con parámetros optimizados\n",
    "print(\"\\n# Entrenando el mejor modelo con parámetros optimizados\")\n",
    "pipeline_xgb_x.train_best_model(X_train_imp, y_train)\n",
    "\n",
    "# Evaluar el mejor modelo en el conjunto de prueba\n",
    "print(\"\\n# Evaluando el mejor modelo en el conjunto de prueba\")\n",
    "pipeline_xgb_x.test_best_model(X_test_imp, y_test)\n",
    "\n",
    "# Simular el split Kaggle y comparar modelos\n",
    "print(\"\\n# Simulando el split Kaggle y comparando modelos\")\n",
    "\n",
    "fpri_best_xgb_pr6_fe6_10m, fpri_base_xgb_pr6_fe6_10m, \\\n",
    "fpub_best_xgb_pr6_fe6_10m, fpub_base_xgb_pr6_fe6_10m = \\\n",
    "pipeline_xgb_x.simulate_kaggle_split(X_test_imp, y_test) \n",
    "\n",
    "del X_train_imp\n",
    "del X_test_imp"
   ]
  },
  {
   "cell_type": "markdown",
   "metadata": {},
   "source": [
    "### Comparando modelos según meses de train"
   ]
  },
  {
   "cell_type": "code",
   "execution_count": null,
   "metadata": {},
   "outputs": [],
   "source": [
    "model_a = \"xgb prepro6 fe6 y 3 opt (local opt) - 4 meses\"\n",
    "model_b = \"xgb prepro6 fe6 y 3 opt (local opt) - 6 meses\"\n",
    "\n",
    "plot_comparisons_on_kaggle_split(model_a, fpri_best_xgb_pr6_fe6_tr3, fpub_best_xgb_pr6_fe6_tr3,\n",
    "                                model_b, fpri_best_xgb_pr6_fe6_6m, fpub_best_xgb_pr6_fe6_6m)"
   ]
  },
  {
   "cell_type": "code",
   "execution_count": null,
   "metadata": {},
   "outputs": [],
   "source": [
    "model_a = \"xgb prepro6 fe6 y 3 opt (local opt) - 6 meses\"\n",
    "model_b = \"xgb prepro6 fe6 y 3 opt (local opt) - 8 meses\"\n",
    "\n",
    "plot_comparisons_on_kaggle_split(model_a, fpri_best_xgb_pr6_fe6_6m, fpub_best_xgb_pr6_fe6_6m,\n",
    "                                model_b, fpri_best_xgb_pr6_fe6_8m, fpub_best_xgb_pr6_fe6_8m)"
   ]
  },
  {
   "cell_type": "code",
   "execution_count": null,
   "metadata": {},
   "outputs": [],
   "source": [
    "model_a = \"xgb prepro6 fe6 y 3 opt (local opt) - 8 meses\"\n",
    "model_b = \"xgb prepro6 fe6 y 3 opt (local opt) - 10 meses\"\n",
    "\n",
    "plot_comparisons_on_kaggle_split(model_a, fpri_best_xgb_pr6_fe6_8m, fpub_best_xgb_pr6_fe6_8m,\n",
    "                                model_b, fpri_best_xgb_pr6_fe6_10m, fpub_best_xgb_pr6_fe6_10m)"
   ]
  },
  {
   "cell_type": "markdown",
   "metadata": {},
   "source": [
    "___"
   ]
  }
 ],
 "metadata": {
  "colab": {
   "provenance": []
  },
  "kernelspec": {
   "display_name": "dm_eyf",
   "language": "python",
   "name": "python3"
  },
  "language_info": {
   "codemirror_mode": {
    "name": "ipython",
    "version": 3
   },
   "file_extension": ".py",
   "mimetype": "text/x-python",
   "name": "python",
   "nbconvert_exporter": "python",
   "pygments_lexer": "ipython3",
   "version": "3.11.10"
  }
 },
 "nbformat": 4,
 "nbformat_minor": 0
}
