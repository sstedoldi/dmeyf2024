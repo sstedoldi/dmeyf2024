{
 "cells": [
  {
   "cell_type": "markdown",
   "metadata": {},
   "source": [
    "# Datasets\n",
    "\n",
    "Incluye:\n",
    "\n",
    "- Reducción de los datasets, para pruebas en local\n"
   ]
  },
  {
   "cell_type": "code",
   "execution_count": null,
   "metadata": {},
   "outputs": [],
   "source": [
    "# Librerias\n",
    "import os\n",
    "import pandas as pd\n",
    "import numpy as np\n",
    "import datetime\n",
    "import joblib\n",
    "\n",
    "####################\n",
    "# funciones y clases\n",
    "from utils import psi, drift_deflacion\n",
    "\n",
    "#######\n",
    "# rutas\n",
    "# datasets\n",
    "from config import datasets_path, dataset_file_fe6_6pqt\n",
    "# optimizacion\n",
    "from config import db_path\n",
    "# modelos\n",
    "from config import modelos_path\n",
    "# predicciones\n",
    "from config import pred_path\n",
    "\n",
    "##########\n",
    "# pipeline\n",
    "from processing import ModelPipeline\n",
    "from sklearn.impute import SimpleImputer\n",
    "from sklearn.preprocessing import LabelEncoder\n",
    "\n",
    "\n",
    "import warnings\n",
    "\n",
    "# Ignorar advertencias de tipo UserWarning\n",
    "warnings.filterwarnings('ignore', category=UserWarning, module='pandas')\n"
   ]
  },
  {
   "cell_type": "markdown",
   "metadata": {},
   "source": [
    "Variables de train y test"
   ]
  },
  {
   "cell_type": "code",
   "execution_count": null,
   "metadata": {},
   "outputs": [],
   "source": [
    "ganancia_acierto = 273000\n",
    "costo_estimulo = 7000\n",
    "\n",
    "mes_train_all = [201901, 201902, 201903, 201904, 201905, 201906, 201907, 201908,\n",
    "                 201909, 201910, 201911, 201912, 202001, 202002, 202003, 202004,\n",
    "                 202005, 202006, 202007, 202008, 202009, 202010, 202011, 202012,\n",
    "                 202101, 202102, 202103, 202104, 202105, 202106]\n",
    "\n",
    "mes_train_ult_3_meses = [202104, 202105, 202106]\n",
    "\n",
    "mes_train_ult_6_meses = [202101, 202102, 202103, 202104, 202105, 202106]\n",
    "\n",
    "mes_train_ult_9_meses = [202009, 202010, 202011, 202012, 202101, 202102, 202103, 202104, 202105, 202106]\n",
    "\n",
    "mes_train_ult_anio = [202006, 202007, 202008, 202009, 202010, 202011, 202012,\n",
    "                 202101, 202102, 202103, 202104, 202105, 202106]\n",
    "\n",
    "mes_train = [202106]\n",
    "mes_test = 202108\n",
    "\n",
    "threshold = 0.025\n",
    "\n",
    "semillas = [437809, 327347, 392879, 455783, 217163]"
   ]
  },
  {
   "cell_type": "markdown",
   "metadata": {},
   "source": [
    "## Creating smaller datasets"
   ]
  },
  {
   "cell_type": "code",
   "execution_count": null,
   "metadata": {},
   "outputs": [],
   "source": [
    "data = pd.read_parquet(dataset_file_fe6_6pqt)\n",
    "\n",
    "# Score kaggle\n",
    "score_data = data[data['foto_mes'] == mes_test]\n",
    "score_data.to_parquet(datasets_path+\"competencia_02_score_data.parquet\")\n",
    "\n",
    "del score_data\n",
    "\n",
    "# Ultimos 9 meses\n",
    "train_data = data[data['foto_mes'].isin(mes_train_ult_9_meses)]\n",
    "train_data.to_parquet(datasets_path+\"competencia_02_fe6_6_9m_train.parquet\")\n",
    "\n",
    "del train_data\n",
    "\n",
    "# Ultimos 6 meses\n",
    "train_data = data[data['foto_mes'].isin(mes_train_ult_6_meses)]\n",
    "train_data.to_parquet(datasets_path+\"competencia_02_fe6_6_6m_train.parquet\")\n",
    "\n",
    "del train_data\n",
    "\n",
    "# Ultimos 3 meses\n",
    "train_data = data[data['foto_mes'].isin(mes_train_ult_3_meses)]\n",
    "train_data.to_parquet(datasets_path+\"competencia_02_fe6_6_3m_train.parquet\")\n",
    "\n",
    "del train_data\n",
    "\n",
    "# Ultimo mes\n",
    "train_data = data[data['foto_mes'].isin(mes_train)]\n",
    "train_data.to_parquet(datasets_path+\"competencia_02_fe6_6_1m_train.parquet\")\n",
    "\n",
    "del train_data\n",
    "\n",
    "del data"
   ]
  }
 ],
 "metadata": {
  "language_info": {
   "name": "python"
  }
 },
 "nbformat": 4,
 "nbformat_minor": 2
}
