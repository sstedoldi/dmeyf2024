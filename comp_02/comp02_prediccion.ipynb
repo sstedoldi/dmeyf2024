{
 "cells": [
  {
   "cell_type": "markdown",
   "metadata": {},
   "source": [
    "# Predicción para Kaggle\n",
    "\n",
    "Incluye:\n",
    "\n",
    "- Modelo optimizado, semilla única\n",
    "- Semillerío\n",
    "- Semillerío con modelo simplificado\n"
   ]
  },
  {
   "cell_type": "code",
   "execution_count": null,
   "metadata": {
    "vscode": {
     "languageId": "plaintext"
    }
   },
   "outputs": [],
   "source": [
    "###"
   ]
  }
 ],
 "metadata": {
  "language_info": {
   "name": "python"
  }
 },
 "nbformat": 4,
 "nbformat_minor": 2
}
