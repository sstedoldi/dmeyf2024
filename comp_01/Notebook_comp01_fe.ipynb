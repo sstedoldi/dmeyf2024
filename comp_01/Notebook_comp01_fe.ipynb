{
  "cells": [
    {
      "cell_type": "markdown",
      "metadata": {
        "id": "azY5Q6Mko4Sm"
      },
      "source": [
        "# Feature Engineering en SQL\n",
        "\n",
        "A continuación, veremos cómo calcular diferentes variables para el feature engineering utilizando SQL.\n"
      ]
    },
    {
      "cell_type": "code",
      "execution_count": 1,
      "metadata": {
        "id": "v--Kr-4KdWVe"
      },
      "outputs": [],
      "source": [
        "# %pip install duckdb\n",
        "# %pip install jupysql\n",
        "# %pip install duckdb-engine"
      ]
    },
    {
      "cell_type": "code",
      "execution_count": 2,
      "metadata": {
        "colab": {
          "base_uri": "https://localhost:8080/"
        },
        "id": "id9aIXnzqYJz",
        "outputId": "227a261b-734a-40d8-91fd-21307282b730"
      },
      "outputs": [],
      "source": [
        "import duckdb\n",
        "import pandas as pd\n",
        "\n",
        "%load_ext sql\n",
        "%config SqlMagic.autopandas = True\n",
        "%config SqlMagic.feedback = False\n",
        "%config SqlMagic.displaycon = False\n",
        "\n",
        "%sql duckdb:///:default:"
      ]
    },
    {
      "cell_type": "code",
      "execution_count": 3,
      "metadata": {
        "id": "N0RgV3r1q_iY"
      },
      "outputs": [],
      "source": [
        "dataset_file = 'datos/competencia_01_brandoni.csv'"
      ]
    },
    {
      "cell_type": "code",
      "execution_count": 4,
      "metadata": {
        "colab": {
          "base_uri": "https://localhost:8080/",
          "height": 85,
          "referenced_widgets": [
            "a3f152c2eb5a475ab849623199bdb38f",
            "3ff11078ae7e438cbcfb2a24140a86ec",
            "12d7b5820c7844309fb7311acd2f6d40"
          ]
        },
        "id": "9HTjzrU5rEa6",
        "outputId": "950e22b1-f621-4dd8-e9aa-ecc78551555a"
      },
      "outputs": [
        {
          "data": {
            "application/vnd.jupyter.widget-view+json": {
              "model_id": "4547e4dbd5614df989c20e8db869a07e",
              "version_major": 2,
              "version_minor": 0
            },
            "text/plain": [
              "FloatProgress(value=0.0, layout=Layout(width='auto'), style=ProgressStyle(bar_color='black'))"
            ]
          },
          "metadata": {},
          "output_type": "display_data"
        },
        {
          "data": {
            "text/html": [
              "<div>\n",
              "<style scoped>\n",
              "    .dataframe tbody tr th:only-of-type {\n",
              "        vertical-align: middle;\n",
              "    }\n",
              "\n",
              "    .dataframe tbody tr th {\n",
              "        vertical-align: top;\n",
              "    }\n",
              "\n",
              "    .dataframe thead th {\n",
              "        text-align: right;\n",
              "    }\n",
              "</style>\n",
              "<table border=\"1\" class=\"dataframe\">\n",
              "  <thead>\n",
              "    <tr style=\"text-align: right;\">\n",
              "      <th></th>\n",
              "      <th>Success</th>\n",
              "    </tr>\n",
              "  </thead>\n",
              "  <tbody>\n",
              "  </tbody>\n",
              "</table>\n",
              "</div>"
            ],
            "text/plain": [
              "Empty DataFrame\n",
              "Columns: [Success]\n",
              "Index: []"
            ]
          },
          "execution_count": 4,
          "metadata": {},
          "output_type": "execute_result"
        }
      ],
      "source": [
        "%%sql\n",
        "create or replace table competencia_01 as\n",
        "select\n",
        "    *\n",
        "from read_csv_auto(\"{{dataset_file}}\")"
      ]
    },
    {
      "cell_type": "markdown",
      "metadata": {},
      "source": [
        "Definir la macro para sumar sin valores nulos\n"
      ]
    },
    {
      "cell_type": "code",
      "execution_count": 5,
      "metadata": {},
      "outputs": [
        {
          "data": {
            "text/html": [
              "<div>\n",
              "<style scoped>\n",
              "    .dataframe tbody tr th:only-of-type {\n",
              "        vertical-align: middle;\n",
              "    }\n",
              "\n",
              "    .dataframe tbody tr th {\n",
              "        vertical-align: top;\n",
              "    }\n",
              "\n",
              "    .dataframe thead th {\n",
              "        text-align: right;\n",
              "    }\n",
              "</style>\n",
              "<table border=\"1\" class=\"dataframe\">\n",
              "  <thead>\n",
              "    <tr style=\"text-align: right;\">\n",
              "      <th></th>\n",
              "      <th>Success</th>\n",
              "    </tr>\n",
              "  </thead>\n",
              "  <tbody>\n",
              "  </tbody>\n",
              "</table>\n",
              "</div>"
            ],
            "text/plain": [
              "Empty DataFrame\n",
              "Columns: [Success]\n",
              "Index: []"
            ]
          },
          "execution_count": 5,
          "metadata": {},
          "output_type": "execute_result"
        }
      ],
      "source": [
        "%%sql\n",
        "CREATE OR REPLACE MACRO suma_sin_null(a, b) AS ifnull(a, 0) + ifnull(b, 0);"
      ]
    },
    {
      "cell_type": "markdown",
      "metadata": {},
      "source": [
        "Crear nueva tabla con todos los atributos originales más los nuevos de ingeniería de variables\n",
        "\n",
        "https://chatgpt.com/share/66edc29b-e0a4-8004-aa86-508d1e7eefa5\n"
      ]
    },
    {
      "cell_type": "code",
      "execution_count": 6,
      "metadata": {},
      "outputs": [
        {
          "data": {
            "application/vnd.jupyter.widget-view+json": {
              "model_id": "640d06f680ab4ee2a90deaa9f2287d61",
              "version_major": 2,
              "version_minor": 0
            },
            "text/plain": [
              "FloatProgress(value=0.0, layout=Layout(width='auto'), style=ProgressStyle(bar_color='black'))"
            ]
          },
          "metadata": {},
          "output_type": "display_data"
        },
        {
          "data": {
            "text/html": [
              "<div>\n",
              "<style scoped>\n",
              "    .dataframe tbody tr th:only-of-type {\n",
              "        vertical-align: middle;\n",
              "    }\n",
              "\n",
              "    .dataframe tbody tr th {\n",
              "        vertical-align: top;\n",
              "    }\n",
              "\n",
              "    .dataframe thead th {\n",
              "        text-align: right;\n",
              "    }\n",
              "</style>\n",
              "<table border=\"1\" class=\"dataframe\">\n",
              "  <thead>\n",
              "    <tr style=\"text-align: right;\">\n",
              "      <th></th>\n",
              "      <th>Success</th>\n",
              "    </tr>\n",
              "  </thead>\n",
              "  <tbody>\n",
              "  </tbody>\n",
              "</table>\n",
              "</div>"
            ],
            "text/plain": [
              "Empty DataFrame\n",
              "Columns: [Success]\n",
              "Index: []"
            ]
          },
          "execution_count": 6,
          "metadata": {},
          "output_type": "execute_result"
        }
      ],
      "source": [
        "%%sql\n",
        "CREATE or REPLACE TABLE competencia_01_fe as\n",
        "SELECT\n",
        "    *,\n",
        "\n",
        "    suma_sin_null(Master_msaldototal, Visa_msaldototal) as tc_saldo_total,\n",
        "    suma_sin_null(mcuenta_corriente, mcaja_ahorro) as saldo_total_cuentas,\n",
        "    suma_sin_null(suma_sin_null(Visa_msaldototal, Master_msaldototal), suma_sin_null(mcuenta_corriente, mcaja_ahorro)) as saldo_total_completo,\n",
        "    suma_sin_null(mprestamos_personales, suma_sin_null(mprestamos_prendarios, mprestamos_hipotecarios)) as deuda_total_prestamos,\n",
        "\n",
        "    ntile(10) OVER (PARTITION BY foto_mes ORDER BY cliente_antiguedad) as cliente_antiguedad_10tile,\n",
        "    ntile(10) OVER (PARTITION BY foto_mes ORDER BY mpayroll) as payroll_10tile,\n",
        "    ntile(10) OVER (partition BY foto_mes ORDER BY mtarjeta_visa_consumo) as visa_consumo_10tile,\n",
        "    ntile(10) OVER (PARTITION BY foto_mes ORDER BY ctarjeta_visa) as visa_tarjetas_10tile,\n",
        "    ntile(10) OVER (PARTITION BY foto_mes ORDER BY mtarjeta_master_consumo) as master_consumo_10tile,\n",
        "    ntile(10) OVER (PARTITION BY foto_mes ORDER BY ctarjeta_master) as master_tarjetas_10tile,\n",
        "    ntile(10) OVER (PARTITION BY foto_mes ORDER BY cproductos) as productos_10tile,\n",
        "    ntile(10) OVER (PARTITION BY foto_mes ORDER BY mcuenta_corriente) as cuenta_corriente_10tile,\n",
        "    ntile(10) OVER (PARTITION BY foto_mes ORDER BY mcaja_ahorro) as caja_ahorro_10tile,\n",
        "    ntile(10) OVER (PARTITION BY foto_mes ORDER BY suma_sin_null(ctarjeta_visa, ctarjeta_master)) as tarjetas_credito_10tile,\n",
        "    ntile(10) OVER (PARTITION BY foto_mes ORDER BY suma_sin_null(mtarjeta_visa_consumo, mtarjeta_master_consumo)) as tarjetas_consumo_10tile,\n",
        "    ntile(10) OVER (PARTITION BY foto_mes ORDER BY mprestamos_personales) as prestamos_personales_10tile,\n",
        "    ntile(10) OVER (PARTITION BY foto_mes ORDER BY mprestamos_hipotecarios) as prestamos_hipotecarios_10tile,\n",
        "\n",
        "    lag(mpayroll, 1) OVER (PARTITION BY numero_de_cliente ORDER BY foto_mes) as lag_1_mpayroll,\n",
        "    avg(mpayroll) OVER (PARTITION BY numero_de_cliente ORDER BY foto_mes ROWS BETWEEN 3 PRECEDING AND CURRENT ROW) as avg_3_mpayroll,\n",
        "    min(mpayroll) OVER (PARTITION BY numero_de_cliente ORDER BY foto_mes ROWS BETWEEN 3 PRECEDING AND CURRENT ROW) as min_3_mpayroll,\n",
        "    max(mpayroll) OVER (PARTITION BY numero_de_cliente ORDER BY foto_mes ROWS BETWEEN 3 PRECEDING AND CURRENT ROW) as max_3_mpayroll,\n",
        "    lag(suma_sin_null(mtarjeta_visa_consumo, mtarjeta_master_consumo), 1) OVER (PARTITION BY numero_de_cliente ORDER BY foto_mes) as lag_1_tarjetas_consumo,\n",
        "    lag(mcuenta_corriente, 1) OVER (PARTITION BY numero_de_cliente ORDER BY foto_mes) as lag_1_cuenta_corriente,\n",
        "    lag(mcaja_ahorro, 1) OVER (PARTITION BY numero_de_cliente ORDER BY foto_mes) as lag_1_caja_ahorro,\n",
        "\n",
        "    avg(mcuenta_corriente) OVER (PARTITION BY numero_de_cliente ORDER BY foto_mes ROWS BETWEEN 3 PRECEDING AND CURRENT ROW) as avg_3_cuenta_corriente,\n",
        "    min(mprestamos_personales) OVER (PARTITION BY numero_de_cliente ORDER BY foto_mes ROWS BETWEEN 3 PRECEDING AND CURRENT ROW) as min_3_prestamos_personales,\n",
        "    max(mprestamos_personales) OVER (PARTITION BY numero_de_cliente ORDER BY foto_mes ROWS BETWEEN 3 PRECEDING AND CURRENT ROW) as max_3_prestamos_personales,\n",
        "\n",
        "    mpayroll - lag(mpayroll, 1) OVER (PARTITION BY numero_de_cliente ORDER BY foto_mes) as delta_1_mpayroll,\n",
        "    mtarjeta_visa_consumo - lag(mtarjeta_visa_consumo, 1) OVER (PARTITION BY numero_de_cliente ORDER BY foto_mes) as delta_1_visa_consumo,\n",
        "    mcuenta_corriente - lag(mcuenta_corriente, 1) OVER (PARTITION BY numero_de_cliente ORDER BY foto_mes) as delta_1_cuenta_corriente,\n",
        "    mprestamos_personales - lag(mprestamos_personales, 1) OVER (PARTITION BY numero_de_cliente ORDER BY foto_mes) as delta_1_prestamos_personales,\n",
        "    ctarjeta_visa_transacciones - lag(ctarjeta_visa_transacciones, 1) OVER (PARTITION BY numero_de_cliente ORDER BY foto_mes) as delta_1_transacciones_visa,\n",
        "\n",
        "    avg(mpayroll) OVER (PARTITION BY numero_de_cliente ORDER BY foto_mes ROWS BETWEEN 3 PRECEDING AND CURRENT ROW) as mov_avg_3_mpayroll,\n",
        "    avg(mcuenta_corriente) OVER (PARTITION BY numero_de_cliente ORDER BY foto_mes ROWS BETWEEN 3 PRECEDING AND CURRENT ROW) as mov_avg_3_cuenta_corriente,\n",
        "    avg(mprestamos_personales) OVER (PARTITION BY numero_de_cliente ORDER BY foto_mes ROWS BETWEEN 3 PRECEDING AND CURRENT ROW) as mov_avg_3_prestamos_personales,\n",
        "\n",
        "    regr_slope(mpayroll, cliente_antiguedad) OVER (PARTITION BY numero_de_cliente ORDER BY foto_mes ROWS BETWEEN 3 PRECEDING AND CURRENT ROW) as payroll_slope_3,\n",
        "    regr_slope(mcuenta_corriente, cliente_antiguedad) OVER (PARTITION BY numero_de_cliente ORDER BY foto_mes ROWS BETWEEN 3 PRECEDING AND CURRENT ROW) as cuenta_corriente_slope_3,\n",
        "    regr_slope(mtarjeta_visa_consumo, cliente_antiguedad) OVER (PARTITION BY numero_de_cliente ORDER BY foto_mes ROWS BETWEEN 3 PRECEDING AND CURRENT ROW) as visa_consumo_slope_3,\n",
        "\n",
        "    case when Master_status in (6, 7, 9) then 1 else 0 end as Master_cuenta_cerrada,\n",
        "    case when Visa_status in (6, 7, 9) then 1 else 0 end as Visa_cuenta_cerrada,\n",
        "    mcuentas_saldo / nullif(suma_sin_null(mactivos_margen, mpasivos_margen), 0) as ratio_saldo_margen,\n",
        "    suma_sin_null(mcomisiones_mantenimiento, mcomisiones_otras) as total_comisiones_cliente,\n",
        "\n",
        "    suma_sin_null(ctarjeta_visa_transacciones, ctarjeta_master_transacciones) as transacciones_totales_tarjetas,\n",
        "    ctarjeta_debito_transacciones - suma_sin_null(ctarjeta_visa_transacciones, ctarjeta_master_transacciones) as delta_debito_vs_credito,\n",
        "\n",
        "    thomebanking + tmobile_app as indicador_banca_digital\n",
        "\n",
        "FROM competencia_01\n"
      ]
    },
    {
      "cell_type": "markdown",
      "metadata": {
        "id": "8kpwYKQzRaU7"
      },
      "source": [
        "Y a no olvidarse guardar las nueva tabla"
      ]
    },
    {
      "cell_type": "code",
      "execution_count": 7,
      "metadata": {
        "id": "pTQNkXCxRQc5"
      },
      "outputs": [
        {
          "data": {
            "application/vnd.jupyter.widget-view+json": {
              "model_id": "dbfd239ec75840ccbed79c5c09c9555a",
              "version_major": 2,
              "version_minor": 0
            },
            "text/plain": [
              "FloatProgress(value=0.0, layout=Layout(width='auto'), style=ProgressStyle(bar_color='black'))"
            ]
          },
          "metadata": {},
          "output_type": "display_data"
        },
        {
          "data": {
            "text/html": [
              "<div>\n",
              "<style scoped>\n",
              "    .dataframe tbody tr th:only-of-type {\n",
              "        vertical-align: middle;\n",
              "    }\n",
              "\n",
              "    .dataframe tbody tr th {\n",
              "        vertical-align: top;\n",
              "    }\n",
              "\n",
              "    .dataframe thead th {\n",
              "        text-align: right;\n",
              "    }\n",
              "</style>\n",
              "<table border=\"1\" class=\"dataframe\">\n",
              "  <thead>\n",
              "    <tr style=\"text-align: right;\">\n",
              "      <th></th>\n",
              "      <th>Success</th>\n",
              "    </tr>\n",
              "  </thead>\n",
              "  <tbody>\n",
              "  </tbody>\n",
              "</table>\n",
              "</div>"
            ],
            "text/plain": [
              "Empty DataFrame\n",
              "Columns: [Success]\n",
              "Index: []"
            ]
          },
          "execution_count": 7,
          "metadata": {},
          "output_type": "execute_result"
        }
      ],
      "source": [
        "%%sql\n",
        "COPY competencia_01_fe TO 'datos/competencia_01_brandoni_fe.csv' (FORMAT CSV, HEADER TRUE);"
      ]
    },
    {
      "cell_type": "markdown",
      "metadata": {},
      "source": [
        "# PASAR a un FE agresivo"
      ]
    }
  ],
  "metadata": {
    "colab": {
      "provenance": []
    },
    "kernelspec": {
      "display_name": "Python 3",
      "name": "python3"
    },
    "language_info": {
      "codemirror_mode": {
        "name": "ipython",
        "version": 3
      },
      "file_extension": ".py",
      "mimetype": "text/x-python",
      "name": "python",
      "nbconvert_exporter": "python",
      "pygments_lexer": "ipython3",
      "version": "3.11.4"
    },
    "widgets": {
      "application/vnd.jupyter.widget-state+json": {
        "12d7b5820c7844309fb7311acd2f6d40": {
          "model_module": "@jupyter-widgets/controls",
          "model_module_version": "1.5.0",
          "model_name": "ProgressStyleModel",
          "state": {
            "_model_module": "@jupyter-widgets/controls",
            "_model_module_version": "1.5.0",
            "_model_name": "ProgressStyleModel",
            "_view_count": null,
            "_view_module": "@jupyter-widgets/base",
            "_view_module_version": "1.2.0",
            "_view_name": "StyleView",
            "bar_color": "black",
            "description_width": ""
          }
        },
        "3ff11078ae7e438cbcfb2a24140a86ec": {
          "model_module": "@jupyter-widgets/base",
          "model_module_version": "1.2.0",
          "model_name": "LayoutModel",
          "state": {
            "_model_module": "@jupyter-widgets/base",
            "_model_module_version": "1.2.0",
            "_model_name": "LayoutModel",
            "_view_count": null,
            "_view_module": "@jupyter-widgets/base",
            "_view_module_version": "1.2.0",
            "_view_name": "LayoutView",
            "align_content": null,
            "align_items": null,
            "align_self": null,
            "border": null,
            "bottom": null,
            "display": null,
            "flex": null,
            "flex_flow": null,
            "grid_area": null,
            "grid_auto_columns": null,
            "grid_auto_flow": null,
            "grid_auto_rows": null,
            "grid_column": null,
            "grid_gap": null,
            "grid_row": null,
            "grid_template_areas": null,
            "grid_template_columns": null,
            "grid_template_rows": null,
            "height": null,
            "justify_content": null,
            "justify_items": null,
            "left": null,
            "margin": null,
            "max_height": null,
            "max_width": null,
            "min_height": null,
            "min_width": null,
            "object_fit": null,
            "object_position": null,
            "order": null,
            "overflow": null,
            "overflow_x": null,
            "overflow_y": null,
            "padding": null,
            "right": null,
            "top": null,
            "visibility": null,
            "width": "auto"
          }
        },
        "52dba8c17a9449e4af01ae2137ecafa3": {
          "model_module": "@jupyter-widgets/controls",
          "model_module_version": "1.5.0",
          "model_name": "FloatProgressModel",
          "state": {
            "_dom_classes": [],
            "_model_module": "@jupyter-widgets/controls",
            "_model_module_version": "1.5.0",
            "_model_name": "FloatProgressModel",
            "_view_count": null,
            "_view_module": "@jupyter-widgets/controls",
            "_view_module_version": "1.5.0",
            "_view_name": "ProgressView",
            "bar_style": "",
            "description": "",
            "description_tooltip": null,
            "layout": "IPY_MODEL_74443e166c0942c2864fa486291c05dd",
            "max": 100,
            "min": 0,
            "orientation": "horizontal",
            "style": "IPY_MODEL_e9af509dfaca41b5a8a6d151921f0ab1",
            "value": 100
          }
        },
        "74443e166c0942c2864fa486291c05dd": {
          "model_module": "@jupyter-widgets/base",
          "model_module_version": "1.2.0",
          "model_name": "LayoutModel",
          "state": {
            "_model_module": "@jupyter-widgets/base",
            "_model_module_version": "1.2.0",
            "_model_name": "LayoutModel",
            "_view_count": null,
            "_view_module": "@jupyter-widgets/base",
            "_view_module_version": "1.2.0",
            "_view_name": "LayoutView",
            "align_content": null,
            "align_items": null,
            "align_self": null,
            "border": null,
            "bottom": null,
            "display": null,
            "flex": null,
            "flex_flow": null,
            "grid_area": null,
            "grid_auto_columns": null,
            "grid_auto_flow": null,
            "grid_auto_rows": null,
            "grid_column": null,
            "grid_gap": null,
            "grid_row": null,
            "grid_template_areas": null,
            "grid_template_columns": null,
            "grid_template_rows": null,
            "height": null,
            "justify_content": null,
            "justify_items": null,
            "left": null,
            "margin": null,
            "max_height": null,
            "max_width": null,
            "min_height": null,
            "min_width": null,
            "object_fit": null,
            "object_position": null,
            "order": null,
            "overflow": null,
            "overflow_x": null,
            "overflow_y": null,
            "padding": null,
            "right": null,
            "top": null,
            "visibility": null,
            "width": "auto"
          }
        },
        "a3f152c2eb5a475ab849623199bdb38f": {
          "model_module": "@jupyter-widgets/controls",
          "model_module_version": "1.5.0",
          "model_name": "FloatProgressModel",
          "state": {
            "_dom_classes": [],
            "_model_module": "@jupyter-widgets/controls",
            "_model_module_version": "1.5.0",
            "_model_name": "FloatProgressModel",
            "_view_count": null,
            "_view_module": "@jupyter-widgets/controls",
            "_view_module_version": "1.5.0",
            "_view_name": "ProgressView",
            "bar_style": "",
            "description": "",
            "description_tooltip": null,
            "layout": "IPY_MODEL_3ff11078ae7e438cbcfb2a24140a86ec",
            "max": 100,
            "min": 0,
            "orientation": "horizontal",
            "style": "IPY_MODEL_12d7b5820c7844309fb7311acd2f6d40",
            "value": 100
          }
        },
        "e9af509dfaca41b5a8a6d151921f0ab1": {
          "model_module": "@jupyter-widgets/controls",
          "model_module_version": "1.5.0",
          "model_name": "ProgressStyleModel",
          "state": {
            "_model_module": "@jupyter-widgets/controls",
            "_model_module_version": "1.5.0",
            "_model_name": "ProgressStyleModel",
            "_view_count": null,
            "_view_module": "@jupyter-widgets/base",
            "_view_module_version": "1.2.0",
            "_view_name": "StyleView",
            "bar_color": "black",
            "description_width": ""
          }
        }
      }
    }
  },
  "nbformat": 4,
  "nbformat_minor": 0
}
