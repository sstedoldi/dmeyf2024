{
 "cells": [
  {
   "cell_type": "markdown",
   "metadata": {},
   "source": [
    "# Datasets\n",
    "\n",
    "Incluye:\n",
    "\n",
    "- Reducción de los datasets, para pruebas en local\n"
   ]
  },
  {
   "cell_type": "code",
   "execution_count": null,
   "metadata": {},
   "outputs": [],
   "source": [
    "# Librerias\n",
    "import os\n",
    "import pandas as pd\n",
    "import numpy as np\n",
    "import datetime\n",
    "import joblib\n",
    "\n",
    "#######\n",
    "# rutas\n",
    "# datasets\n",
    "from config import datasets_path, dataset_file_fe6_6xpqt\n",
    "\n",
    "import warnings\n",
    "\n",
    "# Ignorar advertencias de tipo UserWarning\n",
    "warnings.filterwarnings('ignore', category=UserWarning, module='pandas')\n"
   ]
  },
  {
   "cell_type": "markdown",
   "metadata": {},
   "source": [
    "Variables de train y test"
   ]
  },
  {
   "cell_type": "code",
   "execution_count": 2,
   "metadata": {},
   "outputs": [],
   "source": [
    "ganancia_acierto = 273000\n",
    "costo_estimulo = 7000\n",
    "\n",
    "mes_train_all = [201901, 201902, 201903, 201904, 201905, 201906, 201907, 201908,\n",
    "                 201909, 201910, 201911, 201912, 202001, 202002, 202003, 202004,\n",
    "                 202005, 202007, 202008, 202009, 202010, 202011, 202012, # sin 202006\n",
    "                 202101, 202102, 202103, 202104, 202105, 202106, 202107]\n",
    "\n",
    "mes_train_ult_3_meses = [202105, 202106, 202107]\n",
    "\n",
    "mes_train_ult_6_meses = [202102, 202103, 202104, 202105, 202106, 202107]\n",
    "\n",
    "mes_train_ult_9_meses = [202010, 202011, 202012, 202101, 202102, 202103, 202104, 202105, 202106, 202107]\n",
    "\n",
    "mes_train_ult_anio = [202007, 202008, 202009, 202010, 202011, 202012,\n",
    "                 202101, 202102, 202103, 202104, 202105, 202106, 202107]\n",
    "\n",
    "mes_train = [202107]\n",
    "mes_test = 202109\n",
    "\n",
    "threshold = 0.025\n",
    "\n",
    "semillas = [437809, 327347, 392879, 455783, 217163]"
   ]
  },
  {
   "cell_type": "markdown",
   "metadata": {},
   "source": [
    "## Creating smaller datasets\n",
    "\n",
    "Undersampling para optimización\n",
    "\n",
    "10 % de los \"CONTINUA\""
   ]
  },
  {
   "cell_type": "code",
   "execution_count": 3,
   "metadata": {},
   "outputs": [
    {
     "data": {
      "text/plain": [
       "array([201912, 201901, 202108, 202011, 202101, 202109, 202010, 202002,\n",
       "       202102, 201907, 201906, 202009, 201903, 201908, 202008, 202007,\n",
       "       201910, 202012, 202106, 202004, 201909, 202103, 202107, 202006,\n",
       "       202105, 201902, 202104, 201905, 202005, 201911, 202003, 202001,\n",
       "       201904])"
      ]
     },
     "execution_count": 3,
     "metadata": {},
     "output_type": "execute_result"
    }
   ],
   "source": [
    "data = pd.read_parquet(dataset_file_fe6_6xpqt)\n",
    "\n",
    "data.foto_mes.unique()"
   ]
  },
  {
   "cell_type": "code",
   "execution_count": 4,
   "metadata": {},
   "outputs": [],
   "source": [
    "# Set de train para optimizar\n",
    "data = data[data['foto_mes'].isin(mes_train_all)]\n",
    "\n",
    "# Filtrar las filas que tienen el valor \"CONTINUA\" en la columna clase_ternaria\n",
    "df_continua = data[data['clase_ternaria'] == 'CONTINUA']\n",
    "\n",
    "# Seleccionar el 10 % de las filas de \"CONTINUA\" (sin reemplazo)\n",
    "df_continua_sample = df_continua.sample(frac=0.1, random_state=semillas[0])\n",
    "\n",
    "del df_continua\n",
    "\n",
    "# Filtrar las filas que no tienen el valor \"CONTINUA\" en la columna clase_ternaria\n",
    "df_not_continua = data[data['clase_ternaria'] != 'CONTINUA']\n",
    "\n",
    "# Concatenar el sampleo de \"CONTINUA\" con el resto del dataframe\n",
    "df_undersampled = pd.concat([df_continua_sample, df_not_continua])\n",
    "\n",
    "df_undersampled.to_parquet(datasets_path+\"competencia_03_fe6x_opt_under.parquet\")"
   ]
  },
  {
   "cell_type": "code",
   "execution_count": 4,
   "metadata": {},
   "outputs": [],
   "source": [
    "df_202107 = data[data['foto_mes'] == 202107]\n",
    "\n",
    "df_202107.to_parquet(datasets_path+\"competencia_03_202107.parquet\")\n",
    "\n",
    "df_202109 = data[data['foto_mes'] == 202109]\n",
    "\n",
    "df_202109.to_parquet(datasets_path+\"competencia_03_202109.parquet\")\n",
    "\n",
    "del data\n"
   ]
  }
 ],
 "metadata": {
  "kernelspec": {
   "display_name": "Python 3 (ipykernel)",
   "language": "python",
   "name": "python3"
  },
  "language_info": {
   "codemirror_mode": {
    "name": "ipython",
    "version": 3
   },
   "file_extension": ".py",
   "mimetype": "text/x-python",
   "name": "python",
   "nbconvert_exporter": "python",
   "pygments_lexer": "ipython3",
   "version": "3.12.3"
  }
 },
 "nbformat": 4,
 "nbformat_minor": 4
}
