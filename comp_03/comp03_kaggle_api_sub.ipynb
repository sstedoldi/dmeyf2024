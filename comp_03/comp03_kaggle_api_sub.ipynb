{
 "cells": [
  {
   "cell_type": "markdown",
   "metadata": {},
   "source": [
    "## Entregas a Kaggle por API\n",
    "\n",
    "> Evaluación del umbral óptimo según puntaje público"
   ]
  },
  {
   "cell_type": "markdown",
   "metadata": {},
   "source": [
    "Debe correr con un entorno específico \"kaggle_env\""
   ]
  },
  {
   "cell_type": "code",
   "execution_count": 51,
   "metadata": {},
   "outputs": [],
   "source": [
    "# !pip install --upgrade pip setuptools\n",
    "# !pip install kaggle\n",
    "# !pip install requests\n",
    "# !pip install charset-normalizer\n",
    "# !pip install pandas\n",
    "# !pip install seaborn"
   ]
  },
  {
   "cell_type": "code",
   "execution_count": 52,
   "metadata": {},
   "outputs": [],
   "source": [
    "from kaggle.api.kaggle_api_extended import KaggleApi\n",
    "import pandas as pd\n",
    "import numpy as np\n",
    "import matplotlib.pyplot as plt\n",
    "# import seaborn as sns\n",
    "import time"
   ]
  },
  {
   "cell_type": "code",
   "execution_count": null,
   "metadata": {},
   "outputs": [
    {
     "data": {
      "text/html": [
       "<div>\n",
       "<style scoped>\n",
       "    .dataframe tbody tr th:only-of-type {\n",
       "        vertical-align: middle;\n",
       "    }\n",
       "\n",
       "    .dataframe tbody tr th {\n",
       "        vertical-align: top;\n",
       "    }\n",
       "\n",
       "    .dataframe thead th {\n",
       "        text-align: right;\n",
       "    }\n",
       "</style>\n",
       "<table border=\"1\" class=\"dataframe\">\n",
       "  <thead>\n",
       "    <tr style=\"text-align: right;\">\n",
       "      <th></th>\n",
       "      <th>client</th>\n",
       "      <th>proba_s217170</th>\n",
       "      <th>proba_s226775</th>\n",
       "      <th>proba_s236380</th>\n",
       "      <th>proba_s245985</th>\n",
       "      <th>proba_s255590</th>\n",
       "      <th>proba_s265195</th>\n",
       "      <th>proba_s274800</th>\n",
       "      <th>proba_s284405</th>\n",
       "      <th>proba_s294010</th>\n",
       "      <th>...</th>\n",
       "      <th>proba_s370850</th>\n",
       "      <th>proba_s380455</th>\n",
       "      <th>proba_s390060</th>\n",
       "      <th>proba_s399665</th>\n",
       "      <th>proba_s409270</th>\n",
       "      <th>proba_s418875</th>\n",
       "      <th>proba_s428480</th>\n",
       "      <th>proba_s438085</th>\n",
       "      <th>proba_s447690</th>\n",
       "      <th>pred</th>\n",
       "    </tr>\n",
       "  </thead>\n",
       "  <tbody>\n",
       "    <tr>\n",
       "      <th>0</th>\n",
       "      <td>563965491</td>\n",
       "      <td>0.000990</td>\n",
       "      <td>0.001111</td>\n",
       "      <td>0.001159</td>\n",
       "      <td>0.001290</td>\n",
       "      <td>0.001200</td>\n",
       "      <td>0.001157</td>\n",
       "      <td>0.001181</td>\n",
       "      <td>0.001000</td>\n",
       "      <td>0.001132</td>\n",
       "      <td>...</td>\n",
       "      <td>0.001428</td>\n",
       "      <td>0.001150</td>\n",
       "      <td>0.001054</td>\n",
       "      <td>0.001137</td>\n",
       "      <td>0.001022</td>\n",
       "      <td>0.001257</td>\n",
       "      <td>0.001030</td>\n",
       "      <td>0.001131</td>\n",
       "      <td>0.001059</td>\n",
       "      <td>0</td>\n",
       "    </tr>\n",
       "    <tr>\n",
       "      <th>1</th>\n",
       "      <td>549490342</td>\n",
       "      <td>0.001069</td>\n",
       "      <td>0.000947</td>\n",
       "      <td>0.001029</td>\n",
       "      <td>0.001047</td>\n",
       "      <td>0.000986</td>\n",
       "      <td>0.001098</td>\n",
       "      <td>0.000984</td>\n",
       "      <td>0.000971</td>\n",
       "      <td>0.000950</td>\n",
       "      <td>...</td>\n",
       "      <td>0.000988</td>\n",
       "      <td>0.001293</td>\n",
       "      <td>0.001061</td>\n",
       "      <td>0.001277</td>\n",
       "      <td>0.000969</td>\n",
       "      <td>0.001132</td>\n",
       "      <td>0.001081</td>\n",
       "      <td>0.000973</td>\n",
       "      <td>0.001054</td>\n",
       "      <td>0</td>\n",
       "    </tr>\n",
       "    <tr>\n",
       "      <th>2</th>\n",
       "      <td>683742283</td>\n",
       "      <td>0.000865</td>\n",
       "      <td>0.000822</td>\n",
       "      <td>0.000745</td>\n",
       "      <td>0.000805</td>\n",
       "      <td>0.000998</td>\n",
       "      <td>0.000862</td>\n",
       "      <td>0.000865</td>\n",
       "      <td>0.000831</td>\n",
       "      <td>0.000939</td>\n",
       "      <td>...</td>\n",
       "      <td>0.000849</td>\n",
       "      <td>0.000785</td>\n",
       "      <td>0.000835</td>\n",
       "      <td>0.001048</td>\n",
       "      <td>0.000734</td>\n",
       "      <td>0.000749</td>\n",
       "      <td>0.000787</td>\n",
       "      <td>0.000826</td>\n",
       "      <td>0.000745</td>\n",
       "      <td>0</td>\n",
       "    </tr>\n",
       "    <tr>\n",
       "      <th>3</th>\n",
       "      <td>281174976</td>\n",
       "      <td>0.000898</td>\n",
       "      <td>0.000847</td>\n",
       "      <td>0.000727</td>\n",
       "      <td>0.000994</td>\n",
       "      <td>0.001216</td>\n",
       "      <td>0.001045</td>\n",
       "      <td>0.000918</td>\n",
       "      <td>0.000898</td>\n",
       "      <td>0.001174</td>\n",
       "      <td>...</td>\n",
       "      <td>0.000923</td>\n",
       "      <td>0.000909</td>\n",
       "      <td>0.000860</td>\n",
       "      <td>0.000939</td>\n",
       "      <td>0.001053</td>\n",
       "      <td>0.000962</td>\n",
       "      <td>0.000837</td>\n",
       "      <td>0.000993</td>\n",
       "      <td>0.001146</td>\n",
       "      <td>0</td>\n",
       "    </tr>\n",
       "    <tr>\n",
       "      <th>4</th>\n",
       "      <td>725868971</td>\n",
       "      <td>0.000265</td>\n",
       "      <td>0.000245</td>\n",
       "      <td>0.000284</td>\n",
       "      <td>0.000251</td>\n",
       "      <td>0.000316</td>\n",
       "      <td>0.000247</td>\n",
       "      <td>0.000286</td>\n",
       "      <td>0.000235</td>\n",
       "      <td>0.000267</td>\n",
       "      <td>...</td>\n",
       "      <td>0.000230</td>\n",
       "      <td>0.000261</td>\n",
       "      <td>0.000246</td>\n",
       "      <td>0.000286</td>\n",
       "      <td>0.000272</td>\n",
       "      <td>0.000232</td>\n",
       "      <td>0.000293</td>\n",
       "      <td>0.000279</td>\n",
       "      <td>0.000273</td>\n",
       "      <td>0</td>\n",
       "    </tr>\n",
       "    <tr>\n",
       "      <th>...</th>\n",
       "      <td>...</td>\n",
       "      <td>...</td>\n",
       "      <td>...</td>\n",
       "      <td>...</td>\n",
       "      <td>...</td>\n",
       "      <td>...</td>\n",
       "      <td>...</td>\n",
       "      <td>...</td>\n",
       "      <td>...</td>\n",
       "      <td>...</td>\n",
       "      <td>...</td>\n",
       "      <td>...</td>\n",
       "      <td>...</td>\n",
       "      <td>...</td>\n",
       "      <td>...</td>\n",
       "      <td>...</td>\n",
       "      <td>...</td>\n",
       "      <td>...</td>\n",
       "      <td>...</td>\n",
       "      <td>...</td>\n",
       "      <td>...</td>\n",
       "    </tr>\n",
       "    <tr>\n",
       "      <th>165639</th>\n",
       "      <td>462836438</td>\n",
       "      <td>0.001088</td>\n",
       "      <td>0.000973</td>\n",
       "      <td>0.001008</td>\n",
       "      <td>0.000925</td>\n",
       "      <td>0.000849</td>\n",
       "      <td>0.000922</td>\n",
       "      <td>0.001014</td>\n",
       "      <td>0.000979</td>\n",
       "      <td>0.001023</td>\n",
       "      <td>...</td>\n",
       "      <td>0.000998</td>\n",
       "      <td>0.000922</td>\n",
       "      <td>0.000975</td>\n",
       "      <td>0.001012</td>\n",
       "      <td>0.000947</td>\n",
       "      <td>0.000876</td>\n",
       "      <td>0.001168</td>\n",
       "      <td>0.000848</td>\n",
       "      <td>0.000972</td>\n",
       "      <td>0</td>\n",
       "    </tr>\n",
       "    <tr>\n",
       "      <th>165640</th>\n",
       "      <td>251039253</td>\n",
       "      <td>0.000316</td>\n",
       "      <td>0.000297</td>\n",
       "      <td>0.000289</td>\n",
       "      <td>0.000247</td>\n",
       "      <td>0.000322</td>\n",
       "      <td>0.000331</td>\n",
       "      <td>0.000271</td>\n",
       "      <td>0.000286</td>\n",
       "      <td>0.000309</td>\n",
       "      <td>...</td>\n",
       "      <td>0.000309</td>\n",
       "      <td>0.000350</td>\n",
       "      <td>0.000276</td>\n",
       "      <td>0.000332</td>\n",
       "      <td>0.000313</td>\n",
       "      <td>0.000329</td>\n",
       "      <td>0.000277</td>\n",
       "      <td>0.000315</td>\n",
       "      <td>0.000303</td>\n",
       "      <td>0</td>\n",
       "    </tr>\n",
       "    <tr>\n",
       "      <th>165641</th>\n",
       "      <td>574092070</td>\n",
       "      <td>0.005709</td>\n",
       "      <td>0.005197</td>\n",
       "      <td>0.005850</td>\n",
       "      <td>0.005258</td>\n",
       "      <td>0.004790</td>\n",
       "      <td>0.006389</td>\n",
       "      <td>0.005437</td>\n",
       "      <td>0.004541</td>\n",
       "      <td>0.007107</td>\n",
       "      <td>...</td>\n",
       "      <td>0.006070</td>\n",
       "      <td>0.004869</td>\n",
       "      <td>0.004967</td>\n",
       "      <td>0.006194</td>\n",
       "      <td>0.005792</td>\n",
       "      <td>0.005889</td>\n",
       "      <td>0.004547</td>\n",
       "      <td>0.005683</td>\n",
       "      <td>0.005680</td>\n",
       "      <td>0</td>\n",
       "    </tr>\n",
       "    <tr>\n",
       "      <th>165642</th>\n",
       "      <td>850214863</td>\n",
       "      <td>0.000606</td>\n",
       "      <td>0.000552</td>\n",
       "      <td>0.000625</td>\n",
       "      <td>0.000543</td>\n",
       "      <td>0.000490</td>\n",
       "      <td>0.000538</td>\n",
       "      <td>0.000507</td>\n",
       "      <td>0.000439</td>\n",
       "      <td>0.000510</td>\n",
       "      <td>...</td>\n",
       "      <td>0.000533</td>\n",
       "      <td>0.000534</td>\n",
       "      <td>0.000584</td>\n",
       "      <td>0.000602</td>\n",
       "      <td>0.000483</td>\n",
       "      <td>0.000641</td>\n",
       "      <td>0.000536</td>\n",
       "      <td>0.000544</td>\n",
       "      <td>0.000515</td>\n",
       "      <td>0</td>\n",
       "    </tr>\n",
       "    <tr>\n",
       "      <th>165643</th>\n",
       "      <td>513498574</td>\n",
       "      <td>0.001408</td>\n",
       "      <td>0.001980</td>\n",
       "      <td>0.001721</td>\n",
       "      <td>0.001505</td>\n",
       "      <td>0.001754</td>\n",
       "      <td>0.001654</td>\n",
       "      <td>0.001540</td>\n",
       "      <td>0.001578</td>\n",
       "      <td>0.001423</td>\n",
       "      <td>...</td>\n",
       "      <td>0.001496</td>\n",
       "      <td>0.001545</td>\n",
       "      <td>0.001640</td>\n",
       "      <td>0.001608</td>\n",
       "      <td>0.001762</td>\n",
       "      <td>0.001552</td>\n",
       "      <td>0.001619</td>\n",
       "      <td>0.001452</td>\n",
       "      <td>0.001605</td>\n",
       "      <td>0</td>\n",
       "    </tr>\n",
       "  </tbody>\n",
       "</table>\n",
       "<p>165644 rows × 27 columns</p>\n",
       "</div>"
      ],
      "text/plain": [
       "           client  proba_s217170  proba_s226775  proba_s236380  proba_s245985  \\\n",
       "0       563965491       0.000990       0.001111       0.001159       0.001290   \n",
       "1       549490342       0.001069       0.000947       0.001029       0.001047   \n",
       "2       683742283       0.000865       0.000822       0.000745       0.000805   \n",
       "3       281174976       0.000898       0.000847       0.000727       0.000994   \n",
       "4       725868971       0.000265       0.000245       0.000284       0.000251   \n",
       "...           ...            ...            ...            ...            ...   \n",
       "165639  462836438       0.001088       0.000973       0.001008       0.000925   \n",
       "165640  251039253       0.000316       0.000297       0.000289       0.000247   \n",
       "165641  574092070       0.005709       0.005197       0.005850       0.005258   \n",
       "165642  850214863       0.000606       0.000552       0.000625       0.000543   \n",
       "165643  513498574       0.001408       0.001980       0.001721       0.001505   \n",
       "\n",
       "        proba_s255590  proba_s265195  proba_s274800  proba_s284405  \\\n",
       "0            0.001200       0.001157       0.001181       0.001000   \n",
       "1            0.000986       0.001098       0.000984       0.000971   \n",
       "2            0.000998       0.000862       0.000865       0.000831   \n",
       "3            0.001216       0.001045       0.000918       0.000898   \n",
       "4            0.000316       0.000247       0.000286       0.000235   \n",
       "...               ...            ...            ...            ...   \n",
       "165639       0.000849       0.000922       0.001014       0.000979   \n",
       "165640       0.000322       0.000331       0.000271       0.000286   \n",
       "165641       0.004790       0.006389       0.005437       0.004541   \n",
       "165642       0.000490       0.000538       0.000507       0.000439   \n",
       "165643       0.001754       0.001654       0.001540       0.001578   \n",
       "\n",
       "        proba_s294010  ...  proba_s370850  proba_s380455  proba_s390060  \\\n",
       "0            0.001132  ...       0.001428       0.001150       0.001054   \n",
       "1            0.000950  ...       0.000988       0.001293       0.001061   \n",
       "2            0.000939  ...       0.000849       0.000785       0.000835   \n",
       "3            0.001174  ...       0.000923       0.000909       0.000860   \n",
       "4            0.000267  ...       0.000230       0.000261       0.000246   \n",
       "...               ...  ...            ...            ...            ...   \n",
       "165639       0.001023  ...       0.000998       0.000922       0.000975   \n",
       "165640       0.000309  ...       0.000309       0.000350       0.000276   \n",
       "165641       0.007107  ...       0.006070       0.004869       0.004967   \n",
       "165642       0.000510  ...       0.000533       0.000534       0.000584   \n",
       "165643       0.001423  ...       0.001496       0.001545       0.001640   \n",
       "\n",
       "        proba_s399665  proba_s409270  proba_s418875  proba_s428480  \\\n",
       "0            0.001137       0.001022       0.001257       0.001030   \n",
       "1            0.001277       0.000969       0.001132       0.001081   \n",
       "2            0.001048       0.000734       0.000749       0.000787   \n",
       "3            0.000939       0.001053       0.000962       0.000837   \n",
       "4            0.000286       0.000272       0.000232       0.000293   \n",
       "...               ...            ...            ...            ...   \n",
       "165639       0.001012       0.000947       0.000876       0.001168   \n",
       "165640       0.000332       0.000313       0.000329       0.000277   \n",
       "165641       0.006194       0.005792       0.005889       0.004547   \n",
       "165642       0.000602       0.000483       0.000641       0.000536   \n",
       "165643       0.001608       0.001762       0.001552       0.001619   \n",
       "\n",
       "        proba_s438085  proba_s447690  pred  \n",
       "0            0.001131       0.001059     0  \n",
       "1            0.000973       0.001054     0  \n",
       "2            0.000826       0.000745     0  \n",
       "3            0.000993       0.001146     0  \n",
       "4            0.000279       0.000273     0  \n",
       "...               ...            ...   ...  \n",
       "165639       0.000848       0.000972     0  \n",
       "165640       0.000315       0.000303     0  \n",
       "165641       0.005683       0.005680     0  \n",
       "165642       0.000544       0.000515     0  \n",
       "165643       0.001452       0.001605     0  \n",
       "\n",
       "[165644 rows x 27 columns]"
      ]
     },
     "execution_count": 53,
     "metadata": {},
     "output_type": "execute_result"
    }
   ],
   "source": [
    "df_probas = pd.read_csv('predicciones/probas_pred_xgb_03_tr12_sem25_01T-12-202413-28-56.csv')\n",
    "\n",
    "df_probas.drop(columns='proba_sem_mean', inplace=True)\n",
    "\n",
    "numero_de_cliente = df_probas.client\n",
    "\n",
    "df_probas"
   ]
  },
  {
   "cell_type": "code",
   "execution_count": null,
   "metadata": {},
   "outputs": [
    {
     "name": "stdout",
     "output_type": "stream",
     "text": [
      "Enviando submission 7 con threshold 0.01650...\n"
     ]
    },
    {
     "name": "stderr",
     "output_type": "stream",
     "text": [
      "100%|██████████| 2.09M/2.09M [00:01<00:00, 1.34MB/s]\n"
     ]
    },
    {
     "name": "stdout",
     "output_type": "stream",
     "text": [
      "Esperando a que se califique la submission...\n",
      "Score obtenido: 124.377\n",
      "Enviando submission 7 con threshold 0.01683...\n"
     ]
    },
    {
     "name": "stderr",
     "output_type": "stream",
     "text": [
      "100%|██████████| 2.09M/2.09M [00:01<00:00, 1.33MB/s]\n"
     ]
    },
    {
     "name": "stdout",
     "output_type": "stream",
     "text": [
      "Esperando a que se califique la submission...\n",
      "Score obtenido: 122.978\n",
      "Enviando submission 7 con threshold 0.01717...\n"
     ]
    },
    {
     "name": "stderr",
     "output_type": "stream",
     "text": [
      "100%|██████████| 2.09M/2.09M [00:01<00:00, 1.38MB/s]\n"
     ]
    },
    {
     "name": "stdout",
     "output_type": "stream",
     "text": [
      "Esperando a que se califique la submission...\n",
      "Score obtenido: 124.517\n",
      "Enviando submission 7 con threshold 0.01750...\n"
     ]
    },
    {
     "name": "stderr",
     "output_type": "stream",
     "text": [
      "100%|██████████| 2.09M/2.09M [00:01<00:00, 1.32MB/s]\n"
     ]
    },
    {
     "name": "stdout",
     "output_type": "stream",
     "text": [
      "Esperando a que se califique la submission...\n",
      "Score obtenido: 125.777\n",
      "Enviando submission 7 con threshold 0.01783...\n"
     ]
    },
    {
     "name": "stderr",
     "output_type": "stream",
     "text": [
      "100%|██████████| 2.09M/2.09M [00:01<00:00, 1.32MB/s]\n"
     ]
    },
    {
     "name": "stdout",
     "output_type": "stream",
     "text": [
      "Esperando a que se califique la submission...\n",
      "Score obtenido: 127.107\n",
      "Enviando submission 7 con threshold 0.01817...\n"
     ]
    },
    {
     "name": "stderr",
     "output_type": "stream",
     "text": [
      "100%|██████████| 2.09M/2.09M [00:01<00:00, 1.31MB/s]\n"
     ]
    },
    {
     "name": "stdout",
     "output_type": "stream",
     "text": [
      "Esperando a que se califique la submission...\n",
      "Score obtenido: 128.437\n",
      "Enviando submission 7 con threshold 0.01850...\n"
     ]
    },
    {
     "name": "stderr",
     "output_type": "stream",
     "text": [
      "100%|██████████| 2.09M/2.09M [00:01<00:00, 1.30MB/s]\n"
     ]
    },
    {
     "name": "stdout",
     "output_type": "stream",
     "text": [
      "Esperando a que se califique la submission...\n",
      "Score obtenido: 127.037\n",
      "Enviando submission 7 con threshold 0.01883...\n"
     ]
    },
    {
     "name": "stderr",
     "output_type": "stream",
     "text": [
      "100%|██████████| 2.09M/2.09M [00:01<00:00, 1.33MB/s]\n"
     ]
    },
    {
     "name": "stdout",
     "output_type": "stream",
     "text": [
      "Esperando a que se califique la submission...\n",
      "Score obtenido: 128.437\n",
      "Enviando submission 7 con threshold 0.01917...\n"
     ]
    },
    {
     "name": "stderr",
     "output_type": "stream",
     "text": [
      "100%|██████████| 2.09M/2.09M [00:01<00:00, 1.33MB/s]\n"
     ]
    },
    {
     "name": "stdout",
     "output_type": "stream",
     "text": [
      "Esperando a que se califique la submission...\n",
      "Score obtenido: 126.897\n",
      "Enviando submission 7 con threshold 0.01950...\n"
     ]
    },
    {
     "name": "stderr",
     "output_type": "stream",
     "text": [
      "100%|██████████| 2.09M/2.09M [00:01<00:00, 1.37MB/s]\n"
     ]
    },
    {
     "name": "stdout",
     "output_type": "stream",
     "text": [
      "Esperando a que se califique la submission...\n",
      "Score obtenido: 128.647\n",
      "Enviando submission 8 con threshold 0.01650...\n"
     ]
    },
    {
     "name": "stderr",
     "output_type": "stream",
     "text": [
      "100%|██████████| 2.09M/2.09M [00:01<00:00, 1.30MB/s]\n"
     ]
    },
    {
     "name": "stdout",
     "output_type": "stream",
     "text": [
      "Esperando a que se califique la submission...\n",
      "Score obtenido: 124.098\n",
      "Enviando submission 8 con threshold 0.01683...\n"
     ]
    },
    {
     "name": "stderr",
     "output_type": "stream",
     "text": [
      "100%|██████████| 2.09M/2.09M [00:01<00:00, 1.37MB/s]\n"
     ]
    },
    {
     "name": "stdout",
     "output_type": "stream",
     "text": [
      "Esperando a que se califique la submission...\n",
      "Score obtenido: 122.978\n",
      "Enviando submission 8 con threshold 0.01717...\n"
     ]
    },
    {
     "name": "stderr",
     "output_type": "stream",
     "text": [
      "100%|██████████| 2.09M/2.09M [00:01<00:00, 1.38MB/s]\n"
     ]
    },
    {
     "name": "stdout",
     "output_type": "stream",
     "text": [
      "Esperando a que se califique la submission...\n",
      "Score obtenido: 124.237\n",
      "Enviando submission 8 con threshold 0.01750...\n"
     ]
    },
    {
     "name": "stderr",
     "output_type": "stream",
     "text": [
      "100%|██████████| 2.09M/2.09M [00:01<00:00, 1.35MB/s]\n"
     ]
    },
    {
     "name": "stdout",
     "output_type": "stream",
     "text": [
      "Esperando a que se califique la submission...\n",
      "Score obtenido: 125.847\n",
      "Enviando submission 8 con threshold 0.01783...\n"
     ]
    },
    {
     "name": "stderr",
     "output_type": "stream",
     "text": [
      "100%|██████████| 2.09M/2.09M [00:01<00:00, 1.31MB/s]\n"
     ]
    },
    {
     "name": "stdout",
     "output_type": "stream",
     "text": [
      "Esperando a que se califique la submission...\n",
      "Score obtenido: 127.107\n",
      "Enviando submission 8 con threshold 0.01817...\n"
     ]
    },
    {
     "name": "stderr",
     "output_type": "stream",
     "text": [
      "100%|██████████| 2.09M/2.09M [00:01<00:00, 1.32MB/s]\n"
     ]
    },
    {
     "name": "stdout",
     "output_type": "stream",
     "text": [
      "Esperando a que se califique la submission...\n",
      "Score obtenido: 125.777\n",
      "Enviando submission 8 con threshold 0.01850...\n"
     ]
    },
    {
     "name": "stderr",
     "output_type": "stream",
     "text": [
      "100%|██████████| 2.09M/2.09M [00:01<00:00, 1.37MB/s]\n"
     ]
    },
    {
     "name": "stdout",
     "output_type": "stream",
     "text": [
      "Esperando a que se califique la submission...\n",
      "Score obtenido: 127.177\n",
      "Enviando submission 8 con threshold 0.01883...\n"
     ]
    },
    {
     "name": "stderr",
     "output_type": "stream",
     "text": [
      "100%|██████████| 2.09M/2.09M [00:01<00:00, 1.30MB/s]\n"
     ]
    },
    {
     "name": "stdout",
     "output_type": "stream",
     "text": [
      "Esperando a que se califique la submission...\n",
      "Score obtenido: 128.367\n",
      "Enviando submission 8 con threshold 0.01917...\n"
     ]
    },
    {
     "name": "stderr",
     "output_type": "stream",
     "text": [
      "100%|██████████| 2.09M/2.09M [00:01<00:00, 1.32MB/s]\n"
     ]
    },
    {
     "name": "stdout",
     "output_type": "stream",
     "text": [
      "Esperando a que se califique la submission...\n",
      "Score obtenido: 130.047\n",
      "Enviando submission 8 con threshold 0.01950...\n"
     ]
    },
    {
     "name": "stderr",
     "output_type": "stream",
     "text": [
      "100%|██████████| 2.09M/2.09M [00:01<00:00, 1.29MB/s]\n"
     ]
    },
    {
     "name": "stdout",
     "output_type": "stream",
     "text": [
      "Esperando a que se califique la submission...\n",
      "Score obtenido: 128.577\n",
      "Enviando submission 9 con threshold 0.01650...\n"
     ]
    },
    {
     "name": "stderr",
     "output_type": "stream",
     "text": [
      "100%|██████████| 2.09M/2.09M [00:01<00:00, 1.30MB/s]\n"
     ]
    },
    {
     "name": "stdout",
     "output_type": "stream",
     "text": [
      "Esperando a que se califique la submission...\n",
      "Score obtenido: 121.158\n",
      "Enviando submission 9 con threshold 0.01683...\n"
     ]
    },
    {
     "name": "stderr",
     "output_type": "stream",
     "text": [
      "100%|██████████| 2.09M/2.09M [00:01<00:00, 1.28MB/s]\n"
     ]
    },
    {
     "name": "stdout",
     "output_type": "stream",
     "text": [
      "Esperando a que se califique la submission...\n",
      "Score obtenido: 123.188\n",
      "Enviando submission 9 con threshold 0.01717...\n"
     ]
    },
    {
     "name": "stderr",
     "output_type": "stream",
     "text": [
      "100%|██████████| 2.09M/2.09M [00:01<00:00, 1.33MB/s]\n"
     ]
    },
    {
     "name": "stdout",
     "output_type": "stream",
     "text": [
      "Esperando a que se califique la submission...\n",
      "Score obtenido: 124.587\n",
      "Enviando submission 9 con threshold 0.01750...\n"
     ]
    },
    {
     "name": "stderr",
     "output_type": "stream",
     "text": [
      "100%|██████████| 2.09M/2.09M [00:01<00:00, 1.32MB/s]\n"
     ]
    },
    {
     "name": "stdout",
     "output_type": "stream",
     "text": [
      "Esperando a que se califique la submission...\n",
      "Score obtenido: 126.197\n",
      "Enviando submission 9 con threshold 0.01783...\n"
     ]
    },
    {
     "name": "stderr",
     "output_type": "stream",
     "text": [
      "100%|██████████| 2.09M/2.09M [00:01<00:00, 1.37MB/s]\n"
     ]
    },
    {
     "name": "stdout",
     "output_type": "stream",
     "text": [
      "Esperando a que se califique la submission...\n",
      "Score obtenido: 127.457\n",
      "Enviando submission 9 con threshold 0.01817...\n"
     ]
    },
    {
     "name": "stderr",
     "output_type": "stream",
     "text": [
      "100%|██████████| 2.09M/2.09M [00:01<00:00, 1.29MB/s]\n"
     ]
    },
    {
     "name": "stdout",
     "output_type": "stream",
     "text": [
      "Esperando a que se califique la submission...\n",
      "Score obtenido: 125.637\n",
      "Enviando submission 9 con threshold 0.01850...\n"
     ]
    },
    {
     "name": "stderr",
     "output_type": "stream",
     "text": [
      "100%|██████████| 2.09M/2.09M [00:01<00:00, 1.41MB/s]\n"
     ]
    },
    {
     "name": "stdout",
     "output_type": "stream",
     "text": [
      "Esperando a que se califique la submission...\n",
      "Score obtenido: 126.967\n",
      "Enviando submission 9 con threshold 0.01883...\n"
     ]
    },
    {
     "name": "stderr",
     "output_type": "stream",
     "text": [
      "100%|██████████| 2.09M/2.09M [00:01<00:00, 1.35MB/s]\n"
     ]
    },
    {
     "name": "stdout",
     "output_type": "stream",
     "text": [
      "Esperando a que se califique la submission...\n",
      "Score obtenido: 125.357\n",
      "Enviando submission 9 con threshold 0.01917...\n"
     ]
    },
    {
     "name": "stderr",
     "output_type": "stream",
     "text": [
      "100%|██████████| 2.09M/2.09M [00:01<00:00, 1.38MB/s]\n"
     ]
    },
    {
     "name": "stdout",
     "output_type": "stream",
     "text": [
      "Esperando a que se califique la submission...\n",
      "Score obtenido: 126.687\n",
      "Enviando submission 9 con threshold 0.01950...\n"
     ]
    },
    {
     "name": "stderr",
     "output_type": "stream",
     "text": [
      "100%|██████████| 2.09M/2.09M [00:01<00:00, 1.35MB/s]\n"
     ]
    },
    {
     "name": "stdout",
     "output_type": "stream",
     "text": [
      "Esperando a que se califique la submission...\n",
      "Score obtenido: 128.577\n"
     ]
    }
   ],
   "source": [
    "proba_columns = df_probas.filter(regex='^proba_s').columns\n",
    "\n",
    "# Define 10 thresholds\n",
    "# thresholds = np.linspace(0.0145, 0.0175, 10)\n",
    "thresholds = np.linspace(0.0165, 0.0195, 10)\n",
    "\n",
    "# Initialize Kaggle API\n",
    "api = KaggleApi()\n",
    "api.authenticate()\n",
    "\n",
    "# Initialize lists to store results\n",
    "results = []\n",
    "\n",
    "# for i in range(8):\n",
    "for i in range(7,10):\n",
    "    # Bootstrap sampling of the 10 columns\n",
    "    sampled_cols = np.random.choice(proba_columns, size=10, replace=True)\n",
    "    # Compute mean probability for each client\n",
    "    proba_mean = df_probas[sampled_cols].mean(axis=1)\n",
    "    \n",
    "    # Iterate over thresholds and calculate predictions\n",
    "    for umbral in thresholds:\n",
    "        # Calculate predictions\n",
    "        pred = np.where(proba_mean >= umbral, 1, 0)\n",
    "        positive_count = np.sum(pred)\n",
    "        \n",
    "        # Form the submission DataFrame\n",
    "        submission = pd.DataFrame({\n",
    "            'numero_de_cliente': df_probas['client'].values,\n",
    "            'Predicted': pred\n",
    "        })\n",
    "        \n",
    "        # Save the submission file\n",
    "        submission_file = f'xgb_comp02_{umbral:.5f}.csv'\n",
    "        submission.to_csv(submission_file, index=False)\n",
    "        \n",
    "        # Prepare submission description and competition name\n",
    "        description_sub = f'Envio {i} xgb comp02 con threshold {umbral:.5f}'\n",
    "        competition_name = 'dm-ey-f-2024-tercera'\n",
    "        \n",
    "        # Send the submission to Kaggle\n",
    "        print(f\"Enviando submission {i} con threshold {umbral:.5f}...\")\n",
    "        api.competition_submit(submission_file, description_sub, competition_name)\n",
    "        \n",
    "        # Wait for the submission to be scored\n",
    "        print(\"Esperando a que se califique la submission...\")\n",
    "        time.sleep(10)  # Adjust as needed\n",
    "        \n",
    "        # Try to get the score\n",
    "        score_kaggle = None\n",
    "        max_wait_time = 30  # Maximum wait time in seconds\n",
    "        wait_interval = 5  # Time between checks\n",
    "        total_waited = 0\n",
    "        \n",
    "        while total_waited < max_wait_time:\n",
    "            # Get the list of submissions\n",
    "            submissions = api.competition_submissions(competition_name)\n",
    "            # Filter submissions by description\n",
    "            matching_submissions = [s for s in submissions if s.description == description_sub]\n",
    "            if matching_submissions:\n",
    "                last_submission = matching_submissions[0]\n",
    "                public_score = last_submission.publicScore\n",
    "                if public_score not in (None, 'None', '--'):\n",
    "                    try:\n",
    "                        score_kaggle = float(public_score)\n",
    "                        print(f\"Score obtenido: {score_kaggle}\")\n",
    "                        break  # Exit loop once score is obtained\n",
    "                    except ValueError:\n",
    "                        print(f\"No se pudo convertir publicScore a float: {public_score}\")\n",
    "                else:\n",
    "                    print(\"La submission aún no ha sido calificada. Esperando...\")\n",
    "            else:\n",
    "                print(\"No se encontró la submission en la lista de submissions. Esperando...\")\n",
    "            time.sleep(wait_interval)\n",
    "            total_waited += wait_interval\n",
    "        \n",
    "        if score_kaggle is None:\n",
    "            print(\"No se obtuvo el score dentro del tiempo máximo de espera.\")\n",
    "        \n",
    "        # Store results\n",
    "        results.append({\n",
    "            'iteration': i,\n",
    "            'threshold': umbral,\n",
    "            'positive_count': positive_count,\n",
    "            'score_kaggle': score_kaggle\n",
    "        })\n",
    "        \n",
    "        # Wait before next iteration to avoid server overload\n",
    "        time.sleep(3)\n",
    "\n",
    "# Convert results to DataFrame\n",
    "kaggle_results = pd.DataFrame(results)"
   ]
  },
  {
   "cell_type": "markdown",
   "metadata": {},
   "source": [
    "En una corrida parcial, se probaron umbrales un poco más bajas, con semilleríos de a 7 semillas.\n",
    "\n",
    "Se juntan ambos resultados, para analizar los umbrales y los estímulos óptimos de ambas corridas."
   ]
  },
  {
   "cell_type": "code",
   "execution_count": null,
   "metadata": {},
   "outputs": [
    {
     "data": {
      "text/html": [
       "<div>\n",
       "<style scoped>\n",
       "    .dataframe tbody tr th:only-of-type {\n",
       "        vertical-align: middle;\n",
       "    }\n",
       "\n",
       "    .dataframe tbody tr th {\n",
       "        vertical-align: top;\n",
       "    }\n",
       "\n",
       "    .dataframe thead th {\n",
       "        text-align: right;\n",
       "    }\n",
       "</style>\n",
       "<table border=\"1\" class=\"dataframe\">\n",
       "  <thead>\n",
       "    <tr style=\"text-align: right;\">\n",
       "      <th></th>\n",
       "      <th>iteration</th>\n",
       "      <th>threshold</th>\n",
       "      <th>positive_count</th>\n",
       "      <th>score_kaggle</th>\n",
       "    </tr>\n",
       "  </thead>\n",
       "  <tbody>\n",
       "    <tr>\n",
       "      <th>0</th>\n",
       "      <td>0</td>\n",
       "      <td>0.014500</td>\n",
       "      <td>14564</td>\n",
       "      <td>119.758</td>\n",
       "    </tr>\n",
       "    <tr>\n",
       "      <th>1</th>\n",
       "      <td>0</td>\n",
       "      <td>0.014833</td>\n",
       "      <td>14305</td>\n",
       "      <td>121.928</td>\n",
       "    </tr>\n",
       "    <tr>\n",
       "      <th>2</th>\n",
       "      <td>0</td>\n",
       "      <td>0.015167</td>\n",
       "      <td>14054</td>\n",
       "      <td>120.598</td>\n",
       "    </tr>\n",
       "    <tr>\n",
       "      <th>3</th>\n",
       "      <td>0</td>\n",
       "      <td>0.015500</td>\n",
       "      <td>13816</td>\n",
       "      <td>122.768</td>\n",
       "    </tr>\n",
       "    <tr>\n",
       "      <th>4</th>\n",
       "      <td>0</td>\n",
       "      <td>0.015833</td>\n",
       "      <td>13586</td>\n",
       "      <td>124.028</td>\n",
       "    </tr>\n",
       "    <tr>\n",
       "      <th>...</th>\n",
       "      <td>...</td>\n",
       "      <td>...</td>\n",
       "      <td>...</td>\n",
       "      <td>...</td>\n",
       "    </tr>\n",
       "    <tr>\n",
       "      <th>25</th>\n",
       "      <td>9</td>\n",
       "      <td>0.018167</td>\n",
       "      <td>12203</td>\n",
       "      <td>125.637</td>\n",
       "    </tr>\n",
       "    <tr>\n",
       "      <th>26</th>\n",
       "      <td>9</td>\n",
       "      <td>0.018500</td>\n",
       "      <td>12027</td>\n",
       "      <td>126.967</td>\n",
       "    </tr>\n",
       "    <tr>\n",
       "      <th>27</th>\n",
       "      <td>9</td>\n",
       "      <td>0.018833</td>\n",
       "      <td>11848</td>\n",
       "      <td>125.357</td>\n",
       "    </tr>\n",
       "    <tr>\n",
       "      <th>28</th>\n",
       "      <td>9</td>\n",
       "      <td>0.019167</td>\n",
       "      <td>11680</td>\n",
       "      <td>126.687</td>\n",
       "    </tr>\n",
       "    <tr>\n",
       "      <th>29</th>\n",
       "      <td>9</td>\n",
       "      <td>0.019500</td>\n",
       "      <td>11517</td>\n",
       "      <td>128.577</td>\n",
       "    </tr>\n",
       "  </tbody>\n",
       "</table>\n",
       "<p>94 rows × 4 columns</p>\n",
       "</div>"
      ],
      "text/plain": [
       "    iteration  threshold  positive_count  score_kaggle\n",
       "0           0   0.014500           14564       119.758\n",
       "1           0   0.014833           14305       121.928\n",
       "2           0   0.015167           14054       120.598\n",
       "3           0   0.015500           13816       122.768\n",
       "4           0   0.015833           13586       124.028\n",
       "..        ...        ...             ...           ...\n",
       "25          9   0.018167           12203       125.637\n",
       "26          9   0.018500           12027       126.967\n",
       "27          9   0.018833           11848       125.357\n",
       "28          9   0.019167           11680       126.687\n",
       "29          9   0.019500           11517       128.577\n",
       "\n",
       "[94 rows x 4 columns]"
      ]
     },
     "execution_count": 70,
     "metadata": {},
     "output_type": "execute_result"
    }
   ],
   "source": [
    "kaggle_results_p = pd.read_csv('predicciones/envios_kaggle_xgb_03_tr12_sem25_parcial1.csv',\n",
    "                               index_col=0)\n",
    "\n",
    "kaggle_results = pd.concat([kaggle_results,kaggle_results_p])"
   ]
  },
  {
   "cell_type": "code",
   "execution_count": 73,
   "metadata": {},
   "outputs": [],
   "source": [
    "# Preparing to plot\n",
    "# Pivot the DataFrame to have iterations as columns\n",
    "score_pivot = kaggle_results.pivot(index='threshold', columns='iteration', values='score_kaggle')\n",
    "score_pivot.columns = [f'score_kaggle_{col}' for col in score_pivot.columns]\n",
    "\n",
    "stimuli_pivot = kaggle_results.pivot(index='threshold', columns='iteration', values='positive_count')\n",
    "stimuli_pivot.columns = [f'positive_count_{col}' for col in stimuli_pivot.columns]"
   ]
  },
  {
   "cell_type": "code",
   "execution_count": 77,
   "metadata": {},
   "outputs": [
    {
     "data": {
      "text/html": [
       "<div>\n",
       "<style scoped>\n",
       "    .dataframe tbody tr th:only-of-type {\n",
       "        vertical-align: middle;\n",
       "    }\n",
       "\n",
       "    .dataframe tbody tr th {\n",
       "        vertical-align: top;\n",
       "    }\n",
       "\n",
       "    .dataframe thead th {\n",
       "        text-align: right;\n",
       "    }\n",
       "</style>\n",
       "<table border=\"1\" class=\"dataframe\">\n",
       "  <thead>\n",
       "    <tr style=\"text-align: right;\">\n",
       "      <th></th>\n",
       "      <th>score_kaggle_0</th>\n",
       "      <th>score_kaggle_1</th>\n",
       "      <th>score_kaggle_2</th>\n",
       "      <th>score_kaggle_3</th>\n",
       "      <th>score_kaggle_4</th>\n",
       "      <th>score_kaggle_5</th>\n",
       "      <th>score_kaggle_6</th>\n",
       "      <th>score_kaggle_7</th>\n",
       "      <th>score_kaggle_8</th>\n",
       "      <th>score_kaggle_9</th>\n",
       "    </tr>\n",
       "    <tr>\n",
       "      <th>threshold</th>\n",
       "      <th></th>\n",
       "      <th></th>\n",
       "      <th></th>\n",
       "      <th></th>\n",
       "      <th></th>\n",
       "      <th></th>\n",
       "      <th></th>\n",
       "      <th></th>\n",
       "      <th></th>\n",
       "      <th></th>\n",
       "    </tr>\n",
       "  </thead>\n",
       "  <tbody>\n",
       "    <tr>\n",
       "      <th>0.014500</th>\n",
       "      <td>119.758</td>\n",
       "      <td>119.478</td>\n",
       "      <td>120.178</td>\n",
       "      <td>119.828</td>\n",
       "      <td>116.818</td>\n",
       "      <td>116.888</td>\n",
       "      <td>117.168</td>\n",
       "      <td>NaN</td>\n",
       "      <td>NaN</td>\n",
       "      <td>NaN</td>\n",
       "    </tr>\n",
       "    <tr>\n",
       "      <th>0.014833</th>\n",
       "      <td>121.928</td>\n",
       "      <td>121.648</td>\n",
       "      <td>119.268</td>\n",
       "      <td>122.558</td>\n",
       "      <td>119.058</td>\n",
       "      <td>118.988</td>\n",
       "      <td>119.618</td>\n",
       "      <td>NaN</td>\n",
       "      <td>NaN</td>\n",
       "      <td>NaN</td>\n",
       "    </tr>\n",
       "    <tr>\n",
       "      <th>0.015167</th>\n",
       "      <td>120.598</td>\n",
       "      <td>121.368</td>\n",
       "      <td>121.228</td>\n",
       "      <td>121.648</td>\n",
       "      <td>121.438</td>\n",
       "      <td>121.438</td>\n",
       "      <td>121.438</td>\n",
       "      <td>NaN</td>\n",
       "      <td>NaN</td>\n",
       "      <td>NaN</td>\n",
       "    </tr>\n",
       "    <tr>\n",
       "      <th>0.015500</th>\n",
       "      <td>122.768</td>\n",
       "      <td>123.188</td>\n",
       "      <td>122.628</td>\n",
       "      <td>123.398</td>\n",
       "      <td>123.258</td>\n",
       "      <td>123.188</td>\n",
       "      <td>122.698</td>\n",
       "      <td>NaN</td>\n",
       "      <td>NaN</td>\n",
       "      <td>NaN</td>\n",
       "    </tr>\n",
       "    <tr>\n",
       "      <th>0.015833</th>\n",
       "      <td>124.028</td>\n",
       "      <td>124.307</td>\n",
       "      <td>123.818</td>\n",
       "      <td>124.587</td>\n",
       "      <td>121.578</td>\n",
       "      <td>124.657</td>\n",
       "      <td>NaN</td>\n",
       "      <td>NaN</td>\n",
       "      <td>NaN</td>\n",
       "      <td>NaN</td>\n",
       "    </tr>\n",
       "  </tbody>\n",
       "</table>\n",
       "</div>"
      ],
      "text/plain": [
       "           score_kaggle_0  score_kaggle_1  score_kaggle_2  score_kaggle_3  \\\n",
       "threshold                                                                   \n",
       "0.014500          119.758         119.478         120.178         119.828   \n",
       "0.014833          121.928         121.648         119.268         122.558   \n",
       "0.015167          120.598         121.368         121.228         121.648   \n",
       "0.015500          122.768         123.188         122.628         123.398   \n",
       "0.015833          124.028         124.307         123.818         124.587   \n",
       "\n",
       "           score_kaggle_4  score_kaggle_5  score_kaggle_6  score_kaggle_7  \\\n",
       "threshold                                                                   \n",
       "0.014500          116.818         116.888         117.168             NaN   \n",
       "0.014833          119.058         118.988         119.618             NaN   \n",
       "0.015167          121.438         121.438         121.438             NaN   \n",
       "0.015500          123.258         123.188         122.698             NaN   \n",
       "0.015833          121.578         124.657             NaN             NaN   \n",
       "\n",
       "           score_kaggle_8  score_kaggle_9  \n",
       "threshold                                  \n",
       "0.014500              NaN             NaN  \n",
       "0.014833              NaN             NaN  \n",
       "0.015167              NaN             NaN  \n",
       "0.015500              NaN             NaN  \n",
       "0.015833              NaN             NaN  "
      ]
     },
     "execution_count": 77,
     "metadata": {},
     "output_type": "execute_result"
    }
   ],
   "source": [
    "score_pivot.head()"
   ]
  },
  {
   "cell_type": "code",
   "execution_count": 78,
   "metadata": {},
   "outputs": [
    {
     "data": {
      "text/html": [
       "<div>\n",
       "<style scoped>\n",
       "    .dataframe tbody tr th:only-of-type {\n",
       "        vertical-align: middle;\n",
       "    }\n",
       "\n",
       "    .dataframe tbody tr th {\n",
       "        vertical-align: top;\n",
       "    }\n",
       "\n",
       "    .dataframe thead th {\n",
       "        text-align: right;\n",
       "    }\n",
       "</style>\n",
       "<table border=\"1\" class=\"dataframe\">\n",
       "  <thead>\n",
       "    <tr style=\"text-align: right;\">\n",
       "      <th></th>\n",
       "      <th>positive_count_0</th>\n",
       "      <th>positive_count_1</th>\n",
       "      <th>positive_count_2</th>\n",
       "      <th>positive_count_3</th>\n",
       "      <th>positive_count_4</th>\n",
       "      <th>positive_count_5</th>\n",
       "      <th>positive_count_6</th>\n",
       "      <th>positive_count_7</th>\n",
       "      <th>positive_count_8</th>\n",
       "      <th>positive_count_9</th>\n",
       "    </tr>\n",
       "    <tr>\n",
       "      <th>threshold</th>\n",
       "      <th></th>\n",
       "      <th></th>\n",
       "      <th></th>\n",
       "      <th></th>\n",
       "      <th></th>\n",
       "      <th></th>\n",
       "      <th></th>\n",
       "      <th></th>\n",
       "      <th></th>\n",
       "      <th></th>\n",
       "    </tr>\n",
       "  </thead>\n",
       "  <tbody>\n",
       "    <tr>\n",
       "      <th>0.014500</th>\n",
       "      <td>14564.0</td>\n",
       "      <td>14600.0</td>\n",
       "      <td>14571.0</td>\n",
       "      <td>14569.0</td>\n",
       "      <td>14573.0</td>\n",
       "      <td>14572.0</td>\n",
       "      <td>14559.0</td>\n",
       "      <td>NaN</td>\n",
       "      <td>NaN</td>\n",
       "      <td>NaN</td>\n",
       "    </tr>\n",
       "    <tr>\n",
       "      <th>0.014833</th>\n",
       "      <td>14305.0</td>\n",
       "      <td>14298.0</td>\n",
       "      <td>14325.0</td>\n",
       "      <td>14297.0</td>\n",
       "      <td>14297.0</td>\n",
       "      <td>14298.0</td>\n",
       "      <td>14286.0</td>\n",
       "      <td>NaN</td>\n",
       "      <td>NaN</td>\n",
       "      <td>NaN</td>\n",
       "    </tr>\n",
       "    <tr>\n",
       "      <th>0.015167</th>\n",
       "      <td>14054.0</td>\n",
       "      <td>14058.0</td>\n",
       "      <td>14050.0</td>\n",
       "      <td>14050.0</td>\n",
       "      <td>14023.0</td>\n",
       "      <td>14023.0</td>\n",
       "      <td>14040.0</td>\n",
       "      <td>NaN</td>\n",
       "      <td>NaN</td>\n",
       "      <td>NaN</td>\n",
       "    </tr>\n",
       "    <tr>\n",
       "      <th>0.015500</th>\n",
       "      <td>13816.0</td>\n",
       "      <td>13801.0</td>\n",
       "      <td>13811.0</td>\n",
       "      <td>13837.0</td>\n",
       "      <td>13789.0</td>\n",
       "      <td>13787.0</td>\n",
       "      <td>13814.0</td>\n",
       "      <td>NaN</td>\n",
       "      <td>NaN</td>\n",
       "      <td>NaN</td>\n",
       "    </tr>\n",
       "    <tr>\n",
       "      <th>0.015833</th>\n",
       "      <td>13586.0</td>\n",
       "      <td>13582.0</td>\n",
       "      <td>13615.0</td>\n",
       "      <td>13612.0</td>\n",
       "      <td>13583.0</td>\n",
       "      <td>13587.0</td>\n",
       "      <td>NaN</td>\n",
       "      <td>NaN</td>\n",
       "      <td>NaN</td>\n",
       "      <td>NaN</td>\n",
       "    </tr>\n",
       "  </tbody>\n",
       "</table>\n",
       "</div>"
      ],
      "text/plain": [
       "           positive_count_0  positive_count_1  positive_count_2  \\\n",
       "threshold                                                         \n",
       "0.014500            14564.0           14600.0           14571.0   \n",
       "0.014833            14305.0           14298.0           14325.0   \n",
       "0.015167            14054.0           14058.0           14050.0   \n",
       "0.015500            13816.0           13801.0           13811.0   \n",
       "0.015833            13586.0           13582.0           13615.0   \n",
       "\n",
       "           positive_count_3  positive_count_4  positive_count_5  \\\n",
       "threshold                                                         \n",
       "0.014500            14569.0           14573.0           14572.0   \n",
       "0.014833            14297.0           14297.0           14298.0   \n",
       "0.015167            14050.0           14023.0           14023.0   \n",
       "0.015500            13837.0           13789.0           13787.0   \n",
       "0.015833            13612.0           13583.0           13587.0   \n",
       "\n",
       "           positive_count_6  positive_count_7  positive_count_8  \\\n",
       "threshold                                                         \n",
       "0.014500            14559.0               NaN               NaN   \n",
       "0.014833            14286.0               NaN               NaN   \n",
       "0.015167            14040.0               NaN               NaN   \n",
       "0.015500            13814.0               NaN               NaN   \n",
       "0.015833                NaN               NaN               NaN   \n",
       "\n",
       "           positive_count_9  \n",
       "threshold                    \n",
       "0.014500                NaN  \n",
       "0.014833                NaN  \n",
       "0.015167                NaN  \n",
       "0.015500                NaN  \n",
       "0.015833                NaN  "
      ]
     },
     "execution_count": 78,
     "metadata": {},
     "output_type": "execute_result"
    }
   ],
   "source": [
    "stimuli_pivot.head()"
   ]
  },
  {
   "cell_type": "code",
   "execution_count": 76,
   "metadata": {},
   "outputs": [
    {
     "data": {
      "image/png": "[encoded data removed]",
      "text/plain": [
       "<Figure size 1000x600 with 1 Axes>"
      ]
     },
     "metadata": {},
     "output_type": "display_data"
    },
    {
     "data": {
      "image/png": "[encoded data removed]",
      "text/plain": [
       "<Figure size 1000x600 with 1 Axes>"
      ]
     },
     "metadata": {},
     "output_type": "display_data"
    }
   ],
   "source": [
    "# Plotting Score vs Threshold\n",
    "fig, ax1 = plt.subplots(figsize=(10, 6))\n",
    "\n",
    "# Plot each iteration in gray\n",
    "for col in score_pivot.columns:\n",
    "    ax1.plot(score_pivot.index, score_pivot[col], color='gray', alpha=0.5)\n",
    "\n",
    "# Calculate and plot average score\n",
    "score_avg = score_pivot.mean(axis=1)\n",
    "ax1.plot(score_pivot.index, score_avg, label='Score Promedio', color='black', linestyle='--')\n",
    "\n",
    "# Highlight maximum average score\n",
    "max_score_idx = score_avg.idxmax()\n",
    "max_score_threshold = max_score_idx\n",
    "max_score = score_avg.loc[max_score_idx]\n",
    "\n",
    "ax1.scatter(max_score_threshold, max_score, color='red', zorder=5)\n",
    "ax1.annotate(f\"Max Score: {max_score:.5f}\\nThresh: {max_score_threshold:.5f}\", \n",
    "             (max_score_threshold, max_score), textcoords=\"offset points\", xytext=(0,-20), ha='center')\n",
    "\n",
    "ax1.set_xlabel('Threshold')\n",
    "ax1.set_ylabel('Score Kaggle')\n",
    "ax1.legend()\n",
    "plt.title('Score Kaggle vs Threshold para cada Iteración')\n",
    "plt.show()\n",
    "\n",
    "# Plotting Score vs Positive Count (Stimuli)\n",
    "fig, ax2 = plt.subplots(figsize=(10, 6))\n",
    "\n",
    "# Plot each iteration in gray\n",
    "for col_score, col_stimuli in zip(score_pivot.columns, stimuli_pivot.columns):\n",
    "    ax2.plot(stimuli_pivot[col_stimuli], score_pivot[col_score], color='gray', alpha=0.5)\n",
    "\n",
    "# Calculate and plot average score vs average stimuli\n",
    "stimuli_avg = stimuli_pivot.mean(axis=1)\n",
    "ax2.plot(stimuli_avg, score_avg, label='Promedio', color='black', linestyle='--')\n",
    "\n",
    "# Highlight maximum average score\n",
    "max_score_stimuli = stimuli_avg.loc[max_score_idx]\n",
    "\n",
    "ax2.scatter(max_score_stimuli, max_score, color='red', zorder=5)\n",
    "ax2.annotate(f\"Max Score: {max_score:.5f}\\nStimuli: {max_score_stimuli}\", \n",
    "             (max_score_stimuli, max_score), textcoords=\"offset points\", xytext=(0,-20), ha='center')\n",
    "\n",
    "ax2.set_xlabel('Cantidad de Estímulos')\n",
    "ax2.set_ylabel('Score Kaggle')\n",
    "ax2.legend()\n",
    "plt.title('Score Kaggle vs Cantidad de Estímulos para cada Iteración')\n",
    "plt.show()"
   ]
  },
  {
   "cell_type": "markdown",
   "metadata": {},
   "source": [
    "> CONCLUSION:\n",
    "\n",
    "Parece que un umbral cercano a 0.019, con alrededor de 11500 estímulos, es óptimo para este modelo."
   ]
  },
  {
   "cell_type": "code",
   "execution_count": 79,
   "metadata": {},
   "outputs": [
    {
     "data": {
      "text/html": [
       "<div>\n",
       "<style scoped>\n",
       "    .dataframe tbody tr th:only-of-type {\n",
       "        vertical-align: middle;\n",
       "    }\n",
       "\n",
       "    .dataframe tbody tr th {\n",
       "        vertical-align: top;\n",
       "    }\n",
       "\n",
       "    .dataframe thead th {\n",
       "        text-align: right;\n",
       "    }\n",
       "</style>\n",
       "<table border=\"1\" class=\"dataframe\">\n",
       "  <thead>\n",
       "    <tr style=\"text-align: right;\">\n",
       "      <th></th>\n",
       "      <th>client</th>\n",
       "      <th>proba_s217170</th>\n",
       "      <th>proba_s226775</th>\n",
       "      <th>proba_s236380</th>\n",
       "      <th>proba_s245985</th>\n",
       "      <th>proba_s255590</th>\n",
       "      <th>proba_s265195</th>\n",
       "      <th>proba_s274800</th>\n",
       "      <th>proba_s284405</th>\n",
       "      <th>proba_s294010</th>\n",
       "      <th>...</th>\n",
       "      <th>proba_s380455</th>\n",
       "      <th>proba_s390060</th>\n",
       "      <th>proba_s399665</th>\n",
       "      <th>proba_s409270</th>\n",
       "      <th>proba_s418875</th>\n",
       "      <th>proba_s428480</th>\n",
       "      <th>proba_s438085</th>\n",
       "      <th>proba_s447690</th>\n",
       "      <th>pred</th>\n",
       "      <th>proba_sem_mean</th>\n",
       "    </tr>\n",
       "  </thead>\n",
       "  <tbody>\n",
       "    <tr>\n",
       "      <th>0</th>\n",
       "      <td>563965491</td>\n",
       "      <td>0.000990</td>\n",
       "      <td>0.001111</td>\n",
       "      <td>0.001159</td>\n",
       "      <td>0.001290</td>\n",
       "      <td>0.001200</td>\n",
       "      <td>0.001157</td>\n",
       "      <td>0.001181</td>\n",
       "      <td>0.001000</td>\n",
       "      <td>0.001132</td>\n",
       "      <td>...</td>\n",
       "      <td>0.001150</td>\n",
       "      <td>0.001054</td>\n",
       "      <td>0.001137</td>\n",
       "      <td>0.001022</td>\n",
       "      <td>0.001257</td>\n",
       "      <td>0.001030</td>\n",
       "      <td>0.001131</td>\n",
       "      <td>0.001059</td>\n",
       "      <td>0</td>\n",
       "      <td>0.001150</td>\n",
       "    </tr>\n",
       "    <tr>\n",
       "      <th>1</th>\n",
       "      <td>549490342</td>\n",
       "      <td>0.001069</td>\n",
       "      <td>0.000947</td>\n",
       "      <td>0.001029</td>\n",
       "      <td>0.001047</td>\n",
       "      <td>0.000986</td>\n",
       "      <td>0.001098</td>\n",
       "      <td>0.000984</td>\n",
       "      <td>0.000971</td>\n",
       "      <td>0.000950</td>\n",
       "      <td>...</td>\n",
       "      <td>0.001293</td>\n",
       "      <td>0.001061</td>\n",
       "      <td>0.001277</td>\n",
       "      <td>0.000969</td>\n",
       "      <td>0.001132</td>\n",
       "      <td>0.001081</td>\n",
       "      <td>0.000973</td>\n",
       "      <td>0.001054</td>\n",
       "      <td>0</td>\n",
       "      <td>0.001036</td>\n",
       "    </tr>\n",
       "    <tr>\n",
       "      <th>2</th>\n",
       "      <td>683742283</td>\n",
       "      <td>0.000865</td>\n",
       "      <td>0.000822</td>\n",
       "      <td>0.000745</td>\n",
       "      <td>0.000805</td>\n",
       "      <td>0.000998</td>\n",
       "      <td>0.000862</td>\n",
       "      <td>0.000865</td>\n",
       "      <td>0.000831</td>\n",
       "      <td>0.000939</td>\n",
       "      <td>...</td>\n",
       "      <td>0.000785</td>\n",
       "      <td>0.000835</td>\n",
       "      <td>0.001048</td>\n",
       "      <td>0.000734</td>\n",
       "      <td>0.000749</td>\n",
       "      <td>0.000787</td>\n",
       "      <td>0.000826</td>\n",
       "      <td>0.000745</td>\n",
       "      <td>0</td>\n",
       "      <td>0.000839</td>\n",
       "    </tr>\n",
       "    <tr>\n",
       "      <th>3</th>\n",
       "      <td>281174976</td>\n",
       "      <td>0.000898</td>\n",
       "      <td>0.000847</td>\n",
       "      <td>0.000727</td>\n",
       "      <td>0.000994</td>\n",
       "      <td>0.001216</td>\n",
       "      <td>0.001045</td>\n",
       "      <td>0.000918</td>\n",
       "      <td>0.000898</td>\n",
       "      <td>0.001174</td>\n",
       "      <td>...</td>\n",
       "      <td>0.000909</td>\n",
       "      <td>0.000860</td>\n",
       "      <td>0.000939</td>\n",
       "      <td>0.001053</td>\n",
       "      <td>0.000962</td>\n",
       "      <td>0.000837</td>\n",
       "      <td>0.000993</td>\n",
       "      <td>0.001146</td>\n",
       "      <td>0</td>\n",
       "      <td>0.000958</td>\n",
       "    </tr>\n",
       "    <tr>\n",
       "      <th>4</th>\n",
       "      <td>725868971</td>\n",
       "      <td>0.000265</td>\n",
       "      <td>0.000245</td>\n",
       "      <td>0.000284</td>\n",
       "      <td>0.000251</td>\n",
       "      <td>0.000316</td>\n",
       "      <td>0.000247</td>\n",
       "      <td>0.000286</td>\n",
       "      <td>0.000235</td>\n",
       "      <td>0.000267</td>\n",
       "      <td>...</td>\n",
       "      <td>0.000261</td>\n",
       "      <td>0.000246</td>\n",
       "      <td>0.000286</td>\n",
       "      <td>0.000272</td>\n",
       "      <td>0.000232</td>\n",
       "      <td>0.000293</td>\n",
       "      <td>0.000279</td>\n",
       "      <td>0.000273</td>\n",
       "      <td>0</td>\n",
       "      <td>0.000263</td>\n",
       "    </tr>\n",
       "  </tbody>\n",
       "</table>\n",
       "<p>5 rows × 28 columns</p>\n",
       "</div>"
      ],
      "text/plain": [
       "      client  proba_s217170  proba_s226775  proba_s236380  proba_s245985  \\\n",
       "0  563965491       0.000990       0.001111       0.001159       0.001290   \n",
       "1  549490342       0.001069       0.000947       0.001029       0.001047   \n",
       "2  683742283       0.000865       0.000822       0.000745       0.000805   \n",
       "3  281174976       0.000898       0.000847       0.000727       0.000994   \n",
       "4  725868971       0.000265       0.000245       0.000284       0.000251   \n",
       "\n",
       "   proba_s255590  proba_s265195  proba_s274800  proba_s284405  proba_s294010  \\\n",
       "0       0.001200       0.001157       0.001181       0.001000       0.001132   \n",
       "1       0.000986       0.001098       0.000984       0.000971       0.000950   \n",
       "2       0.000998       0.000862       0.000865       0.000831       0.000939   \n",
       "3       0.001216       0.001045       0.000918       0.000898       0.001174   \n",
       "4       0.000316       0.000247       0.000286       0.000235       0.000267   \n",
       "\n",
       "   ...  proba_s380455  proba_s390060  proba_s399665  proba_s409270  \\\n",
       "0  ...       0.001150       0.001054       0.001137       0.001022   \n",
       "1  ...       0.001293       0.001061       0.001277       0.000969   \n",
       "2  ...       0.000785       0.000835       0.001048       0.000734   \n",
       "3  ...       0.000909       0.000860       0.000939       0.001053   \n",
       "4  ...       0.000261       0.000246       0.000286       0.000272   \n",
       "\n",
       "   proba_s418875  proba_s428480  proba_s438085  proba_s447690  pred  \\\n",
       "0       0.001257       0.001030       0.001131       0.001059     0   \n",
       "1       0.001132       0.001081       0.000973       0.001054     0   \n",
       "2       0.000749       0.000787       0.000826       0.000745     0   \n",
       "3       0.000962       0.000837       0.000993       0.001146     0   \n",
       "4       0.000232       0.000293       0.000279       0.000273     0   \n",
       "\n",
       "   proba_sem_mean  \n",
       "0        0.001150  \n",
       "1        0.001036  \n",
       "2        0.000839  \n",
       "3        0.000958  \n",
       "4        0.000263  \n",
       "\n",
       "[5 rows x 28 columns]"
      ]
     },
     "execution_count": 79,
     "metadata": {},
     "output_type": "execute_result"
    }
   ],
   "source": [
    "# Promediando proba de cada semilla\n",
    "proba_s_columns = df_probas.filter(regex='^proba_s')\n",
    "proba_s_mean = proba_s_columns.mean(axis=1)\n",
    "\n",
    "df_probas['proba_sem_mean'] = proba_s_mean\n",
    "\n",
    "# Umbral\n",
    "thr_opt_k = 0.0195 # segun comp03_kaggle_api_sub\n",
    "\n",
    "# Prediccion\n",
    "df_probas['pred'] = np.where(df_probas.proba_sem_mean >= thr_opt_k, 1, 0)\n",
    "\n",
    "df_probas.head()"
   ]
  },
  {
   "cell_type": "code",
   "execution_count": 80,
   "metadata": {},
   "outputs": [
    {
     "name": "stdout",
     "output_type": "stream",
     "text": [
      "\n",
      "Value Counts:\n",
      "Predicted\n",
      "0    154143\n",
      "1     11501\n",
      "Name: count, dtype: int64\n",
      "\n",
      "Frecuencia Relativa:\n",
      "Predicted\n",
      "0    93.056797\n",
      "1     6.943203\n",
      "Name: count, dtype: float64\n",
      "<class 'pandas.core.frame.DataFrame'>\n",
      "RangeIndex: 165644 entries, 0 to 165643\n",
      "Data columns (total 2 columns):\n",
      " #   Column             Non-Null Count   Dtype\n",
      "---  ------             --------------   -----\n",
      " 0   numero_de_cliente  165644 non-null  int64\n",
      " 1   Predicted          165644 non-null  int64\n",
      "dtypes: int64(2)\n",
      "memory usage: 2.5 MB\n"
     ]
    }
   ],
   "source": [
    "submission = pd.DataFrame({\n",
    "    'numero_de_cliente': numero_de_cliente.values,\n",
    "    'Predicted': df_probas['pred'].values\n",
    "})\n",
    "\n",
    "# Imprimir value counts de las predicciones\n",
    "value_counts = submission['Predicted'].value_counts()\n",
    "total_count = len(submission)\n",
    "print(\"\\nValue Counts:\")\n",
    "print(value_counts)\n",
    "print(\"\\nFrecuencia Relativa:\")\n",
    "print((value_counts / total_count) * 100)\n",
    "\n",
    "submission.info()"
   ]
  },
  {
   "cell_type": "code",
   "execution_count": 81,
   "metadata": {},
   "outputs": [
    {
     "name": "stdout",
     "output_type": "stream",
     "text": [
      "Predicciones guardadas en predicciones/pred_xgb_comp02_sem25_th0.019501T-12-202419-27-43.csv\n"
     ]
    }
   ],
   "source": [
    "import datetime\n",
    "\n",
    "ft = \"%dT-%m-%Y%H-%M-%S\"\n",
    "t_now = datetime.datetime.now().strftime(ft)\n",
    "\n",
    "pred_name = f\"pred_xgb_comp02_sem25_th{thr_opt_k}\"+t_now+\".csv\"\n",
    "\n",
    "pred_file = 'predicciones/' + pred_name\n",
    "\n",
    "# Guardar el DataFrame en un archivo CSV\n",
    "submission.to_csv(pred_file, index=False)\n",
    "print(f\"Predicciones guardadas en {pred_file}\")"
   ]
  },
  {
   "cell_type": "markdown",
   "metadata": {},
   "source": [
    "____"
   ]
  }
 ],
 "metadata": {
  "kernelspec": {
   "display_name": "kaggle_env",
   "language": "python",
   "name": "python3"
  },
  "language_info": {
   "codemirror_mode": {
    "name": "ipython",
    "version": 3
   },
   "file_extension": ".py",
   "mimetype": "text/x-python",
   "name": "python",
   "nbconvert_exporter": "python",
   "pygments_lexer": "ipython3",
   "version": "3.9.20"
  }
 },
 "nbformat": 4,
 "nbformat_minor": 2
}
